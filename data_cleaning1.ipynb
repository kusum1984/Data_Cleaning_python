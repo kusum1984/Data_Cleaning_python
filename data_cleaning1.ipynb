{
  "nbformat": 4,
  "nbformat_minor": 0,
  "metadata": {
    "colab": {
      "provenance": [],
      "authorship_tag": "ABX9TyOQVLnm8KED8GDbDjmxbsNy",
      "include_colab_link": true
    },
    "kernelspec": {
      "name": "python3",
      "display_name": "Python 3"
    },
    "language_info": {
      "name": "python"
    }
  },
  "cells": [
    {
      "cell_type": "markdown",
      "metadata": {
        "id": "view-in-github",
        "colab_type": "text"
      },
      "source": [
        "<a href=\"https://colab.research.google.com/github/kusum1984/Data_Cleaning_python/blob/main/data_cleaning1.ipynb\" target=\"_parent\"><img src=\"https://colab.research.google.com/assets/colab-badge.svg\" alt=\"Open In Colab\"/></a>"
      ]
    },
    {
      "cell_type": "code",
      "execution_count": 1,
      "metadata": {
        "id": "yjOukHq6DfOQ"
      },
      "outputs": [],
      "source": [
        "import pandas as pd\n",
        "import numpy as np"
      ]
    },
    {
      "cell_type": "code",
      "source": [
        "from google.colab import files\n",
        "uploaded = files.upload()"
      ],
      "metadata": {
        "colab": {
          "base_uri": "https://localhost:8080/",
          "height": 73
        },
        "id": "mH0KRFTFgX6q",
        "outputId": "eb57a9bf-f28c-4b2b-e56f-6ace73c3e58a"
      },
      "execution_count": 2,
      "outputs": [
        {
          "output_type": "display_data",
          "data": {
            "text/plain": [
              "<IPython.core.display.HTML object>"
            ],
            "text/html": [
              "\n",
              "     <input type=\"file\" id=\"files-a047884d-6e5a-4eb0-9076-1f0a0bc286b4\" name=\"files[]\" multiple disabled\n",
              "        style=\"border:none\" />\n",
              "     <output id=\"result-a047884d-6e5a-4eb0-9076-1f0a0bc286b4\">\n",
              "      Upload widget is only available when the cell has been executed in the\n",
              "      current browser session. Please rerun this cell to enable.\n",
              "      </output>\n",
              "      <script>// Copyright 2017 Google LLC\n",
              "//\n",
              "// Licensed under the Apache License, Version 2.0 (the \"License\");\n",
              "// you may not use this file except in compliance with the License.\n",
              "// You may obtain a copy of the License at\n",
              "//\n",
              "//      http://www.apache.org/licenses/LICENSE-2.0\n",
              "//\n",
              "// Unless required by applicable law or agreed to in writing, software\n",
              "// distributed under the License is distributed on an \"AS IS\" BASIS,\n",
              "// WITHOUT WARRANTIES OR CONDITIONS OF ANY KIND, either express or implied.\n",
              "// See the License for the specific language governing permissions and\n",
              "// limitations under the License.\n",
              "\n",
              "/**\n",
              " * @fileoverview Helpers for google.colab Python module.\n",
              " */\n",
              "(function(scope) {\n",
              "function span(text, styleAttributes = {}) {\n",
              "  const element = document.createElement('span');\n",
              "  element.textContent = text;\n",
              "  for (const key of Object.keys(styleAttributes)) {\n",
              "    element.style[key] = styleAttributes[key];\n",
              "  }\n",
              "  return element;\n",
              "}\n",
              "\n",
              "// Max number of bytes which will be uploaded at a time.\n",
              "const MAX_PAYLOAD_SIZE = 100 * 1024;\n",
              "\n",
              "function _uploadFiles(inputId, outputId) {\n",
              "  const steps = uploadFilesStep(inputId, outputId);\n",
              "  const outputElement = document.getElementById(outputId);\n",
              "  // Cache steps on the outputElement to make it available for the next call\n",
              "  // to uploadFilesContinue from Python.\n",
              "  outputElement.steps = steps;\n",
              "\n",
              "  return _uploadFilesContinue(outputId);\n",
              "}\n",
              "\n",
              "// This is roughly an async generator (not supported in the browser yet),\n",
              "// where there are multiple asynchronous steps and the Python side is going\n",
              "// to poll for completion of each step.\n",
              "// This uses a Promise to block the python side on completion of each step,\n",
              "// then passes the result of the previous step as the input to the next step.\n",
              "function _uploadFilesContinue(outputId) {\n",
              "  const outputElement = document.getElementById(outputId);\n",
              "  const steps = outputElement.steps;\n",
              "\n",
              "  const next = steps.next(outputElement.lastPromiseValue);\n",
              "  return Promise.resolve(next.value.promise).then((value) => {\n",
              "    // Cache the last promise value to make it available to the next\n",
              "    // step of the generator.\n",
              "    outputElement.lastPromiseValue = value;\n",
              "    return next.value.response;\n",
              "  });\n",
              "}\n",
              "\n",
              "/**\n",
              " * Generator function which is called between each async step of the upload\n",
              " * process.\n",
              " * @param {string} inputId Element ID of the input file picker element.\n",
              " * @param {string} outputId Element ID of the output display.\n",
              " * @return {!Iterable<!Object>} Iterable of next steps.\n",
              " */\n",
              "function* uploadFilesStep(inputId, outputId) {\n",
              "  const inputElement = document.getElementById(inputId);\n",
              "  inputElement.disabled = false;\n",
              "\n",
              "  const outputElement = document.getElementById(outputId);\n",
              "  outputElement.innerHTML = '';\n",
              "\n",
              "  const pickedPromise = new Promise((resolve) => {\n",
              "    inputElement.addEventListener('change', (e) => {\n",
              "      resolve(e.target.files);\n",
              "    });\n",
              "  });\n",
              "\n",
              "  const cancel = document.createElement('button');\n",
              "  inputElement.parentElement.appendChild(cancel);\n",
              "  cancel.textContent = 'Cancel upload';\n",
              "  const cancelPromise = new Promise((resolve) => {\n",
              "    cancel.onclick = () => {\n",
              "      resolve(null);\n",
              "    };\n",
              "  });\n",
              "\n",
              "  // Wait for the user to pick the files.\n",
              "  const files = yield {\n",
              "    promise: Promise.race([pickedPromise, cancelPromise]),\n",
              "    response: {\n",
              "      action: 'starting',\n",
              "    }\n",
              "  };\n",
              "\n",
              "  cancel.remove();\n",
              "\n",
              "  // Disable the input element since further picks are not allowed.\n",
              "  inputElement.disabled = true;\n",
              "\n",
              "  if (!files) {\n",
              "    return {\n",
              "      response: {\n",
              "        action: 'complete',\n",
              "      }\n",
              "    };\n",
              "  }\n",
              "\n",
              "  for (const file of files) {\n",
              "    const li = document.createElement('li');\n",
              "    li.append(span(file.name, {fontWeight: 'bold'}));\n",
              "    li.append(span(\n",
              "        `(${file.type || 'n/a'}) - ${file.size} bytes, ` +\n",
              "        `last modified: ${\n",
              "            file.lastModifiedDate ? file.lastModifiedDate.toLocaleDateString() :\n",
              "                                    'n/a'} - `));\n",
              "    const percent = span('0% done');\n",
              "    li.appendChild(percent);\n",
              "\n",
              "    outputElement.appendChild(li);\n",
              "\n",
              "    const fileDataPromise = new Promise((resolve) => {\n",
              "      const reader = new FileReader();\n",
              "      reader.onload = (e) => {\n",
              "        resolve(e.target.result);\n",
              "      };\n",
              "      reader.readAsArrayBuffer(file);\n",
              "    });\n",
              "    // Wait for the data to be ready.\n",
              "    let fileData = yield {\n",
              "      promise: fileDataPromise,\n",
              "      response: {\n",
              "        action: 'continue',\n",
              "      }\n",
              "    };\n",
              "\n",
              "    // Use a chunked sending to avoid message size limits. See b/62115660.\n",
              "    let position = 0;\n",
              "    do {\n",
              "      const length = Math.min(fileData.byteLength - position, MAX_PAYLOAD_SIZE);\n",
              "      const chunk = new Uint8Array(fileData, position, length);\n",
              "      position += length;\n",
              "\n",
              "      const base64 = btoa(String.fromCharCode.apply(null, chunk));\n",
              "      yield {\n",
              "        response: {\n",
              "          action: 'append',\n",
              "          file: file.name,\n",
              "          data: base64,\n",
              "        },\n",
              "      };\n",
              "\n",
              "      let percentDone = fileData.byteLength === 0 ?\n",
              "          100 :\n",
              "          Math.round((position / fileData.byteLength) * 100);\n",
              "      percent.textContent = `${percentDone}% done`;\n",
              "\n",
              "    } while (position < fileData.byteLength);\n",
              "  }\n",
              "\n",
              "  // All done.\n",
              "  yield {\n",
              "    response: {\n",
              "      action: 'complete',\n",
              "    }\n",
              "  };\n",
              "}\n",
              "\n",
              "scope.google = scope.google || {};\n",
              "scope.google.colab = scope.google.colab || {};\n",
              "scope.google.colab._files = {\n",
              "  _uploadFiles,\n",
              "  _uploadFilesContinue,\n",
              "};\n",
              "})(self);\n",
              "</script> "
            ]
          },
          "metadata": {}
        },
        {
          "output_type": "stream",
          "name": "stdout",
          "text": [
            "Saving fifa21 raw data v2.csv to fifa21 raw data v2.csv\n"
          ]
        }
      ]
    },
    {
      "cell_type": "code",
      "source": [
        "df = pd.read_csv('fifa21 raw data v2.csv')"
      ],
      "metadata": {
        "colab": {
          "base_uri": "https://localhost:8080/"
        },
        "id": "AAQ0WgZOgjNI",
        "outputId": "5341890d-8293-4a41-8d89-af8212b32c40"
      },
      "execution_count": 3,
      "outputs": [
        {
          "output_type": "stream",
          "name": "stderr",
          "text": [
            "<ipython-input-3-e8a5c45769e7>:1: DtypeWarning: Columns (76) have mixed types. Specify dtype option on import or set low_memory=False.\n",
            "  df = pd.read_csv('fifa21 raw data v2.csv')\n"
          ]
        }
      ]
    },
    {
      "cell_type": "markdown",
      "source": [
        "To display all columns"
      ],
      "metadata": {
        "id": "4T6g74a7EYHO"
      }
    },
    {
      "cell_type": "code",
      "source": [
        "pd.set_option('display.max_columns', None)"
      ],
      "metadata": {
        "id": "l440SZ7EEE4R"
      },
      "execution_count": 4,
      "outputs": []
    },
    {
      "cell_type": "code",
      "source": [
        "df.head()"
      ],
      "metadata": {
        "colab": {
          "base_uri": "https://localhost:8080/",
          "height": 434
        },
        "id": "3fnXZmhng7RQ",
        "outputId": "cc7c098b-ef46-45cc-9b8f-2e435c4ef17e"
      },
      "execution_count": 5,
      "outputs": [
        {
          "output_type": "execute_result",
          "data": {
            "text/plain": [
              "       ID               Name                      LongName  \\\n",
              "0  158023           L. Messi                  Lionel Messi   \n",
              "1   20801  Cristiano Ronaldo  C. Ronaldo dos Santos Aveiro   \n",
              "2  200389           J. Oblak                     Jan Oblak   \n",
              "3  192985       K. De Bruyne               Kevin De Bruyne   \n",
              "4  190871          Neymar Jr    Neymar da Silva Santos Jr.   \n",
              "\n",
              "                                           photoUrl  \\\n",
              "0  https://cdn.sofifa.com/players/158/023/21_60.png   \n",
              "1  https://cdn.sofifa.com/players/020/801/21_60.png   \n",
              "2  https://cdn.sofifa.com/players/200/389/21_60.png   \n",
              "3  https://cdn.sofifa.com/players/192/985/21_60.png   \n",
              "4  https://cdn.sofifa.com/players/190/871/21_60.png   \n",
              "\n",
              "                                           playerUrl Nationality  Age  ↓OVA  \\\n",
              "0  http://sofifa.com/player/158023/lionel-messi/2...   Argentina   33    93   \n",
              "1  http://sofifa.com/player/20801/c-ronaldo-dos-s...    Portugal   35    92   \n",
              "2  http://sofifa.com/player/200389/jan-oblak/210006/    Slovenia   27    91   \n",
              "3  http://sofifa.com/player/192985/kevin-de-bruyn...     Belgium   29    91   \n",
              "4  http://sofifa.com/player/190871/neymar-da-silv...      Brazil   28    91   \n",
              "\n",
              "   POT                         Club     Contract   Positions Height Weight  \\\n",
              "0   93         \\n\\n\\n\\nFC Barcelona  2004 ~ 2021  RW, ST, CF  170cm   72kg   \n",
              "1   92             \\n\\n\\n\\nJuventus  2018 ~ 2022      ST, LW  187cm   83kg   \n",
              "2   93      \\n\\n\\n\\nAtlético Madrid  2014 ~ 2023          GK  188cm   87kg   \n",
              "3   91      \\n\\n\\n\\nManchester City  2015 ~ 2023     CAM, CM  181cm   70kg   \n",
              "4   91  \\n\\n\\n\\nParis Saint-Germain  2017 ~ 2022     LW, CAM  175cm   68kg   \n",
              "\n",
              "  Preferred Foot  BOV Best Position     Joined Loan Date End    Value   Wage  \\\n",
              "0           Left   93            RW   1-Jul-04           NaN  €103.5M  €560K   \n",
              "1          Right   92            ST  10-Jul-18           NaN     €63M  €220K   \n",
              "2          Right   91            GK  16-Jul-14           NaN    €120M  €125K   \n",
              "3          Right   91           CAM  30-Aug-15           NaN    €129M  €370K   \n",
              "4          Right   91            LW   3-Aug-17           NaN    €132M  €270K   \n",
              "\n",
              "  Release Clause  Attacking  Crossing  Finishing  Heading Accuracy  \\\n",
              "0        €138.4M        429        85         95                70   \n",
              "1         €75.9M        437        84         95                90   \n",
              "2        €159.4M         95        13         11                15   \n",
              "3          €161M        407        94         82                55   \n",
              "4        €166.5M        408        85         87                62   \n",
              "\n",
              "   Short Passing  Volleys  Skill  Dribbling  Curve  FK Accuracy  Long Passing  \\\n",
              "0             91       88    470         96     93           94            91   \n",
              "1             82       86    414         88     81           76            77   \n",
              "2             43       13    109         12     13           14            40   \n",
              "3             94       82    441         88     85           83            93   \n",
              "4             87       87    448         95     88           89            81   \n",
              "\n",
              "   Ball Control  Movement  Acceleration  Sprint Speed  Agility  Reactions  \\\n",
              "0            96       451            91            80       91         94   \n",
              "1            92       431            87            91       87         95   \n",
              "2            30       307            43            60       67         88   \n",
              "3            92       398            77            76       78         91   \n",
              "4            95       453            94            89       96         91   \n",
              "\n",
              "   Balance  Power  Shot Power  Jumping  Stamina  Strength  Long Shots  \\\n",
              "0       95    389          86       68       72        69          94   \n",
              "1       71    444          94       95       84        78          93   \n",
              "2       49    268          59       78       41        78          12   \n",
              "3       76    408          91       63       89        74          91   \n",
              "4       83    357          80       62       81        50          84   \n",
              "\n",
              "   Mentality  Aggression  Interceptions  Positioning  Vision  Penalties  \\\n",
              "0        347          44             40           93      95         75   \n",
              "1        353          63             29           95      82         84   \n",
              "2        140          34             19           11      65         11   \n",
              "3        408          76             66           88      94         84   \n",
              "4        356          51             36           87      90         92   \n",
              "\n",
              "   Composure  Defending  Marking  Standing Tackle  Sliding Tackle  \\\n",
              "0         96         91       32               35              24   \n",
              "1         95         84       28               32              24   \n",
              "2         68         57       27               12              18   \n",
              "3         91        186       68               65              53   \n",
              "4         93         94       35               30              29   \n",
              "\n",
              "   Goalkeeping  GK Diving  GK Handling  GK Kicking  GK Positioning  \\\n",
              "0           54          6           11          15              14   \n",
              "1           58          7           11          15              14   \n",
              "2          437         87           92          78              90   \n",
              "3           56         15           13           5              10   \n",
              "4           59          9            9          15              15   \n",
              "\n",
              "   GK Reflexes  Total Stats  Base Stats  W/F  SM     A/W     D/W   IR  PAC  \\\n",
              "0            8         2231         466  4 ★  4★  Medium     Low  5 ★   85   \n",
              "1           11         2221         464  4 ★  5★    High     Low  5 ★   89   \n",
              "2           90         1413         489  3 ★  1★  Medium  Medium  3 ★   87   \n",
              "3           13         2304         485  5 ★  4★    High    High  4 ★   76   \n",
              "4           11         2175         451  5 ★  5★    High  Medium  5 ★   91   \n",
              "\n",
              "   SHO  PAS  DRI  DEF  PHY Hits  \n",
              "0   92   91   95   38   65  771  \n",
              "1   93   81   89   35   77  562  \n",
              "2   92   78   90   52   90  150  \n",
              "3   86   93   88   64   78  207  \n",
              "4   85   86   94   36   59  595  "
            ],
            "text/html": [
              "\n",
              "  <div id=\"df-42a2875d-1f95-4553-a2da-aec9e4d20226\" class=\"colab-df-container\">\n",
              "    <div>\n",
              "<style scoped>\n",
              "    .dataframe tbody tr th:only-of-type {\n",
              "        vertical-align: middle;\n",
              "    }\n",
              "\n",
              "    .dataframe tbody tr th {\n",
              "        vertical-align: top;\n",
              "    }\n",
              "\n",
              "    .dataframe thead th {\n",
              "        text-align: right;\n",
              "    }\n",
              "</style>\n",
              "<table border=\"1\" class=\"dataframe\">\n",
              "  <thead>\n",
              "    <tr style=\"text-align: right;\">\n",
              "      <th></th>\n",
              "      <th>ID</th>\n",
              "      <th>Name</th>\n",
              "      <th>LongName</th>\n",
              "      <th>photoUrl</th>\n",
              "      <th>playerUrl</th>\n",
              "      <th>Nationality</th>\n",
              "      <th>Age</th>\n",
              "      <th>↓OVA</th>\n",
              "      <th>POT</th>\n",
              "      <th>Club</th>\n",
              "      <th>Contract</th>\n",
              "      <th>Positions</th>\n",
              "      <th>Height</th>\n",
              "      <th>Weight</th>\n",
              "      <th>Preferred Foot</th>\n",
              "      <th>BOV</th>\n",
              "      <th>Best Position</th>\n",
              "      <th>Joined</th>\n",
              "      <th>Loan Date End</th>\n",
              "      <th>Value</th>\n",
              "      <th>Wage</th>\n",
              "      <th>Release Clause</th>\n",
              "      <th>Attacking</th>\n",
              "      <th>Crossing</th>\n",
              "      <th>Finishing</th>\n",
              "      <th>Heading Accuracy</th>\n",
              "      <th>Short Passing</th>\n",
              "      <th>Volleys</th>\n",
              "      <th>Skill</th>\n",
              "      <th>Dribbling</th>\n",
              "      <th>Curve</th>\n",
              "      <th>FK Accuracy</th>\n",
              "      <th>Long Passing</th>\n",
              "      <th>Ball Control</th>\n",
              "      <th>Movement</th>\n",
              "      <th>Acceleration</th>\n",
              "      <th>Sprint Speed</th>\n",
              "      <th>Agility</th>\n",
              "      <th>Reactions</th>\n",
              "      <th>Balance</th>\n",
              "      <th>Power</th>\n",
              "      <th>Shot Power</th>\n",
              "      <th>Jumping</th>\n",
              "      <th>Stamina</th>\n",
              "      <th>Strength</th>\n",
              "      <th>Long Shots</th>\n",
              "      <th>Mentality</th>\n",
              "      <th>Aggression</th>\n",
              "      <th>Interceptions</th>\n",
              "      <th>Positioning</th>\n",
              "      <th>Vision</th>\n",
              "      <th>Penalties</th>\n",
              "      <th>Composure</th>\n",
              "      <th>Defending</th>\n",
              "      <th>Marking</th>\n",
              "      <th>Standing Tackle</th>\n",
              "      <th>Sliding Tackle</th>\n",
              "      <th>Goalkeeping</th>\n",
              "      <th>GK Diving</th>\n",
              "      <th>GK Handling</th>\n",
              "      <th>GK Kicking</th>\n",
              "      <th>GK Positioning</th>\n",
              "      <th>GK Reflexes</th>\n",
              "      <th>Total Stats</th>\n",
              "      <th>Base Stats</th>\n",
              "      <th>W/F</th>\n",
              "      <th>SM</th>\n",
              "      <th>A/W</th>\n",
              "      <th>D/W</th>\n",
              "      <th>IR</th>\n",
              "      <th>PAC</th>\n",
              "      <th>SHO</th>\n",
              "      <th>PAS</th>\n",
              "      <th>DRI</th>\n",
              "      <th>DEF</th>\n",
              "      <th>PHY</th>\n",
              "      <th>Hits</th>\n",
              "    </tr>\n",
              "  </thead>\n",
              "  <tbody>\n",
              "    <tr>\n",
              "      <th>0</th>\n",
              "      <td>158023</td>\n",
              "      <td>L. Messi</td>\n",
              "      <td>Lionel Messi</td>\n",
              "      <td>https://cdn.sofifa.com/players/158/023/21_60.png</td>\n",
              "      <td>http://sofifa.com/player/158023/lionel-messi/2...</td>\n",
              "      <td>Argentina</td>\n",
              "      <td>33</td>\n",
              "      <td>93</td>\n",
              "      <td>93</td>\n",
              "      <td>\\n\\n\\n\\nFC Barcelona</td>\n",
              "      <td>2004 ~ 2021</td>\n",
              "      <td>RW, ST, CF</td>\n",
              "      <td>170cm</td>\n",
              "      <td>72kg</td>\n",
              "      <td>Left</td>\n",
              "      <td>93</td>\n",
              "      <td>RW</td>\n",
              "      <td>1-Jul-04</td>\n",
              "      <td>NaN</td>\n",
              "      <td>€103.5M</td>\n",
              "      <td>€560K</td>\n",
              "      <td>€138.4M</td>\n",
              "      <td>429</td>\n",
              "      <td>85</td>\n",
              "      <td>95</td>\n",
              "      <td>70</td>\n",
              "      <td>91</td>\n",
              "      <td>88</td>\n",
              "      <td>470</td>\n",
              "      <td>96</td>\n",
              "      <td>93</td>\n",
              "      <td>94</td>\n",
              "      <td>91</td>\n",
              "      <td>96</td>\n",
              "      <td>451</td>\n",
              "      <td>91</td>\n",
              "      <td>80</td>\n",
              "      <td>91</td>\n",
              "      <td>94</td>\n",
              "      <td>95</td>\n",
              "      <td>389</td>\n",
              "      <td>86</td>\n",
              "      <td>68</td>\n",
              "      <td>72</td>\n",
              "      <td>69</td>\n",
              "      <td>94</td>\n",
              "      <td>347</td>\n",
              "      <td>44</td>\n",
              "      <td>40</td>\n",
              "      <td>93</td>\n",
              "      <td>95</td>\n",
              "      <td>75</td>\n",
              "      <td>96</td>\n",
              "      <td>91</td>\n",
              "      <td>32</td>\n",
              "      <td>35</td>\n",
              "      <td>24</td>\n",
              "      <td>54</td>\n",
              "      <td>6</td>\n",
              "      <td>11</td>\n",
              "      <td>15</td>\n",
              "      <td>14</td>\n",
              "      <td>8</td>\n",
              "      <td>2231</td>\n",
              "      <td>466</td>\n",
              "      <td>4 ★</td>\n",
              "      <td>4★</td>\n",
              "      <td>Medium</td>\n",
              "      <td>Low</td>\n",
              "      <td>5 ★</td>\n",
              "      <td>85</td>\n",
              "      <td>92</td>\n",
              "      <td>91</td>\n",
              "      <td>95</td>\n",
              "      <td>38</td>\n",
              "      <td>65</td>\n",
              "      <td>771</td>\n",
              "    </tr>\n",
              "    <tr>\n",
              "      <th>1</th>\n",
              "      <td>20801</td>\n",
              "      <td>Cristiano Ronaldo</td>\n",
              "      <td>C. Ronaldo dos Santos Aveiro</td>\n",
              "      <td>https://cdn.sofifa.com/players/020/801/21_60.png</td>\n",
              "      <td>http://sofifa.com/player/20801/c-ronaldo-dos-s...</td>\n",
              "      <td>Portugal</td>\n",
              "      <td>35</td>\n",
              "      <td>92</td>\n",
              "      <td>92</td>\n",
              "      <td>\\n\\n\\n\\nJuventus</td>\n",
              "      <td>2018 ~ 2022</td>\n",
              "      <td>ST, LW</td>\n",
              "      <td>187cm</td>\n",
              "      <td>83kg</td>\n",
              "      <td>Right</td>\n",
              "      <td>92</td>\n",
              "      <td>ST</td>\n",
              "      <td>10-Jul-18</td>\n",
              "      <td>NaN</td>\n",
              "      <td>€63M</td>\n",
              "      <td>€220K</td>\n",
              "      <td>€75.9M</td>\n",
              "      <td>437</td>\n",
              "      <td>84</td>\n",
              "      <td>95</td>\n",
              "      <td>90</td>\n",
              "      <td>82</td>\n",
              "      <td>86</td>\n",
              "      <td>414</td>\n",
              "      <td>88</td>\n",
              "      <td>81</td>\n",
              "      <td>76</td>\n",
              "      <td>77</td>\n",
              "      <td>92</td>\n",
              "      <td>431</td>\n",
              "      <td>87</td>\n",
              "      <td>91</td>\n",
              "      <td>87</td>\n",
              "      <td>95</td>\n",
              "      <td>71</td>\n",
              "      <td>444</td>\n",
              "      <td>94</td>\n",
              "      <td>95</td>\n",
              "      <td>84</td>\n",
              "      <td>78</td>\n",
              "      <td>93</td>\n",
              "      <td>353</td>\n",
              "      <td>63</td>\n",
              "      <td>29</td>\n",
              "      <td>95</td>\n",
              "      <td>82</td>\n",
              "      <td>84</td>\n",
              "      <td>95</td>\n",
              "      <td>84</td>\n",
              "      <td>28</td>\n",
              "      <td>32</td>\n",
              "      <td>24</td>\n",
              "      <td>58</td>\n",
              "      <td>7</td>\n",
              "      <td>11</td>\n",
              "      <td>15</td>\n",
              "      <td>14</td>\n",
              "      <td>11</td>\n",
              "      <td>2221</td>\n",
              "      <td>464</td>\n",
              "      <td>4 ★</td>\n",
              "      <td>5★</td>\n",
              "      <td>High</td>\n",
              "      <td>Low</td>\n",
              "      <td>5 ★</td>\n",
              "      <td>89</td>\n",
              "      <td>93</td>\n",
              "      <td>81</td>\n",
              "      <td>89</td>\n",
              "      <td>35</td>\n",
              "      <td>77</td>\n",
              "      <td>562</td>\n",
              "    </tr>\n",
              "    <tr>\n",
              "      <th>2</th>\n",
              "      <td>200389</td>\n",
              "      <td>J. Oblak</td>\n",
              "      <td>Jan Oblak</td>\n",
              "      <td>https://cdn.sofifa.com/players/200/389/21_60.png</td>\n",
              "      <td>http://sofifa.com/player/200389/jan-oblak/210006/</td>\n",
              "      <td>Slovenia</td>\n",
              "      <td>27</td>\n",
              "      <td>91</td>\n",
              "      <td>93</td>\n",
              "      <td>\\n\\n\\n\\nAtlético Madrid</td>\n",
              "      <td>2014 ~ 2023</td>\n",
              "      <td>GK</td>\n",
              "      <td>188cm</td>\n",
              "      <td>87kg</td>\n",
              "      <td>Right</td>\n",
              "      <td>91</td>\n",
              "      <td>GK</td>\n",
              "      <td>16-Jul-14</td>\n",
              "      <td>NaN</td>\n",
              "      <td>€120M</td>\n",
              "      <td>€125K</td>\n",
              "      <td>€159.4M</td>\n",
              "      <td>95</td>\n",
              "      <td>13</td>\n",
              "      <td>11</td>\n",
              "      <td>15</td>\n",
              "      <td>43</td>\n",
              "      <td>13</td>\n",
              "      <td>109</td>\n",
              "      <td>12</td>\n",
              "      <td>13</td>\n",
              "      <td>14</td>\n",
              "      <td>40</td>\n",
              "      <td>30</td>\n",
              "      <td>307</td>\n",
              "      <td>43</td>\n",
              "      <td>60</td>\n",
              "      <td>67</td>\n",
              "      <td>88</td>\n",
              "      <td>49</td>\n",
              "      <td>268</td>\n",
              "      <td>59</td>\n",
              "      <td>78</td>\n",
              "      <td>41</td>\n",
              "      <td>78</td>\n",
              "      <td>12</td>\n",
              "      <td>140</td>\n",
              "      <td>34</td>\n",
              "      <td>19</td>\n",
              "      <td>11</td>\n",
              "      <td>65</td>\n",
              "      <td>11</td>\n",
              "      <td>68</td>\n",
              "      <td>57</td>\n",
              "      <td>27</td>\n",
              "      <td>12</td>\n",
              "      <td>18</td>\n",
              "      <td>437</td>\n",
              "      <td>87</td>\n",
              "      <td>92</td>\n",
              "      <td>78</td>\n",
              "      <td>90</td>\n",
              "      <td>90</td>\n",
              "      <td>1413</td>\n",
              "      <td>489</td>\n",
              "      <td>3 ★</td>\n",
              "      <td>1★</td>\n",
              "      <td>Medium</td>\n",
              "      <td>Medium</td>\n",
              "      <td>3 ★</td>\n",
              "      <td>87</td>\n",
              "      <td>92</td>\n",
              "      <td>78</td>\n",
              "      <td>90</td>\n",
              "      <td>52</td>\n",
              "      <td>90</td>\n",
              "      <td>150</td>\n",
              "    </tr>\n",
              "    <tr>\n",
              "      <th>3</th>\n",
              "      <td>192985</td>\n",
              "      <td>K. De Bruyne</td>\n",
              "      <td>Kevin De Bruyne</td>\n",
              "      <td>https://cdn.sofifa.com/players/192/985/21_60.png</td>\n",
              "      <td>http://sofifa.com/player/192985/kevin-de-bruyn...</td>\n",
              "      <td>Belgium</td>\n",
              "      <td>29</td>\n",
              "      <td>91</td>\n",
              "      <td>91</td>\n",
              "      <td>\\n\\n\\n\\nManchester City</td>\n",
              "      <td>2015 ~ 2023</td>\n",
              "      <td>CAM, CM</td>\n",
              "      <td>181cm</td>\n",
              "      <td>70kg</td>\n",
              "      <td>Right</td>\n",
              "      <td>91</td>\n",
              "      <td>CAM</td>\n",
              "      <td>30-Aug-15</td>\n",
              "      <td>NaN</td>\n",
              "      <td>€129M</td>\n",
              "      <td>€370K</td>\n",
              "      <td>€161M</td>\n",
              "      <td>407</td>\n",
              "      <td>94</td>\n",
              "      <td>82</td>\n",
              "      <td>55</td>\n",
              "      <td>94</td>\n",
              "      <td>82</td>\n",
              "      <td>441</td>\n",
              "      <td>88</td>\n",
              "      <td>85</td>\n",
              "      <td>83</td>\n",
              "      <td>93</td>\n",
              "      <td>92</td>\n",
              "      <td>398</td>\n",
              "      <td>77</td>\n",
              "      <td>76</td>\n",
              "      <td>78</td>\n",
              "      <td>91</td>\n",
              "      <td>76</td>\n",
              "      <td>408</td>\n",
              "      <td>91</td>\n",
              "      <td>63</td>\n",
              "      <td>89</td>\n",
              "      <td>74</td>\n",
              "      <td>91</td>\n",
              "      <td>408</td>\n",
              "      <td>76</td>\n",
              "      <td>66</td>\n",
              "      <td>88</td>\n",
              "      <td>94</td>\n",
              "      <td>84</td>\n",
              "      <td>91</td>\n",
              "      <td>186</td>\n",
              "      <td>68</td>\n",
              "      <td>65</td>\n",
              "      <td>53</td>\n",
              "      <td>56</td>\n",
              "      <td>15</td>\n",
              "      <td>13</td>\n",
              "      <td>5</td>\n",
              "      <td>10</td>\n",
              "      <td>13</td>\n",
              "      <td>2304</td>\n",
              "      <td>485</td>\n",
              "      <td>5 ★</td>\n",
              "      <td>4★</td>\n",
              "      <td>High</td>\n",
              "      <td>High</td>\n",
              "      <td>4 ★</td>\n",
              "      <td>76</td>\n",
              "      <td>86</td>\n",
              "      <td>93</td>\n",
              "      <td>88</td>\n",
              "      <td>64</td>\n",
              "      <td>78</td>\n",
              "      <td>207</td>\n",
              "    </tr>\n",
              "    <tr>\n",
              "      <th>4</th>\n",
              "      <td>190871</td>\n",
              "      <td>Neymar Jr</td>\n",
              "      <td>Neymar da Silva Santos Jr.</td>\n",
              "      <td>https://cdn.sofifa.com/players/190/871/21_60.png</td>\n",
              "      <td>http://sofifa.com/player/190871/neymar-da-silv...</td>\n",
              "      <td>Brazil</td>\n",
              "      <td>28</td>\n",
              "      <td>91</td>\n",
              "      <td>91</td>\n",
              "      <td>\\n\\n\\n\\nParis Saint-Germain</td>\n",
              "      <td>2017 ~ 2022</td>\n",
              "      <td>LW, CAM</td>\n",
              "      <td>175cm</td>\n",
              "      <td>68kg</td>\n",
              "      <td>Right</td>\n",
              "      <td>91</td>\n",
              "      <td>LW</td>\n",
              "      <td>3-Aug-17</td>\n",
              "      <td>NaN</td>\n",
              "      <td>€132M</td>\n",
              "      <td>€270K</td>\n",
              "      <td>€166.5M</td>\n",
              "      <td>408</td>\n",
              "      <td>85</td>\n",
              "      <td>87</td>\n",
              "      <td>62</td>\n",
              "      <td>87</td>\n",
              "      <td>87</td>\n",
              "      <td>448</td>\n",
              "      <td>95</td>\n",
              "      <td>88</td>\n",
              "      <td>89</td>\n",
              "      <td>81</td>\n",
              "      <td>95</td>\n",
              "      <td>453</td>\n",
              "      <td>94</td>\n",
              "      <td>89</td>\n",
              "      <td>96</td>\n",
              "      <td>91</td>\n",
              "      <td>83</td>\n",
              "      <td>357</td>\n",
              "      <td>80</td>\n",
              "      <td>62</td>\n",
              "      <td>81</td>\n",
              "      <td>50</td>\n",
              "      <td>84</td>\n",
              "      <td>356</td>\n",
              "      <td>51</td>\n",
              "      <td>36</td>\n",
              "      <td>87</td>\n",
              "      <td>90</td>\n",
              "      <td>92</td>\n",
              "      <td>93</td>\n",
              "      <td>94</td>\n",
              "      <td>35</td>\n",
              "      <td>30</td>\n",
              "      <td>29</td>\n",
              "      <td>59</td>\n",
              "      <td>9</td>\n",
              "      <td>9</td>\n",
              "      <td>15</td>\n",
              "      <td>15</td>\n",
              "      <td>11</td>\n",
              "      <td>2175</td>\n",
              "      <td>451</td>\n",
              "      <td>5 ★</td>\n",
              "      <td>5★</td>\n",
              "      <td>High</td>\n",
              "      <td>Medium</td>\n",
              "      <td>5 ★</td>\n",
              "      <td>91</td>\n",
              "      <td>85</td>\n",
              "      <td>86</td>\n",
              "      <td>94</td>\n",
              "      <td>36</td>\n",
              "      <td>59</td>\n",
              "      <td>595</td>\n",
              "    </tr>\n",
              "  </tbody>\n",
              "</table>\n",
              "</div>\n",
              "    <div class=\"colab-df-buttons\">\n",
              "\n",
              "  <div class=\"colab-df-container\">\n",
              "    <button class=\"colab-df-convert\" onclick=\"convertToInteractive('df-42a2875d-1f95-4553-a2da-aec9e4d20226')\"\n",
              "            title=\"Convert this dataframe to an interactive table.\"\n",
              "            style=\"display:none;\">\n",
              "\n",
              "  <svg xmlns=\"http://www.w3.org/2000/svg\" height=\"24px\" viewBox=\"0 -960 960 960\">\n",
              "    <path d=\"M120-120v-720h720v720H120Zm60-500h600v-160H180v160Zm220 220h160v-160H400v160Zm0 220h160v-160H400v160ZM180-400h160v-160H180v160Zm440 0h160v-160H620v160ZM180-180h160v-160H180v160Zm440 0h160v-160H620v160Z\"/>\n",
              "  </svg>\n",
              "    </button>\n",
              "\n",
              "  <style>\n",
              "    .colab-df-container {\n",
              "      display:flex;\n",
              "      gap: 12px;\n",
              "    }\n",
              "\n",
              "    .colab-df-convert {\n",
              "      background-color: #E8F0FE;\n",
              "      border: none;\n",
              "      border-radius: 50%;\n",
              "      cursor: pointer;\n",
              "      display: none;\n",
              "      fill: #1967D2;\n",
              "      height: 32px;\n",
              "      padding: 0 0 0 0;\n",
              "      width: 32px;\n",
              "    }\n",
              "\n",
              "    .colab-df-convert:hover {\n",
              "      background-color: #E2EBFA;\n",
              "      box-shadow: 0px 1px 2px rgba(60, 64, 67, 0.3), 0px 1px 3px 1px rgba(60, 64, 67, 0.15);\n",
              "      fill: #174EA6;\n",
              "    }\n",
              "\n",
              "    .colab-df-buttons div {\n",
              "      margin-bottom: 4px;\n",
              "    }\n",
              "\n",
              "    [theme=dark] .colab-df-convert {\n",
              "      background-color: #3B4455;\n",
              "      fill: #D2E3FC;\n",
              "    }\n",
              "\n",
              "    [theme=dark] .colab-df-convert:hover {\n",
              "      background-color: #434B5C;\n",
              "      box-shadow: 0px 1px 3px 1px rgba(0, 0, 0, 0.15);\n",
              "      filter: drop-shadow(0px 1px 2px rgba(0, 0, 0, 0.3));\n",
              "      fill: #FFFFFF;\n",
              "    }\n",
              "  </style>\n",
              "\n",
              "    <script>\n",
              "      const buttonEl =\n",
              "        document.querySelector('#df-42a2875d-1f95-4553-a2da-aec9e4d20226 button.colab-df-convert');\n",
              "      buttonEl.style.display =\n",
              "        google.colab.kernel.accessAllowed ? 'block' : 'none';\n",
              "\n",
              "      async function convertToInteractive(key) {\n",
              "        const element = document.querySelector('#df-42a2875d-1f95-4553-a2da-aec9e4d20226');\n",
              "        const dataTable =\n",
              "          await google.colab.kernel.invokeFunction('convertToInteractive',\n",
              "                                                    [key], {});\n",
              "        if (!dataTable) return;\n",
              "\n",
              "        const docLinkHtml = 'Like what you see? Visit the ' +\n",
              "          '<a target=\"_blank\" href=https://colab.research.google.com/notebooks/data_table.ipynb>data table notebook</a>'\n",
              "          + ' to learn more about interactive tables.';\n",
              "        element.innerHTML = '';\n",
              "        dataTable['output_type'] = 'display_data';\n",
              "        await google.colab.output.renderOutput(dataTable, element);\n",
              "        const docLink = document.createElement('div');\n",
              "        docLink.innerHTML = docLinkHtml;\n",
              "        element.appendChild(docLink);\n",
              "      }\n",
              "    </script>\n",
              "  </div>\n",
              "\n",
              "\n",
              "<div id=\"df-0311208f-6b86-47bd-b7ae-163eab35a26d\">\n",
              "  <button class=\"colab-df-quickchart\" onclick=\"quickchart('df-0311208f-6b86-47bd-b7ae-163eab35a26d')\"\n",
              "            title=\"Suggest charts\"\n",
              "            style=\"display:none;\">\n",
              "\n",
              "<svg xmlns=\"http://www.w3.org/2000/svg\" height=\"24px\"viewBox=\"0 0 24 24\"\n",
              "     width=\"24px\">\n",
              "    <g>\n",
              "        <path d=\"M19 3H5c-1.1 0-2 .9-2 2v14c0 1.1.9 2 2 2h14c1.1 0 2-.9 2-2V5c0-1.1-.9-2-2-2zM9 17H7v-7h2v7zm4 0h-2V7h2v10zm4 0h-2v-4h2v4z\"/>\n",
              "    </g>\n",
              "</svg>\n",
              "  </button>\n",
              "\n",
              "<style>\n",
              "  .colab-df-quickchart {\n",
              "      --bg-color: #E8F0FE;\n",
              "      --fill-color: #1967D2;\n",
              "      --hover-bg-color: #E2EBFA;\n",
              "      --hover-fill-color: #174EA6;\n",
              "      --disabled-fill-color: #AAA;\n",
              "      --disabled-bg-color: #DDD;\n",
              "  }\n",
              "\n",
              "  [theme=dark] .colab-df-quickchart {\n",
              "      --bg-color: #3B4455;\n",
              "      --fill-color: #D2E3FC;\n",
              "      --hover-bg-color: #434B5C;\n",
              "      --hover-fill-color: #FFFFFF;\n",
              "      --disabled-bg-color: #3B4455;\n",
              "      --disabled-fill-color: #666;\n",
              "  }\n",
              "\n",
              "  .colab-df-quickchart {\n",
              "    background-color: var(--bg-color);\n",
              "    border: none;\n",
              "    border-radius: 50%;\n",
              "    cursor: pointer;\n",
              "    display: none;\n",
              "    fill: var(--fill-color);\n",
              "    height: 32px;\n",
              "    padding: 0;\n",
              "    width: 32px;\n",
              "  }\n",
              "\n",
              "  .colab-df-quickchart:hover {\n",
              "    background-color: var(--hover-bg-color);\n",
              "    box-shadow: 0 1px 2px rgba(60, 64, 67, 0.3), 0 1px 3px 1px rgba(60, 64, 67, 0.15);\n",
              "    fill: var(--button-hover-fill-color);\n",
              "  }\n",
              "\n",
              "  .colab-df-quickchart-complete:disabled,\n",
              "  .colab-df-quickchart-complete:disabled:hover {\n",
              "    background-color: var(--disabled-bg-color);\n",
              "    fill: var(--disabled-fill-color);\n",
              "    box-shadow: none;\n",
              "  }\n",
              "\n",
              "  .colab-df-spinner {\n",
              "    border: 2px solid var(--fill-color);\n",
              "    border-color: transparent;\n",
              "    border-bottom-color: var(--fill-color);\n",
              "    animation:\n",
              "      spin 1s steps(1) infinite;\n",
              "  }\n",
              "\n",
              "  @keyframes spin {\n",
              "    0% {\n",
              "      border-color: transparent;\n",
              "      border-bottom-color: var(--fill-color);\n",
              "      border-left-color: var(--fill-color);\n",
              "    }\n",
              "    20% {\n",
              "      border-color: transparent;\n",
              "      border-left-color: var(--fill-color);\n",
              "      border-top-color: var(--fill-color);\n",
              "    }\n",
              "    30% {\n",
              "      border-color: transparent;\n",
              "      border-left-color: var(--fill-color);\n",
              "      border-top-color: var(--fill-color);\n",
              "      border-right-color: var(--fill-color);\n",
              "    }\n",
              "    40% {\n",
              "      border-color: transparent;\n",
              "      border-right-color: var(--fill-color);\n",
              "      border-top-color: var(--fill-color);\n",
              "    }\n",
              "    60% {\n",
              "      border-color: transparent;\n",
              "      border-right-color: var(--fill-color);\n",
              "    }\n",
              "    80% {\n",
              "      border-color: transparent;\n",
              "      border-right-color: var(--fill-color);\n",
              "      border-bottom-color: var(--fill-color);\n",
              "    }\n",
              "    90% {\n",
              "      border-color: transparent;\n",
              "      border-bottom-color: var(--fill-color);\n",
              "    }\n",
              "  }\n",
              "</style>\n",
              "\n",
              "  <script>\n",
              "    async function quickchart(key) {\n",
              "      const quickchartButtonEl =\n",
              "        document.querySelector('#' + key + ' button');\n",
              "      quickchartButtonEl.disabled = true;  // To prevent multiple clicks.\n",
              "      quickchartButtonEl.classList.add('colab-df-spinner');\n",
              "      try {\n",
              "        const charts = await google.colab.kernel.invokeFunction(\n",
              "            'suggestCharts', [key], {});\n",
              "      } catch (error) {\n",
              "        console.error('Error during call to suggestCharts:', error);\n",
              "      }\n",
              "      quickchartButtonEl.classList.remove('colab-df-spinner');\n",
              "      quickchartButtonEl.classList.add('colab-df-quickchart-complete');\n",
              "    }\n",
              "    (() => {\n",
              "      let quickchartButtonEl =\n",
              "        document.querySelector('#df-0311208f-6b86-47bd-b7ae-163eab35a26d button');\n",
              "      quickchartButtonEl.style.display =\n",
              "        google.colab.kernel.accessAllowed ? 'block' : 'none';\n",
              "    })();\n",
              "  </script>\n",
              "</div>\n",
              "\n",
              "    </div>\n",
              "  </div>\n"
            ]
          },
          "metadata": {},
          "execution_count": 5
        }
      ]
    },
    {
      "cell_type": "code",
      "source": [
        "df.shape"
      ],
      "metadata": {
        "colab": {
          "base_uri": "https://localhost:8080/"
        },
        "id": "62d4LA6Ng-iy",
        "outputId": "47ed6bee-8a8c-4239-d422-ffbc37c39411"
      },
      "execution_count": 6,
      "outputs": [
        {
          "output_type": "execute_result",
          "data": {
            "text/plain": [
              "(18979, 77)"
            ]
          },
          "metadata": {},
          "execution_count": 6
        }
      ]
    },
    {
      "cell_type": "code",
      "source": [
        "df.isnull()"
      ],
      "metadata": {
        "colab": {
          "base_uri": "https://localhost:8080/",
          "height": 478
        },
        "id": "yTX3Y-KEhKHR",
        "outputId": "6659c3a1-cc97-4469-c018-96dd06ba0e2c"
      },
      "execution_count": 7,
      "outputs": [
        {
          "output_type": "execute_result",
          "data": {
            "text/plain": [
              "          ID   Name  LongName  photoUrl  playerUrl  Nationality    Age   ↓OVA  \\\n",
              "0      False  False     False     False      False        False  False  False   \n",
              "1      False  False     False     False      False        False  False  False   \n",
              "2      False  False     False     False      False        False  False  False   \n",
              "3      False  False     False     False      False        False  False  False   \n",
              "4      False  False     False     False      False        False  False  False   \n",
              "...      ...    ...       ...       ...        ...          ...    ...    ...   \n",
              "18974  False  False     False     False      False        False  False  False   \n",
              "18975  False  False     False     False      False        False  False  False   \n",
              "18976  False  False     False     False      False        False  False  False   \n",
              "18977  False  False     False     False      False        False  False  False   \n",
              "18978  False  False     False     False      False        False  False  False   \n",
              "\n",
              "         POT   Club  Contract  Positions  Height  Weight  Preferred Foot  \\\n",
              "0      False  False     False      False   False   False           False   \n",
              "1      False  False     False      False   False   False           False   \n",
              "2      False  False     False      False   False   False           False   \n",
              "3      False  False     False      False   False   False           False   \n",
              "4      False  False     False      False   False   False           False   \n",
              "...      ...    ...       ...        ...     ...     ...             ...   \n",
              "18974  False  False     False      False   False   False           False   \n",
              "18975  False  False     False      False   False   False           False   \n",
              "18976  False  False     False      False   False   False           False   \n",
              "18977  False  False     False      False   False   False           False   \n",
              "18978  False  False     False      False   False   False           False   \n",
              "\n",
              "         BOV  Best Position  Joined  Loan Date End  Value   Wage  \\\n",
              "0      False          False   False           True  False  False   \n",
              "1      False          False   False           True  False  False   \n",
              "2      False          False   False           True  False  False   \n",
              "3      False          False   False           True  False  False   \n",
              "4      False          False   False           True  False  False   \n",
              "...      ...            ...     ...            ...    ...    ...   \n",
              "18974  False          False   False           True  False  False   \n",
              "18975  False          False   False           True  False  False   \n",
              "18976  False          False   False           True  False  False   \n",
              "18977  False          False   False           True  False  False   \n",
              "18978  False          False   False           True  False  False   \n",
              "\n",
              "       Release Clause  Attacking  Crossing  Finishing  Heading Accuracy  \\\n",
              "0               False      False     False      False             False   \n",
              "1               False      False     False      False             False   \n",
              "2               False      False     False      False             False   \n",
              "3               False      False     False      False             False   \n",
              "4               False      False     False      False             False   \n",
              "...               ...        ...       ...        ...               ...   \n",
              "18974           False      False     False      False             False   \n",
              "18975           False      False     False      False             False   \n",
              "18976           False      False     False      False             False   \n",
              "18977           False      False     False      False             False   \n",
              "18978           False      False     False      False             False   \n",
              "\n",
              "       Short Passing  Volleys  Skill  Dribbling  Curve  FK Accuracy  \\\n",
              "0              False    False  False      False  False        False   \n",
              "1              False    False  False      False  False        False   \n",
              "2              False    False  False      False  False        False   \n",
              "3              False    False  False      False  False        False   \n",
              "4              False    False  False      False  False        False   \n",
              "...              ...      ...    ...        ...    ...          ...   \n",
              "18974          False    False  False      False  False        False   \n",
              "18975          False    False  False      False  False        False   \n",
              "18976          False    False  False      False  False        False   \n",
              "18977          False    False  False      False  False        False   \n",
              "18978          False    False  False      False  False        False   \n",
              "\n",
              "       Long Passing  Ball Control  Movement  Acceleration  Sprint Speed  \\\n",
              "0             False         False     False         False         False   \n",
              "1             False         False     False         False         False   \n",
              "2             False         False     False         False         False   \n",
              "3             False         False     False         False         False   \n",
              "4             False         False     False         False         False   \n",
              "...             ...           ...       ...           ...           ...   \n",
              "18974         False         False     False         False         False   \n",
              "18975         False         False     False         False         False   \n",
              "18976         False         False     False         False         False   \n",
              "18977         False         False     False         False         False   \n",
              "18978         False         False     False         False         False   \n",
              "\n",
              "       Agility  Reactions  Balance  Power  Shot Power  Jumping  Stamina  \\\n",
              "0        False      False    False  False       False    False    False   \n",
              "1        False      False    False  False       False    False    False   \n",
              "2        False      False    False  False       False    False    False   \n",
              "3        False      False    False  False       False    False    False   \n",
              "4        False      False    False  False       False    False    False   \n",
              "...        ...        ...      ...    ...         ...      ...      ...   \n",
              "18974    False      False    False  False       False    False    False   \n",
              "18975    False      False    False  False       False    False    False   \n",
              "18976    False      False    False  False       False    False    False   \n",
              "18977    False      False    False  False       False    False    False   \n",
              "18978    False      False    False  False       False    False    False   \n",
              "\n",
              "       Strength  Long Shots  Mentality  Aggression  Interceptions  \\\n",
              "0         False       False      False       False          False   \n",
              "1         False       False      False       False          False   \n",
              "2         False       False      False       False          False   \n",
              "3         False       False      False       False          False   \n",
              "4         False       False      False       False          False   \n",
              "...         ...         ...        ...         ...            ...   \n",
              "18974     False       False      False       False          False   \n",
              "18975     False       False      False       False          False   \n",
              "18976     False       False      False       False          False   \n",
              "18977     False       False      False       False          False   \n",
              "18978     False       False      False       False          False   \n",
              "\n",
              "       Positioning  Vision  Penalties  Composure  Defending  Marking  \\\n",
              "0            False   False      False      False      False    False   \n",
              "1            False   False      False      False      False    False   \n",
              "2            False   False      False      False      False    False   \n",
              "3            False   False      False      False      False    False   \n",
              "4            False   False      False      False      False    False   \n",
              "...            ...     ...        ...        ...        ...      ...   \n",
              "18974        False   False      False      False      False    False   \n",
              "18975        False   False      False      False      False    False   \n",
              "18976        False   False      False      False      False    False   \n",
              "18977        False   False      False      False      False    False   \n",
              "18978        False   False      False      False      False    False   \n",
              "\n",
              "       Standing Tackle  Sliding Tackle  Goalkeeping  GK Diving  GK Handling  \\\n",
              "0                False           False        False      False        False   \n",
              "1                False           False        False      False        False   \n",
              "2                False           False        False      False        False   \n",
              "3                False           False        False      False        False   \n",
              "4                False           False        False      False        False   \n",
              "...                ...             ...          ...        ...          ...   \n",
              "18974            False           False        False      False        False   \n",
              "18975            False           False        False      False        False   \n",
              "18976            False           False        False      False        False   \n",
              "18977            False           False        False      False        False   \n",
              "18978            False           False        False      False        False   \n",
              "\n",
              "       GK Kicking  GK Positioning  GK Reflexes  Total Stats  Base Stats  \\\n",
              "0           False           False        False        False       False   \n",
              "1           False           False        False        False       False   \n",
              "2           False           False        False        False       False   \n",
              "3           False           False        False        False       False   \n",
              "4           False           False        False        False       False   \n",
              "...           ...             ...          ...          ...         ...   \n",
              "18974       False           False        False        False       False   \n",
              "18975       False           False        False        False       False   \n",
              "18976       False           False        False        False       False   \n",
              "18977       False           False        False        False       False   \n",
              "18978       False           False        False        False       False   \n",
              "\n",
              "         W/F     SM    A/W    D/W     IR    PAC    SHO    PAS    DRI    DEF  \\\n",
              "0      False  False  False  False  False  False  False  False  False  False   \n",
              "1      False  False  False  False  False  False  False  False  False  False   \n",
              "2      False  False  False  False  False  False  False  False  False  False   \n",
              "3      False  False  False  False  False  False  False  False  False  False   \n",
              "4      False  False  False  False  False  False  False  False  False  False   \n",
              "...      ...    ...    ...    ...    ...    ...    ...    ...    ...    ...   \n",
              "18974  False  False  False  False  False  False  False  False  False  False   \n",
              "18975  False  False  False  False  False  False  False  False  False  False   \n",
              "18976  False  False  False  False  False  False  False  False  False  False   \n",
              "18977  False  False  False  False  False  False  False  False  False  False   \n",
              "18978  False  False  False  False  False  False  False  False  False  False   \n",
              "\n",
              "         PHY   Hits  \n",
              "0      False  False  \n",
              "1      False  False  \n",
              "2      False  False  \n",
              "3      False  False  \n",
              "4      False  False  \n",
              "...      ...    ...  \n",
              "18974  False   True  \n",
              "18975  False   True  \n",
              "18976  False   True  \n",
              "18977  False   True  \n",
              "18978  False   True  \n",
              "\n",
              "[18979 rows x 77 columns]"
            ],
            "text/html": [
              "\n",
              "  <div id=\"df-59729d0e-8c0d-48d8-ba63-e65007ebb036\" class=\"colab-df-container\">\n",
              "    <div>\n",
              "<style scoped>\n",
              "    .dataframe tbody tr th:only-of-type {\n",
              "        vertical-align: middle;\n",
              "    }\n",
              "\n",
              "    .dataframe tbody tr th {\n",
              "        vertical-align: top;\n",
              "    }\n",
              "\n",
              "    .dataframe thead th {\n",
              "        text-align: right;\n",
              "    }\n",
              "</style>\n",
              "<table border=\"1\" class=\"dataframe\">\n",
              "  <thead>\n",
              "    <tr style=\"text-align: right;\">\n",
              "      <th></th>\n",
              "      <th>ID</th>\n",
              "      <th>Name</th>\n",
              "      <th>LongName</th>\n",
              "      <th>photoUrl</th>\n",
              "      <th>playerUrl</th>\n",
              "      <th>Nationality</th>\n",
              "      <th>Age</th>\n",
              "      <th>↓OVA</th>\n",
              "      <th>POT</th>\n",
              "      <th>Club</th>\n",
              "      <th>Contract</th>\n",
              "      <th>Positions</th>\n",
              "      <th>Height</th>\n",
              "      <th>Weight</th>\n",
              "      <th>Preferred Foot</th>\n",
              "      <th>BOV</th>\n",
              "      <th>Best Position</th>\n",
              "      <th>Joined</th>\n",
              "      <th>Loan Date End</th>\n",
              "      <th>Value</th>\n",
              "      <th>Wage</th>\n",
              "      <th>Release Clause</th>\n",
              "      <th>Attacking</th>\n",
              "      <th>Crossing</th>\n",
              "      <th>Finishing</th>\n",
              "      <th>Heading Accuracy</th>\n",
              "      <th>Short Passing</th>\n",
              "      <th>Volleys</th>\n",
              "      <th>Skill</th>\n",
              "      <th>Dribbling</th>\n",
              "      <th>Curve</th>\n",
              "      <th>FK Accuracy</th>\n",
              "      <th>Long Passing</th>\n",
              "      <th>Ball Control</th>\n",
              "      <th>Movement</th>\n",
              "      <th>Acceleration</th>\n",
              "      <th>Sprint Speed</th>\n",
              "      <th>Agility</th>\n",
              "      <th>Reactions</th>\n",
              "      <th>Balance</th>\n",
              "      <th>Power</th>\n",
              "      <th>Shot Power</th>\n",
              "      <th>Jumping</th>\n",
              "      <th>Stamina</th>\n",
              "      <th>Strength</th>\n",
              "      <th>Long Shots</th>\n",
              "      <th>Mentality</th>\n",
              "      <th>Aggression</th>\n",
              "      <th>Interceptions</th>\n",
              "      <th>Positioning</th>\n",
              "      <th>Vision</th>\n",
              "      <th>Penalties</th>\n",
              "      <th>Composure</th>\n",
              "      <th>Defending</th>\n",
              "      <th>Marking</th>\n",
              "      <th>Standing Tackle</th>\n",
              "      <th>Sliding Tackle</th>\n",
              "      <th>Goalkeeping</th>\n",
              "      <th>GK Diving</th>\n",
              "      <th>GK Handling</th>\n",
              "      <th>GK Kicking</th>\n",
              "      <th>GK Positioning</th>\n",
              "      <th>GK Reflexes</th>\n",
              "      <th>Total Stats</th>\n",
              "      <th>Base Stats</th>\n",
              "      <th>W/F</th>\n",
              "      <th>SM</th>\n",
              "      <th>A/W</th>\n",
              "      <th>D/W</th>\n",
              "      <th>IR</th>\n",
              "      <th>PAC</th>\n",
              "      <th>SHO</th>\n",
              "      <th>PAS</th>\n",
              "      <th>DRI</th>\n",
              "      <th>DEF</th>\n",
              "      <th>PHY</th>\n",
              "      <th>Hits</th>\n",
              "    </tr>\n",
              "  </thead>\n",
              "  <tbody>\n",
              "    <tr>\n",
              "      <th>0</th>\n",
              "      <td>False</td>\n",
              "      <td>False</td>\n",
              "      <td>False</td>\n",
              "      <td>False</td>\n",
              "      <td>False</td>\n",
              "      <td>False</td>\n",
              "      <td>False</td>\n",
              "      <td>False</td>\n",
              "      <td>False</td>\n",
              "      <td>False</td>\n",
              "      <td>False</td>\n",
              "      <td>False</td>\n",
              "      <td>False</td>\n",
              "      <td>False</td>\n",
              "      <td>False</td>\n",
              "      <td>False</td>\n",
              "      <td>False</td>\n",
              "      <td>False</td>\n",
              "      <td>True</td>\n",
              "      <td>False</td>\n",
              "      <td>False</td>\n",
              "      <td>False</td>\n",
              "      <td>False</td>\n",
              "      <td>False</td>\n",
              "      <td>False</td>\n",
              "      <td>False</td>\n",
              "      <td>False</td>\n",
              "      <td>False</td>\n",
              "      <td>False</td>\n",
              "      <td>False</td>\n",
              "      <td>False</td>\n",
              "      <td>False</td>\n",
              "      <td>False</td>\n",
              "      <td>False</td>\n",
              "      <td>False</td>\n",
              "      <td>False</td>\n",
              "      <td>False</td>\n",
              "      <td>False</td>\n",
              "      <td>False</td>\n",
              "      <td>False</td>\n",
              "      <td>False</td>\n",
              "      <td>False</td>\n",
              "      <td>False</td>\n",
              "      <td>False</td>\n",
              "      <td>False</td>\n",
              "      <td>False</td>\n",
              "      <td>False</td>\n",
              "      <td>False</td>\n",
              "      <td>False</td>\n",
              "      <td>False</td>\n",
              "      <td>False</td>\n",
              "      <td>False</td>\n",
              "      <td>False</td>\n",
              "      <td>False</td>\n",
              "      <td>False</td>\n",
              "      <td>False</td>\n",
              "      <td>False</td>\n",
              "      <td>False</td>\n",
              "      <td>False</td>\n",
              "      <td>False</td>\n",
              "      <td>False</td>\n",
              "      <td>False</td>\n",
              "      <td>False</td>\n",
              "      <td>False</td>\n",
              "      <td>False</td>\n",
              "      <td>False</td>\n",
              "      <td>False</td>\n",
              "      <td>False</td>\n",
              "      <td>False</td>\n",
              "      <td>False</td>\n",
              "      <td>False</td>\n",
              "      <td>False</td>\n",
              "      <td>False</td>\n",
              "      <td>False</td>\n",
              "      <td>False</td>\n",
              "      <td>False</td>\n",
              "      <td>False</td>\n",
              "    </tr>\n",
              "    <tr>\n",
              "      <th>1</th>\n",
              "      <td>False</td>\n",
              "      <td>False</td>\n",
              "      <td>False</td>\n",
              "      <td>False</td>\n",
              "      <td>False</td>\n",
              "      <td>False</td>\n",
              "      <td>False</td>\n",
              "      <td>False</td>\n",
              "      <td>False</td>\n",
              "      <td>False</td>\n",
              "      <td>False</td>\n",
              "      <td>False</td>\n",
              "      <td>False</td>\n",
              "      <td>False</td>\n",
              "      <td>False</td>\n",
              "      <td>False</td>\n",
              "      <td>False</td>\n",
              "      <td>False</td>\n",
              "      <td>True</td>\n",
              "      <td>False</td>\n",
              "      <td>False</td>\n",
              "      <td>False</td>\n",
              "      <td>False</td>\n",
              "      <td>False</td>\n",
              "      <td>False</td>\n",
              "      <td>False</td>\n",
              "      <td>False</td>\n",
              "      <td>False</td>\n",
              "      <td>False</td>\n",
              "      <td>False</td>\n",
              "      <td>False</td>\n",
              "      <td>False</td>\n",
              "      <td>False</td>\n",
              "      <td>False</td>\n",
              "      <td>False</td>\n",
              "      <td>False</td>\n",
              "      <td>False</td>\n",
              "      <td>False</td>\n",
              "      <td>False</td>\n",
              "      <td>False</td>\n",
              "      <td>False</td>\n",
              "      <td>False</td>\n",
              "      <td>False</td>\n",
              "      <td>False</td>\n",
              "      <td>False</td>\n",
              "      <td>False</td>\n",
              "      <td>False</td>\n",
              "      <td>False</td>\n",
              "      <td>False</td>\n",
              "      <td>False</td>\n",
              "      <td>False</td>\n",
              "      <td>False</td>\n",
              "      <td>False</td>\n",
              "      <td>False</td>\n",
              "      <td>False</td>\n",
              "      <td>False</td>\n",
              "      <td>False</td>\n",
              "      <td>False</td>\n",
              "      <td>False</td>\n",
              "      <td>False</td>\n",
              "      <td>False</td>\n",
              "      <td>False</td>\n",
              "      <td>False</td>\n",
              "      <td>False</td>\n",
              "      <td>False</td>\n",
              "      <td>False</td>\n",
              "      <td>False</td>\n",
              "      <td>False</td>\n",
              "      <td>False</td>\n",
              "      <td>False</td>\n",
              "      <td>False</td>\n",
              "      <td>False</td>\n",
              "      <td>False</td>\n",
              "      <td>False</td>\n",
              "      <td>False</td>\n",
              "      <td>False</td>\n",
              "      <td>False</td>\n",
              "    </tr>\n",
              "    <tr>\n",
              "      <th>2</th>\n",
              "      <td>False</td>\n",
              "      <td>False</td>\n",
              "      <td>False</td>\n",
              "      <td>False</td>\n",
              "      <td>False</td>\n",
              "      <td>False</td>\n",
              "      <td>False</td>\n",
              "      <td>False</td>\n",
              "      <td>False</td>\n",
              "      <td>False</td>\n",
              "      <td>False</td>\n",
              "      <td>False</td>\n",
              "      <td>False</td>\n",
              "      <td>False</td>\n",
              "      <td>False</td>\n",
              "      <td>False</td>\n",
              "      <td>False</td>\n",
              "      <td>False</td>\n",
              "      <td>True</td>\n",
              "      <td>False</td>\n",
              "      <td>False</td>\n",
              "      <td>False</td>\n",
              "      <td>False</td>\n",
              "      <td>False</td>\n",
              "      <td>False</td>\n",
              "      <td>False</td>\n",
              "      <td>False</td>\n",
              "      <td>False</td>\n",
              "      <td>False</td>\n",
              "      <td>False</td>\n",
              "      <td>False</td>\n",
              "      <td>False</td>\n",
              "      <td>False</td>\n",
              "      <td>False</td>\n",
              "      <td>False</td>\n",
              "      <td>False</td>\n",
              "      <td>False</td>\n",
              "      <td>False</td>\n",
              "      <td>False</td>\n",
              "      <td>False</td>\n",
              "      <td>False</td>\n",
              "      <td>False</td>\n",
              "      <td>False</td>\n",
              "      <td>False</td>\n",
              "      <td>False</td>\n",
              "      <td>False</td>\n",
              "      <td>False</td>\n",
              "      <td>False</td>\n",
              "      <td>False</td>\n",
              "      <td>False</td>\n",
              "      <td>False</td>\n",
              "      <td>False</td>\n",
              "      <td>False</td>\n",
              "      <td>False</td>\n",
              "      <td>False</td>\n",
              "      <td>False</td>\n",
              "      <td>False</td>\n",
              "      <td>False</td>\n",
              "      <td>False</td>\n",
              "      <td>False</td>\n",
              "      <td>False</td>\n",
              "      <td>False</td>\n",
              "      <td>False</td>\n",
              "      <td>False</td>\n",
              "      <td>False</td>\n",
              "      <td>False</td>\n",
              "      <td>False</td>\n",
              "      <td>False</td>\n",
              "      <td>False</td>\n",
              "      <td>False</td>\n",
              "      <td>False</td>\n",
              "      <td>False</td>\n",
              "      <td>False</td>\n",
              "      <td>False</td>\n",
              "      <td>False</td>\n",
              "      <td>False</td>\n",
              "      <td>False</td>\n",
              "    </tr>\n",
              "    <tr>\n",
              "      <th>3</th>\n",
              "      <td>False</td>\n",
              "      <td>False</td>\n",
              "      <td>False</td>\n",
              "      <td>False</td>\n",
              "      <td>False</td>\n",
              "      <td>False</td>\n",
              "      <td>False</td>\n",
              "      <td>False</td>\n",
              "      <td>False</td>\n",
              "      <td>False</td>\n",
              "      <td>False</td>\n",
              "      <td>False</td>\n",
              "      <td>False</td>\n",
              "      <td>False</td>\n",
              "      <td>False</td>\n",
              "      <td>False</td>\n",
              "      <td>False</td>\n",
              "      <td>False</td>\n",
              "      <td>True</td>\n",
              "      <td>False</td>\n",
              "      <td>False</td>\n",
              "      <td>False</td>\n",
              "      <td>False</td>\n",
              "      <td>False</td>\n",
              "      <td>False</td>\n",
              "      <td>False</td>\n",
              "      <td>False</td>\n",
              "      <td>False</td>\n",
              "      <td>False</td>\n",
              "      <td>False</td>\n",
              "      <td>False</td>\n",
              "      <td>False</td>\n",
              "      <td>False</td>\n",
              "      <td>False</td>\n",
              "      <td>False</td>\n",
              "      <td>False</td>\n",
              "      <td>False</td>\n",
              "      <td>False</td>\n",
              "      <td>False</td>\n",
              "      <td>False</td>\n",
              "      <td>False</td>\n",
              "      <td>False</td>\n",
              "      <td>False</td>\n",
              "      <td>False</td>\n",
              "      <td>False</td>\n",
              "      <td>False</td>\n",
              "      <td>False</td>\n",
              "      <td>False</td>\n",
              "      <td>False</td>\n",
              "      <td>False</td>\n",
              "      <td>False</td>\n",
              "      <td>False</td>\n",
              "      <td>False</td>\n",
              "      <td>False</td>\n",
              "      <td>False</td>\n",
              "      <td>False</td>\n",
              "      <td>False</td>\n",
              "      <td>False</td>\n",
              "      <td>False</td>\n",
              "      <td>False</td>\n",
              "      <td>False</td>\n",
              "      <td>False</td>\n",
              "      <td>False</td>\n",
              "      <td>False</td>\n",
              "      <td>False</td>\n",
              "      <td>False</td>\n",
              "      <td>False</td>\n",
              "      <td>False</td>\n",
              "      <td>False</td>\n",
              "      <td>False</td>\n",
              "      <td>False</td>\n",
              "      <td>False</td>\n",
              "      <td>False</td>\n",
              "      <td>False</td>\n",
              "      <td>False</td>\n",
              "      <td>False</td>\n",
              "      <td>False</td>\n",
              "    </tr>\n",
              "    <tr>\n",
              "      <th>4</th>\n",
              "      <td>False</td>\n",
              "      <td>False</td>\n",
              "      <td>False</td>\n",
              "      <td>False</td>\n",
              "      <td>False</td>\n",
              "      <td>False</td>\n",
              "      <td>False</td>\n",
              "      <td>False</td>\n",
              "      <td>False</td>\n",
              "      <td>False</td>\n",
              "      <td>False</td>\n",
              "      <td>False</td>\n",
              "      <td>False</td>\n",
              "      <td>False</td>\n",
              "      <td>False</td>\n",
              "      <td>False</td>\n",
              "      <td>False</td>\n",
              "      <td>False</td>\n",
              "      <td>True</td>\n",
              "      <td>False</td>\n",
              "      <td>False</td>\n",
              "      <td>False</td>\n",
              "      <td>False</td>\n",
              "      <td>False</td>\n",
              "      <td>False</td>\n",
              "      <td>False</td>\n",
              "      <td>False</td>\n",
              "      <td>False</td>\n",
              "      <td>False</td>\n",
              "      <td>False</td>\n",
              "      <td>False</td>\n",
              "      <td>False</td>\n",
              "      <td>False</td>\n",
              "      <td>False</td>\n",
              "      <td>False</td>\n",
              "      <td>False</td>\n",
              "      <td>False</td>\n",
              "      <td>False</td>\n",
              "      <td>False</td>\n",
              "      <td>False</td>\n",
              "      <td>False</td>\n",
              "      <td>False</td>\n",
              "      <td>False</td>\n",
              "      <td>False</td>\n",
              "      <td>False</td>\n",
              "      <td>False</td>\n",
              "      <td>False</td>\n",
              "      <td>False</td>\n",
              "      <td>False</td>\n",
              "      <td>False</td>\n",
              "      <td>False</td>\n",
              "      <td>False</td>\n",
              "      <td>False</td>\n",
              "      <td>False</td>\n",
              "      <td>False</td>\n",
              "      <td>False</td>\n",
              "      <td>False</td>\n",
              "      <td>False</td>\n",
              "      <td>False</td>\n",
              "      <td>False</td>\n",
              "      <td>False</td>\n",
              "      <td>False</td>\n",
              "      <td>False</td>\n",
              "      <td>False</td>\n",
              "      <td>False</td>\n",
              "      <td>False</td>\n",
              "      <td>False</td>\n",
              "      <td>False</td>\n",
              "      <td>False</td>\n",
              "      <td>False</td>\n",
              "      <td>False</td>\n",
              "      <td>False</td>\n",
              "      <td>False</td>\n",
              "      <td>False</td>\n",
              "      <td>False</td>\n",
              "      <td>False</td>\n",
              "      <td>False</td>\n",
              "    </tr>\n",
              "    <tr>\n",
              "      <th>...</th>\n",
              "      <td>...</td>\n",
              "      <td>...</td>\n",
              "      <td>...</td>\n",
              "      <td>...</td>\n",
              "      <td>...</td>\n",
              "      <td>...</td>\n",
              "      <td>...</td>\n",
              "      <td>...</td>\n",
              "      <td>...</td>\n",
              "      <td>...</td>\n",
              "      <td>...</td>\n",
              "      <td>...</td>\n",
              "      <td>...</td>\n",
              "      <td>...</td>\n",
              "      <td>...</td>\n",
              "      <td>...</td>\n",
              "      <td>...</td>\n",
              "      <td>...</td>\n",
              "      <td>...</td>\n",
              "      <td>...</td>\n",
              "      <td>...</td>\n",
              "      <td>...</td>\n",
              "      <td>...</td>\n",
              "      <td>...</td>\n",
              "      <td>...</td>\n",
              "      <td>...</td>\n",
              "      <td>...</td>\n",
              "      <td>...</td>\n",
              "      <td>...</td>\n",
              "      <td>...</td>\n",
              "      <td>...</td>\n",
              "      <td>...</td>\n",
              "      <td>...</td>\n",
              "      <td>...</td>\n",
              "      <td>...</td>\n",
              "      <td>...</td>\n",
              "      <td>...</td>\n",
              "      <td>...</td>\n",
              "      <td>...</td>\n",
              "      <td>...</td>\n",
              "      <td>...</td>\n",
              "      <td>...</td>\n",
              "      <td>...</td>\n",
              "      <td>...</td>\n",
              "      <td>...</td>\n",
              "      <td>...</td>\n",
              "      <td>...</td>\n",
              "      <td>...</td>\n",
              "      <td>...</td>\n",
              "      <td>...</td>\n",
              "      <td>...</td>\n",
              "      <td>...</td>\n",
              "      <td>...</td>\n",
              "      <td>...</td>\n",
              "      <td>...</td>\n",
              "      <td>...</td>\n",
              "      <td>...</td>\n",
              "      <td>...</td>\n",
              "      <td>...</td>\n",
              "      <td>...</td>\n",
              "      <td>...</td>\n",
              "      <td>...</td>\n",
              "      <td>...</td>\n",
              "      <td>...</td>\n",
              "      <td>...</td>\n",
              "      <td>...</td>\n",
              "      <td>...</td>\n",
              "      <td>...</td>\n",
              "      <td>...</td>\n",
              "      <td>...</td>\n",
              "      <td>...</td>\n",
              "      <td>...</td>\n",
              "      <td>...</td>\n",
              "      <td>...</td>\n",
              "      <td>...</td>\n",
              "      <td>...</td>\n",
              "      <td>...</td>\n",
              "    </tr>\n",
              "    <tr>\n",
              "      <th>18974</th>\n",
              "      <td>False</td>\n",
              "      <td>False</td>\n",
              "      <td>False</td>\n",
              "      <td>False</td>\n",
              "      <td>False</td>\n",
              "      <td>False</td>\n",
              "      <td>False</td>\n",
              "      <td>False</td>\n",
              "      <td>False</td>\n",
              "      <td>False</td>\n",
              "      <td>False</td>\n",
              "      <td>False</td>\n",
              "      <td>False</td>\n",
              "      <td>False</td>\n",
              "      <td>False</td>\n",
              "      <td>False</td>\n",
              "      <td>False</td>\n",
              "      <td>False</td>\n",
              "      <td>True</td>\n",
              "      <td>False</td>\n",
              "      <td>False</td>\n",
              "      <td>False</td>\n",
              "      <td>False</td>\n",
              "      <td>False</td>\n",
              "      <td>False</td>\n",
              "      <td>False</td>\n",
              "      <td>False</td>\n",
              "      <td>False</td>\n",
              "      <td>False</td>\n",
              "      <td>False</td>\n",
              "      <td>False</td>\n",
              "      <td>False</td>\n",
              "      <td>False</td>\n",
              "      <td>False</td>\n",
              "      <td>False</td>\n",
              "      <td>False</td>\n",
              "      <td>False</td>\n",
              "      <td>False</td>\n",
              "      <td>False</td>\n",
              "      <td>False</td>\n",
              "      <td>False</td>\n",
              "      <td>False</td>\n",
              "      <td>False</td>\n",
              "      <td>False</td>\n",
              "      <td>False</td>\n",
              "      <td>False</td>\n",
              "      <td>False</td>\n",
              "      <td>False</td>\n",
              "      <td>False</td>\n",
              "      <td>False</td>\n",
              "      <td>False</td>\n",
              "      <td>False</td>\n",
              "      <td>False</td>\n",
              "      <td>False</td>\n",
              "      <td>False</td>\n",
              "      <td>False</td>\n",
              "      <td>False</td>\n",
              "      <td>False</td>\n",
              "      <td>False</td>\n",
              "      <td>False</td>\n",
              "      <td>False</td>\n",
              "      <td>False</td>\n",
              "      <td>False</td>\n",
              "      <td>False</td>\n",
              "      <td>False</td>\n",
              "      <td>False</td>\n",
              "      <td>False</td>\n",
              "      <td>False</td>\n",
              "      <td>False</td>\n",
              "      <td>False</td>\n",
              "      <td>False</td>\n",
              "      <td>False</td>\n",
              "      <td>False</td>\n",
              "      <td>False</td>\n",
              "      <td>False</td>\n",
              "      <td>False</td>\n",
              "      <td>True</td>\n",
              "    </tr>\n",
              "    <tr>\n",
              "      <th>18975</th>\n",
              "      <td>False</td>\n",
              "      <td>False</td>\n",
              "      <td>False</td>\n",
              "      <td>False</td>\n",
              "      <td>False</td>\n",
              "      <td>False</td>\n",
              "      <td>False</td>\n",
              "      <td>False</td>\n",
              "      <td>False</td>\n",
              "      <td>False</td>\n",
              "      <td>False</td>\n",
              "      <td>False</td>\n",
              "      <td>False</td>\n",
              "      <td>False</td>\n",
              "      <td>False</td>\n",
              "      <td>False</td>\n",
              "      <td>False</td>\n",
              "      <td>False</td>\n",
              "      <td>True</td>\n",
              "      <td>False</td>\n",
              "      <td>False</td>\n",
              "      <td>False</td>\n",
              "      <td>False</td>\n",
              "      <td>False</td>\n",
              "      <td>False</td>\n",
              "      <td>False</td>\n",
              "      <td>False</td>\n",
              "      <td>False</td>\n",
              "      <td>False</td>\n",
              "      <td>False</td>\n",
              "      <td>False</td>\n",
              "      <td>False</td>\n",
              "      <td>False</td>\n",
              "      <td>False</td>\n",
              "      <td>False</td>\n",
              "      <td>False</td>\n",
              "      <td>False</td>\n",
              "      <td>False</td>\n",
              "      <td>False</td>\n",
              "      <td>False</td>\n",
              "      <td>False</td>\n",
              "      <td>False</td>\n",
              "      <td>False</td>\n",
              "      <td>False</td>\n",
              "      <td>False</td>\n",
              "      <td>False</td>\n",
              "      <td>False</td>\n",
              "      <td>False</td>\n",
              "      <td>False</td>\n",
              "      <td>False</td>\n",
              "      <td>False</td>\n",
              "      <td>False</td>\n",
              "      <td>False</td>\n",
              "      <td>False</td>\n",
              "      <td>False</td>\n",
              "      <td>False</td>\n",
              "      <td>False</td>\n",
              "      <td>False</td>\n",
              "      <td>False</td>\n",
              "      <td>False</td>\n",
              "      <td>False</td>\n",
              "      <td>False</td>\n",
              "      <td>False</td>\n",
              "      <td>False</td>\n",
              "      <td>False</td>\n",
              "      <td>False</td>\n",
              "      <td>False</td>\n",
              "      <td>False</td>\n",
              "      <td>False</td>\n",
              "      <td>False</td>\n",
              "      <td>False</td>\n",
              "      <td>False</td>\n",
              "      <td>False</td>\n",
              "      <td>False</td>\n",
              "      <td>False</td>\n",
              "      <td>False</td>\n",
              "      <td>True</td>\n",
              "    </tr>\n",
              "    <tr>\n",
              "      <th>18976</th>\n",
              "      <td>False</td>\n",
              "      <td>False</td>\n",
              "      <td>False</td>\n",
              "      <td>False</td>\n",
              "      <td>False</td>\n",
              "      <td>False</td>\n",
              "      <td>False</td>\n",
              "      <td>False</td>\n",
              "      <td>False</td>\n",
              "      <td>False</td>\n",
              "      <td>False</td>\n",
              "      <td>False</td>\n",
              "      <td>False</td>\n",
              "      <td>False</td>\n",
              "      <td>False</td>\n",
              "      <td>False</td>\n",
              "      <td>False</td>\n",
              "      <td>False</td>\n",
              "      <td>True</td>\n",
              "      <td>False</td>\n",
              "      <td>False</td>\n",
              "      <td>False</td>\n",
              "      <td>False</td>\n",
              "      <td>False</td>\n",
              "      <td>False</td>\n",
              "      <td>False</td>\n",
              "      <td>False</td>\n",
              "      <td>False</td>\n",
              "      <td>False</td>\n",
              "      <td>False</td>\n",
              "      <td>False</td>\n",
              "      <td>False</td>\n",
              "      <td>False</td>\n",
              "      <td>False</td>\n",
              "      <td>False</td>\n",
              "      <td>False</td>\n",
              "      <td>False</td>\n",
              "      <td>False</td>\n",
              "      <td>False</td>\n",
              "      <td>False</td>\n",
              "      <td>False</td>\n",
              "      <td>False</td>\n",
              "      <td>False</td>\n",
              "      <td>False</td>\n",
              "      <td>False</td>\n",
              "      <td>False</td>\n",
              "      <td>False</td>\n",
              "      <td>False</td>\n",
              "      <td>False</td>\n",
              "      <td>False</td>\n",
              "      <td>False</td>\n",
              "      <td>False</td>\n",
              "      <td>False</td>\n",
              "      <td>False</td>\n",
              "      <td>False</td>\n",
              "      <td>False</td>\n",
              "      <td>False</td>\n",
              "      <td>False</td>\n",
              "      <td>False</td>\n",
              "      <td>False</td>\n",
              "      <td>False</td>\n",
              "      <td>False</td>\n",
              "      <td>False</td>\n",
              "      <td>False</td>\n",
              "      <td>False</td>\n",
              "      <td>False</td>\n",
              "      <td>False</td>\n",
              "      <td>False</td>\n",
              "      <td>False</td>\n",
              "      <td>False</td>\n",
              "      <td>False</td>\n",
              "      <td>False</td>\n",
              "      <td>False</td>\n",
              "      <td>False</td>\n",
              "      <td>False</td>\n",
              "      <td>False</td>\n",
              "      <td>True</td>\n",
              "    </tr>\n",
              "    <tr>\n",
              "      <th>18977</th>\n",
              "      <td>False</td>\n",
              "      <td>False</td>\n",
              "      <td>False</td>\n",
              "      <td>False</td>\n",
              "      <td>False</td>\n",
              "      <td>False</td>\n",
              "      <td>False</td>\n",
              "      <td>False</td>\n",
              "      <td>False</td>\n",
              "      <td>False</td>\n",
              "      <td>False</td>\n",
              "      <td>False</td>\n",
              "      <td>False</td>\n",
              "      <td>False</td>\n",
              "      <td>False</td>\n",
              "      <td>False</td>\n",
              "      <td>False</td>\n",
              "      <td>False</td>\n",
              "      <td>True</td>\n",
              "      <td>False</td>\n",
              "      <td>False</td>\n",
              "      <td>False</td>\n",
              "      <td>False</td>\n",
              "      <td>False</td>\n",
              "      <td>False</td>\n",
              "      <td>False</td>\n",
              "      <td>False</td>\n",
              "      <td>False</td>\n",
              "      <td>False</td>\n",
              "      <td>False</td>\n",
              "      <td>False</td>\n",
              "      <td>False</td>\n",
              "      <td>False</td>\n",
              "      <td>False</td>\n",
              "      <td>False</td>\n",
              "      <td>False</td>\n",
              "      <td>False</td>\n",
              "      <td>False</td>\n",
              "      <td>False</td>\n",
              "      <td>False</td>\n",
              "      <td>False</td>\n",
              "      <td>False</td>\n",
              "      <td>False</td>\n",
              "      <td>False</td>\n",
              "      <td>False</td>\n",
              "      <td>False</td>\n",
              "      <td>False</td>\n",
              "      <td>False</td>\n",
              "      <td>False</td>\n",
              "      <td>False</td>\n",
              "      <td>False</td>\n",
              "      <td>False</td>\n",
              "      <td>False</td>\n",
              "      <td>False</td>\n",
              "      <td>False</td>\n",
              "      <td>False</td>\n",
              "      <td>False</td>\n",
              "      <td>False</td>\n",
              "      <td>False</td>\n",
              "      <td>False</td>\n",
              "      <td>False</td>\n",
              "      <td>False</td>\n",
              "      <td>False</td>\n",
              "      <td>False</td>\n",
              "      <td>False</td>\n",
              "      <td>False</td>\n",
              "      <td>False</td>\n",
              "      <td>False</td>\n",
              "      <td>False</td>\n",
              "      <td>False</td>\n",
              "      <td>False</td>\n",
              "      <td>False</td>\n",
              "      <td>False</td>\n",
              "      <td>False</td>\n",
              "      <td>False</td>\n",
              "      <td>False</td>\n",
              "      <td>True</td>\n",
              "    </tr>\n",
              "    <tr>\n",
              "      <th>18978</th>\n",
              "      <td>False</td>\n",
              "      <td>False</td>\n",
              "      <td>False</td>\n",
              "      <td>False</td>\n",
              "      <td>False</td>\n",
              "      <td>False</td>\n",
              "      <td>False</td>\n",
              "      <td>False</td>\n",
              "      <td>False</td>\n",
              "      <td>False</td>\n",
              "      <td>False</td>\n",
              "      <td>False</td>\n",
              "      <td>False</td>\n",
              "      <td>False</td>\n",
              "      <td>False</td>\n",
              "      <td>False</td>\n",
              "      <td>False</td>\n",
              "      <td>False</td>\n",
              "      <td>True</td>\n",
              "      <td>False</td>\n",
              "      <td>False</td>\n",
              "      <td>False</td>\n",
              "      <td>False</td>\n",
              "      <td>False</td>\n",
              "      <td>False</td>\n",
              "      <td>False</td>\n",
              "      <td>False</td>\n",
              "      <td>False</td>\n",
              "      <td>False</td>\n",
              "      <td>False</td>\n",
              "      <td>False</td>\n",
              "      <td>False</td>\n",
              "      <td>False</td>\n",
              "      <td>False</td>\n",
              "      <td>False</td>\n",
              "      <td>False</td>\n",
              "      <td>False</td>\n",
              "      <td>False</td>\n",
              "      <td>False</td>\n",
              "      <td>False</td>\n",
              "      <td>False</td>\n",
              "      <td>False</td>\n",
              "      <td>False</td>\n",
              "      <td>False</td>\n",
              "      <td>False</td>\n",
              "      <td>False</td>\n",
              "      <td>False</td>\n",
              "      <td>False</td>\n",
              "      <td>False</td>\n",
              "      <td>False</td>\n",
              "      <td>False</td>\n",
              "      <td>False</td>\n",
              "      <td>False</td>\n",
              "      <td>False</td>\n",
              "      <td>False</td>\n",
              "      <td>False</td>\n",
              "      <td>False</td>\n",
              "      <td>False</td>\n",
              "      <td>False</td>\n",
              "      <td>False</td>\n",
              "      <td>False</td>\n",
              "      <td>False</td>\n",
              "      <td>False</td>\n",
              "      <td>False</td>\n",
              "      <td>False</td>\n",
              "      <td>False</td>\n",
              "      <td>False</td>\n",
              "      <td>False</td>\n",
              "      <td>False</td>\n",
              "      <td>False</td>\n",
              "      <td>False</td>\n",
              "      <td>False</td>\n",
              "      <td>False</td>\n",
              "      <td>False</td>\n",
              "      <td>False</td>\n",
              "      <td>False</td>\n",
              "      <td>True</td>\n",
              "    </tr>\n",
              "  </tbody>\n",
              "</table>\n",
              "<p>18979 rows × 77 columns</p>\n",
              "</div>\n",
              "    <div class=\"colab-df-buttons\">\n",
              "\n",
              "  <div class=\"colab-df-container\">\n",
              "    <button class=\"colab-df-convert\" onclick=\"convertToInteractive('df-59729d0e-8c0d-48d8-ba63-e65007ebb036')\"\n",
              "            title=\"Convert this dataframe to an interactive table.\"\n",
              "            style=\"display:none;\">\n",
              "\n",
              "  <svg xmlns=\"http://www.w3.org/2000/svg\" height=\"24px\" viewBox=\"0 -960 960 960\">\n",
              "    <path d=\"M120-120v-720h720v720H120Zm60-500h600v-160H180v160Zm220 220h160v-160H400v160Zm0 220h160v-160H400v160ZM180-400h160v-160H180v160Zm440 0h160v-160H620v160ZM180-180h160v-160H180v160Zm440 0h160v-160H620v160Z\"/>\n",
              "  </svg>\n",
              "    </button>\n",
              "\n",
              "  <style>\n",
              "    .colab-df-container {\n",
              "      display:flex;\n",
              "      gap: 12px;\n",
              "    }\n",
              "\n",
              "    .colab-df-convert {\n",
              "      background-color: #E8F0FE;\n",
              "      border: none;\n",
              "      border-radius: 50%;\n",
              "      cursor: pointer;\n",
              "      display: none;\n",
              "      fill: #1967D2;\n",
              "      height: 32px;\n",
              "      padding: 0 0 0 0;\n",
              "      width: 32px;\n",
              "    }\n",
              "\n",
              "    .colab-df-convert:hover {\n",
              "      background-color: #E2EBFA;\n",
              "      box-shadow: 0px 1px 2px rgba(60, 64, 67, 0.3), 0px 1px 3px 1px rgba(60, 64, 67, 0.15);\n",
              "      fill: #174EA6;\n",
              "    }\n",
              "\n",
              "    .colab-df-buttons div {\n",
              "      margin-bottom: 4px;\n",
              "    }\n",
              "\n",
              "    [theme=dark] .colab-df-convert {\n",
              "      background-color: #3B4455;\n",
              "      fill: #D2E3FC;\n",
              "    }\n",
              "\n",
              "    [theme=dark] .colab-df-convert:hover {\n",
              "      background-color: #434B5C;\n",
              "      box-shadow: 0px 1px 3px 1px rgba(0, 0, 0, 0.15);\n",
              "      filter: drop-shadow(0px 1px 2px rgba(0, 0, 0, 0.3));\n",
              "      fill: #FFFFFF;\n",
              "    }\n",
              "  </style>\n",
              "\n",
              "    <script>\n",
              "      const buttonEl =\n",
              "        document.querySelector('#df-59729d0e-8c0d-48d8-ba63-e65007ebb036 button.colab-df-convert');\n",
              "      buttonEl.style.display =\n",
              "        google.colab.kernel.accessAllowed ? 'block' : 'none';\n",
              "\n",
              "      async function convertToInteractive(key) {\n",
              "        const element = document.querySelector('#df-59729d0e-8c0d-48d8-ba63-e65007ebb036');\n",
              "        const dataTable =\n",
              "          await google.colab.kernel.invokeFunction('convertToInteractive',\n",
              "                                                    [key], {});\n",
              "        if (!dataTable) return;\n",
              "\n",
              "        const docLinkHtml = 'Like what you see? Visit the ' +\n",
              "          '<a target=\"_blank\" href=https://colab.research.google.com/notebooks/data_table.ipynb>data table notebook</a>'\n",
              "          + ' to learn more about interactive tables.';\n",
              "        element.innerHTML = '';\n",
              "        dataTable['output_type'] = 'display_data';\n",
              "        await google.colab.output.renderOutput(dataTable, element);\n",
              "        const docLink = document.createElement('div');\n",
              "        docLink.innerHTML = docLinkHtml;\n",
              "        element.appendChild(docLink);\n",
              "      }\n",
              "    </script>\n",
              "  </div>\n",
              "\n",
              "\n",
              "<div id=\"df-1a8da018-c97e-412a-b9ea-808f77de1fc3\">\n",
              "  <button class=\"colab-df-quickchart\" onclick=\"quickchart('df-1a8da018-c97e-412a-b9ea-808f77de1fc3')\"\n",
              "            title=\"Suggest charts\"\n",
              "            style=\"display:none;\">\n",
              "\n",
              "<svg xmlns=\"http://www.w3.org/2000/svg\" height=\"24px\"viewBox=\"0 0 24 24\"\n",
              "     width=\"24px\">\n",
              "    <g>\n",
              "        <path d=\"M19 3H5c-1.1 0-2 .9-2 2v14c0 1.1.9 2 2 2h14c1.1 0 2-.9 2-2V5c0-1.1-.9-2-2-2zM9 17H7v-7h2v7zm4 0h-2V7h2v10zm4 0h-2v-4h2v4z\"/>\n",
              "    </g>\n",
              "</svg>\n",
              "  </button>\n",
              "\n",
              "<style>\n",
              "  .colab-df-quickchart {\n",
              "      --bg-color: #E8F0FE;\n",
              "      --fill-color: #1967D2;\n",
              "      --hover-bg-color: #E2EBFA;\n",
              "      --hover-fill-color: #174EA6;\n",
              "      --disabled-fill-color: #AAA;\n",
              "      --disabled-bg-color: #DDD;\n",
              "  }\n",
              "\n",
              "  [theme=dark] .colab-df-quickchart {\n",
              "      --bg-color: #3B4455;\n",
              "      --fill-color: #D2E3FC;\n",
              "      --hover-bg-color: #434B5C;\n",
              "      --hover-fill-color: #FFFFFF;\n",
              "      --disabled-bg-color: #3B4455;\n",
              "      --disabled-fill-color: #666;\n",
              "  }\n",
              "\n",
              "  .colab-df-quickchart {\n",
              "    background-color: var(--bg-color);\n",
              "    border: none;\n",
              "    border-radius: 50%;\n",
              "    cursor: pointer;\n",
              "    display: none;\n",
              "    fill: var(--fill-color);\n",
              "    height: 32px;\n",
              "    padding: 0;\n",
              "    width: 32px;\n",
              "  }\n",
              "\n",
              "  .colab-df-quickchart:hover {\n",
              "    background-color: var(--hover-bg-color);\n",
              "    box-shadow: 0 1px 2px rgba(60, 64, 67, 0.3), 0 1px 3px 1px rgba(60, 64, 67, 0.15);\n",
              "    fill: var(--button-hover-fill-color);\n",
              "  }\n",
              "\n",
              "  .colab-df-quickchart-complete:disabled,\n",
              "  .colab-df-quickchart-complete:disabled:hover {\n",
              "    background-color: var(--disabled-bg-color);\n",
              "    fill: var(--disabled-fill-color);\n",
              "    box-shadow: none;\n",
              "  }\n",
              "\n",
              "  .colab-df-spinner {\n",
              "    border: 2px solid var(--fill-color);\n",
              "    border-color: transparent;\n",
              "    border-bottom-color: var(--fill-color);\n",
              "    animation:\n",
              "      spin 1s steps(1) infinite;\n",
              "  }\n",
              "\n",
              "  @keyframes spin {\n",
              "    0% {\n",
              "      border-color: transparent;\n",
              "      border-bottom-color: var(--fill-color);\n",
              "      border-left-color: var(--fill-color);\n",
              "    }\n",
              "    20% {\n",
              "      border-color: transparent;\n",
              "      border-left-color: var(--fill-color);\n",
              "      border-top-color: var(--fill-color);\n",
              "    }\n",
              "    30% {\n",
              "      border-color: transparent;\n",
              "      border-left-color: var(--fill-color);\n",
              "      border-top-color: var(--fill-color);\n",
              "      border-right-color: var(--fill-color);\n",
              "    }\n",
              "    40% {\n",
              "      border-color: transparent;\n",
              "      border-right-color: var(--fill-color);\n",
              "      border-top-color: var(--fill-color);\n",
              "    }\n",
              "    60% {\n",
              "      border-color: transparent;\n",
              "      border-right-color: var(--fill-color);\n",
              "    }\n",
              "    80% {\n",
              "      border-color: transparent;\n",
              "      border-right-color: var(--fill-color);\n",
              "      border-bottom-color: var(--fill-color);\n",
              "    }\n",
              "    90% {\n",
              "      border-color: transparent;\n",
              "      border-bottom-color: var(--fill-color);\n",
              "    }\n",
              "  }\n",
              "</style>\n",
              "\n",
              "  <script>\n",
              "    async function quickchart(key) {\n",
              "      const quickchartButtonEl =\n",
              "        document.querySelector('#' + key + ' button');\n",
              "      quickchartButtonEl.disabled = true;  // To prevent multiple clicks.\n",
              "      quickchartButtonEl.classList.add('colab-df-spinner');\n",
              "      try {\n",
              "        const charts = await google.colab.kernel.invokeFunction(\n",
              "            'suggestCharts', [key], {});\n",
              "      } catch (error) {\n",
              "        console.error('Error during call to suggestCharts:', error);\n",
              "      }\n",
              "      quickchartButtonEl.classList.remove('colab-df-spinner');\n",
              "      quickchartButtonEl.classList.add('colab-df-quickchart-complete');\n",
              "    }\n",
              "    (() => {\n",
              "      let quickchartButtonEl =\n",
              "        document.querySelector('#df-1a8da018-c97e-412a-b9ea-808f77de1fc3 button');\n",
              "      quickchartButtonEl.style.display =\n",
              "        google.colab.kernel.accessAllowed ? 'block' : 'none';\n",
              "    })();\n",
              "  </script>\n",
              "</div>\n",
              "\n",
              "    </div>\n",
              "  </div>\n"
            ]
          },
          "metadata": {},
          "execution_count": 7
        }
      ]
    },
    {
      "cell_type": "code",
      "source": [
        "df.info()"
      ],
      "metadata": {
        "colab": {
          "base_uri": "https://localhost:8080/"
        },
        "id": "7Kc-i0ZbhStv",
        "outputId": "9bfcc2f1-9028-475b-8ae1-722c2577a69a"
      },
      "execution_count": 8,
      "outputs": [
        {
          "output_type": "stream",
          "name": "stdout",
          "text": [
            "<class 'pandas.core.frame.DataFrame'>\n",
            "RangeIndex: 18979 entries, 0 to 18978\n",
            "Data columns (total 77 columns):\n",
            " #   Column            Non-Null Count  Dtype \n",
            "---  ------            --------------  ----- \n",
            " 0   ID                18979 non-null  int64 \n",
            " 1   Name              18979 non-null  object\n",
            " 2   LongName          18979 non-null  object\n",
            " 3   photoUrl          18979 non-null  object\n",
            " 4   playerUrl         18979 non-null  object\n",
            " 5   Nationality       18979 non-null  object\n",
            " 6   Age               18979 non-null  int64 \n",
            " 7   ↓OVA              18979 non-null  int64 \n",
            " 8   POT               18979 non-null  int64 \n",
            " 9   Club              18979 non-null  object\n",
            " 10  Contract          18979 non-null  object\n",
            " 11  Positions         18979 non-null  object\n",
            " 12  Height            18979 non-null  object\n",
            " 13  Weight            18979 non-null  object\n",
            " 14  Preferred Foot    18979 non-null  object\n",
            " 15  BOV               18979 non-null  int64 \n",
            " 16  Best Position     18979 non-null  object\n",
            " 17  Joined            18979 non-null  object\n",
            " 18  Loan Date End     1013 non-null   object\n",
            " 19  Value             18979 non-null  object\n",
            " 20  Wage              18979 non-null  object\n",
            " 21  Release Clause    18979 non-null  object\n",
            " 22  Attacking         18979 non-null  int64 \n",
            " 23  Crossing          18979 non-null  int64 \n",
            " 24  Finishing         18979 non-null  int64 \n",
            " 25  Heading Accuracy  18979 non-null  int64 \n",
            " 26  Short Passing     18979 non-null  int64 \n",
            " 27  Volleys           18979 non-null  int64 \n",
            " 28  Skill             18979 non-null  int64 \n",
            " 29  Dribbling         18979 non-null  int64 \n",
            " 30  Curve             18979 non-null  int64 \n",
            " 31  FK Accuracy       18979 non-null  int64 \n",
            " 32  Long Passing      18979 non-null  int64 \n",
            " 33  Ball Control      18979 non-null  int64 \n",
            " 34  Movement          18979 non-null  int64 \n",
            " 35  Acceleration      18979 non-null  int64 \n",
            " 36  Sprint Speed      18979 non-null  int64 \n",
            " 37  Agility           18979 non-null  int64 \n",
            " 38  Reactions         18979 non-null  int64 \n",
            " 39  Balance           18979 non-null  int64 \n",
            " 40  Power             18979 non-null  int64 \n",
            " 41  Shot Power        18979 non-null  int64 \n",
            " 42  Jumping           18979 non-null  int64 \n",
            " 43  Stamina           18979 non-null  int64 \n",
            " 44  Strength          18979 non-null  int64 \n",
            " 45  Long Shots        18979 non-null  int64 \n",
            " 46  Mentality         18979 non-null  int64 \n",
            " 47  Aggression        18979 non-null  int64 \n",
            " 48  Interceptions     18979 non-null  int64 \n",
            " 49  Positioning       18979 non-null  int64 \n",
            " 50  Vision            18979 non-null  int64 \n",
            " 51  Penalties         18979 non-null  int64 \n",
            " 52  Composure         18979 non-null  int64 \n",
            " 53  Defending         18979 non-null  int64 \n",
            " 54  Marking           18979 non-null  int64 \n",
            " 55  Standing Tackle   18979 non-null  int64 \n",
            " 56  Sliding Tackle    18979 non-null  int64 \n",
            " 57  Goalkeeping       18979 non-null  int64 \n",
            " 58  GK Diving         18979 non-null  int64 \n",
            " 59  GK Handling       18979 non-null  int64 \n",
            " 60  GK Kicking        18979 non-null  int64 \n",
            " 61  GK Positioning    18979 non-null  int64 \n",
            " 62  GK Reflexes       18979 non-null  int64 \n",
            " 63  Total Stats       18979 non-null  int64 \n",
            " 64  Base Stats        18979 non-null  int64 \n",
            " 65  W/F               18979 non-null  object\n",
            " 66  SM                18979 non-null  object\n",
            " 67  A/W               18979 non-null  object\n",
            " 68  D/W               18979 non-null  object\n",
            " 69  IR                18979 non-null  object\n",
            " 70  PAC               18979 non-null  int64 \n",
            " 71  SHO               18979 non-null  int64 \n",
            " 72  PAS               18979 non-null  int64 \n",
            " 73  DRI               18979 non-null  int64 \n",
            " 74  DEF               18979 non-null  int64 \n",
            " 75  PHY               18979 non-null  int64 \n",
            " 76  Hits              16384 non-null  object\n",
            "dtypes: int64(54), object(23)\n",
            "memory usage: 11.1+ MB\n"
          ]
        }
      ]
    },
    {
      "cell_type": "markdown",
      "source": [
        "Create a copy of dataFrame"
      ],
      "metadata": {
        "id": "Hgun62ZZuuFB"
      }
    },
    {
      "cell_type": "code",
      "source": [
        "df1=df.copy()\n",
        "df1.head()"
      ],
      "metadata": {
        "colab": {
          "base_uri": "https://localhost:8080/",
          "height": 434
        },
        "id": "Pdiat3Z1halj",
        "outputId": "7874733e-1825-4554-c0e0-654f9679a704"
      },
      "execution_count": 9,
      "outputs": [
        {
          "output_type": "execute_result",
          "data": {
            "text/plain": [
              "       ID               Name                      LongName  \\\n",
              "0  158023           L. Messi                  Lionel Messi   \n",
              "1   20801  Cristiano Ronaldo  C. Ronaldo dos Santos Aveiro   \n",
              "2  200389           J. Oblak                     Jan Oblak   \n",
              "3  192985       K. De Bruyne               Kevin De Bruyne   \n",
              "4  190871          Neymar Jr    Neymar da Silva Santos Jr.   \n",
              "\n",
              "                                           photoUrl  \\\n",
              "0  https://cdn.sofifa.com/players/158/023/21_60.png   \n",
              "1  https://cdn.sofifa.com/players/020/801/21_60.png   \n",
              "2  https://cdn.sofifa.com/players/200/389/21_60.png   \n",
              "3  https://cdn.sofifa.com/players/192/985/21_60.png   \n",
              "4  https://cdn.sofifa.com/players/190/871/21_60.png   \n",
              "\n",
              "                                           playerUrl Nationality  Age  ↓OVA  \\\n",
              "0  http://sofifa.com/player/158023/lionel-messi/2...   Argentina   33    93   \n",
              "1  http://sofifa.com/player/20801/c-ronaldo-dos-s...    Portugal   35    92   \n",
              "2  http://sofifa.com/player/200389/jan-oblak/210006/    Slovenia   27    91   \n",
              "3  http://sofifa.com/player/192985/kevin-de-bruyn...     Belgium   29    91   \n",
              "4  http://sofifa.com/player/190871/neymar-da-silv...      Brazil   28    91   \n",
              "\n",
              "   POT                         Club     Contract   Positions Height Weight  \\\n",
              "0   93         \\n\\n\\n\\nFC Barcelona  2004 ~ 2021  RW, ST, CF  170cm   72kg   \n",
              "1   92             \\n\\n\\n\\nJuventus  2018 ~ 2022      ST, LW  187cm   83kg   \n",
              "2   93      \\n\\n\\n\\nAtlético Madrid  2014 ~ 2023          GK  188cm   87kg   \n",
              "3   91      \\n\\n\\n\\nManchester City  2015 ~ 2023     CAM, CM  181cm   70kg   \n",
              "4   91  \\n\\n\\n\\nParis Saint-Germain  2017 ~ 2022     LW, CAM  175cm   68kg   \n",
              "\n",
              "  Preferred Foot  BOV Best Position     Joined Loan Date End    Value   Wage  \\\n",
              "0           Left   93            RW   1-Jul-04           NaN  €103.5M  €560K   \n",
              "1          Right   92            ST  10-Jul-18           NaN     €63M  €220K   \n",
              "2          Right   91            GK  16-Jul-14           NaN    €120M  €125K   \n",
              "3          Right   91           CAM  30-Aug-15           NaN    €129M  €370K   \n",
              "4          Right   91            LW   3-Aug-17           NaN    €132M  €270K   \n",
              "\n",
              "  Release Clause  Attacking  Crossing  Finishing  Heading Accuracy  \\\n",
              "0        €138.4M        429        85         95                70   \n",
              "1         €75.9M        437        84         95                90   \n",
              "2        €159.4M         95        13         11                15   \n",
              "3          €161M        407        94         82                55   \n",
              "4        €166.5M        408        85         87                62   \n",
              "\n",
              "   Short Passing  Volleys  Skill  Dribbling  Curve  FK Accuracy  Long Passing  \\\n",
              "0             91       88    470         96     93           94            91   \n",
              "1             82       86    414         88     81           76            77   \n",
              "2             43       13    109         12     13           14            40   \n",
              "3             94       82    441         88     85           83            93   \n",
              "4             87       87    448         95     88           89            81   \n",
              "\n",
              "   Ball Control  Movement  Acceleration  Sprint Speed  Agility  Reactions  \\\n",
              "0            96       451            91            80       91         94   \n",
              "1            92       431            87            91       87         95   \n",
              "2            30       307            43            60       67         88   \n",
              "3            92       398            77            76       78         91   \n",
              "4            95       453            94            89       96         91   \n",
              "\n",
              "   Balance  Power  Shot Power  Jumping  Stamina  Strength  Long Shots  \\\n",
              "0       95    389          86       68       72        69          94   \n",
              "1       71    444          94       95       84        78          93   \n",
              "2       49    268          59       78       41        78          12   \n",
              "3       76    408          91       63       89        74          91   \n",
              "4       83    357          80       62       81        50          84   \n",
              "\n",
              "   Mentality  Aggression  Interceptions  Positioning  Vision  Penalties  \\\n",
              "0        347          44             40           93      95         75   \n",
              "1        353          63             29           95      82         84   \n",
              "2        140          34             19           11      65         11   \n",
              "3        408          76             66           88      94         84   \n",
              "4        356          51             36           87      90         92   \n",
              "\n",
              "   Composure  Defending  Marking  Standing Tackle  Sliding Tackle  \\\n",
              "0         96         91       32               35              24   \n",
              "1         95         84       28               32              24   \n",
              "2         68         57       27               12              18   \n",
              "3         91        186       68               65              53   \n",
              "4         93         94       35               30              29   \n",
              "\n",
              "   Goalkeeping  GK Diving  GK Handling  GK Kicking  GK Positioning  \\\n",
              "0           54          6           11          15              14   \n",
              "1           58          7           11          15              14   \n",
              "2          437         87           92          78              90   \n",
              "3           56         15           13           5              10   \n",
              "4           59          9            9          15              15   \n",
              "\n",
              "   GK Reflexes  Total Stats  Base Stats  W/F  SM     A/W     D/W   IR  PAC  \\\n",
              "0            8         2231         466  4 ★  4★  Medium     Low  5 ★   85   \n",
              "1           11         2221         464  4 ★  5★    High     Low  5 ★   89   \n",
              "2           90         1413         489  3 ★  1★  Medium  Medium  3 ★   87   \n",
              "3           13         2304         485  5 ★  4★    High    High  4 ★   76   \n",
              "4           11         2175         451  5 ★  5★    High  Medium  5 ★   91   \n",
              "\n",
              "   SHO  PAS  DRI  DEF  PHY Hits  \n",
              "0   92   91   95   38   65  771  \n",
              "1   93   81   89   35   77  562  \n",
              "2   92   78   90   52   90  150  \n",
              "3   86   93   88   64   78  207  \n",
              "4   85   86   94   36   59  595  "
            ],
            "text/html": [
              "\n",
              "  <div id=\"df-e27dd7c3-1c60-41a7-b8bf-9e05f53f67dc\" class=\"colab-df-container\">\n",
              "    <div>\n",
              "<style scoped>\n",
              "    .dataframe tbody tr th:only-of-type {\n",
              "        vertical-align: middle;\n",
              "    }\n",
              "\n",
              "    .dataframe tbody tr th {\n",
              "        vertical-align: top;\n",
              "    }\n",
              "\n",
              "    .dataframe thead th {\n",
              "        text-align: right;\n",
              "    }\n",
              "</style>\n",
              "<table border=\"1\" class=\"dataframe\">\n",
              "  <thead>\n",
              "    <tr style=\"text-align: right;\">\n",
              "      <th></th>\n",
              "      <th>ID</th>\n",
              "      <th>Name</th>\n",
              "      <th>LongName</th>\n",
              "      <th>photoUrl</th>\n",
              "      <th>playerUrl</th>\n",
              "      <th>Nationality</th>\n",
              "      <th>Age</th>\n",
              "      <th>↓OVA</th>\n",
              "      <th>POT</th>\n",
              "      <th>Club</th>\n",
              "      <th>Contract</th>\n",
              "      <th>Positions</th>\n",
              "      <th>Height</th>\n",
              "      <th>Weight</th>\n",
              "      <th>Preferred Foot</th>\n",
              "      <th>BOV</th>\n",
              "      <th>Best Position</th>\n",
              "      <th>Joined</th>\n",
              "      <th>Loan Date End</th>\n",
              "      <th>Value</th>\n",
              "      <th>Wage</th>\n",
              "      <th>Release Clause</th>\n",
              "      <th>Attacking</th>\n",
              "      <th>Crossing</th>\n",
              "      <th>Finishing</th>\n",
              "      <th>Heading Accuracy</th>\n",
              "      <th>Short Passing</th>\n",
              "      <th>Volleys</th>\n",
              "      <th>Skill</th>\n",
              "      <th>Dribbling</th>\n",
              "      <th>Curve</th>\n",
              "      <th>FK Accuracy</th>\n",
              "      <th>Long Passing</th>\n",
              "      <th>Ball Control</th>\n",
              "      <th>Movement</th>\n",
              "      <th>Acceleration</th>\n",
              "      <th>Sprint Speed</th>\n",
              "      <th>Agility</th>\n",
              "      <th>Reactions</th>\n",
              "      <th>Balance</th>\n",
              "      <th>Power</th>\n",
              "      <th>Shot Power</th>\n",
              "      <th>Jumping</th>\n",
              "      <th>Stamina</th>\n",
              "      <th>Strength</th>\n",
              "      <th>Long Shots</th>\n",
              "      <th>Mentality</th>\n",
              "      <th>Aggression</th>\n",
              "      <th>Interceptions</th>\n",
              "      <th>Positioning</th>\n",
              "      <th>Vision</th>\n",
              "      <th>Penalties</th>\n",
              "      <th>Composure</th>\n",
              "      <th>Defending</th>\n",
              "      <th>Marking</th>\n",
              "      <th>Standing Tackle</th>\n",
              "      <th>Sliding Tackle</th>\n",
              "      <th>Goalkeeping</th>\n",
              "      <th>GK Diving</th>\n",
              "      <th>GK Handling</th>\n",
              "      <th>GK Kicking</th>\n",
              "      <th>GK Positioning</th>\n",
              "      <th>GK Reflexes</th>\n",
              "      <th>Total Stats</th>\n",
              "      <th>Base Stats</th>\n",
              "      <th>W/F</th>\n",
              "      <th>SM</th>\n",
              "      <th>A/W</th>\n",
              "      <th>D/W</th>\n",
              "      <th>IR</th>\n",
              "      <th>PAC</th>\n",
              "      <th>SHO</th>\n",
              "      <th>PAS</th>\n",
              "      <th>DRI</th>\n",
              "      <th>DEF</th>\n",
              "      <th>PHY</th>\n",
              "      <th>Hits</th>\n",
              "    </tr>\n",
              "  </thead>\n",
              "  <tbody>\n",
              "    <tr>\n",
              "      <th>0</th>\n",
              "      <td>158023</td>\n",
              "      <td>L. Messi</td>\n",
              "      <td>Lionel Messi</td>\n",
              "      <td>https://cdn.sofifa.com/players/158/023/21_60.png</td>\n",
              "      <td>http://sofifa.com/player/158023/lionel-messi/2...</td>\n",
              "      <td>Argentina</td>\n",
              "      <td>33</td>\n",
              "      <td>93</td>\n",
              "      <td>93</td>\n",
              "      <td>\\n\\n\\n\\nFC Barcelona</td>\n",
              "      <td>2004 ~ 2021</td>\n",
              "      <td>RW, ST, CF</td>\n",
              "      <td>170cm</td>\n",
              "      <td>72kg</td>\n",
              "      <td>Left</td>\n",
              "      <td>93</td>\n",
              "      <td>RW</td>\n",
              "      <td>1-Jul-04</td>\n",
              "      <td>NaN</td>\n",
              "      <td>€103.5M</td>\n",
              "      <td>€560K</td>\n",
              "      <td>€138.4M</td>\n",
              "      <td>429</td>\n",
              "      <td>85</td>\n",
              "      <td>95</td>\n",
              "      <td>70</td>\n",
              "      <td>91</td>\n",
              "      <td>88</td>\n",
              "      <td>470</td>\n",
              "      <td>96</td>\n",
              "      <td>93</td>\n",
              "      <td>94</td>\n",
              "      <td>91</td>\n",
              "      <td>96</td>\n",
              "      <td>451</td>\n",
              "      <td>91</td>\n",
              "      <td>80</td>\n",
              "      <td>91</td>\n",
              "      <td>94</td>\n",
              "      <td>95</td>\n",
              "      <td>389</td>\n",
              "      <td>86</td>\n",
              "      <td>68</td>\n",
              "      <td>72</td>\n",
              "      <td>69</td>\n",
              "      <td>94</td>\n",
              "      <td>347</td>\n",
              "      <td>44</td>\n",
              "      <td>40</td>\n",
              "      <td>93</td>\n",
              "      <td>95</td>\n",
              "      <td>75</td>\n",
              "      <td>96</td>\n",
              "      <td>91</td>\n",
              "      <td>32</td>\n",
              "      <td>35</td>\n",
              "      <td>24</td>\n",
              "      <td>54</td>\n",
              "      <td>6</td>\n",
              "      <td>11</td>\n",
              "      <td>15</td>\n",
              "      <td>14</td>\n",
              "      <td>8</td>\n",
              "      <td>2231</td>\n",
              "      <td>466</td>\n",
              "      <td>4 ★</td>\n",
              "      <td>4★</td>\n",
              "      <td>Medium</td>\n",
              "      <td>Low</td>\n",
              "      <td>5 ★</td>\n",
              "      <td>85</td>\n",
              "      <td>92</td>\n",
              "      <td>91</td>\n",
              "      <td>95</td>\n",
              "      <td>38</td>\n",
              "      <td>65</td>\n",
              "      <td>771</td>\n",
              "    </tr>\n",
              "    <tr>\n",
              "      <th>1</th>\n",
              "      <td>20801</td>\n",
              "      <td>Cristiano Ronaldo</td>\n",
              "      <td>C. Ronaldo dos Santos Aveiro</td>\n",
              "      <td>https://cdn.sofifa.com/players/020/801/21_60.png</td>\n",
              "      <td>http://sofifa.com/player/20801/c-ronaldo-dos-s...</td>\n",
              "      <td>Portugal</td>\n",
              "      <td>35</td>\n",
              "      <td>92</td>\n",
              "      <td>92</td>\n",
              "      <td>\\n\\n\\n\\nJuventus</td>\n",
              "      <td>2018 ~ 2022</td>\n",
              "      <td>ST, LW</td>\n",
              "      <td>187cm</td>\n",
              "      <td>83kg</td>\n",
              "      <td>Right</td>\n",
              "      <td>92</td>\n",
              "      <td>ST</td>\n",
              "      <td>10-Jul-18</td>\n",
              "      <td>NaN</td>\n",
              "      <td>€63M</td>\n",
              "      <td>€220K</td>\n",
              "      <td>€75.9M</td>\n",
              "      <td>437</td>\n",
              "      <td>84</td>\n",
              "      <td>95</td>\n",
              "      <td>90</td>\n",
              "      <td>82</td>\n",
              "      <td>86</td>\n",
              "      <td>414</td>\n",
              "      <td>88</td>\n",
              "      <td>81</td>\n",
              "      <td>76</td>\n",
              "      <td>77</td>\n",
              "      <td>92</td>\n",
              "      <td>431</td>\n",
              "      <td>87</td>\n",
              "      <td>91</td>\n",
              "      <td>87</td>\n",
              "      <td>95</td>\n",
              "      <td>71</td>\n",
              "      <td>444</td>\n",
              "      <td>94</td>\n",
              "      <td>95</td>\n",
              "      <td>84</td>\n",
              "      <td>78</td>\n",
              "      <td>93</td>\n",
              "      <td>353</td>\n",
              "      <td>63</td>\n",
              "      <td>29</td>\n",
              "      <td>95</td>\n",
              "      <td>82</td>\n",
              "      <td>84</td>\n",
              "      <td>95</td>\n",
              "      <td>84</td>\n",
              "      <td>28</td>\n",
              "      <td>32</td>\n",
              "      <td>24</td>\n",
              "      <td>58</td>\n",
              "      <td>7</td>\n",
              "      <td>11</td>\n",
              "      <td>15</td>\n",
              "      <td>14</td>\n",
              "      <td>11</td>\n",
              "      <td>2221</td>\n",
              "      <td>464</td>\n",
              "      <td>4 ★</td>\n",
              "      <td>5★</td>\n",
              "      <td>High</td>\n",
              "      <td>Low</td>\n",
              "      <td>5 ★</td>\n",
              "      <td>89</td>\n",
              "      <td>93</td>\n",
              "      <td>81</td>\n",
              "      <td>89</td>\n",
              "      <td>35</td>\n",
              "      <td>77</td>\n",
              "      <td>562</td>\n",
              "    </tr>\n",
              "    <tr>\n",
              "      <th>2</th>\n",
              "      <td>200389</td>\n",
              "      <td>J. Oblak</td>\n",
              "      <td>Jan Oblak</td>\n",
              "      <td>https://cdn.sofifa.com/players/200/389/21_60.png</td>\n",
              "      <td>http://sofifa.com/player/200389/jan-oblak/210006/</td>\n",
              "      <td>Slovenia</td>\n",
              "      <td>27</td>\n",
              "      <td>91</td>\n",
              "      <td>93</td>\n",
              "      <td>\\n\\n\\n\\nAtlético Madrid</td>\n",
              "      <td>2014 ~ 2023</td>\n",
              "      <td>GK</td>\n",
              "      <td>188cm</td>\n",
              "      <td>87kg</td>\n",
              "      <td>Right</td>\n",
              "      <td>91</td>\n",
              "      <td>GK</td>\n",
              "      <td>16-Jul-14</td>\n",
              "      <td>NaN</td>\n",
              "      <td>€120M</td>\n",
              "      <td>€125K</td>\n",
              "      <td>€159.4M</td>\n",
              "      <td>95</td>\n",
              "      <td>13</td>\n",
              "      <td>11</td>\n",
              "      <td>15</td>\n",
              "      <td>43</td>\n",
              "      <td>13</td>\n",
              "      <td>109</td>\n",
              "      <td>12</td>\n",
              "      <td>13</td>\n",
              "      <td>14</td>\n",
              "      <td>40</td>\n",
              "      <td>30</td>\n",
              "      <td>307</td>\n",
              "      <td>43</td>\n",
              "      <td>60</td>\n",
              "      <td>67</td>\n",
              "      <td>88</td>\n",
              "      <td>49</td>\n",
              "      <td>268</td>\n",
              "      <td>59</td>\n",
              "      <td>78</td>\n",
              "      <td>41</td>\n",
              "      <td>78</td>\n",
              "      <td>12</td>\n",
              "      <td>140</td>\n",
              "      <td>34</td>\n",
              "      <td>19</td>\n",
              "      <td>11</td>\n",
              "      <td>65</td>\n",
              "      <td>11</td>\n",
              "      <td>68</td>\n",
              "      <td>57</td>\n",
              "      <td>27</td>\n",
              "      <td>12</td>\n",
              "      <td>18</td>\n",
              "      <td>437</td>\n",
              "      <td>87</td>\n",
              "      <td>92</td>\n",
              "      <td>78</td>\n",
              "      <td>90</td>\n",
              "      <td>90</td>\n",
              "      <td>1413</td>\n",
              "      <td>489</td>\n",
              "      <td>3 ★</td>\n",
              "      <td>1★</td>\n",
              "      <td>Medium</td>\n",
              "      <td>Medium</td>\n",
              "      <td>3 ★</td>\n",
              "      <td>87</td>\n",
              "      <td>92</td>\n",
              "      <td>78</td>\n",
              "      <td>90</td>\n",
              "      <td>52</td>\n",
              "      <td>90</td>\n",
              "      <td>150</td>\n",
              "    </tr>\n",
              "    <tr>\n",
              "      <th>3</th>\n",
              "      <td>192985</td>\n",
              "      <td>K. De Bruyne</td>\n",
              "      <td>Kevin De Bruyne</td>\n",
              "      <td>https://cdn.sofifa.com/players/192/985/21_60.png</td>\n",
              "      <td>http://sofifa.com/player/192985/kevin-de-bruyn...</td>\n",
              "      <td>Belgium</td>\n",
              "      <td>29</td>\n",
              "      <td>91</td>\n",
              "      <td>91</td>\n",
              "      <td>\\n\\n\\n\\nManchester City</td>\n",
              "      <td>2015 ~ 2023</td>\n",
              "      <td>CAM, CM</td>\n",
              "      <td>181cm</td>\n",
              "      <td>70kg</td>\n",
              "      <td>Right</td>\n",
              "      <td>91</td>\n",
              "      <td>CAM</td>\n",
              "      <td>30-Aug-15</td>\n",
              "      <td>NaN</td>\n",
              "      <td>€129M</td>\n",
              "      <td>€370K</td>\n",
              "      <td>€161M</td>\n",
              "      <td>407</td>\n",
              "      <td>94</td>\n",
              "      <td>82</td>\n",
              "      <td>55</td>\n",
              "      <td>94</td>\n",
              "      <td>82</td>\n",
              "      <td>441</td>\n",
              "      <td>88</td>\n",
              "      <td>85</td>\n",
              "      <td>83</td>\n",
              "      <td>93</td>\n",
              "      <td>92</td>\n",
              "      <td>398</td>\n",
              "      <td>77</td>\n",
              "      <td>76</td>\n",
              "      <td>78</td>\n",
              "      <td>91</td>\n",
              "      <td>76</td>\n",
              "      <td>408</td>\n",
              "      <td>91</td>\n",
              "      <td>63</td>\n",
              "      <td>89</td>\n",
              "      <td>74</td>\n",
              "      <td>91</td>\n",
              "      <td>408</td>\n",
              "      <td>76</td>\n",
              "      <td>66</td>\n",
              "      <td>88</td>\n",
              "      <td>94</td>\n",
              "      <td>84</td>\n",
              "      <td>91</td>\n",
              "      <td>186</td>\n",
              "      <td>68</td>\n",
              "      <td>65</td>\n",
              "      <td>53</td>\n",
              "      <td>56</td>\n",
              "      <td>15</td>\n",
              "      <td>13</td>\n",
              "      <td>5</td>\n",
              "      <td>10</td>\n",
              "      <td>13</td>\n",
              "      <td>2304</td>\n",
              "      <td>485</td>\n",
              "      <td>5 ★</td>\n",
              "      <td>4★</td>\n",
              "      <td>High</td>\n",
              "      <td>High</td>\n",
              "      <td>4 ★</td>\n",
              "      <td>76</td>\n",
              "      <td>86</td>\n",
              "      <td>93</td>\n",
              "      <td>88</td>\n",
              "      <td>64</td>\n",
              "      <td>78</td>\n",
              "      <td>207</td>\n",
              "    </tr>\n",
              "    <tr>\n",
              "      <th>4</th>\n",
              "      <td>190871</td>\n",
              "      <td>Neymar Jr</td>\n",
              "      <td>Neymar da Silva Santos Jr.</td>\n",
              "      <td>https://cdn.sofifa.com/players/190/871/21_60.png</td>\n",
              "      <td>http://sofifa.com/player/190871/neymar-da-silv...</td>\n",
              "      <td>Brazil</td>\n",
              "      <td>28</td>\n",
              "      <td>91</td>\n",
              "      <td>91</td>\n",
              "      <td>\\n\\n\\n\\nParis Saint-Germain</td>\n",
              "      <td>2017 ~ 2022</td>\n",
              "      <td>LW, CAM</td>\n",
              "      <td>175cm</td>\n",
              "      <td>68kg</td>\n",
              "      <td>Right</td>\n",
              "      <td>91</td>\n",
              "      <td>LW</td>\n",
              "      <td>3-Aug-17</td>\n",
              "      <td>NaN</td>\n",
              "      <td>€132M</td>\n",
              "      <td>€270K</td>\n",
              "      <td>€166.5M</td>\n",
              "      <td>408</td>\n",
              "      <td>85</td>\n",
              "      <td>87</td>\n",
              "      <td>62</td>\n",
              "      <td>87</td>\n",
              "      <td>87</td>\n",
              "      <td>448</td>\n",
              "      <td>95</td>\n",
              "      <td>88</td>\n",
              "      <td>89</td>\n",
              "      <td>81</td>\n",
              "      <td>95</td>\n",
              "      <td>453</td>\n",
              "      <td>94</td>\n",
              "      <td>89</td>\n",
              "      <td>96</td>\n",
              "      <td>91</td>\n",
              "      <td>83</td>\n",
              "      <td>357</td>\n",
              "      <td>80</td>\n",
              "      <td>62</td>\n",
              "      <td>81</td>\n",
              "      <td>50</td>\n",
              "      <td>84</td>\n",
              "      <td>356</td>\n",
              "      <td>51</td>\n",
              "      <td>36</td>\n",
              "      <td>87</td>\n",
              "      <td>90</td>\n",
              "      <td>92</td>\n",
              "      <td>93</td>\n",
              "      <td>94</td>\n",
              "      <td>35</td>\n",
              "      <td>30</td>\n",
              "      <td>29</td>\n",
              "      <td>59</td>\n",
              "      <td>9</td>\n",
              "      <td>9</td>\n",
              "      <td>15</td>\n",
              "      <td>15</td>\n",
              "      <td>11</td>\n",
              "      <td>2175</td>\n",
              "      <td>451</td>\n",
              "      <td>5 ★</td>\n",
              "      <td>5★</td>\n",
              "      <td>High</td>\n",
              "      <td>Medium</td>\n",
              "      <td>5 ★</td>\n",
              "      <td>91</td>\n",
              "      <td>85</td>\n",
              "      <td>86</td>\n",
              "      <td>94</td>\n",
              "      <td>36</td>\n",
              "      <td>59</td>\n",
              "      <td>595</td>\n",
              "    </tr>\n",
              "  </tbody>\n",
              "</table>\n",
              "</div>\n",
              "    <div class=\"colab-df-buttons\">\n",
              "\n",
              "  <div class=\"colab-df-container\">\n",
              "    <button class=\"colab-df-convert\" onclick=\"convertToInteractive('df-e27dd7c3-1c60-41a7-b8bf-9e05f53f67dc')\"\n",
              "            title=\"Convert this dataframe to an interactive table.\"\n",
              "            style=\"display:none;\">\n",
              "\n",
              "  <svg xmlns=\"http://www.w3.org/2000/svg\" height=\"24px\" viewBox=\"0 -960 960 960\">\n",
              "    <path d=\"M120-120v-720h720v720H120Zm60-500h600v-160H180v160Zm220 220h160v-160H400v160Zm0 220h160v-160H400v160ZM180-400h160v-160H180v160Zm440 0h160v-160H620v160ZM180-180h160v-160H180v160Zm440 0h160v-160H620v160Z\"/>\n",
              "  </svg>\n",
              "    </button>\n",
              "\n",
              "  <style>\n",
              "    .colab-df-container {\n",
              "      display:flex;\n",
              "      gap: 12px;\n",
              "    }\n",
              "\n",
              "    .colab-df-convert {\n",
              "      background-color: #E8F0FE;\n",
              "      border: none;\n",
              "      border-radius: 50%;\n",
              "      cursor: pointer;\n",
              "      display: none;\n",
              "      fill: #1967D2;\n",
              "      height: 32px;\n",
              "      padding: 0 0 0 0;\n",
              "      width: 32px;\n",
              "    }\n",
              "\n",
              "    .colab-df-convert:hover {\n",
              "      background-color: #E2EBFA;\n",
              "      box-shadow: 0px 1px 2px rgba(60, 64, 67, 0.3), 0px 1px 3px 1px rgba(60, 64, 67, 0.15);\n",
              "      fill: #174EA6;\n",
              "    }\n",
              "\n",
              "    .colab-df-buttons div {\n",
              "      margin-bottom: 4px;\n",
              "    }\n",
              "\n",
              "    [theme=dark] .colab-df-convert {\n",
              "      background-color: #3B4455;\n",
              "      fill: #D2E3FC;\n",
              "    }\n",
              "\n",
              "    [theme=dark] .colab-df-convert:hover {\n",
              "      background-color: #434B5C;\n",
              "      box-shadow: 0px 1px 3px 1px rgba(0, 0, 0, 0.15);\n",
              "      filter: drop-shadow(0px 1px 2px rgba(0, 0, 0, 0.3));\n",
              "      fill: #FFFFFF;\n",
              "    }\n",
              "  </style>\n",
              "\n",
              "    <script>\n",
              "      const buttonEl =\n",
              "        document.querySelector('#df-e27dd7c3-1c60-41a7-b8bf-9e05f53f67dc button.colab-df-convert');\n",
              "      buttonEl.style.display =\n",
              "        google.colab.kernel.accessAllowed ? 'block' : 'none';\n",
              "\n",
              "      async function convertToInteractive(key) {\n",
              "        const element = document.querySelector('#df-e27dd7c3-1c60-41a7-b8bf-9e05f53f67dc');\n",
              "        const dataTable =\n",
              "          await google.colab.kernel.invokeFunction('convertToInteractive',\n",
              "                                                    [key], {});\n",
              "        if (!dataTable) return;\n",
              "\n",
              "        const docLinkHtml = 'Like what you see? Visit the ' +\n",
              "          '<a target=\"_blank\" href=https://colab.research.google.com/notebooks/data_table.ipynb>data table notebook</a>'\n",
              "          + ' to learn more about interactive tables.';\n",
              "        element.innerHTML = '';\n",
              "        dataTable['output_type'] = 'display_data';\n",
              "        await google.colab.output.renderOutput(dataTable, element);\n",
              "        const docLink = document.createElement('div');\n",
              "        docLink.innerHTML = docLinkHtml;\n",
              "        element.appendChild(docLink);\n",
              "      }\n",
              "    </script>\n",
              "  </div>\n",
              "\n",
              "\n",
              "<div id=\"df-2e0c2aac-c47b-47d2-8dcc-80a1efcb6171\">\n",
              "  <button class=\"colab-df-quickchart\" onclick=\"quickchart('df-2e0c2aac-c47b-47d2-8dcc-80a1efcb6171')\"\n",
              "            title=\"Suggest charts\"\n",
              "            style=\"display:none;\">\n",
              "\n",
              "<svg xmlns=\"http://www.w3.org/2000/svg\" height=\"24px\"viewBox=\"0 0 24 24\"\n",
              "     width=\"24px\">\n",
              "    <g>\n",
              "        <path d=\"M19 3H5c-1.1 0-2 .9-2 2v14c0 1.1.9 2 2 2h14c1.1 0 2-.9 2-2V5c0-1.1-.9-2-2-2zM9 17H7v-7h2v7zm4 0h-2V7h2v10zm4 0h-2v-4h2v4z\"/>\n",
              "    </g>\n",
              "</svg>\n",
              "  </button>\n",
              "\n",
              "<style>\n",
              "  .colab-df-quickchart {\n",
              "      --bg-color: #E8F0FE;\n",
              "      --fill-color: #1967D2;\n",
              "      --hover-bg-color: #E2EBFA;\n",
              "      --hover-fill-color: #174EA6;\n",
              "      --disabled-fill-color: #AAA;\n",
              "      --disabled-bg-color: #DDD;\n",
              "  }\n",
              "\n",
              "  [theme=dark] .colab-df-quickchart {\n",
              "      --bg-color: #3B4455;\n",
              "      --fill-color: #D2E3FC;\n",
              "      --hover-bg-color: #434B5C;\n",
              "      --hover-fill-color: #FFFFFF;\n",
              "      --disabled-bg-color: #3B4455;\n",
              "      --disabled-fill-color: #666;\n",
              "  }\n",
              "\n",
              "  .colab-df-quickchart {\n",
              "    background-color: var(--bg-color);\n",
              "    border: none;\n",
              "    border-radius: 50%;\n",
              "    cursor: pointer;\n",
              "    display: none;\n",
              "    fill: var(--fill-color);\n",
              "    height: 32px;\n",
              "    padding: 0;\n",
              "    width: 32px;\n",
              "  }\n",
              "\n",
              "  .colab-df-quickchart:hover {\n",
              "    background-color: var(--hover-bg-color);\n",
              "    box-shadow: 0 1px 2px rgba(60, 64, 67, 0.3), 0 1px 3px 1px rgba(60, 64, 67, 0.15);\n",
              "    fill: var(--button-hover-fill-color);\n",
              "  }\n",
              "\n",
              "  .colab-df-quickchart-complete:disabled,\n",
              "  .colab-df-quickchart-complete:disabled:hover {\n",
              "    background-color: var(--disabled-bg-color);\n",
              "    fill: var(--disabled-fill-color);\n",
              "    box-shadow: none;\n",
              "  }\n",
              "\n",
              "  .colab-df-spinner {\n",
              "    border: 2px solid var(--fill-color);\n",
              "    border-color: transparent;\n",
              "    border-bottom-color: var(--fill-color);\n",
              "    animation:\n",
              "      spin 1s steps(1) infinite;\n",
              "  }\n",
              "\n",
              "  @keyframes spin {\n",
              "    0% {\n",
              "      border-color: transparent;\n",
              "      border-bottom-color: var(--fill-color);\n",
              "      border-left-color: var(--fill-color);\n",
              "    }\n",
              "    20% {\n",
              "      border-color: transparent;\n",
              "      border-left-color: var(--fill-color);\n",
              "      border-top-color: var(--fill-color);\n",
              "    }\n",
              "    30% {\n",
              "      border-color: transparent;\n",
              "      border-left-color: var(--fill-color);\n",
              "      border-top-color: var(--fill-color);\n",
              "      border-right-color: var(--fill-color);\n",
              "    }\n",
              "    40% {\n",
              "      border-color: transparent;\n",
              "      border-right-color: var(--fill-color);\n",
              "      border-top-color: var(--fill-color);\n",
              "    }\n",
              "    60% {\n",
              "      border-color: transparent;\n",
              "      border-right-color: var(--fill-color);\n",
              "    }\n",
              "    80% {\n",
              "      border-color: transparent;\n",
              "      border-right-color: var(--fill-color);\n",
              "      border-bottom-color: var(--fill-color);\n",
              "    }\n",
              "    90% {\n",
              "      border-color: transparent;\n",
              "      border-bottom-color: var(--fill-color);\n",
              "    }\n",
              "  }\n",
              "</style>\n",
              "\n",
              "  <script>\n",
              "    async function quickchart(key) {\n",
              "      const quickchartButtonEl =\n",
              "        document.querySelector('#' + key + ' button');\n",
              "      quickchartButtonEl.disabled = true;  // To prevent multiple clicks.\n",
              "      quickchartButtonEl.classList.add('colab-df-spinner');\n",
              "      try {\n",
              "        const charts = await google.colab.kernel.invokeFunction(\n",
              "            'suggestCharts', [key], {});\n",
              "      } catch (error) {\n",
              "        console.error('Error during call to suggestCharts:', error);\n",
              "      }\n",
              "      quickchartButtonEl.classList.remove('colab-df-spinner');\n",
              "      quickchartButtonEl.classList.add('colab-df-quickchart-complete');\n",
              "    }\n",
              "    (() => {\n",
              "      let quickchartButtonEl =\n",
              "        document.querySelector('#df-2e0c2aac-c47b-47d2-8dcc-80a1efcb6171 button');\n",
              "      quickchartButtonEl.style.display =\n",
              "        google.colab.kernel.accessAllowed ? 'block' : 'none';\n",
              "    })();\n",
              "  </script>\n",
              "</div>\n",
              "\n",
              "    </div>\n",
              "  </div>\n"
            ]
          },
          "metadata": {},
          "execution_count": 9
        }
      ]
    },
    {
      "cell_type": "markdown",
      "source": [
        "****Data cleaning****\n"
      ],
      "metadata": {
        "id": "4RJKRvm7h-fM"
      }
    },
    {
      "cell_type": "code",
      "source": [
        "df.ID"
      ],
      "metadata": {
        "colab": {
          "base_uri": "https://localhost:8080/"
        },
        "id": "L0r0VBYTuAjz",
        "outputId": "6be131e6-6e17-4099-d950-0aaa3769ab36"
      },
      "execution_count": 10,
      "outputs": [
        {
          "output_type": "execute_result",
          "data": {
            "text/plain": [
              "0        158023\n",
              "1         20801\n",
              "2        200389\n",
              "3        192985\n",
              "4        190871\n",
              "          ...  \n",
              "18974    247223\n",
              "18975    258760\n",
              "18976    252757\n",
              "18977    243790\n",
              "18978    252520\n",
              "Name: ID, Length: 18979, dtype: int64"
            ]
          },
          "metadata": {},
          "execution_count": 10
        }
      ]
    },
    {
      "cell_type": "markdown",
      "source": [
        "**IDs of player**"
      ],
      "metadata": {
        "id": "LD8qdfQBwGNG"
      }
    },
    {
      "cell_type": "code",
      "source": [
        "df1['ID'].dtype"
      ],
      "metadata": {
        "colab": {
          "base_uri": "https://localhost:8080/"
        },
        "id": "bujuaFSEuXlq",
        "outputId": "68d16222-6acb-43f0-da5a-500b3b8353ce"
      },
      "execution_count": 11,
      "outputs": [
        {
          "output_type": "execute_result",
          "data": {
            "text/plain": [
              "dtype('int64')"
            ]
          },
          "metadata": {},
          "execution_count": 11
        }
      ]
    },
    {
      "cell_type": "code",
      "source": [
        "df1['ID'].unique()"
      ],
      "metadata": {
        "colab": {
          "base_uri": "https://localhost:8080/"
        },
        "id": "HxwJnr3bvNAT",
        "outputId": "b745c708-2f7d-4f4a-f23c-9825a0fba066"
      },
      "execution_count": 12,
      "outputs": [
        {
          "output_type": "execute_result",
          "data": {
            "text/plain": [
              "array([158023,  20801, 200389, ..., 252757, 243790, 252520])"
            ]
          },
          "metadata": {},
          "execution_count": 12
        }
      ]
    },
    {
      "cell_type": "markdown",
      "source": [
        "**A/W**"
      ],
      "metadata": {
        "id": "KxCpWk04wlwv"
      }
    },
    {
      "cell_type": "code",
      "source": [
        "df1['A/W'].dtype"
      ],
      "metadata": {
        "colab": {
          "base_uri": "https://localhost:8080/"
        },
        "id": "HJqI0mixwBfM",
        "outputId": "0a2d67aa-bb05-40e9-f191-4d142f7ea161"
      },
      "execution_count": 13,
      "outputs": [
        {
          "output_type": "execute_result",
          "data": {
            "text/plain": [
              "dtype('O')"
            ]
          },
          "metadata": {},
          "execution_count": 13
        }
      ]
    },
    {
      "cell_type": "code",
      "source": [
        "df1['A/W'].unique()"
      ],
      "metadata": {
        "colab": {
          "base_uri": "https://localhost:8080/"
        },
        "id": "nC4ESGjLwh7F",
        "outputId": "fcfd0ebb-c4ac-4515-c391-6c06f0e2442f"
      },
      "execution_count": 14,
      "outputs": [
        {
          "output_type": "execute_result",
          "data": {
            "text/plain": [
              "array(['Medium', 'High', 'Low'], dtype=object)"
            ]
          },
          "metadata": {},
          "execution_count": 14
        }
      ]
    },
    {
      "cell_type": "code",
      "source": [
        "df1['Acceleration'].dtype"
      ],
      "metadata": {
        "colab": {
          "base_uri": "https://localhost:8080/"
        },
        "id": "1cnzW1DWxKRr",
        "outputId": "26b25e19-f9a4-488b-b0b4-96d7d6ef07f0"
      },
      "execution_count": 15,
      "outputs": [
        {
          "output_type": "execute_result",
          "data": {
            "text/plain": [
              "dtype('int64')"
            ]
          },
          "metadata": {},
          "execution_count": 15
        }
      ]
    },
    {
      "cell_type": "code",
      "source": [
        "df1['Acceleration'].unique()"
      ],
      "metadata": {
        "colab": {
          "base_uri": "https://localhost:8080/"
        },
        "id": "SXaSHdqpxV79",
        "outputId": "bbb6efec-b04c-4ddf-d3e0-b5f51e3ff97f"
      },
      "execution_count": 16,
      "outputs": [
        {
          "output_type": "execute_result",
          "data": {
            "text/plain": [
              "array([91, 87, 43, 77, 94, 56, 96, 38, 72, 95, 60, 42, 54, 79, 89, 64, 66,\n",
              "       51, 73, 57, 80, 86, 85, 78, 40, 82, 76, 65, 68, 90, 48, 46, 88, 70,\n",
              "       83, 84, 93, 52, 74, 92, 55, 58, 59, 67, 81, 62, 44, 71, 69, 50, 53,\n",
              "       45, 49, 75, 41, 61, 63, 35, 47, 34, 36, 37, 39, 30, 97, 31, 33, 32,\n",
              "       27, 28, 26, 29, 25, 17, 19, 24, 15, 23, 21, 20, 22, 16, 18, 13, 14])"
            ]
          },
          "metadata": {},
          "execution_count": 16
        }
      ]
    },
    {
      "cell_type": "code",
      "source": [
        "df1['Age'].dtype"
      ],
      "metadata": {
        "colab": {
          "base_uri": "https://localhost:8080/"
        },
        "id": "qTMA6rK_xhjV",
        "outputId": "5c76e9b5-bc65-49dd-f6cb-e9bca8882986"
      },
      "execution_count": 17,
      "outputs": [
        {
          "output_type": "execute_result",
          "data": {
            "text/plain": [
              "dtype('int64')"
            ]
          },
          "metadata": {},
          "execution_count": 17
        }
      ]
    },
    {
      "cell_type": "code",
      "source": [
        "df1['Age'].unique()"
      ],
      "metadata": {
        "colab": {
          "base_uri": "https://localhost:8080/"
        },
        "id": "IRvL4wsoxt5M",
        "outputId": "1a96757b-45ba-462f-f60d-a08dbd893ac6"
      },
      "execution_count": 18,
      "outputs": [
        {
          "output_type": "execute_result",
          "data": {
            "text/plain": [
              "array([33, 35, 27, 29, 28, 31, 21, 34, 32, 25, 26, 30, 20, 24, 22, 23, 19,\n",
              "       38, 42, 36, 37, 18, 17, 39, 40, 41, 16, 43, 53])"
            ]
          },
          "metadata": {},
          "execution_count": 18
        }
      ]
    },
    {
      "cell_type": "code",
      "source": [
        "df1['Aggression'].dtype"
      ],
      "metadata": {
        "colab": {
          "base_uri": "https://localhost:8080/"
        },
        "id": "TpX8_Oebxw1K",
        "outputId": "f10cfa2e-6a33-490e-f7a4-57edfccf2e21"
      },
      "execution_count": 19,
      "outputs": [
        {
          "output_type": "execute_result",
          "data": {
            "text/plain": [
              "dtype('int64')"
            ]
          },
          "metadata": {},
          "execution_count": 19
        }
      ]
    },
    {
      "cell_type": "code",
      "source": [
        "df1['Aggression'].unique()"
      ],
      "metadata": {
        "colab": {
          "base_uri": "https://localhost:8080/"
        },
        "id": "ygGVsjr8x7Z7",
        "outputId": "b1166910-2e39-4e5d-e957-dc4c9cd3acaf"
      },
      "execution_count": 20,
      "outputs": [
        {
          "output_type": "execute_result",
          "data": {
            "text/plain": [
              "array([44, 63, 34, 76, 51, 81, 27, 62, 43, 83, 75, 91, 23, 29, 90, 65, 59,\n",
              "       89, 48, 38, 25, 87, 54, 60, 73, 74, 69, 85, 70, 86, 32, 40, 31, 77,\n",
              "       84, 80, 78, 79, 71, 56, 42, 30, 61, 58, 28, 82, 46, 52, 36, 92, 55,\n",
              "       35, 67, 37, 72, 57, 50, 64, 39, 47, 20, 68, 15, 66, 33, 93, 88, 22,\n",
              "       24, 45, 17, 18, 26, 21, 11, 41, 53, 19, 12, 49, 94, 16, 95, 13, 14,\n",
              "       96, 10,  9])"
            ]
          },
          "metadata": {},
          "execution_count": 20
        }
      ]
    },
    {
      "cell_type": "code",
      "source": [
        "df1['Agility'].dtype"
      ],
      "metadata": {
        "colab": {
          "base_uri": "https://localhost:8080/"
        },
        "id": "WZrqqJY9yFAD",
        "outputId": "ccf10ad6-0a89-43b4-cb21-77d0eef7c10a"
      },
      "execution_count": 21,
      "outputs": [
        {
          "output_type": "execute_result",
          "data": {
            "text/plain": [
              "dtype('int64')"
            ]
          },
          "metadata": {},
          "execution_count": 21
        }
      ]
    },
    {
      "cell_type": "code",
      "source": [
        "df1['Agility'].unique()"
      ],
      "metadata": {
        "colab": {
          "base_uri": "https://localhost:8080/"
        },
        "id": "BFJ1btusyWUF",
        "outputId": "10fc9d90-b938-4b30-e009-db0ccb3b3211"
      },
      "execution_count": 22,
      "outputs": [
        {
          "output_type": "execute_result",
          "data": {
            "text/plain": [
              "array([91, 87, 67, 78, 96, 77, 40, 92, 37, 61, 93, 51, 79, 84, 94, 82, 60,\n",
              "       69, 47, 52, 63, 74, 59, 66, 86, 85, 57, 55, 76, 75, 73, 62, 72, 90,\n",
              "       68, 64, 80, 56, 48, 83, 41, 81, 54, 88, 33, 65, 49, 71, 89, 45, 70,\n",
              "       43, 50, 32, 42, 39, 58, 36, 34, 53, 46, 95, 44, 38, 21, 29, 35, 31,\n",
              "       19, 26, 30, 22, 28, 24, 25, 23, 27, 14, 18, 15, 20])"
            ]
          },
          "metadata": {},
          "execution_count": 22
        }
      ]
    },
    {
      "cell_type": "code",
      "source": [
        "df1['Attacking'].dtype"
      ],
      "metadata": {
        "colab": {
          "base_uri": "https://localhost:8080/"
        },
        "id": "Gt1A7EJeyZr6",
        "outputId": "6773c2ba-b809-4063-d693-a8f6d1b0f714"
      },
      "execution_count": 23,
      "outputs": [
        {
          "output_type": "execute_result",
          "data": {
            "text/plain": [
              "dtype('int64')"
            ]
          },
          "metadata": {},
          "execution_count": 23
        }
      ]
    },
    {
      "cell_type": "code",
      "source": [
        "df1['Attacking'].unique()"
      ],
      "metadata": {
        "colab": {
          "base_uri": "https://localhost:8080/"
        },
        "id": "X2HyHwvCyxVq",
        "outputId": "ec682c9b-f6d9-4f0b-9992-91e202cc45b7"
      },
      "execution_count": 24,
      "outputs": [
        {
          "output_type": "execute_result",
          "data": {
            "text/plain": [
              "array([429, 437,  95, 407, 408, 423, 392, 114, 118, 316, 410, 349,  86,\n",
              "       119, 426, 374, 411, 360, 328, 383, 405, 123, 420, 224, 388, 397,\n",
              "       425, 373, 365, 371, 311, 396, 345, 399, 400,  78, 280, 330, 403,\n",
              "       379, 380,  94, 394, 419, 339, 293, 344, 390,  84, 359, 372, 377,\n",
              "       346, 389, 386, 308, 277, 382, 368, 402, 292, 298, 366, 352, 363,\n",
              "       322, 361,  91, 364, 341, 385, 355, 305, 321, 262,  93, 375, 387,\n",
              "       356, 253, 285, 391, 353, 367,  90, 295, 378, 256, 338, 331,  69,\n",
              "       105,  85, 358, 343, 319, 271, 113, 350, 406, 340, 393, 247, 334,\n",
              "       351, 342, 302, 329, 354,  98, 301, 115, 384, 208,  72, 376,  92,\n",
              "       258, 362,  74, 417,  99, 263,  88, 279, 101, 395, 100,  81,  87,\n",
              "        55, 310,  82, 117, 409, 318, 323, 248, 315, 381, 348, 327, 309,\n",
              "       130, 283, 336, 369, 106, 252, 320, 290, 370, 126, 251, 108, 335,\n",
              "       297, 284,  80,  75, 357, 270,  97, 306, 337,  73, 286, 325, 326,\n",
              "       324, 333, 103, 259, 273, 313, 296,  61, 312, 347, 401, 304, 278,\n",
              "        83,  43, 314, 291, 264, 272, 317, 231, 250, 268,  54, 261, 255,\n",
              "        70, 281, 265, 299, 287,  68, 294,  77, 219, 300, 269, 332, 289,\n",
              "       288, 107, 282, 122, 244,  89, 112, 274, 276, 307, 229,  96, 109,\n",
              "        76, 125, 102, 239, 227, 241, 257, 254, 228, 233, 124, 215, 246,\n",
              "       110, 245, 214, 242, 266, 104,  66, 303, 260,  63, 230, 275,  50,\n",
              "       238, 249, 111,  67, 240, 221, 237,  56, 235, 234, 243, 267, 232,\n",
              "       203, 223,  64, 213, 222, 226, 225, 211, 207,  52, 173,  57, 217,\n",
              "       236,  71, 204, 216, 199,  59, 189,  60, 194, 116, 205, 201, 193,\n",
              "        65, 192, 209, 218, 128, 210,  79,  45, 206, 162, 220,  49, 197,\n",
              "       202, 212,  58, 190, 181,  51,  62, 200, 198, 195, 191, 131, 185,\n",
              "        42, 180, 182, 196, 188, 169, 187, 178,  53, 183, 184, 186, 165,\n",
              "       172,  47, 171, 176, 159,  46, 179, 175, 167, 174, 161, 170, 177,\n",
              "       164, 134, 168, 163, 166, 158, 150, 143,  48, 152, 160, 148, 151,\n",
              "       157, 154, 141, 146, 147, 149, 156, 153, 138, 145, 142, 139, 155,\n",
              "       144, 136, 137])"
            ]
          },
          "metadata": {},
          "execution_count": 24
        }
      ]
    },
    {
      "cell_type": "code",
      "source": [
        "df1['BOV'].dtype"
      ],
      "metadata": {
        "colab": {
          "base_uri": "https://localhost:8080/"
        },
        "id": "hNP8chDVy1Oz",
        "outputId": "da3b7c84-20cd-47cb-b85d-81172a1d73fc"
      },
      "execution_count": 25,
      "outputs": [
        {
          "output_type": "execute_result",
          "data": {
            "text/plain": [
              "dtype('int64')"
            ]
          },
          "metadata": {},
          "execution_count": 25
        }
      ]
    },
    {
      "cell_type": "code",
      "source": [
        "df1['BOV'].unique()"
      ],
      "metadata": {
        "colab": {
          "base_uri": "https://localhost:8080/"
        },
        "id": "6qw5ZE6ry7V8",
        "outputId": "9d6c604e-839b-41ec-aaa3-04a21348b0eb"
      },
      "execution_count": 26,
      "outputs": [
        {
          "output_type": "execute_result",
          "data": {
            "text/plain": [
              "array([93, 92, 91, 90, 89, 88, 87, 86, 85, 84, 83, 82, 81, 80, 79, 78, 77,\n",
              "       76, 75, 74, 73, 72, 71, 70, 69, 68, 67, 66, 65, 64, 63, 62, 61, 60,\n",
              "       59, 58, 57, 56, 55, 54, 53, 52, 51, 50, 49, 48])"
            ]
          },
          "metadata": {},
          "execution_count": 26
        }
      ]
    },
    {
      "cell_type": "code",
      "source": [
        "df1['Balance'].dtype"
      ],
      "metadata": {
        "colab": {
          "base_uri": "https://localhost:8080/"
        },
        "id": "wDZDSIRTy-Et",
        "outputId": "8b8c2146-7fbd-4b0a-d564-0fd9244d6670"
      },
      "execution_count": 27,
      "outputs": [
        {
          "output_type": "execute_result",
          "data": {
            "text/plain": [
              "dtype('int64')"
            ]
          },
          "metadata": {},
          "execution_count": 27
        }
      ]
    },
    {
      "cell_type": "code",
      "source": [
        "df1['Balance'].unique()"
      ],
      "metadata": {
        "colab": {
          "base_uri": "https://localhost:8080/"
        },
        "id": "lQSRD1jpzD1K",
        "outputId": "8c55fa9e-a9a7-45ab-88a5-bfac075853c1"
      },
      "execution_count": 28,
      "outputs": [
        {
          "output_type": "execute_result",
          "data": {
            "text/plain": [
              "array([95, 71, 49, 76, 83, 82, 91, 37, 43, 53, 86, 66, 45, 35, 69, 94, 92,\n",
              "       84, 90, 48, 73, 36, 41, 93, 74, 60, 79, 65, 78, 61, 57, 50, 68, 51,\n",
              "       54, 77, 81, 39, 75, 58, 87, 85, 63, 38, 88, 67, 72, 62, 80, 44, 46,\n",
              "       42, 55, 40, 70, 32, 89, 52, 59, 47, 64, 27, 56, 30, 31, 25, 34, 29,\n",
              "       24, 96, 33, 28, 20, 23, 22, 26, 21, 17, 97, 19, 12, 18])"
            ]
          },
          "metadata": {},
          "execution_count": 28
        }
      ]
    },
    {
      "cell_type": "code",
      "source": [
        "df1['Ball Control'].dtype"
      ],
      "metadata": {
        "colab": {
          "base_uri": "https://localhost:8080/"
        },
        "id": "4oV-XEEMzM11",
        "outputId": "3a78dac9-e2bd-47a5-f499-7436885a54dc"
      },
      "execution_count": 29,
      "outputs": [
        {
          "output_type": "execute_result",
          "data": {
            "text/plain": [
              "dtype('int64')"
            ]
          },
          "metadata": {},
          "execution_count": 29
        }
      ]
    },
    {
      "cell_type": "code",
      "source": [
        "df1['Ball Control'].unique()"
      ],
      "metadata": {
        "colab": {
          "base_uri": "https://localhost:8080/"
        },
        "id": "WTRycIfJzV_L",
        "outputId": "5fc76029-363f-46cd-cdea-f156c9fa70be"
      },
      "execution_count": 30,
      "outputs": [
        {
          "output_type": "execute_result",
          "data": {
            "text/plain": [
              "array([96, 92, 30, 95, 88, 89, 90, 77, 79, 23, 46, 83, 80, 85, 94, 40, 84,\n",
              "       16, 74, 91, 87, 82, 78, 19, 61, 22, 34, 38, 81, 25, 86, 76, 69, 28,\n",
              "       93, 75, 35, 60, 63, 73, 18, 71, 15, 21, 72, 14, 65, 20, 24, 27, 70,\n",
              "       33, 17, 62, 64,  9, 68, 67, 32, 26, 66, 52, 11, 57, 58, 29, 12, 37,\n",
              "       10, 36, 13, 31, 55, 59, 39, 54, 56, 48, 44, 51, 50, 47, 49, 53,  5,\n",
              "       42,  8, 45, 43, 41,  7])"
            ]
          },
          "metadata": {},
          "execution_count": 30
        }
      ]
    },
    {
      "cell_type": "code",
      "source": [
        "df1['Base Stats'].dtype"
      ],
      "metadata": {
        "colab": {
          "base_uri": "https://localhost:8080/"
        },
        "id": "8FT8yrqFzYpr",
        "outputId": "9351a183-b6bc-4bb7-e672-35f86280072b"
      },
      "execution_count": 31,
      "outputs": [
        {
          "output_type": "execute_result",
          "data": {
            "text/plain": [
              "dtype('int64')"
            ]
          },
          "metadata": {},
          "execution_count": 31
        }
      ]
    },
    {
      "cell_type": "code",
      "source": [
        "df1['Base Stats'].unique()"
      ],
      "metadata": {
        "colab": {
          "base_uri": "https://localhost:8080/"
        },
        "id": "RH5-YGwezgXb",
        "outputId": "9e57856b-5ab4-42f5-a008-6388ff6d3758"
      },
      "execution_count": 32,
      "outputs": [
        {
          "output_type": "execute_result",
          "data": {
            "text/plain": [
              "array([466, 464, 489, 485, 451, 457, 470, 490, 484, 455, 469, 463, 468,\n",
              "       497, 442, 439, 473, 452, 498, 449, 477, 401, 446, 447, 465, 430,\n",
              "       461, 422, 476, 460, 453, 467, 471, 399, 424, 441, 459, 438, 437,\n",
              "       454, 428, 445, 431, 474, 421, 435, 448, 475, 403, 444, 443, 419,\n",
              "       405, 420, 423, 396, 388, 482, 478, 385, 394, 480, 433, 450, 462,\n",
              "       456, 436, 434, 429, 400, 440, 425, 410, 458, 398, 413, 373, 406,\n",
              "       408, 472, 426, 407, 432, 427, 415, 481, 417, 372, 380, 418, 383,\n",
              "       414, 409, 412, 411, 386, 362, 402, 390, 404, 391, 416, 375, 389,\n",
              "       361, 397, 366, 392, 393, 382, 368, 387, 352, 376, 384, 378, 379,\n",
              "       341, 354, 369, 395, 357, 381, 377, 344, 360, 370, 338, 333, 367,\n",
              "       363, 349, 355, 345, 358, 348, 374, 351, 343, 342, 353, 321, 350,\n",
              "       365, 364, 371, 327, 331, 359, 347, 356, 339, 319, 317, 335, 346,\n",
              "       329, 315, 324, 322, 325, 332, 336, 337, 330, 316, 313, 306, 307,\n",
              "       328, 310, 340, 308, 318, 334, 301, 289, 302, 320, 323, 326, 311,\n",
              "       297, 314, 304, 292, 305, 312, 294, 287, 300, 299, 285, 303, 288,\n",
              "       278, 296, 277, 309, 291, 283, 286, 293, 295, 298, 276, 282, 272,\n",
              "       284, 290, 271, 275, 279, 281, 262, 263, 280, 268, 270, 269, 264,\n",
              "       273, 265, 252, 267, 257, 274, 266, 259, 247, 261, 251, 233, 239,\n",
              "       253, 258, 254, 260, 244, 240, 255, 256, 250, 238, 243, 249, 248,\n",
              "       245, 241, 232])"
            ]
          },
          "metadata": {},
          "execution_count": 32
        }
      ]
    },
    {
      "cell_type": "code",
      "source": [
        "df1['Best Position'].dtype"
      ],
      "metadata": {
        "colab": {
          "base_uri": "https://localhost:8080/"
        },
        "id": "4MoLk9C7zlXt",
        "outputId": "94dae11a-a1e1-457c-d324-755013a37599"
      },
      "execution_count": 33,
      "outputs": [
        {
          "output_type": "execute_result",
          "data": {
            "text/plain": [
              "dtype('O')"
            ]
          },
          "metadata": {},
          "execution_count": 33
        }
      ]
    },
    {
      "cell_type": "code",
      "source": [
        "df1['Best Position'].unique()"
      ],
      "metadata": {
        "colab": {
          "base_uri": "https://localhost:8080/"
        },
        "id": "aG4ik7o3zyM6",
        "outputId": "525fe219-d9e8-4967-c022-e6c77686f039"
      },
      "execution_count": 34,
      "outputs": [
        {
          "output_type": "execute_result",
          "data": {
            "text/plain": [
              "array(['RW', 'ST', 'GK', 'CAM', 'LW', 'CB', 'CDM', 'CF', 'CM', 'RB', 'LB',\n",
              "       'LM', 'RM', 'LWB', 'RWB'], dtype=object)"
            ]
          },
          "metadata": {},
          "execution_count": 34
        }
      ]
    },
    {
      "cell_type": "code",
      "source": [
        "df1['Club'].dtype"
      ],
      "metadata": {
        "colab": {
          "base_uri": "https://localhost:8080/"
        },
        "id": "RTvd2QQMz1uO",
        "outputId": "53f62829-6d3c-4a5c-e866-03d11b8a271e"
      },
      "execution_count": 35,
      "outputs": [
        {
          "output_type": "execute_result",
          "data": {
            "text/plain": [
              "dtype('O')"
            ]
          },
          "metadata": {},
          "execution_count": 35
        }
      ]
    },
    {
      "cell_type": "code",
      "source": [
        "df1['Club'].unique()"
      ],
      "metadata": {
        "colab": {
          "base_uri": "https://localhost:8080/"
        },
        "id": "2Q653iw0z8UL",
        "outputId": "b2d48438-352d-4268-afef-f6f0db05d18e"
      },
      "execution_count": 36,
      "outputs": [
        {
          "output_type": "execute_result",
          "data": {
            "text/plain": [
              "array(['\\n\\n\\n\\nFC Barcelona', '\\n\\n\\n\\nJuventus',\n",
              "       '\\n\\n\\n\\nAtlético Madrid', '\\n\\n\\n\\nManchester City',\n",
              "       '\\n\\n\\n\\nParis Saint-Germain', '\\n\\n\\n\\nFC Bayern München',\n",
              "       '\\n\\n\\n\\nLiverpool', '\\n\\n\\n\\nReal Madrid', '\\n\\n\\n\\nChelsea',\n",
              "       '\\n\\n\\n\\nTottenham Hotspur', '\\n\\n\\n\\nInter', '\\n\\n\\n\\nNapoli',\n",
              "       '\\n\\n\\n\\nBorussia Dortmund', '\\n\\n\\n\\nManchester United',\n",
              "       '\\n\\n\\n\\nArsenal', '\\n\\n\\n\\nLazio', '\\n\\n\\n\\nLeicester City',\n",
              "       '\\n\\n\\n\\nBorussia Mönchengladbach', '\\n\\n\\n\\nReal Sociedad',\n",
              "       '\\n\\n\\n\\nAtalanta', '\\n\\n\\n\\nOlympique Lyonnais', '\\n\\n\\n\\nMilan',\n",
              "       '\\n\\n\\n\\nVillarreal CF', '\\n\\n\\n\\nRB Leipzig', '\\n\\n\\n\\nCagliari',\n",
              "       '\\n\\n\\n\\nAjax', '\\n\\n\\n\\nSL Benfica', '\\n\\n\\n\\nAS Monaco',\n",
              "       '\\n\\n\\n\\nWolverhampton Wanderers', '\\n\\n\\n\\nEverton',\n",
              "       '\\n\\n\\n\\nFiorentina', '\\n\\n\\n\\nFC Porto', '\\n\\n\\n\\nRC Celta',\n",
              "       '\\n\\n\\n\\nTorino', '\\n\\n\\n\\nSevilla FC', '\\n\\n\\n\\nGrêmio',\n",
              "       '\\n\\n\\n\\nReal Betis', '\\n\\n\\n\\nRoma', '\\n\\n\\n\\nNewcastle United',\n",
              "       '\\n\\n\\n\\nEintracht Frankfurt', '\\n\\n\\n\\nValencia CF',\n",
              "       '\\n\\n\\n\\nMedipol Başakşehir FK', '\\n\\n\\n\\nInter Miami',\n",
              "       '\\n\\n\\n\\nBayer 04 Leverkusen', '\\n\\n\\n\\nLevante UD',\n",
              "       '\\n\\n\\n\\nCrystal Palace', '\\n\\n\\n\\nAthletic Club de Bilbao',\n",
              "       '\\n\\n\\n\\nShanghai SIPG FC', '\\n\\n\\n\\nVfL Wolfsburg',\n",
              "       '\\n\\n\\n\\nGuangzhou Evergrande Taobao FC', '\\n\\n\\n\\nAl Shabab',\n",
              "       '\\n\\n\\n\\nOlympique de Marseille', '\\n\\n\\n\\nLos Angeles FC',\n",
              "       '\\n\\n\\n\\nBeijing Sinobo Guoan FC', '\\n\\n\\n\\nGetafe CF',\n",
              "       '\\n\\n\\n\\nSV Werder Bremen', '\\n\\n\\n\\nTSG 1899 Hoffenheim',\n",
              "       '\\n\\n\\n\\nLOSC Lille', '\\n\\n\\n\\nDeportivo Alavés',\n",
              "       '\\n\\n\\n\\nBurnley', '\\n\\n\\n\\nLeeds United', '\\n\\n\\n\\nFulham',\n",
              "       '\\n\\n\\n\\nPFC CSKA Moscow', '\\n\\n\\n\\nGenoa',\n",
              "       '\\n\\n\\n\\nGalatasaray SK', '\\n\\n\\n\\nAtlanta United',\n",
              "       '\\n\\n\\n\\nAtlético Mineiro', '\\n\\n\\n\\nFlamengo',\n",
              "       '\\n\\n\\n\\nPalmeiras', 'No Club', '\\n\\n\\n\\nSão Paulo',\n",
              "       '\\n\\n\\n\\nWest Ham United', '\\n\\n\\n\\nSD Eibar',\n",
              "       '\\n\\n\\n\\nRiver Plate', '\\n\\n\\n\\nOGC Nice',\n",
              "       '\\n\\n\\n\\nReal Valladolid CF', '\\n\\n\\n\\nSporting CP', '\\n\\n\\n\\nPSV',\n",
              "       '\\n\\n\\n\\nFeyenoord', '\\n\\n\\n\\nClub Brugge KV',\n",
              "       '\\n\\n\\n\\nShakhtar Donetsk', '\\n\\n\\n\\nVissel Kobe',\n",
              "       '\\n\\n\\n\\nBoca Juniors', '\\n\\n\\n\\n1. FC Union Berlin',\n",
              "       '\\n\\n\\n\\nDalian YiFang FC', '\\n\\n\\n\\nAS Saint-Étienne',\n",
              "       '\\n\\n\\n\\nSassuolo', '\\n\\n\\n\\nTigres U.A.N.L.',\n",
              "       '\\n\\n\\n\\nDinamo Zagreb', '\\n\\n\\n\\nDynamo Kyiv',\n",
              "       '\\n\\n\\n\\nFluminense', '\\n\\n\\n\\nUdinese', '\\n\\n\\n\\nAston Villa',\n",
              "       '\\n\\n\\n\\nStade Rennais FC', '\\n\\n\\n\\nBeşiktaş JK',\n",
              "       '\\n\\n\\n\\nBrighton & Hove Albion', '\\n\\n\\n\\nHebei China Fortune FC',\n",
              "       '\\n\\n\\n\\nSouthampton', '\\n\\n\\n\\nLokomotiv Moscow',\n",
              "       '\\n\\n\\n\\nJiangsu Suning FC', '\\n\\n\\n\\nAl Hilal',\n",
              "       '\\n\\n\\n\\nWest Bromwich Albion', '\\n\\n\\n\\nFenerbahçe SK',\n",
              "       '\\n\\n\\n\\nFC Groningen', '\\n\\n\\n\\nGuangzhou R&F FC',\n",
              "       '\\n\\n\\n\\nOrlando City SC', '\\n\\n\\n\\nSampdoria',\n",
              "       '\\n\\n\\n\\nStade de Reims', '\\n\\n\\n\\nSheffield United',\n",
              "       '\\n\\n\\n\\nSantos', '\\n\\n\\n\\nInternacional', '\\n\\n\\n\\nCoritiba',\n",
              "       '\\n\\n\\n\\nCA Osasuna', '\\n\\n\\n\\nLA Galaxy', '\\n\\n\\n\\nAl Nassr',\n",
              "       '\\n\\n\\n\\nSC Freiburg', '\\n\\n\\n\\nSC Braga',\n",
              "       '\\n\\n\\n\\nOlympiacos CFP', '\\n\\n\\n\\nToronto FC',\n",
              "       '\\n\\n\\n\\nGranada CF', '\\n\\n\\n\\nFC Schalke 04',\n",
              "       '\\n\\n\\n\\nRC Strasbourg Alsace', '\\n\\n\\n\\nHertha BSC',\n",
              "       '\\n\\n\\n\\nAZ Alkmaar', '\\n\\n\\n\\nSeattle Sounders FC',\n",
              "       '\\n\\n\\n\\nMontpellier HSC', '\\n\\n\\n\\nShanghai Greenland Shenhua FC',\n",
              "       '\\n\\n\\n\\nHamburger SV', '\\n\\n\\n\\nGirona FC', '\\n\\n\\n\\nRacing Club',\n",
              "       '\\n\\n\\n\\nPortland Timbers', '\\n\\n\\n\\nFC Girondins de Bordeaux',\n",
              "       '\\n\\n\\n\\nWatford', '\\n\\n\\n\\nEstudiantes de La Plata',\n",
              "       '\\n\\n\\n\\nClub América', '\\n\\n\\n\\nVitória Guimarães',\n",
              "       '\\n\\n\\n\\nSK Slavia Praha', '\\n\\n\\n\\nTrabzonspor',\n",
              "       '\\n\\n\\n\\nRCD Espanyol', '\\n\\n\\n\\nFC Nantes', '\\n\\n\\n\\nAngers SCO',\n",
              "       '\\n\\n\\n\\nCruz Azul', '\\n\\n\\n\\nBSC Young Boys', '\\n\\n\\n\\nClub León',\n",
              "       '\\n\\n\\n\\nSpartak Moscow', '\\n\\n\\n\\nSivasspor', '\\n\\n\\n\\nElche CF',\n",
              "       '\\n\\n\\n\\nFC Augsburg', '\\n\\n\\n\\nWuhan Zall', '\\n\\n\\n\\nParma',\n",
              "       '\\n\\n\\n\\nRoyal Antwerp FC', '\\n\\n\\n\\nMonterrey',\n",
              "       '\\n\\n\\n\\nSan Lorenzo de Almagro', '\\n\\n\\n\\nAC Monza',\n",
              "       '\\n\\n\\n\\nClub Atlético Lanús', '\\n\\n\\n\\nSD Huesca',\n",
              "       '\\n\\n\\n\\nDerby County', '\\n\\n\\n\\nKayserispor',\n",
              "       '\\n\\n\\n\\nRSC Anderlecht', '\\n\\n\\n\\nCD Leganés',\n",
              "       '\\n\\n\\n\\nVélez Sarsfield', '\\n\\n\\n\\nStade Brestois 29',\n",
              "       '\\n\\n\\n\\nTianjin TEDA FC', '\\n\\n\\n\\nBirmingham City',\n",
              "       '\\n\\n\\n\\nHellas Verona', '\\n\\n\\n\\n1. FC Köln', '\\n\\n\\n\\nAl Wehda',\n",
              "       '\\n\\n\\n\\nBournemouth', '\\n\\n\\n\\nAlanyaspor', '\\n\\n\\n\\nBologna',\n",
              "       '\\n\\n\\n\\nAmiens SC', '\\n\\n\\n\\nCeltic',\n",
              "       '\\n\\n\\n\\nShijiazhuang Ever Bright F.C.', '\\n\\n\\n\\nClub Atlas',\n",
              "       '\\n\\n\\n\\nAl Ahli', '\\n\\n\\n\\nNorwich City',\n",
              "       '\\n\\n\\n\\nFatih Karagümrük S.K.', '\\n\\n\\n\\nClub Tijuana',\n",
              "       '\\n\\n\\n\\nUniversidad Católica', '\\n\\n\\n\\nGoiás',\n",
              "       '\\n\\n\\n\\nBenevento', '\\n\\n\\n\\nIndependiente',\n",
              "       '\\n\\n\\n\\nQingdao Huanghai F.C.', '\\n\\n\\n\\nBrentford',\n",
              "       '\\n\\n\\n\\nAEK Athens', '\\n\\n\\n\\nRacing Club de Lens',\n",
              "       '\\n\\n\\n\\nOlimpia Asunción', '\\n\\n\\n\\nShenzhen FC',\n",
              "       '\\n\\n\\n\\nÇaykur Rizespor', '\\n\\n\\n\\nKAA Gent',\n",
              "       '\\n\\n\\n\\nNew England Revolution', '\\n\\n\\n\\nCádiz CF',\n",
              "       '\\n\\n\\n\\n1. FSV Mainz 05', '\\n\\n\\n\\nVasco da Gama',\n",
              "       '\\n\\n\\n\\nFC Midtjylland', '\\n\\n\\n\\nAl Ain FC',\n",
              "       '\\n\\n\\n\\nSantos Laguna', '\\n\\n\\n\\nSPAL', '\\n\\n\\n\\nPerth Glory',\n",
              "       '\\n\\n\\n\\nFC Utrecht', '\\n\\n\\n\\nMontreal Impact',\n",
              "       '\\n\\n\\n\\nUD Almería', '\\n\\n\\n\\nFortaleza', '\\n\\n\\n\\nSpezia',\n",
              "       '\\n\\n\\n\\nFC Basel 1893', '\\n\\n\\n\\nFC København',\n",
              "       '\\n\\n\\n\\nGodoy Cruz', '\\n\\n\\n\\nDeportivo Toluca',\n",
              "       '\\n\\n\\n\\nNacional de Montevideo', '\\n\\n\\n\\nAalborg BK',\n",
              "       '\\n\\n\\n\\nRio Ave FC', '\\n\\n\\n\\nFC Metz',\n",
              "       '\\n\\n\\n\\nChongqing Dangdai Lifan FC SWM Team',\n",
              "       '\\n\\n\\n\\nRosenborg BK', '\\n\\n\\n\\nFC Red Bull Salzburg',\n",
              "       '\\n\\n\\n\\nBotafogo', '\\n\\n\\n\\nDSC Arminia Bielefeld',\n",
              "       '\\n\\n\\n\\nClub Athletico Paranaense', '\\n\\n\\n\\nRCD Mallorca',\n",
              "       '\\n\\n\\n\\nPachuca', '\\n\\n\\n\\nSwansea City', '\\n\\n\\n\\nKRC Genk',\n",
              "       '\\n\\n\\n\\nEn Avant de Guingamp', '\\n\\n\\n\\nLecce',\n",
              "       '\\n\\n\\n\\nNîmes Olympique', '\\n\\n\\n\\nColo-Colo',\n",
              "       '\\n\\n\\n\\nStade Malherbe Caen', '\\n\\n\\n\\nColumbus Crew SC',\n",
              "       '\\n\\n\\n\\nJunior FC', '\\n\\n\\n\\nVfB Stuttgart',\n",
              "       '\\n\\n\\n\\nMoreirense FC', '\\n\\n\\n\\nRangers FC', '\\n\\n\\n\\nMalmö FF',\n",
              "       '\\n\\n\\n\\nShandong Luneng TaiShan FC', '\\n\\n\\n\\nSparta Praha',\n",
              "       '\\n\\n\\n\\nHatayspor', '\\n\\n\\n\\nChicago Fire',\n",
              "       '\\n\\n\\n\\nToulouse Football Club', '\\n\\n\\n\\nFC Seoul',\n",
              "       '\\n\\n\\n\\nAntalyaspor', '\\n\\n\\n\\nDeportivo Cali',\n",
              "       '\\n\\n\\n\\nKaizer Chiefs', '\\n\\n\\n\\nReal Zaragoza',\n",
              "       '\\n\\n\\n\\nAtlético Clube Goianiense', '\\n\\n\\n\\nPuebla FC',\n",
              "       '\\n\\n\\n\\nFortuna Düsseldorf', '\\n\\n\\n\\nWestern United FC',\n",
              "       '\\n\\n\\n\\nAstra Giurgiu', '\\n\\n\\n\\nHenan Jianye FC',\n",
              "       '\\n\\n\\n\\nBahia', '\\n\\n\\n\\nFamalicão', '\\n\\n\\n\\nAtiker Konyaspor',\n",
              "       '\\n\\n\\n\\nPeñarol', '\\n\\n\\n\\nDC United', '\\n\\n\\n\\nNew York City FC',\n",
              "       '\\n\\n\\n\\nArgentinos Juniors', '\\n\\n\\n\\nU.N.A.M.',\n",
              "       '\\n\\n\\n\\nMinnesota United FC', '\\n\\n\\n\\nNottingham Forest',\n",
              "       '\\n\\n\\n\\nIndependiente del Valle', '\\n\\n\\n\\nDefensa y Justicia',\n",
              "       '\\n\\n\\n\\nPhiladelphia Union', \"\\n\\n\\n\\nNewell's Old Boys\",\n",
              "       '\\n\\n\\n\\nRosario Central', '\\n\\n\\n\\nAtlético de San Luis',\n",
              "       '\\n\\n\\n\\nFC Dallas', '\\n\\n\\n\\nDenizlispor',\n",
              "       '\\n\\n\\n\\nYeni Malatyaspor', '\\n\\n\\n\\nClub Atlético Colón',\n",
              "       '\\n\\n\\n\\nHouston Dynamo', '\\n\\n\\n\\nMillwall',\n",
              "       '\\n\\n\\n\\nClube Sport Marítimo', '\\n\\n\\n\\nMKE Ankaragücü',\n",
              "       '\\n\\n\\n\\nGuadalajara', '\\n\\n\\n\\nBoavista FC',\n",
              "       '\\n\\n\\n\\nSporting Kansas City', '\\n\\n\\n\\nAtlético Nacional',\n",
              "       '\\n\\n\\n\\nCD Lugo', '\\n\\n\\n\\nNew York Red Bulls', '\\n\\n\\n\\nPAOK',\n",
              "       '\\n\\n\\n\\nSC Heerenveen', '\\n\\n\\n\\nDaegu FC',\n",
              "       '\\n\\n\\n\\nPreston North End', '\\n\\n\\n\\nDamac FC', '\\n\\n\\n\\nBrescia',\n",
              "       '\\n\\n\\n\\nVfL Bochum 1848', '\\n\\n\\n\\nVancouver Whitecaps FC',\n",
              "       '\\n\\n\\n\\nSV Sandhausen', '\\n\\n\\n\\nRoyal Excel Mouscron',\n",
              "       '\\n\\n\\n\\nDijon FCO', '\\n\\n\\n\\nMolde FK',\n",
              "       '\\n\\n\\n\\nPanathinaikos FC', '\\n\\n\\n\\nLASK Linz',\n",
              "       '\\n\\n\\n\\nUlsan Hyundai FC', '\\n\\n\\n\\nReal Salt Lake',\n",
              "       '\\n\\n\\n\\nFC Luzern', '\\n\\n\\n\\nViktoria Plzeň',\n",
              "       '\\n\\n\\n\\nOrlando Pirates', '\\n\\n\\n\\nAl Ittihad',\n",
              "       '\\n\\n\\n\\n1. FC Nürnberg', '\\n\\n\\n\\nStandard de Liège',\n",
              "       '\\n\\n\\n\\nRayo Vallecano', '\\n\\n\\n\\nClub Libertad',\n",
              "       '\\n\\n\\n\\nJeonbuk Hyundai Motors',\n",
              "       '\\n\\n\\n\\nWestern Sydney Wanderers', '\\n\\n\\n\\nUnión de Santa Fe',\n",
              "       '\\n\\n\\n\\nFC Sion', '\\n\\n\\n\\nSydney FC', '\\n\\n\\n\\nHannover 96',\n",
              "       '\\n\\n\\n\\nReal Sporting de Gijón', '\\n\\n\\n\\nFC Cincinnati',\n",
              "       '\\n\\n\\n\\nESTAC Troyes', '\\n\\n\\n\\nSan Jose Earthquakes',\n",
              "       '\\n\\n\\n\\nClub Guaraní', '\\n\\n\\n\\nFC Lorient',\n",
              "       '\\n\\n\\n\\nGençlerbirliği SK', '\\n\\n\\n\\nSporting de Charleroi',\n",
              "       '\\n\\n\\n\\nWisła Kraków', '\\n\\n\\n\\nAl Taawoun', '\\n\\n\\n\\nReading',\n",
              "       '\\n\\n\\n\\nGazişehir Gaziantep F.K.', '\\n\\n\\n\\nBlackburn Rovers',\n",
              "       '\\n\\n\\n\\nKashiwa Reysol', '\\n\\n\\n\\nFK Bodø/Glimt',\n",
              "       '\\n\\n\\n\\nWillem II', '\\n\\n\\n\\nVitesse', '\\n\\n\\n\\nGil Vicente FC',\n",
              "       '\\n\\n\\n\\nSønderjyskE', '\\n\\n\\n\\nYokohama F. Marinos',\n",
              "       '\\n\\n\\n\\nFC St. Gallen', '\\n\\n\\n\\nClub Atlético Aldosivi',\n",
              "       '\\n\\n\\n\\nGöztepe SK', '\\n\\n\\n\\nHolstein Kiel', '\\n\\n\\n\\nFC Juárez',\n",
              "       '\\n\\n\\n\\nFCSB (Steaua)', '\\n\\n\\n\\nEttifaq FC', '\\n\\n\\n\\nKAS Eupen',\n",
              "       '\\n\\n\\n\\nFC Tokyo', '\\n\\n\\n\\nMelbourne City FC',\n",
              "       '\\n\\n\\n\\nUniversitatea Craiova', '\\n\\n\\n\\nCD Tondela',\n",
              "       '\\n\\n\\n\\nWolfsberger AC', '\\n\\n\\n\\nCeará Sporting Club',\n",
              "       '\\n\\n\\n\\nRiver Plate Asunción', '\\n\\n\\n\\nStoke City',\n",
              "       '\\n\\n\\n\\nParis FC', '\\n\\n\\n\\nIFK Norrköping', '\\n\\n\\n\\nCrotone',\n",
              "       '\\n\\n\\n\\nCardiff City', '\\n\\n\\n\\nAmérica de Cali',\n",
              "       '\\n\\n\\n\\nAl Faisaly', '\\n\\n\\n\\nIndependiente Medellín',\n",
              "       '\\n\\n\\n\\nPortimonense SC', '\\n\\n\\n\\nCD Tenerife',\n",
              "       '\\n\\n\\n\\nHeracles Almelo', '\\n\\n\\n\\nNashville SC',\n",
              "       '\\n\\n\\n\\nSK Rapid Wien', '\\n\\n\\n\\nKawasaki Frontale',\n",
              "       '\\n\\n\\n\\nClub Necaxa', '\\n\\n\\n\\nChievo Verona',\n",
              "       '\\n\\n\\n\\nLech Poznań', '\\n\\n\\n\\nAIK', '\\n\\n\\n\\nFK Austria Wien',\n",
              "       '\\n\\n\\n\\nQuerétaro', '\\n\\n\\n\\n1. FC Heidenheim 1846',\n",
              "       '\\n\\n\\n\\nLegia Warszawa', '\\n\\n\\n\\nClub Atlético Banfield',\n",
              "       '\\n\\n\\n\\nOs Belenenses', '\\n\\n\\n\\nHuddersfield Town',\n",
              "       '\\n\\n\\n\\nKSV Cercle Brugge', '\\n\\n\\n\\nLDU Quito',\n",
              "       '\\n\\n\\n\\nGimnasia y Esgrima La Plata', '\\n\\n\\n\\nGamba Osaka',\n",
              "       '\\n\\n\\n\\nMiddlesbrough', '\\n\\n\\n\\nServette FC', '\\n\\n\\n\\nEmpoli',\n",
              "       '\\n\\n\\n\\nReal Oviedo', '\\n\\n\\n\\nKasimpaşa SK', '\\n\\n\\n\\nCFR Cluj',\n",
              "       '\\n\\n\\n\\nMillonarios FC', '\\n\\n\\n\\nFC Paços de Ferreira',\n",
              "       '\\n\\n\\n\\nSint-Truidense VV', '\\n\\n\\n\\nAD Alcorcón',\n",
              "       '\\n\\n\\n\\nColorado Rapids', '\\n\\n\\n\\nDinamo Bucureşti',\n",
              "       '\\n\\n\\n\\nCerezo Osaka', '\\n\\n\\n\\nFC Emmen',\n",
              "       '\\n\\n\\n\\nSheffield Wednesday', '\\n\\n\\n\\nFC Erzgebirge Aue',\n",
              "       '\\n\\n\\n\\nRaków Częstochowa', '\\n\\n\\n\\nAtlético Tucumán',\n",
              "       '\\n\\n\\n\\nSV Darmstadt 98', '\\n\\n\\n\\nBristol City',\n",
              "       '\\n\\n\\n\\nOud-Heverlee Leuven', '\\n\\n\\n\\nBarnsley',\n",
              "       '\\n\\n\\n\\nQueens Park Rangers', '\\n\\n\\n\\nSangju Sangmu FC',\n",
              "       '\\n\\n\\n\\nHelsingborgs IF', '\\n\\n\\n\\nAC Ajaccio',\n",
              "       '\\n\\n\\n\\nOceânico FC', '\\n\\n\\n\\nClub Atlético Talleres',\n",
              "       '\\n\\n\\n\\nAl Hazem', '\\n\\n\\n\\nSC Paderborn 07',\n",
              "       '\\n\\n\\n\\nClub Atlético Huracán', '\\n\\n\\n\\nKV Kortrijk',\n",
              "       '\\n\\n\\n\\nEl Nacional', '\\n\\n\\n\\nMazatlán FC', '\\n\\n\\n\\nAberdeen',\n",
              "       '\\n\\n\\n\\nCD Mirandés', '\\n\\n\\n\\nSV Zulte-Waregem',\n",
              "       '\\n\\n\\n\\nPiast Gliwice', '\\n\\n\\n\\nDjurgårdens IF',\n",
              "       '\\n\\n\\n\\nCentral Córdoba', '\\n\\n\\n\\nWellington Phoenix',\n",
              "       '\\n\\n\\n\\nDeportivo Binacional', '\\n\\n\\n\\nPatronato',\n",
              "       '\\n\\n\\n\\nSpVgg Greuther Fürth', '\\n\\n\\n\\nIFK Göteborg',\n",
              "       '\\n\\n\\n\\nFC Cartagena', '\\n\\n\\n\\nSanta Clara', '\\n\\n\\n\\nFC Twente',\n",
              "       '\\n\\n\\n\\nFarense', '\\n\\n\\n\\nADO Den Haag', '\\n\\n\\n\\nAJ Auxerre',\n",
              "       '\\n\\n\\n\\nAl Fateh', '\\n\\n\\n\\nValenciennes FC',\n",
              "       '\\n\\n\\n\\nHokkaido Consadole Sapporo', '\\n\\n\\n\\nFC St. Pauli',\n",
              "       '\\n\\n\\n\\nAlbacete BP', '\\n\\n\\n\\n1. FC Kaiserslautern',\n",
              "       '\\n\\n\\n\\nAl Fayha', '\\n\\n\\n\\nIncheon United FC',\n",
              "       '\\n\\n\\n\\nKV Mechelen', '\\n\\n\\n\\nPohang Steelers',\n",
              "       '\\n\\n\\n\\nCD Nacional', '\\n\\n\\n\\nUnión La Calera',\n",
              "       '\\n\\n\\n\\nBB Erzurumspor', '\\n\\n\\n\\nKashima Antlers',\n",
              "       '\\n\\n\\n\\nArsenal de Sarandí', '\\n\\n\\n\\nHJK Helsinki',\n",
              "       '\\n\\n\\n\\nKarlsruher SC', '\\n\\n\\n\\nAarhus GF', '\\n\\n\\n\\nFC Zürich',\n",
              "       '\\n\\n\\n\\nBarcelona Sporting Club', '\\n\\n\\n\\nSG Dynamo Dresden',\n",
              "       '\\n\\n\\n\\nSanfrecce Hiroshima', '\\n\\n\\n\\nAl Raed',\n",
              "       '\\n\\n\\n\\nSD Ponferradina', '\\n\\n\\n\\nBrøndby IF',\n",
              "       '\\n\\n\\n\\nLechia Gdańsk', '\\n\\n\\n\\nFC Viitorul',\n",
              "       '\\n\\n\\n\\nSK Sturm Graz', '\\n\\n\\n\\nIF Elfsborg',\n",
              "       '\\n\\n\\n\\nGangwon FC', '\\n\\n\\n\\nMelgar FBC',\n",
              "       '\\n\\n\\n\\nClub Atlético Grau', '\\n\\n\\n\\nJagiellonia Białystok',\n",
              "       '\\n\\n\\n\\nWaasland-Beveren', '\\n\\n\\n\\nVfL Osnabrück',\n",
              "       '\\n\\n\\n\\nNagoya Grampus', '\\n\\n\\n\\nCF Fuenlabrada',\n",
              "       '\\n\\n\\n\\nShamrock Rovers', '\\n\\n\\n\\nShimizu S-Pulse',\n",
              "       '\\n\\n\\n\\nRKC Waalwijk', '\\n\\n\\n\\nVålerenga Fotball',\n",
              "       '\\n\\n\\n\\nClermont Foot 63', '\\n\\n\\n\\nFC Ingolstadt 04',\n",
              "       '\\n\\n\\n\\nFC Würzburger Kickers', '\\n\\n\\n\\nGórnik Zabrze',\n",
              "       '\\n\\n\\n\\nCharlton Athletic', '\\n\\n\\n\\nBeerschot AC',\n",
              "       '\\n\\n\\n\\nCoquimbo Unido', '\\n\\n\\n\\nViktoria Köln',\n",
              "       '\\n\\n\\n\\nHull City', '\\n\\n\\n\\nMálaga CF',\n",
              "       '\\n\\n\\n\\nFC Nordsjælland', '\\n\\n\\n\\nUD Las Palmas',\n",
              "       '\\n\\n\\n\\nVVV-Venlo', '\\n\\n\\n\\nGwangJu FC',\n",
              "       '\\n\\n\\n\\nChamois Niortais Football Club', '\\n\\n\\n\\nFC Lugano',\n",
              "       '\\n\\n\\n\\nCusco FC', '\\n\\n\\n\\nSparta Rotterdam',\n",
              "       '\\n\\n\\n\\nSol de América', '\\n\\n\\n\\nPEC Zwolle',\n",
              "       '\\n\\n\\n\\nPogoń Szczecin', '\\n\\n\\n\\nDoncaster Rovers',\n",
              "       '\\n\\n\\n\\nKristiansund BK', '\\n\\n\\n\\nLiverpool Fútbol Club',\n",
              "       '\\n\\n\\n\\nClub Bolívar', '\\n\\n\\n\\nUrawa Red Diamonds',\n",
              "       '\\n\\n\\n\\nSK Brann', '\\n\\n\\n\\nEintracht Braunschweig',\n",
              "       '\\n\\n\\n\\nNacional Asunción', '\\n\\n\\n\\nMelbourne Victory',\n",
              "       '\\n\\n\\n\\nKilmarnock', '\\n\\n\\n\\nDundalk',\n",
              "       '\\n\\n\\n\\nSSV Jahn Regensburg', '\\n\\n\\n\\nAbha Club',\n",
              "       '\\n\\n\\n\\nClub Atlético Tigre', '\\n\\n\\n\\nSuwon Samsung Bluewings',\n",
              "       '\\n\\n\\n\\nShonan Bellmare', '\\n\\n\\n\\nSD Aucas', '\\n\\n\\n\\nEmelec',\n",
              "       '\\n\\n\\n\\nFortuna Sittard', '\\n\\n\\n\\nLa Berrichonne de Châteauroux',\n",
              "       '\\n\\n\\n\\nŚląsk Wrocław', '\\n\\n\\n\\nCoventry City',\n",
              "       '\\n\\n\\n\\nSunderland', '\\n\\n\\n\\nAlianza Lima',\n",
              "       '\\n\\n\\n\\nHammarby IF', '\\n\\n\\n\\nCracovia',\n",
              "       '\\n\\n\\n\\nCE Sabadell FC', '\\n\\n\\n\\nOita Trinita',\n",
              "       '\\n\\n\\n\\nBK Häcken', '\\n\\n\\n\\nLuton Town', '\\n\\n\\n\\nLe Havre AC',\n",
              "       '\\n\\n\\n\\nIK Sirius', '\\n\\n\\n\\nZagłębie Lubin',\n",
              "       '\\n\\n\\n\\nGrenoble Foot 38', '\\n\\n\\n\\nMacarthur FC',\n",
              "       '\\n\\n\\n\\nRodez Aveyron Football', '\\n\\n\\n\\nVegalta Sendai',\n",
              "       '\\n\\n\\n\\nMotherwell', '\\n\\n\\n\\nSV Wehen Wiesbaden',\n",
              "       '\\n\\n\\n\\nAudax Italiano', '\\n\\n\\n\\nGaz Metan Mediaş',\n",
              "       '\\n\\n\\n\\nPortsmouth', '\\n\\n\\n\\nHibernian', '\\n\\n\\n\\nAlways Ready',\n",
              "       '\\n\\n\\n\\nUD Logroñés', '\\n\\n\\n\\nFC Voluntari',\n",
              "       '\\n\\n\\n\\nFC Hermannstadt', '\\n\\n\\n\\nAS Nancy Lorraine',\n",
              "       '\\n\\n\\n\\nRotherham United', '\\n\\n\\n\\nFleetwood Town',\n",
              "       '\\n\\n\\n\\nJorge Wilstermann', '\\n\\n\\n\\nOdense Boldklub',\n",
              "       '\\n\\n\\n\\nMSV Duisburg', '\\n\\n\\n\\nFC Sochaux-Montbéliard',\n",
              "       '\\n\\n\\n\\nMilton Keynes Dons', '\\n\\n\\n\\nRiver Plate Montevideo',\n",
              "       '\\n\\n\\n\\nDelfín SC', '\\n\\n\\n\\nUniversidad Católica del Ecuador',\n",
              "       '\\n\\n\\n\\nDeportivo Pasto', '\\n\\n\\n\\nKV Oostende',\n",
              "       '\\n\\n\\n\\nClub Plaza Colonia', '\\n\\n\\n\\nWigan Athletic',\n",
              "       '\\n\\n\\n\\nFC Botoşani', '\\n\\n\\n\\nC.D. Castellón',\n",
              "       '\\n\\n\\n\\nSCR Altach', '\\n\\n\\n\\nÖrebro SK', '\\n\\n\\n\\nTSV Hartberg',\n",
              "       '\\n\\n\\n\\nStabæk Fotball', '\\n\\n\\n\\nWycombe Wanderers',\n",
              "       '\\n\\n\\n\\nSt. Johnstone FC', '\\n\\n\\n\\nOxford United',\n",
              "       '\\n\\n\\n\\nLincoln City', '\\n\\n\\n\\nRanders FC', '\\n\\n\\n\\nViking FK',\n",
              "       '\\n\\n\\n\\nFC Chambly Oise', '\\n\\n\\n\\nDundee United',\n",
              "       '\\n\\n\\n\\nOriente Petrolero', '\\n\\n\\n\\nOdds BK',\n",
              "       '\\n\\n\\n\\nNacional Potosí', '\\n\\n\\n\\nSepsi OSK',\n",
              "       '\\n\\n\\n\\nFC Hansa Rostock', '\\n\\n\\n\\nLyngby BK',\n",
              "       '\\n\\n\\n\\nSpVgg Unterhaching', '\\n\\n\\n\\nBrisbane Roar',\n",
              "       '\\n\\n\\n\\nSeongnam FC', '\\n\\n\\n\\nSV Ried', '\\n\\n\\n\\nCD Huachipato',\n",
              "       '\\n\\n\\n\\nWSG Tirol', '\\n\\n\\n\\nPodbeskidzie Bielsko-Biała',\n",
              "       '\\n\\n\\n\\nPeterborough United', '\\n\\n\\n\\nClub Blooming',\n",
              "       '\\n\\n\\n\\nWisła Płock', '\\n\\n\\n\\nBusan IPark',\n",
              "       '\\n\\n\\n\\nFSV Zwickau', '\\n\\n\\n\\nMjøndalen IF',\n",
              "       '\\n\\n\\n\\nVejle Boldklub', '\\n\\n\\n\\nPau FC',\n",
              "       '\\n\\n\\n\\nFC Lausanne-Sport', '\\n\\n\\n\\nEstudiantes de Mérida',\n",
              "       '\\n\\n\\n\\nSagan Tosu', '\\n\\n\\n\\nSV Waldhof Mannheim',\n",
              "       '\\n\\n\\n\\nSport Huancayo', '\\n\\n\\n\\nHallescher FC',\n",
              "       '\\n\\n\\n\\nKalmar FF', '\\n\\n\\n\\nSt. Mirren',\n",
              "       '\\n\\n\\n\\nSKN St. Pölten', '\\n\\n\\n\\nSarpsborg 08 FF',\n",
              "       '\\n\\n\\n\\nShrewsbury', '\\n\\n\\n\\nTSV 1860 München',\n",
              "       '\\n\\n\\n\\nSV Meppen', '\\n\\n\\n\\nIpswich Town', '\\n\\n\\n\\nIK Start',\n",
              "       '\\n\\n\\n\\nAdelaide United', '\\n\\n\\n\\nStal Mielec',\n",
              "       '\\n\\n\\n\\nCentro Atlético Fénix', '\\n\\n\\n\\nNewcastle Jets',\n",
              "       '\\n\\n\\n\\nLivingston FC', '\\n\\n\\n\\nAC Mineros de Guayana',\n",
              "       '\\n\\n\\n\\nAFC Wimbledon', '\\n\\n\\n\\nBurton Albion',\n",
              "       '\\n\\n\\n\\nAl Adalah', '\\n\\n\\n\\nWarta Poznań',\n",
              "       '\\n\\n\\n\\nUSL Dunkerque', '\\n\\n\\n\\nBristol Rovers',\n",
              "       '\\n\\n\\n\\nUTA Arad', '\\n\\n\\n\\nÖstersunds FK',\n",
              "       '\\n\\n\\n\\nSportivo Luqueño', '\\n\\n\\n\\nPolitehnica Iaşi',\n",
              "       '\\n\\n\\n\\nSalford City', '\\n\\n\\n\\nCentral Coast Mariners',\n",
              "       '\\n\\n\\n\\nCaracas FC', '\\n\\n\\n\\nAC Horsens',\n",
              "       '\\n\\n\\n\\nPlymouth Argyle', '\\n\\n\\n\\nAalesunds FK',\n",
              "       '\\n\\n\\n\\nCrewe Alexandra', '\\n\\n\\n\\nChindia Târgovişte',\n",
              "       '\\n\\n\\n\\nOldham Athletic', '\\n\\n\\n\\nYokohama FC',\n",
              "       '\\n\\n\\n\\nBlackpool', '\\n\\n\\n\\nNorthampton Town',\n",
              "       '\\n\\n\\n\\nBayern München II', '\\n\\n\\n\\nFK Haugesund',\n",
              "       '\\n\\n\\n\\nKFC Uerdingen 05', '\\n\\n\\n\\nForest Green Rovers',\n",
              "       '\\n\\n\\n\\nCheltenham Town', '\\n\\n\\n\\nStrømsgodset IF',\n",
              "       '\\n\\n\\n\\nMjällby AIF', '\\n\\n\\n\\nExeter City',\n",
              "       '\\n\\n\\n\\nCambridge United', '\\n\\n\\n\\nGrimsby Town',\n",
              "       '\\n\\n\\n\\nFC Vaduz', '\\n\\n\\n\\nTürkgücü München',\n",
              "       '\\n\\n\\n\\nVfB Lübeck', '\\n\\n\\n\\nBolton Wanderers',\n",
              "       '\\n\\n\\n\\nBradford City', '\\n\\n\\n\\n1. FC Magdeburg',\n",
              "       '\\n\\n\\n\\nFC Admira Wacker Mödling',\n",
              "       '\\n\\n\\n\\nHamilton Academical FC', '\\n\\n\\n\\nAragua FC',\n",
              "       '\\n\\n\\n\\nAccrington Stanley', '\\n\\n\\n\\nSwindon Town',\n",
              "       '\\n\\n\\n\\nCarlisle United', '\\n\\n\\n\\nFC Argeș', '\\n\\n\\n\\nPort Vale',\n",
              "       '\\n\\n\\n\\nAcademica Clinceni', '\\n\\n\\n\\nRochdale',\n",
              "       '\\n\\n\\n\\nGillingham', '\\n\\n\\n\\nTranmere Rovers',\n",
              "       '\\n\\n\\n\\nSouthend United', '\\n\\n\\n\\n1. FC Saarbrücken',\n",
              "       '\\n\\n\\n\\nColchester United', '\\n\\n\\n\\nMansfield Town',\n",
              "       '\\n\\n\\n\\nFalkenbergs FF', '\\n\\n\\n\\nSC Verl',\n",
              "       '\\n\\n\\n\\nVarbergs BoIS', '\\n\\n\\n\\nCrawley Town',\n",
              "       '\\n\\n\\n\\nSandefjord Fotball', '\\n\\n\\n\\nNewport County',\n",
              "       '\\n\\n\\n\\nBohemian FC', '\\n\\n\\n\\nRoss County FC',\n",
              "       '\\n\\n\\n\\nScunthorpe United', '\\n\\n\\n\\nMorecambe',\n",
              "       '\\n\\n\\n\\nWalsall', '\\n\\n\\n\\nLeyton Orient', '\\n\\n\\n\\nStevenage',\n",
              "       '\\n\\n\\n\\nBarrow', '\\n\\n\\n\\nDerry City',\n",
              "       '\\n\\n\\n\\nLlaneros de Guanare', '\\n\\n\\n\\nSligo Rovers',\n",
              "       '\\n\\n\\n\\nZamora FC', \"\\n\\n\\n\\nSt. Patrick's Athletic\",\n",
              "       '\\n\\n\\n\\nCork City', '\\n\\n\\n\\nShelbourne FC',\n",
              "       '\\n\\n\\n\\nHarrogate Town', '\\n\\n\\n\\nWaterford FC',\n",
              "       '\\n\\n\\n\\nFinn Harps'], dtype=object)"
            ]
          },
          "metadata": {},
          "execution_count": 36
        }
      ]
    },
    {
      "cell_type": "code",
      "source": [
        "df1['Club'] = df1['Club'].str.strip()"
      ],
      "metadata": {
        "id": "gW-mc0qsz-7k"
      },
      "execution_count": 37,
      "outputs": []
    },
    {
      "cell_type": "code",
      "source": [
        "df1['Club'].unique()"
      ],
      "metadata": {
        "colab": {
          "base_uri": "https://localhost:8080/"
        },
        "id": "whG4wVxZ0Jbc",
        "outputId": "2ec965e3-dd80-42fc-ef1c-7a4fb52a9fd9"
      },
      "execution_count": 38,
      "outputs": [
        {
          "output_type": "execute_result",
          "data": {
            "text/plain": [
              "array(['FC Barcelona', 'Juventus', 'Atlético Madrid', 'Manchester City',\n",
              "       'Paris Saint-Germain', 'FC Bayern München', 'Liverpool',\n",
              "       'Real Madrid', 'Chelsea', 'Tottenham Hotspur', 'Inter', 'Napoli',\n",
              "       'Borussia Dortmund', 'Manchester United', 'Arsenal', 'Lazio',\n",
              "       'Leicester City', 'Borussia Mönchengladbach', 'Real Sociedad',\n",
              "       'Atalanta', 'Olympique Lyonnais', 'Milan', 'Villarreal CF',\n",
              "       'RB Leipzig', 'Cagliari', 'Ajax', 'SL Benfica', 'AS Monaco',\n",
              "       'Wolverhampton Wanderers', 'Everton', 'Fiorentina', 'FC Porto',\n",
              "       'RC Celta', 'Torino', 'Sevilla FC', 'Grêmio', 'Real Betis', 'Roma',\n",
              "       'Newcastle United', 'Eintracht Frankfurt', 'Valencia CF',\n",
              "       'Medipol Başakşehir FK', 'Inter Miami', 'Bayer 04 Leverkusen',\n",
              "       'Levante UD', 'Crystal Palace', 'Athletic Club de Bilbao',\n",
              "       'Shanghai SIPG FC', 'VfL Wolfsburg',\n",
              "       'Guangzhou Evergrande Taobao FC', 'Al Shabab',\n",
              "       'Olympique de Marseille', 'Los Angeles FC',\n",
              "       'Beijing Sinobo Guoan FC', 'Getafe CF', 'SV Werder Bremen',\n",
              "       'TSG 1899 Hoffenheim', 'LOSC Lille', 'Deportivo Alavés', 'Burnley',\n",
              "       'Leeds United', 'Fulham', 'PFC CSKA Moscow', 'Genoa',\n",
              "       'Galatasaray SK', 'Atlanta United', 'Atlético Mineiro', 'Flamengo',\n",
              "       'Palmeiras', 'No Club', 'São Paulo', 'West Ham United', 'SD Eibar',\n",
              "       'River Plate', 'OGC Nice', 'Real Valladolid CF', 'Sporting CP',\n",
              "       'PSV', 'Feyenoord', 'Club Brugge KV', 'Shakhtar Donetsk',\n",
              "       'Vissel Kobe', 'Boca Juniors', '1. FC Union Berlin',\n",
              "       'Dalian YiFang FC', 'AS Saint-Étienne', 'Sassuolo',\n",
              "       'Tigres U.A.N.L.', 'Dinamo Zagreb', 'Dynamo Kyiv', 'Fluminense',\n",
              "       'Udinese', 'Aston Villa', 'Stade Rennais FC', 'Beşiktaş JK',\n",
              "       'Brighton & Hove Albion', 'Hebei China Fortune FC', 'Southampton',\n",
              "       'Lokomotiv Moscow', 'Jiangsu Suning FC', 'Al Hilal',\n",
              "       'West Bromwich Albion', 'Fenerbahçe SK', 'FC Groningen',\n",
              "       'Guangzhou R&F FC', 'Orlando City SC', 'Sampdoria',\n",
              "       'Stade de Reims', 'Sheffield United', 'Santos', 'Internacional',\n",
              "       'Coritiba', 'CA Osasuna', 'LA Galaxy', 'Al Nassr', 'SC Freiburg',\n",
              "       'SC Braga', 'Olympiacos CFP', 'Toronto FC', 'Granada CF',\n",
              "       'FC Schalke 04', 'RC Strasbourg Alsace', 'Hertha BSC',\n",
              "       'AZ Alkmaar', 'Seattle Sounders FC', 'Montpellier HSC',\n",
              "       'Shanghai Greenland Shenhua FC', 'Hamburger SV', 'Girona FC',\n",
              "       'Racing Club', 'Portland Timbers', 'FC Girondins de Bordeaux',\n",
              "       'Watford', 'Estudiantes de La Plata', 'Club América',\n",
              "       'Vitória Guimarães', 'SK Slavia Praha', 'Trabzonspor',\n",
              "       'RCD Espanyol', 'FC Nantes', 'Angers SCO', 'Cruz Azul',\n",
              "       'BSC Young Boys', 'Club León', 'Spartak Moscow', 'Sivasspor',\n",
              "       'Elche CF', 'FC Augsburg', 'Wuhan Zall', 'Parma',\n",
              "       'Royal Antwerp FC', 'Monterrey', 'San Lorenzo de Almagro',\n",
              "       'AC Monza', 'Club Atlético Lanús', 'SD Huesca', 'Derby County',\n",
              "       'Kayserispor', 'RSC Anderlecht', 'CD Leganés', 'Vélez Sarsfield',\n",
              "       'Stade Brestois 29', 'Tianjin TEDA FC', 'Birmingham City',\n",
              "       'Hellas Verona', '1. FC Köln', 'Al Wehda', 'Bournemouth',\n",
              "       'Alanyaspor', 'Bologna', 'Amiens SC', 'Celtic',\n",
              "       'Shijiazhuang Ever Bright F.C.', 'Club Atlas', 'Al Ahli',\n",
              "       'Norwich City', 'Fatih Karagümrük S.K.', 'Club Tijuana',\n",
              "       'Universidad Católica', 'Goiás', 'Benevento', 'Independiente',\n",
              "       'Qingdao Huanghai F.C.', 'Brentford', 'AEK Athens',\n",
              "       'Racing Club de Lens', 'Olimpia Asunción', 'Shenzhen FC',\n",
              "       'Çaykur Rizespor', 'KAA Gent', 'New England Revolution',\n",
              "       'Cádiz CF', '1. FSV Mainz 05', 'Vasco da Gama', 'FC Midtjylland',\n",
              "       'Al Ain FC', 'Santos Laguna', 'SPAL', 'Perth Glory', 'FC Utrecht',\n",
              "       'Montreal Impact', 'UD Almería', 'Fortaleza', 'Spezia',\n",
              "       'FC Basel 1893', 'FC København', 'Godoy Cruz', 'Deportivo Toluca',\n",
              "       'Nacional de Montevideo', 'Aalborg BK', 'Rio Ave FC', 'FC Metz',\n",
              "       'Chongqing Dangdai Lifan FC SWM Team', 'Rosenborg BK',\n",
              "       'FC Red Bull Salzburg', 'Botafogo', 'DSC Arminia Bielefeld',\n",
              "       'Club Athletico Paranaense', 'RCD Mallorca', 'Pachuca',\n",
              "       'Swansea City', 'KRC Genk', 'En Avant de Guingamp', 'Lecce',\n",
              "       'Nîmes Olympique', 'Colo-Colo', 'Stade Malherbe Caen',\n",
              "       'Columbus Crew SC', 'Junior FC', 'VfB Stuttgart', 'Moreirense FC',\n",
              "       'Rangers FC', 'Malmö FF', 'Shandong Luneng TaiShan FC',\n",
              "       'Sparta Praha', 'Hatayspor', 'Chicago Fire',\n",
              "       'Toulouse Football Club', 'FC Seoul', 'Antalyaspor',\n",
              "       'Deportivo Cali', 'Kaizer Chiefs', 'Real Zaragoza',\n",
              "       'Atlético Clube Goianiense', 'Puebla FC', 'Fortuna Düsseldorf',\n",
              "       'Western United FC', 'Astra Giurgiu', 'Henan Jianye FC', 'Bahia',\n",
              "       'Famalicão', 'Atiker Konyaspor', 'Peñarol', 'DC United',\n",
              "       'New York City FC', 'Argentinos Juniors', 'U.N.A.M.',\n",
              "       'Minnesota United FC', 'Nottingham Forest',\n",
              "       'Independiente del Valle', 'Defensa y Justicia',\n",
              "       'Philadelphia Union', \"Newell's Old Boys\", 'Rosario Central',\n",
              "       'Atlético de San Luis', 'FC Dallas', 'Denizlispor',\n",
              "       'Yeni Malatyaspor', 'Club Atlético Colón', 'Houston Dynamo',\n",
              "       'Millwall', 'Clube Sport Marítimo', 'MKE Ankaragücü',\n",
              "       'Guadalajara', 'Boavista FC', 'Sporting Kansas City',\n",
              "       'Atlético Nacional', 'CD Lugo', 'New York Red Bulls', 'PAOK',\n",
              "       'SC Heerenveen', 'Daegu FC', 'Preston North End', 'Damac FC',\n",
              "       'Brescia', 'VfL Bochum 1848', 'Vancouver Whitecaps FC',\n",
              "       'SV Sandhausen', 'Royal Excel Mouscron', 'Dijon FCO', 'Molde FK',\n",
              "       'Panathinaikos FC', 'LASK Linz', 'Ulsan Hyundai FC',\n",
              "       'Real Salt Lake', 'FC Luzern', 'Viktoria Plzeň', 'Orlando Pirates',\n",
              "       'Al Ittihad', '1. FC Nürnberg', 'Standard de Liège',\n",
              "       'Rayo Vallecano', 'Club Libertad', 'Jeonbuk Hyundai Motors',\n",
              "       'Western Sydney Wanderers', 'Unión de Santa Fe', 'FC Sion',\n",
              "       'Sydney FC', 'Hannover 96', 'Real Sporting de Gijón',\n",
              "       'FC Cincinnati', 'ESTAC Troyes', 'San Jose Earthquakes',\n",
              "       'Club Guaraní', 'FC Lorient', 'Gençlerbirliği SK',\n",
              "       'Sporting de Charleroi', 'Wisła Kraków', 'Al Taawoun', 'Reading',\n",
              "       'Gazişehir Gaziantep F.K.', 'Blackburn Rovers', 'Kashiwa Reysol',\n",
              "       'FK Bodø/Glimt', 'Willem II', 'Vitesse', 'Gil Vicente FC',\n",
              "       'SønderjyskE', 'Yokohama F. Marinos', 'FC St. Gallen',\n",
              "       'Club Atlético Aldosivi', 'Göztepe SK', 'Holstein Kiel',\n",
              "       'FC Juárez', 'FCSB (Steaua)', 'Ettifaq FC', 'KAS Eupen',\n",
              "       'FC Tokyo', 'Melbourne City FC', 'Universitatea Craiova',\n",
              "       'CD Tondela', 'Wolfsberger AC', 'Ceará Sporting Club',\n",
              "       'River Plate Asunción', 'Stoke City', 'Paris FC', 'IFK Norrköping',\n",
              "       'Crotone', 'Cardiff City', 'América de Cali', 'Al Faisaly',\n",
              "       'Independiente Medellín', 'Portimonense SC', 'CD Tenerife',\n",
              "       'Heracles Almelo', 'Nashville SC', 'SK Rapid Wien',\n",
              "       'Kawasaki Frontale', 'Club Necaxa', 'Chievo Verona', 'Lech Poznań',\n",
              "       'AIK', 'FK Austria Wien', 'Querétaro', '1. FC Heidenheim 1846',\n",
              "       'Legia Warszawa', 'Club Atlético Banfield', 'Os Belenenses',\n",
              "       'Huddersfield Town', 'KSV Cercle Brugge', 'LDU Quito',\n",
              "       'Gimnasia y Esgrima La Plata', 'Gamba Osaka', 'Middlesbrough',\n",
              "       'Servette FC', 'Empoli', 'Real Oviedo', 'Kasimpaşa SK', 'CFR Cluj',\n",
              "       'Millonarios FC', 'FC Paços de Ferreira', 'Sint-Truidense VV',\n",
              "       'AD Alcorcón', 'Colorado Rapids', 'Dinamo Bucureşti',\n",
              "       'Cerezo Osaka', 'FC Emmen', 'Sheffield Wednesday',\n",
              "       'FC Erzgebirge Aue', 'Raków Częstochowa', 'Atlético Tucumán',\n",
              "       'SV Darmstadt 98', 'Bristol City', 'Oud-Heverlee Leuven',\n",
              "       'Barnsley', 'Queens Park Rangers', 'Sangju Sangmu FC',\n",
              "       'Helsingborgs IF', 'AC Ajaccio', 'Oceânico FC',\n",
              "       'Club Atlético Talleres', 'Al Hazem', 'SC Paderborn 07',\n",
              "       'Club Atlético Huracán', 'KV Kortrijk', 'El Nacional',\n",
              "       'Mazatlán FC', 'Aberdeen', 'CD Mirandés', 'SV Zulte-Waregem',\n",
              "       'Piast Gliwice', 'Djurgårdens IF', 'Central Córdoba',\n",
              "       'Wellington Phoenix', 'Deportivo Binacional', 'Patronato',\n",
              "       'SpVgg Greuther Fürth', 'IFK Göteborg', 'FC Cartagena',\n",
              "       'Santa Clara', 'FC Twente', 'Farense', 'ADO Den Haag',\n",
              "       'AJ Auxerre', 'Al Fateh', 'Valenciennes FC',\n",
              "       'Hokkaido Consadole Sapporo', 'FC St. Pauli', 'Albacete BP',\n",
              "       '1. FC Kaiserslautern', 'Al Fayha', 'Incheon United FC',\n",
              "       'KV Mechelen', 'Pohang Steelers', 'CD Nacional', 'Unión La Calera',\n",
              "       'BB Erzurumspor', 'Kashima Antlers', 'Arsenal de Sarandí',\n",
              "       'HJK Helsinki', 'Karlsruher SC', 'Aarhus GF', 'FC Zürich',\n",
              "       'Barcelona Sporting Club', 'SG Dynamo Dresden',\n",
              "       'Sanfrecce Hiroshima', 'Al Raed', 'SD Ponferradina', 'Brøndby IF',\n",
              "       'Lechia Gdańsk', 'FC Viitorul', 'SK Sturm Graz', 'IF Elfsborg',\n",
              "       'Gangwon FC', 'Melgar FBC', 'Club Atlético Grau',\n",
              "       'Jagiellonia Białystok', 'Waasland-Beveren', 'VfL Osnabrück',\n",
              "       'Nagoya Grampus', 'CF Fuenlabrada', 'Shamrock Rovers',\n",
              "       'Shimizu S-Pulse', 'RKC Waalwijk', 'Vålerenga Fotball',\n",
              "       'Clermont Foot 63', 'FC Ingolstadt 04', 'FC Würzburger Kickers',\n",
              "       'Górnik Zabrze', 'Charlton Athletic', 'Beerschot AC',\n",
              "       'Coquimbo Unido', 'Viktoria Köln', 'Hull City', 'Málaga CF',\n",
              "       'FC Nordsjælland', 'UD Las Palmas', 'VVV-Venlo', 'GwangJu FC',\n",
              "       'Chamois Niortais Football Club', 'FC Lugano', 'Cusco FC',\n",
              "       'Sparta Rotterdam', 'Sol de América', 'PEC Zwolle',\n",
              "       'Pogoń Szczecin', 'Doncaster Rovers', 'Kristiansund BK',\n",
              "       'Liverpool Fútbol Club', 'Club Bolívar', 'Urawa Red Diamonds',\n",
              "       'SK Brann', 'Eintracht Braunschweig', 'Nacional Asunción',\n",
              "       'Melbourne Victory', 'Kilmarnock', 'Dundalk',\n",
              "       'SSV Jahn Regensburg', 'Abha Club', 'Club Atlético Tigre',\n",
              "       'Suwon Samsung Bluewings', 'Shonan Bellmare', 'SD Aucas', 'Emelec',\n",
              "       'Fortuna Sittard', 'La Berrichonne de Châteauroux',\n",
              "       'Śląsk Wrocław', 'Coventry City', 'Sunderland', 'Alianza Lima',\n",
              "       'Hammarby IF', 'Cracovia', 'CE Sabadell FC', 'Oita Trinita',\n",
              "       'BK Häcken', 'Luton Town', 'Le Havre AC', 'IK Sirius',\n",
              "       'Zagłębie Lubin', 'Grenoble Foot 38', 'Macarthur FC',\n",
              "       'Rodez Aveyron Football', 'Vegalta Sendai', 'Motherwell',\n",
              "       'SV Wehen Wiesbaden', 'Audax Italiano', 'Gaz Metan Mediaş',\n",
              "       'Portsmouth', 'Hibernian', 'Always Ready', 'UD Logroñés',\n",
              "       'FC Voluntari', 'FC Hermannstadt', 'AS Nancy Lorraine',\n",
              "       'Rotherham United', 'Fleetwood Town', 'Jorge Wilstermann',\n",
              "       'Odense Boldklub', 'MSV Duisburg', 'FC Sochaux-Montbéliard',\n",
              "       'Milton Keynes Dons', 'River Plate Montevideo', 'Delfín SC',\n",
              "       'Universidad Católica del Ecuador', 'Deportivo Pasto',\n",
              "       'KV Oostende', 'Club Plaza Colonia', 'Wigan Athletic',\n",
              "       'FC Botoşani', 'C.D. Castellón', 'SCR Altach', 'Örebro SK',\n",
              "       'TSV Hartberg', 'Stabæk Fotball', 'Wycombe Wanderers',\n",
              "       'St. Johnstone FC', 'Oxford United', 'Lincoln City', 'Randers FC',\n",
              "       'Viking FK', 'FC Chambly Oise', 'Dundee United',\n",
              "       'Oriente Petrolero', 'Odds BK', 'Nacional Potosí', 'Sepsi OSK',\n",
              "       'FC Hansa Rostock', 'Lyngby BK', 'SpVgg Unterhaching',\n",
              "       'Brisbane Roar', 'Seongnam FC', 'SV Ried', 'CD Huachipato',\n",
              "       'WSG Tirol', 'Podbeskidzie Bielsko-Biała', 'Peterborough United',\n",
              "       'Club Blooming', 'Wisła Płock', 'Busan IPark', 'FSV Zwickau',\n",
              "       'Mjøndalen IF', 'Vejle Boldklub', 'Pau FC', 'FC Lausanne-Sport',\n",
              "       'Estudiantes de Mérida', 'Sagan Tosu', 'SV Waldhof Mannheim',\n",
              "       'Sport Huancayo', 'Hallescher FC', 'Kalmar FF', 'St. Mirren',\n",
              "       'SKN St. Pölten', 'Sarpsborg 08 FF', 'Shrewsbury',\n",
              "       'TSV 1860 München', 'SV Meppen', 'Ipswich Town', 'IK Start',\n",
              "       'Adelaide United', 'Stal Mielec', 'Centro Atlético Fénix',\n",
              "       'Newcastle Jets', 'Livingston FC', 'AC Mineros de Guayana',\n",
              "       'AFC Wimbledon', 'Burton Albion', 'Al Adalah', 'Warta Poznań',\n",
              "       'USL Dunkerque', 'Bristol Rovers', 'UTA Arad', 'Östersunds FK',\n",
              "       'Sportivo Luqueño', 'Politehnica Iaşi', 'Salford City',\n",
              "       'Central Coast Mariners', 'Caracas FC', 'AC Horsens',\n",
              "       'Plymouth Argyle', 'Aalesunds FK', 'Crewe Alexandra',\n",
              "       'Chindia Târgovişte', 'Oldham Athletic', 'Yokohama FC',\n",
              "       'Blackpool', 'Northampton Town', 'Bayern München II',\n",
              "       'FK Haugesund', 'KFC Uerdingen 05', 'Forest Green Rovers',\n",
              "       'Cheltenham Town', 'Strømsgodset IF', 'Mjällby AIF', 'Exeter City',\n",
              "       'Cambridge United', 'Grimsby Town', 'FC Vaduz', 'Türkgücü München',\n",
              "       'VfB Lübeck', 'Bolton Wanderers', 'Bradford City',\n",
              "       '1. FC Magdeburg', 'FC Admira Wacker Mödling',\n",
              "       'Hamilton Academical FC', 'Aragua FC', 'Accrington Stanley',\n",
              "       'Swindon Town', 'Carlisle United', 'FC Argeș', 'Port Vale',\n",
              "       'Academica Clinceni', 'Rochdale', 'Gillingham', 'Tranmere Rovers',\n",
              "       'Southend United', '1. FC Saarbrücken', 'Colchester United',\n",
              "       'Mansfield Town', 'Falkenbergs FF', 'SC Verl', 'Varbergs BoIS',\n",
              "       'Crawley Town', 'Sandefjord Fotball', 'Newport County',\n",
              "       'Bohemian FC', 'Ross County FC', 'Scunthorpe United', 'Morecambe',\n",
              "       'Walsall', 'Leyton Orient', 'Stevenage', 'Barrow', 'Derry City',\n",
              "       'Llaneros de Guanare', 'Sligo Rovers', 'Zamora FC',\n",
              "       \"St. Patrick's Athletic\", 'Cork City', 'Shelbourne FC',\n",
              "       'Harrogate Town', 'Waterford FC', 'Finn Harps'], dtype=object)"
            ]
          },
          "metadata": {},
          "execution_count": 38
        }
      ]
    },
    {
      "cell_type": "code",
      "source": [
        "df1['Composure'].dtype"
      ],
      "metadata": {
        "colab": {
          "base_uri": "https://localhost:8080/"
        },
        "id": "EpMyvLyO0Syk",
        "outputId": "af423411-8355-4b94-b8b4-8d3049f16cfb"
      },
      "execution_count": 39,
      "outputs": [
        {
          "output_type": "execute_result",
          "data": {
            "text/plain": [
              "dtype('int64')"
            ]
          },
          "metadata": {},
          "execution_count": 39
        }
      ]
    },
    {
      "cell_type": "code",
      "source": [
        "df1['Composure'].unique()"
      ],
      "metadata": {
        "colab": {
          "base_uri": "https://localhost:8080/"
        },
        "id": "Ppyyi6Ud0vtb",
        "outputId": "976a9db3-649c-4ccc-c3e0-2afcb7347149"
      },
      "execution_count": 40,
      "outputs": [
        {
          "output_type": "execute_result",
          "data": {
            "text/plain": [
              "array([96, 95, 68, 91, 93, 88, 90, 65, 84, 70, 66, 80, 85, 69, 82, 89, 81,\n",
              "       87, 83, 86, 67, 92, 94, 57, 78, 79, 75, 45, 61, 76, 58, 62, 77, 74,\n",
              "       59, 55, 48, 40, 64, 73, 39, 71, 72, 63, 60, 52, 53, 56, 44, 54, 41,\n",
              "       32, 49, 46, 31, 51, 50, 25, 18, 38, 30, 24, 21, 36, 33, 26, 23, 47,\n",
              "       22, 28, 34, 35, 37, 43, 27, 12, 42, 17, 29, 13, 19, 14, 16, 20, 15])"
            ]
          },
          "metadata": {},
          "execution_count": 40
        }
      ]
    },
    {
      "cell_type": "code",
      "source": [
        "df1['Contract'].dtype"
      ],
      "metadata": {
        "colab": {
          "base_uri": "https://localhost:8080/"
        },
        "id": "BGoFlPAT0y36",
        "outputId": "0a17b20f-454c-4541-85b9-92d417bbdcd3"
      },
      "execution_count": 41,
      "outputs": [
        {
          "output_type": "execute_result",
          "data": {
            "text/plain": [
              "dtype('O')"
            ]
          },
          "metadata": {},
          "execution_count": 41
        }
      ]
    },
    {
      "cell_type": "code",
      "source": [
        "df1['Contract'].unique()"
      ],
      "metadata": {
        "colab": {
          "base_uri": "https://localhost:8080/"
        },
        "id": "nTCgbagV3Qrj",
        "outputId": "84c03d0e-e395-48e1-f3e9-e21fa613ded4"
      },
      "execution_count": 42,
      "outputs": [
        {
          "output_type": "execute_result",
          "data": {
            "text/plain": [
              "array(['2004 ~ 2021', '2018 ~ 2022', '2014 ~ 2023', '2015 ~ 2023',\n",
              "       '2017 ~ 2022', '2017 ~ 2023', '2018 ~ 2024', '2014 ~ 2022',\n",
              "       '2018 ~ 2023', '2016 ~ 2023', '2013 ~ 2023', '2011 ~ 2023',\n",
              "       '2009 ~ 2022', '2005 ~ 2021', '2011 ~ 2021', '2015 ~ 2022',\n",
              "       '2017 ~ 2024', '2010 ~ 2024', '2012 ~ 2021', '2019 ~ 2024',\n",
              "       '2015 ~ 2024', '2017 ~ 2025', '2020 ~ 2025', '2019 ~ 2023',\n",
              "       '2008 ~ 2023', '2015 ~ 2021', '2020 ~ 2022', '2012 ~ 2022',\n",
              "       '2016 ~ 2025', '2013 ~ 2022', '2011 ~ 2022', '2012 ~ 2024',\n",
              "       '2016 ~ 2021', '2012 ~ 2023', '2008 ~ 2022', '2019 ~ 2022',\n",
              "       '2017 ~ 2021', '2013 ~ 2024', '2020 ~ 2024', '2010 ~ 2022',\n",
              "       '2020 ~ 2021', '2011 ~ 2024', '2020 ~ 2023', '2014 ~ 2024',\n",
              "       '2013 ~ 2026', '2016 ~ 2022', '2010 ~ 2021', '2013 ~ 2021',\n",
              "       '2019 ~ 2025', '2018 ~ 2025', '2016 ~ 2024', '2018 ~ 2021',\n",
              "       '2009 ~ 2024', '2007 ~ 2022', 'Jun 30, 2021 On Loan',\n",
              "       '2009 ~ 2021', '2019 ~ 2021', '2019 ~ 2026', 'Free', '2012 ~ 2028',\n",
              "       '2010 ~ 2023', '2014 ~ 2021', '2015 ~ 2025', '2014 ~ 2026',\n",
              "       '2012 ~ 2025', '2017 ~ 2020', '2002 ~ 2022', '2020 ~ 2027',\n",
              "       '2013 ~ 2025', 'Dec 31, 2020 On Loan', '2019 ~ 2020',\n",
              "       '2011 ~ 2025', '2016 ~ 2020', '2007 ~ 2021', '2020 ~ 2026',\n",
              "       '2010 ~ 2025', '2009 ~ 2023', '2008 ~ 2021', '2020 ~ 2020',\n",
              "       '2016 ~ 2026', 'Jan 30, 2021 On Loan', '2012 ~ 2020',\n",
              "       '2014 ~ 2025', 'Jun 30, 2022 On Loan', '2015 ~ 2020',\n",
              "       'May 31, 2021 On Loan', '2018 ~ 2020', '2014 ~ 2020',\n",
              "       '2013 ~ 2020', '2006 ~ 2024', 'Jul 5, 2021 On Loan',\n",
              "       'Dec 31, 2021 On Loan', '2004 ~ 2025', '2011 ~ 2020',\n",
              "       'Jul 1, 2021 On Loan', 'Jan 1, 2021 On Loan', '2006 ~ 2023',\n",
              "       'Aug 31, 2021 On Loan', '2006 ~ 2021', '2005 ~ 2023',\n",
              "       '2003 ~ 2020', '2009 ~ 2020', '2002 ~ 2020', '2005 ~ 2020',\n",
              "       '2005 ~ 2022', 'Jan 31, 2021 On Loan', '2010 ~ 2020',\n",
              "       'Dec 30, 2021 On Loan', '2008 ~ 2020', '2007 ~ 2020',\n",
              "       '2003 ~ 2021', 'Jun 23, 2021 On Loan', 'Jan 3, 2021 On Loan',\n",
              "       'Nov 27, 2021 On Loan', '2002 ~ 2021', 'Jan 17, 2021 On Loan',\n",
              "       'Jun 30, 2023 On Loan', '1998 ~ 2021', '2003 ~ 2022',\n",
              "       '2007 ~ 2023', 'Jul 31, 2021 On Loan', 'Nov 22, 2020 On Loan',\n",
              "       'May 31, 2022 On Loan', '2006 ~ 2020', 'Dec 30, 2020 On Loan',\n",
              "       '2007 ~ 2025', 'Jan 4, 2021 On Loan', 'Nov 30, 2020 On Loan',\n",
              "       '2004 ~ 2020', '2009 ~ 2025', 'Aug 1, 2021 On Loan'], dtype=object)"
            ]
          },
          "metadata": {},
          "execution_count": 42
        }
      ]
    },
    {
      "cell_type": "code",
      "source": [
        "\n",
        "\n",
        "\n",
        "# Extract valid date ranges\n",
        "df1['start_date'] = df1['Contract'].str.extract(r'(\\d{4}) ~')\n",
        "df1['end_date'] = df1['Contract'].str.extract(r'~ (\\d{4})')\n",
        "\n",
        "# Handle cases with 'On Loan' or 'Free'\n",
        "df1.loc[df1['Contract'].str.contains('On Loan'), ['start_date', 'end_date']] = np.nan\n",
        "df1.loc[df1['Contract'].str.contains('Free'), ['start_date', 'end_date']] = np.nan\n",
        "\n",
        "# Convert columns to datetime format\n",
        "df1['start_date'] = pd.to_numeric(df1['start_date'], errors='coerce')\n",
        "df1['end_date'] = pd.to_numeric(df1['end_date'], errors='coerce')\n",
        "df1['contract Lenght(years)'] = ( df1['end_date']- df1['start_date'])\n",
        "# Convert float values to integers\n",
        "df1['start_date'] = df1['start_date'].astype('Int64')\n",
        "df1['end_date'] = df1['end_date'].astype('Int64')\n",
        "df1['contract Lenght(years)'] = df1['contract Lenght(years)'].astype('Int64')\n",
        "# Display the cleaned DataFrame\n",
        "print(df1[['Contract', 'start_date', 'end_date','contract Lenght(years)']])\n",
        "\n"
      ],
      "metadata": {
        "colab": {
          "base_uri": "https://localhost:8080/"
        },
        "id": "N-bAhMX63UNP",
        "outputId": "bcebd28b-a474-4345-be0f-19b332782696"
      },
      "execution_count": 43,
      "outputs": [
        {
          "output_type": "stream",
          "name": "stdout",
          "text": [
            "          Contract  start_date  end_date  contract Lenght(years)\n",
            "0      2004 ~ 2021        2004      2021                      17\n",
            "1      2018 ~ 2022        2018      2022                       4\n",
            "2      2014 ~ 2023        2014      2023                       9\n",
            "3      2015 ~ 2023        2015      2023                       8\n",
            "4      2017 ~ 2022        2017      2022                       5\n",
            "...            ...         ...       ...                     ...\n",
            "18974  2018 ~ 2022        2018      2022                       4\n",
            "18975  2020 ~ 2021        2020      2021                       1\n",
            "18976  2019 ~ 2020        2019      2020                       1\n",
            "18977  2020 ~ 2022        2020      2022                       2\n",
            "18978  2019 ~ 2023        2019      2023                       4\n",
            "\n",
            "[18979 rows x 4 columns]\n"
          ]
        }
      ]
    },
    {
      "cell_type": "code",
      "source": [
        "df1.sample(2)"
      ],
      "metadata": {
        "colab": {
          "base_uri": "https://localhost:8080/",
          "height": 201
        },
        "id": "3McdwNkc72JL",
        "outputId": "dcd9828a-43ab-4a0b-9fac-dece6a8ad476"
      },
      "execution_count": 44,
      "outputs": [
        {
          "output_type": "execute_result",
          "data": {
            "text/plain": [
              "          ID     Name     LongName  \\\n",
              "4615  199692  H. Mier   Hiram Mier   \n",
              "3055  246242   B. Dia  Boulaye Dia   \n",
              "\n",
              "                                              photoUrl  \\\n",
              "4615  https://cdn.sofifa.com/players/199/692/21_60.png   \n",
              "3055  https://cdn.sofifa.com/players/246/242/21_60.png   \n",
              "\n",
              "                                              playerUrl Nationality  Age  \\\n",
              "4615  http://sofifa.com/player/199692/hiram-mier/210...      Mexico   30   \n",
              "3055  http://sofifa.com/player/246242/boulaye-dia/21...      France   23   \n",
              "\n",
              "      ↓OVA  POT            Club     Contract Positions Height Weight  \\\n",
              "4615    70   70     Guadalajara  2019 ~ 2021        CB  182cm   74kg   \n",
              "3055    73   80  Stade de Reims  2018 ~ 2022        ST  180cm   75kg   \n",
              "\n",
              "     Preferred Foot  BOV Best Position     Joined Loan Date End  Value  Wage  \\\n",
              "4615          Right   70            CB   1-Jan-19           NaN  €1.3M  €22K   \n",
              "3055          Right   75            ST  13-Jul-18           NaN    €6M  €20K   \n",
              "\n",
              "     Release Clause  Attacking  Crossing  Finishing  Heading Accuracy  \\\n",
              "4615          €2.4M        259        49         37                72   \n",
              "3055         €12.1M        310        36         76                69   \n",
              "\n",
              "      Short Passing  Volleys  Skill  Dribbling  Curve  FK Accuracy  \\\n",
              "4615             67       34    242         56     41           35   \n",
              "3055             65       64    279         75     48           42   \n",
              "\n",
              "      Long Passing  Ball Control  Movement  Acceleration  Sprint Speed  \\\n",
              "4615            55            55       314            50            67   \n",
              "3055            41            73       346            74            78   \n",
              "\n",
              "      Agility  Reactions  Balance  Power  Shot Power  Jumping  Stamina  \\\n",
              "4615       66         70       61    313          53       73       67   \n",
              "3055       65         68       61    362          76       70       71   \n",
              "\n",
              "      Strength  Long Shots  Mentality  Aggression  Interceptions  Positioning  \\\n",
              "4615        73          47        286          65             71           45   \n",
              "3055        80          65        278          59             22           74   \n",
              "\n",
              "      Vision  Penalties  Composure  Defending  Marking  Standing Tackle  \\\n",
              "4615      56         49         62        213       70               72   \n",
              "3055      56         67         56         59       28               17   \n",
              "\n",
              "      Sliding Tackle  Goalkeeping  GK Diving  GK Handling  GK Kicking  \\\n",
              "4615              71           59         12           12           7   \n",
              "3055              14           60         11           10          15   \n",
              "\n",
              "      GK Positioning  GK Reflexes  Total Stats  Base Stats  W/F  SM     A/W  \\\n",
              "4615              15           13         1686         358  3 ★  2★     Low   \n",
              "3055              14           10         1694         372  3 ★  3★  Medium   \n",
              "\n",
              "       D/W   IR  PAC  SHO  PAS  DRI  DEF  PHY Hits  start_date  end_date  \\\n",
              "4615  High  1 ★   59   43   57   58   71   70   12        2019      2021   \n",
              "3055  High  1 ★   76   73   52   72   26   73   34        2018      2022   \n",
              "\n",
              "      contract Lenght(years)  \n",
              "4615                       2  \n",
              "3055                       4  "
            ],
            "text/html": [
              "\n",
              "  <div id=\"df-1b5f64a4-d66e-4ffb-bffe-a888a5decf3d\" class=\"colab-df-container\">\n",
              "    <div>\n",
              "<style scoped>\n",
              "    .dataframe tbody tr th:only-of-type {\n",
              "        vertical-align: middle;\n",
              "    }\n",
              "\n",
              "    .dataframe tbody tr th {\n",
              "        vertical-align: top;\n",
              "    }\n",
              "\n",
              "    .dataframe thead th {\n",
              "        text-align: right;\n",
              "    }\n",
              "</style>\n",
              "<table border=\"1\" class=\"dataframe\">\n",
              "  <thead>\n",
              "    <tr style=\"text-align: right;\">\n",
              "      <th></th>\n",
              "      <th>ID</th>\n",
              "      <th>Name</th>\n",
              "      <th>LongName</th>\n",
              "      <th>photoUrl</th>\n",
              "      <th>playerUrl</th>\n",
              "      <th>Nationality</th>\n",
              "      <th>Age</th>\n",
              "      <th>↓OVA</th>\n",
              "      <th>POT</th>\n",
              "      <th>Club</th>\n",
              "      <th>Contract</th>\n",
              "      <th>Positions</th>\n",
              "      <th>Height</th>\n",
              "      <th>Weight</th>\n",
              "      <th>Preferred Foot</th>\n",
              "      <th>BOV</th>\n",
              "      <th>Best Position</th>\n",
              "      <th>Joined</th>\n",
              "      <th>Loan Date End</th>\n",
              "      <th>Value</th>\n",
              "      <th>Wage</th>\n",
              "      <th>Release Clause</th>\n",
              "      <th>Attacking</th>\n",
              "      <th>Crossing</th>\n",
              "      <th>Finishing</th>\n",
              "      <th>Heading Accuracy</th>\n",
              "      <th>Short Passing</th>\n",
              "      <th>Volleys</th>\n",
              "      <th>Skill</th>\n",
              "      <th>Dribbling</th>\n",
              "      <th>Curve</th>\n",
              "      <th>FK Accuracy</th>\n",
              "      <th>Long Passing</th>\n",
              "      <th>Ball Control</th>\n",
              "      <th>Movement</th>\n",
              "      <th>Acceleration</th>\n",
              "      <th>Sprint Speed</th>\n",
              "      <th>Agility</th>\n",
              "      <th>Reactions</th>\n",
              "      <th>Balance</th>\n",
              "      <th>Power</th>\n",
              "      <th>Shot Power</th>\n",
              "      <th>Jumping</th>\n",
              "      <th>Stamina</th>\n",
              "      <th>Strength</th>\n",
              "      <th>Long Shots</th>\n",
              "      <th>Mentality</th>\n",
              "      <th>Aggression</th>\n",
              "      <th>Interceptions</th>\n",
              "      <th>Positioning</th>\n",
              "      <th>Vision</th>\n",
              "      <th>Penalties</th>\n",
              "      <th>Composure</th>\n",
              "      <th>Defending</th>\n",
              "      <th>Marking</th>\n",
              "      <th>Standing Tackle</th>\n",
              "      <th>Sliding Tackle</th>\n",
              "      <th>Goalkeeping</th>\n",
              "      <th>GK Diving</th>\n",
              "      <th>GK Handling</th>\n",
              "      <th>GK Kicking</th>\n",
              "      <th>GK Positioning</th>\n",
              "      <th>GK Reflexes</th>\n",
              "      <th>Total Stats</th>\n",
              "      <th>Base Stats</th>\n",
              "      <th>W/F</th>\n",
              "      <th>SM</th>\n",
              "      <th>A/W</th>\n",
              "      <th>D/W</th>\n",
              "      <th>IR</th>\n",
              "      <th>PAC</th>\n",
              "      <th>SHO</th>\n",
              "      <th>PAS</th>\n",
              "      <th>DRI</th>\n",
              "      <th>DEF</th>\n",
              "      <th>PHY</th>\n",
              "      <th>Hits</th>\n",
              "      <th>start_date</th>\n",
              "      <th>end_date</th>\n",
              "      <th>contract Lenght(years)</th>\n",
              "    </tr>\n",
              "  </thead>\n",
              "  <tbody>\n",
              "    <tr>\n",
              "      <th>4615</th>\n",
              "      <td>199692</td>\n",
              "      <td>H. Mier</td>\n",
              "      <td>Hiram Mier</td>\n",
              "      <td>https://cdn.sofifa.com/players/199/692/21_60.png</td>\n",
              "      <td>http://sofifa.com/player/199692/hiram-mier/210...</td>\n",
              "      <td>Mexico</td>\n",
              "      <td>30</td>\n",
              "      <td>70</td>\n",
              "      <td>70</td>\n",
              "      <td>Guadalajara</td>\n",
              "      <td>2019 ~ 2021</td>\n",
              "      <td>CB</td>\n",
              "      <td>182cm</td>\n",
              "      <td>74kg</td>\n",
              "      <td>Right</td>\n",
              "      <td>70</td>\n",
              "      <td>CB</td>\n",
              "      <td>1-Jan-19</td>\n",
              "      <td>NaN</td>\n",
              "      <td>€1.3M</td>\n",
              "      <td>€22K</td>\n",
              "      <td>€2.4M</td>\n",
              "      <td>259</td>\n",
              "      <td>49</td>\n",
              "      <td>37</td>\n",
              "      <td>72</td>\n",
              "      <td>67</td>\n",
              "      <td>34</td>\n",
              "      <td>242</td>\n",
              "      <td>56</td>\n",
              "      <td>41</td>\n",
              "      <td>35</td>\n",
              "      <td>55</td>\n",
              "      <td>55</td>\n",
              "      <td>314</td>\n",
              "      <td>50</td>\n",
              "      <td>67</td>\n",
              "      <td>66</td>\n",
              "      <td>70</td>\n",
              "      <td>61</td>\n",
              "      <td>313</td>\n",
              "      <td>53</td>\n",
              "      <td>73</td>\n",
              "      <td>67</td>\n",
              "      <td>73</td>\n",
              "      <td>47</td>\n",
              "      <td>286</td>\n",
              "      <td>65</td>\n",
              "      <td>71</td>\n",
              "      <td>45</td>\n",
              "      <td>56</td>\n",
              "      <td>49</td>\n",
              "      <td>62</td>\n",
              "      <td>213</td>\n",
              "      <td>70</td>\n",
              "      <td>72</td>\n",
              "      <td>71</td>\n",
              "      <td>59</td>\n",
              "      <td>12</td>\n",
              "      <td>12</td>\n",
              "      <td>7</td>\n",
              "      <td>15</td>\n",
              "      <td>13</td>\n",
              "      <td>1686</td>\n",
              "      <td>358</td>\n",
              "      <td>3 ★</td>\n",
              "      <td>2★</td>\n",
              "      <td>Low</td>\n",
              "      <td>High</td>\n",
              "      <td>1 ★</td>\n",
              "      <td>59</td>\n",
              "      <td>43</td>\n",
              "      <td>57</td>\n",
              "      <td>58</td>\n",
              "      <td>71</td>\n",
              "      <td>70</td>\n",
              "      <td>12</td>\n",
              "      <td>2019</td>\n",
              "      <td>2021</td>\n",
              "      <td>2</td>\n",
              "    </tr>\n",
              "    <tr>\n",
              "      <th>3055</th>\n",
              "      <td>246242</td>\n",
              "      <td>B. Dia</td>\n",
              "      <td>Boulaye Dia</td>\n",
              "      <td>https://cdn.sofifa.com/players/246/242/21_60.png</td>\n",
              "      <td>http://sofifa.com/player/246242/boulaye-dia/21...</td>\n",
              "      <td>France</td>\n",
              "      <td>23</td>\n",
              "      <td>73</td>\n",
              "      <td>80</td>\n",
              "      <td>Stade de Reims</td>\n",
              "      <td>2018 ~ 2022</td>\n",
              "      <td>ST</td>\n",
              "      <td>180cm</td>\n",
              "      <td>75kg</td>\n",
              "      <td>Right</td>\n",
              "      <td>75</td>\n",
              "      <td>ST</td>\n",
              "      <td>13-Jul-18</td>\n",
              "      <td>NaN</td>\n",
              "      <td>€6M</td>\n",
              "      <td>€20K</td>\n",
              "      <td>€12.1M</td>\n",
              "      <td>310</td>\n",
              "      <td>36</td>\n",
              "      <td>76</td>\n",
              "      <td>69</td>\n",
              "      <td>65</td>\n",
              "      <td>64</td>\n",
              "      <td>279</td>\n",
              "      <td>75</td>\n",
              "      <td>48</td>\n",
              "      <td>42</td>\n",
              "      <td>41</td>\n",
              "      <td>73</td>\n",
              "      <td>346</td>\n",
              "      <td>74</td>\n",
              "      <td>78</td>\n",
              "      <td>65</td>\n",
              "      <td>68</td>\n",
              "      <td>61</td>\n",
              "      <td>362</td>\n",
              "      <td>76</td>\n",
              "      <td>70</td>\n",
              "      <td>71</td>\n",
              "      <td>80</td>\n",
              "      <td>65</td>\n",
              "      <td>278</td>\n",
              "      <td>59</td>\n",
              "      <td>22</td>\n",
              "      <td>74</td>\n",
              "      <td>56</td>\n",
              "      <td>67</td>\n",
              "      <td>56</td>\n",
              "      <td>59</td>\n",
              "      <td>28</td>\n",
              "      <td>17</td>\n",
              "      <td>14</td>\n",
              "      <td>60</td>\n",
              "      <td>11</td>\n",
              "      <td>10</td>\n",
              "      <td>15</td>\n",
              "      <td>14</td>\n",
              "      <td>10</td>\n",
              "      <td>1694</td>\n",
              "      <td>372</td>\n",
              "      <td>3 ★</td>\n",
              "      <td>3★</td>\n",
              "      <td>Medium</td>\n",
              "      <td>High</td>\n",
              "      <td>1 ★</td>\n",
              "      <td>76</td>\n",
              "      <td>73</td>\n",
              "      <td>52</td>\n",
              "      <td>72</td>\n",
              "      <td>26</td>\n",
              "      <td>73</td>\n",
              "      <td>34</td>\n",
              "      <td>2018</td>\n",
              "      <td>2022</td>\n",
              "      <td>4</td>\n",
              "    </tr>\n",
              "  </tbody>\n",
              "</table>\n",
              "</div>\n",
              "    <div class=\"colab-df-buttons\">\n",
              "\n",
              "  <div class=\"colab-df-container\">\n",
              "    <button class=\"colab-df-convert\" onclick=\"convertToInteractive('df-1b5f64a4-d66e-4ffb-bffe-a888a5decf3d')\"\n",
              "            title=\"Convert this dataframe to an interactive table.\"\n",
              "            style=\"display:none;\">\n",
              "\n",
              "  <svg xmlns=\"http://www.w3.org/2000/svg\" height=\"24px\" viewBox=\"0 -960 960 960\">\n",
              "    <path d=\"M120-120v-720h720v720H120Zm60-500h600v-160H180v160Zm220 220h160v-160H400v160Zm0 220h160v-160H400v160ZM180-400h160v-160H180v160Zm440 0h160v-160H620v160ZM180-180h160v-160H180v160Zm440 0h160v-160H620v160Z\"/>\n",
              "  </svg>\n",
              "    </button>\n",
              "\n",
              "  <style>\n",
              "    .colab-df-container {\n",
              "      display:flex;\n",
              "      gap: 12px;\n",
              "    }\n",
              "\n",
              "    .colab-df-convert {\n",
              "      background-color: #E8F0FE;\n",
              "      border: none;\n",
              "      border-radius: 50%;\n",
              "      cursor: pointer;\n",
              "      display: none;\n",
              "      fill: #1967D2;\n",
              "      height: 32px;\n",
              "      padding: 0 0 0 0;\n",
              "      width: 32px;\n",
              "    }\n",
              "\n",
              "    .colab-df-convert:hover {\n",
              "      background-color: #E2EBFA;\n",
              "      box-shadow: 0px 1px 2px rgba(60, 64, 67, 0.3), 0px 1px 3px 1px rgba(60, 64, 67, 0.15);\n",
              "      fill: #174EA6;\n",
              "    }\n",
              "\n",
              "    .colab-df-buttons div {\n",
              "      margin-bottom: 4px;\n",
              "    }\n",
              "\n",
              "    [theme=dark] .colab-df-convert {\n",
              "      background-color: #3B4455;\n",
              "      fill: #D2E3FC;\n",
              "    }\n",
              "\n",
              "    [theme=dark] .colab-df-convert:hover {\n",
              "      background-color: #434B5C;\n",
              "      box-shadow: 0px 1px 3px 1px rgba(0, 0, 0, 0.15);\n",
              "      filter: drop-shadow(0px 1px 2px rgba(0, 0, 0, 0.3));\n",
              "      fill: #FFFFFF;\n",
              "    }\n",
              "  </style>\n",
              "\n",
              "    <script>\n",
              "      const buttonEl =\n",
              "        document.querySelector('#df-1b5f64a4-d66e-4ffb-bffe-a888a5decf3d button.colab-df-convert');\n",
              "      buttonEl.style.display =\n",
              "        google.colab.kernel.accessAllowed ? 'block' : 'none';\n",
              "\n",
              "      async function convertToInteractive(key) {\n",
              "        const element = document.querySelector('#df-1b5f64a4-d66e-4ffb-bffe-a888a5decf3d');\n",
              "        const dataTable =\n",
              "          await google.colab.kernel.invokeFunction('convertToInteractive',\n",
              "                                                    [key], {});\n",
              "        if (!dataTable) return;\n",
              "\n",
              "        const docLinkHtml = 'Like what you see? Visit the ' +\n",
              "          '<a target=\"_blank\" href=https://colab.research.google.com/notebooks/data_table.ipynb>data table notebook</a>'\n",
              "          + ' to learn more about interactive tables.';\n",
              "        element.innerHTML = '';\n",
              "        dataTable['output_type'] = 'display_data';\n",
              "        await google.colab.output.renderOutput(dataTable, element);\n",
              "        const docLink = document.createElement('div');\n",
              "        docLink.innerHTML = docLinkHtml;\n",
              "        element.appendChild(docLink);\n",
              "      }\n",
              "    </script>\n",
              "  </div>\n",
              "\n",
              "\n",
              "<div id=\"df-36ff434e-0156-4f44-90bf-9f12754d3826\">\n",
              "  <button class=\"colab-df-quickchart\" onclick=\"quickchart('df-36ff434e-0156-4f44-90bf-9f12754d3826')\"\n",
              "            title=\"Suggest charts\"\n",
              "            style=\"display:none;\">\n",
              "\n",
              "<svg xmlns=\"http://www.w3.org/2000/svg\" height=\"24px\"viewBox=\"0 0 24 24\"\n",
              "     width=\"24px\">\n",
              "    <g>\n",
              "        <path d=\"M19 3H5c-1.1 0-2 .9-2 2v14c0 1.1.9 2 2 2h14c1.1 0 2-.9 2-2V5c0-1.1-.9-2-2-2zM9 17H7v-7h2v7zm4 0h-2V7h2v10zm4 0h-2v-4h2v4z\"/>\n",
              "    </g>\n",
              "</svg>\n",
              "  </button>\n",
              "\n",
              "<style>\n",
              "  .colab-df-quickchart {\n",
              "      --bg-color: #E8F0FE;\n",
              "      --fill-color: #1967D2;\n",
              "      --hover-bg-color: #E2EBFA;\n",
              "      --hover-fill-color: #174EA6;\n",
              "      --disabled-fill-color: #AAA;\n",
              "      --disabled-bg-color: #DDD;\n",
              "  }\n",
              "\n",
              "  [theme=dark] .colab-df-quickchart {\n",
              "      --bg-color: #3B4455;\n",
              "      --fill-color: #D2E3FC;\n",
              "      --hover-bg-color: #434B5C;\n",
              "      --hover-fill-color: #FFFFFF;\n",
              "      --disabled-bg-color: #3B4455;\n",
              "      --disabled-fill-color: #666;\n",
              "  }\n",
              "\n",
              "  .colab-df-quickchart {\n",
              "    background-color: var(--bg-color);\n",
              "    border: none;\n",
              "    border-radius: 50%;\n",
              "    cursor: pointer;\n",
              "    display: none;\n",
              "    fill: var(--fill-color);\n",
              "    height: 32px;\n",
              "    padding: 0;\n",
              "    width: 32px;\n",
              "  }\n",
              "\n",
              "  .colab-df-quickchart:hover {\n",
              "    background-color: var(--hover-bg-color);\n",
              "    box-shadow: 0 1px 2px rgba(60, 64, 67, 0.3), 0 1px 3px 1px rgba(60, 64, 67, 0.15);\n",
              "    fill: var(--button-hover-fill-color);\n",
              "  }\n",
              "\n",
              "  .colab-df-quickchart-complete:disabled,\n",
              "  .colab-df-quickchart-complete:disabled:hover {\n",
              "    background-color: var(--disabled-bg-color);\n",
              "    fill: var(--disabled-fill-color);\n",
              "    box-shadow: none;\n",
              "  }\n",
              "\n",
              "  .colab-df-spinner {\n",
              "    border: 2px solid var(--fill-color);\n",
              "    border-color: transparent;\n",
              "    border-bottom-color: var(--fill-color);\n",
              "    animation:\n",
              "      spin 1s steps(1) infinite;\n",
              "  }\n",
              "\n",
              "  @keyframes spin {\n",
              "    0% {\n",
              "      border-color: transparent;\n",
              "      border-bottom-color: var(--fill-color);\n",
              "      border-left-color: var(--fill-color);\n",
              "    }\n",
              "    20% {\n",
              "      border-color: transparent;\n",
              "      border-left-color: var(--fill-color);\n",
              "      border-top-color: var(--fill-color);\n",
              "    }\n",
              "    30% {\n",
              "      border-color: transparent;\n",
              "      border-left-color: var(--fill-color);\n",
              "      border-top-color: var(--fill-color);\n",
              "      border-right-color: var(--fill-color);\n",
              "    }\n",
              "    40% {\n",
              "      border-color: transparent;\n",
              "      border-right-color: var(--fill-color);\n",
              "      border-top-color: var(--fill-color);\n",
              "    }\n",
              "    60% {\n",
              "      border-color: transparent;\n",
              "      border-right-color: var(--fill-color);\n",
              "    }\n",
              "    80% {\n",
              "      border-color: transparent;\n",
              "      border-right-color: var(--fill-color);\n",
              "      border-bottom-color: var(--fill-color);\n",
              "    }\n",
              "    90% {\n",
              "      border-color: transparent;\n",
              "      border-bottom-color: var(--fill-color);\n",
              "    }\n",
              "  }\n",
              "</style>\n",
              "\n",
              "  <script>\n",
              "    async function quickchart(key) {\n",
              "      const quickchartButtonEl =\n",
              "        document.querySelector('#' + key + ' button');\n",
              "      quickchartButtonEl.disabled = true;  // To prevent multiple clicks.\n",
              "      quickchartButtonEl.classList.add('colab-df-spinner');\n",
              "      try {\n",
              "        const charts = await google.colab.kernel.invokeFunction(\n",
              "            'suggestCharts', [key], {});\n",
              "      } catch (error) {\n",
              "        console.error('Error during call to suggestCharts:', error);\n",
              "      }\n",
              "      quickchartButtonEl.classList.remove('colab-df-spinner');\n",
              "      quickchartButtonEl.classList.add('colab-df-quickchart-complete');\n",
              "    }\n",
              "    (() => {\n",
              "      let quickchartButtonEl =\n",
              "        document.querySelector('#df-36ff434e-0156-4f44-90bf-9f12754d3826 button');\n",
              "      quickchartButtonEl.style.display =\n",
              "        google.colab.kernel.accessAllowed ? 'block' : 'none';\n",
              "    })();\n",
              "  </script>\n",
              "</div>\n",
              "\n",
              "    </div>\n",
              "  </div>\n"
            ]
          },
          "metadata": {},
          "execution_count": 44
        }
      ]
    },
    {
      "cell_type": "code",
      "source": [
        "df1['Crossing'].dtype\n"
      ],
      "metadata": {
        "colab": {
          "base_uri": "https://localhost:8080/"
        },
        "id": "LpE44Sqc_pCG",
        "outputId": "cc52a950-3836-4e03-ec3a-fd65a1ed9115"
      },
      "execution_count": 45,
      "outputs": [
        {
          "output_type": "execute_result",
          "data": {
            "text/plain": [
              "dtype('int64')"
            ]
          },
          "metadata": {},
          "execution_count": 45
        }
      ]
    },
    {
      "cell_type": "code",
      "source": [
        "df1['Crossing'].unique()"
      ],
      "metadata": {
        "colab": {
          "base_uri": "https://localhost:8080/"
        },
        "id": "AoTNuXXRB9tn",
        "outputId": "d4d07444-8cc0-4a2d-9bff-08729921de0f"
      },
      "execution_count": 46,
      "outputs": [
        {
          "output_type": "execute_result",
          "data": {
            "text/plain": [
              "array([85, 84, 13, 94, 71, 79, 17, 78, 18, 53, 76, 58, 14, 15, 75, 66, 70,\n",
              "       68, 91, 82, 20, 12, 30, 77, 88, 83, 93, 90, 87, 81, 73, 11, 54, 62,\n",
              "       86, 80, 55, 42, 57, 65, 63, 64, 52, 40, 69, 47, 60,  9, 16, 44, 72,\n",
              "       50, 56, 46, 89, 34, 45, 74, 49, 67, 24, 35, 36, 61, 19, 27, 25, 10,\n",
              "       51, 38, 43, 59, 39, 48, 23,  8, 28, 92, 41, 29, 32, 22, 26, 37, 33,\n",
              "       31, 21,  7,  6])"
            ]
          },
          "metadata": {},
          "execution_count": 46
        }
      ]
    },
    {
      "cell_type": "code",
      "source": [
        "df1['Curve'].dtype"
      ],
      "metadata": {
        "colab": {
          "base_uri": "https://localhost:8080/"
        },
        "id": "u8t2VY4RFWjX",
        "outputId": "41027a52-feef-4044-95f3-9320e3fea721"
      },
      "execution_count": 47,
      "outputs": [
        {
          "output_type": "execute_result",
          "data": {
            "text/plain": [
              "dtype('int64')"
            ]
          },
          "metadata": {},
          "execution_count": 47
        }
      ]
    },
    {
      "cell_type": "code",
      "source": [
        "df1['Curve'].unique()"
      ],
      "metadata": {
        "colab": {
          "base_uri": "https://localhost:8080/"
        },
        "id": "HdP5_tXnFdp-",
        "outputId": "7fefa8a7-5633-403c-932a-f52b7e6359a4"
      },
      "execution_count": 48,
      "outputs": [
        {
          "output_type": "execute_result",
          "data": {
            "text/plain": [
              "array([93, 81, 13, 85, 88, 79, 83, 19, 18, 60, 76, 63, 14, 74, 77, 49, 15,\n",
              "       80, 12, 28, 86, 84, 82, 61, 71, 11, 66, 16, 89, 70, 21, 46, 78, 67,\n",
              "       58, 65, 48, 34, 90, 59, 55, 87, 62,  9, 56, 36, 30, 32, 73, 69, 68,\n",
              "       75, 45, 10, 72, 64, 41, 23, 47, 20, 51, 25, 44, 17, 54, 57, 53, 33,\n",
              "       40, 50, 39, 35, 52, 42, 37, 43, 26, 31, 92, 91, 29, 94, 27, 38, 22,\n",
              "       24,  8,  6,  7,  5,  4])"
            ]
          },
          "metadata": {},
          "execution_count": 48
        }
      ]
    },
    {
      "cell_type": "code",
      "source": [
        "df1['D/W'].dtype"
      ],
      "metadata": {
        "colab": {
          "base_uri": "https://localhost:8080/"
        },
        "id": "jcX4vMZFFmE-",
        "outputId": "377d1140-5bb2-4062-b59e-6a22a505690e"
      },
      "execution_count": 49,
      "outputs": [
        {
          "output_type": "execute_result",
          "data": {
            "text/plain": [
              "dtype('O')"
            ]
          },
          "metadata": {},
          "execution_count": 49
        }
      ]
    },
    {
      "cell_type": "code",
      "source": [
        "df1['D/W'].unique()"
      ],
      "metadata": {
        "colab": {
          "base_uri": "https://localhost:8080/"
        },
        "id": "kY6SLaZTF2me",
        "outputId": "7023fb42-1c4b-4031-b1da-d8d02100ea9f"
      },
      "execution_count": 50,
      "outputs": [
        {
          "output_type": "execute_result",
          "data": {
            "text/plain": [
              "array(['Low', 'Medium', 'High'], dtype=object)"
            ]
          },
          "metadata": {},
          "execution_count": 50
        }
      ]
    },
    {
      "cell_type": "code",
      "source": [
        "df1['DEF'].dtype"
      ],
      "metadata": {
        "colab": {
          "base_uri": "https://localhost:8080/"
        },
        "id": "Jgue9AVnF71H",
        "outputId": "04978f7f-63b7-4576-c5b4-93bc97a16bcc"
      },
      "execution_count": 51,
      "outputs": [
        {
          "output_type": "execute_result",
          "data": {
            "text/plain": [
              "dtype('int64')"
            ]
          },
          "metadata": {},
          "execution_count": 51
        }
      ]
    },
    {
      "cell_type": "code",
      "source": [
        "df1['DEF'].unique()"
      ],
      "metadata": {
        "colab": {
          "base_uri": "https://localhost:8080/"
        },
        "id": "WZtd0rMvGFsP",
        "outputId": "1beb7b17-fc16-4857-ea2f-1504640425e0"
      },
      "execution_count": 52,
      "outputs": [
        {
          "output_type": "execute_result",
          "data": {
            "text/plain": [
              "array([38, 35, 52, 64, 36, 43, 45, 51, 39, 91, 44, 86, 48, 57, 40, 88, 33,\n",
              "       81, 63, 47, 53, 89, 71, 37, 80, 68, 85, 61, 90, 83, 49, 56, 58, 82,\n",
              "       87, 79, 66, 55, 78, 32, 50, 76, 77, 70, 75, 41, 29, 73, 65, 59, 84,\n",
              "       54, 72, 46, 42, 69, 34, 31, 30, 74, 24, 62, 25, 20, 26, 60, 27, 23,\n",
              "       28, 67, 22, 19, 18, 21, 17, 15, 16, 12])"
            ]
          },
          "metadata": {},
          "execution_count": 52
        }
      ]
    },
    {
      "cell_type": "code",
      "source": [
        "df1['DRI'].dtype"
      ],
      "metadata": {
        "colab": {
          "base_uri": "https://localhost:8080/"
        },
        "id": "eOSZL6_GGJ2f",
        "outputId": "1e9bcd1c-68a3-4f8e-eab1-3831e539c905"
      },
      "execution_count": 53,
      "outputs": [
        {
          "output_type": "execute_result",
          "data": {
            "text/plain": [
              "dtype('int64')"
            ]
          },
          "metadata": {},
          "execution_count": 53
        }
      ]
    },
    {
      "cell_type": "code",
      "source": [
        "df1['DRI'].unique()"
      ],
      "metadata": {
        "colab": {
          "base_uri": "https://localhost:8080/"
        },
        "id": "BIJNJ_ReGPIG",
        "outputId": "abc9af2a-2867-438c-d094-2e02884b3960"
      },
      "execution_count": 54,
      "outputs": [
        {
          "output_type": "execute_result",
          "data": {
            "text/plain": [
              "array([95, 89, 90, 88, 94, 85, 91, 71, 72, 86, 73, 81, 84, 92, 80, 68, 77,\n",
              "       87, 60, 83, 78, 64, 67, 79, 69, 66, 65, 70, 82, 75, 61, 74, 54, 76,\n",
              "       49, 63, 59, 62, 56, 55, 50, 57, 58, 52, 53, 51, 48, 47, 46, 39, 44,\n",
              "       43, 36, 40, 45, 41, 37, 34, 35, 42, 32, 38, 31, 33, 30, 29, 28, 25,\n",
              "       27])"
            ]
          },
          "metadata": {},
          "execution_count": 54
        }
      ]
    },
    {
      "cell_type": "code",
      "source": [
        "df1['Defending'].dtype"
      ],
      "metadata": {
        "colab": {
          "base_uri": "https://localhost:8080/"
        },
        "id": "DrSw1CfBGV8P",
        "outputId": "d73bc319-d4c6-4e2c-cfa3-d1f203886692"
      },
      "execution_count": 55,
      "outputs": [
        {
          "output_type": "execute_result",
          "data": {
            "text/plain": [
              "dtype('int64')"
            ]
          },
          "metadata": {},
          "execution_count": 55
        }
      ]
    },
    {
      "cell_type": "code",
      "source": [
        "df1['Defending'].unique()"
      ],
      "metadata": {
        "colab": {
          "base_uri": "https://localhost:8080/"
        },
        "id": "o0kNsN7QGp6Y",
        "outputId": "acd29fc9-631b-44d7-8966-5b0128c89a59"
      },
      "execution_count": 56,
      "outputs": [
        {
          "output_type": "execute_result",
          "data": {
            "text/plain": [
              "array([ 91,  84,  57, 186,  94,  96, 122,  50, 100,  48, 272, 259,  54,\n",
              "        38,  89, 263,  83, 147, 264, 245, 120,  52, 130, 267, 205, 162,\n",
              "       105, 241, 148, 248, 266, 194, 258, 117, 166,  56, 249,  92,  45,\n",
              "       214, 140,  99, 150,  59, 251, 262, 243, 195, 160,  40, 114, 236,\n",
              "       244, 231,  80, 123, 253, 132, 103, 257, 261,  98,  78, 209, 229,\n",
              "       230,  60, 101, 206, 242, 138,  61, 256, 171, 260, 226, 224,  44,\n",
              "       131, 113, 240,  77, 232, 225, 109, 228, 247,  93, 121, 238, 111,\n",
              "       128, 188, 173, 250, 255,  41, 144, 239, 217, 106, 165, 246, 235,\n",
              "       126, 118, 203, 234, 135, 215, 175, 192, 108,  39,  33, 151, 156,\n",
              "       174,  47, 216, 237, 102, 227, 161, 233,  67, 213,  75, 212,  36,\n",
              "       254, 196,  88,  81, 134,  53, 155, 223,  43, 125,  46,  51, 137,\n",
              "        71,  95,  35, 208, 110, 170,  87, 107,  55, 204, 177,  69, 152,\n",
              "       163,  37, 181, 252, 159, 133, 124, 207,  82,  97,  65,  42,  79,\n",
              "       104, 211, 129,  49, 157, 153, 185, 189, 146,  86, 112,  73, 127,\n",
              "        31, 220, 164, 191, 219, 139,  64, 183,  66, 197,  90, 218,  34,\n",
              "        72, 221, 222, 142,  63, 136, 179,  85, 169, 180,  74, 210,  62,\n",
              "       187, 145, 198, 184, 199,  32,  30,  58, 172, 178, 116, 176,  70,\n",
              "       202, 141, 115, 193, 149,  29, 201, 167, 168, 182, 119, 190, 200,\n",
              "        76, 143, 158, 154,  68,  28,  27,  25,  24,  26,  23,  20,  21])"
            ]
          },
          "metadata": {},
          "execution_count": 56
        }
      ]
    },
    {
      "cell_type": "code",
      "source": [
        "df1['Dribbling'].dtype"
      ],
      "metadata": {
        "colab": {
          "base_uri": "https://localhost:8080/"
        },
        "id": "mAJeXVJxG7Ov",
        "outputId": "33c01f6d-b627-479f-81b7-fabb6e92f7f2"
      },
      "execution_count": 57,
      "outputs": [
        {
          "output_type": "execute_result",
          "data": {
            "text/plain": [
              "dtype('int64')"
            ]
          },
          "metadata": {},
          "execution_count": 57
        }
      ]
    },
    {
      "cell_type": "code",
      "source": [
        "df1['Dribbling'].unique()"
      ],
      "metadata": {
        "colab": {
          "base_uri": "https://localhost:8080/"
        },
        "id": "SJAy83ZEHAyx",
        "outputId": "7a17e87b-32ac-4a9e-fe2f-34e03803c993"
      },
      "execution_count": 58,
      "outputs": [
        {
          "output_type": "execute_result",
          "data": {
            "text/plain": [
              "array([96, 88, 12, 95, 85, 90, 27, 92, 21, 70, 91, 69, 13, 30, 87, 65, 79,\n",
              "       83, 23, 80, 18, 93, 77, 63, 76, 16, 59, 81, 11, 84, 10, 75, 78, 55,\n",
              "       15, 86, 66, 67, 28, 57, 64, 82, 62, 19, 53, 72, 50, 26, 43, 89, 73,\n",
              "       20, 14, 68, 71, 74, 22, 54, 56, 61,  9, 24, 60, 25,  8, 17, 47, 58,\n",
              "       46, 42, 51, 52, 49, 44, 35, 48, 39, 29, 40, 45, 34, 31, 33, 38, 41,\n",
              "       32,  7, 37, 36,  5,  6])"
            ]
          },
          "metadata": {},
          "execution_count": 58
        }
      ]
    },
    {
      "cell_type": "code",
      "source": [
        "df1['FK Accuracy'].dtype"
      ],
      "metadata": {
        "colab": {
          "base_uri": "https://localhost:8080/"
        },
        "id": "tbyk0GFkHFHq",
        "outputId": "5a1b92a5-c813-40cd-b91b-be9929fdcea9"
      },
      "execution_count": 59,
      "outputs": [
        {
          "output_type": "execute_result",
          "data": {
            "text/plain": [
              "dtype('int64')"
            ]
          },
          "metadata": {},
          "execution_count": 59
        }
      ]
    },
    {
      "cell_type": "code",
      "source": [
        "df1['FK Accuracy'].unique()"
      ],
      "metadata": {
        "colab": {
          "base_uri": "https://localhost:8080/"
        },
        "id": "wuFs5SENHXTO",
        "outputId": "f7cfb166-24b0-4d4c-c397-1cc258f709fe"
      },
      "execution_count": 60,
      "outputs": [
        {
          "output_type": "execute_result",
          "data": {
            "text/plain": [
              "array([94, 76, 14, 83, 89, 85, 69, 18, 63, 12, 70, 64, 74, 20, 11, 73, 49,\n",
              "       61, 88, 68, 28, 79, 84, 48, 67, 38, 87, 53, 65, 15, 31, 78, 82, 10,\n",
              "       51, 59, 19, 47, 52, 57, 43, 13, 77, 54, 75, 86, 55, 30, 62, 32, 58,\n",
              "       93,  8, 66, 71, 81, 92, 44, 17, 60, 40, 16, 72, 46, 35, 45, 29, 21,\n",
              "       56, 80, 24, 22, 39, 42, 26, 41,  9, 37, 27, 50, 33, 25, 36, 91, 34,\n",
              "       23,  7,  6, 90,  5])"
            ]
          },
          "metadata": {},
          "execution_count": 60
        }
      ]
    },
    {
      "cell_type": "code",
      "source": [
        "df1['Finishing'].dtype"
      ],
      "metadata": {
        "colab": {
          "base_uri": "https://localhost:8080/"
        },
        "id": "xJGIejYVHb6-",
        "outputId": "0998cb67-5fd4-47a5-ab5c-228df915f1c3"
      },
      "execution_count": 61,
      "outputs": [
        {
          "output_type": "execute_result",
          "data": {
            "text/plain": [
              "dtype('int64')"
            ]
          },
          "metadata": {},
          "execution_count": 61
        }
      ]
    },
    {
      "cell_type": "code",
      "source": [
        "df1['Finishing'].unique()"
      ],
      "metadata": {
        "colab": {
          "base_uri": "https://localhost:8080/"
        },
        "id": "SiiDnvNLHg6R",
        "outputId": "1ed8c43d-1f96-4246-c4ad-99273e972985"
      },
      "execution_count": 62,
      "outputs": [
        {
          "output_type": "execute_result",
          "data": {
            "text/plain": [
              "array([95, 11, 82, 87, 94, 91, 13, 14, 52, 90, 64, 88, 65, 85, 66, 84, 10,\n",
              "       22, 76, 81, 56, 79, 57, 45, 77, 63, 86, 80, 15, 33, 67, 12, 72, 92,\n",
              "       93, 51, 46, 60, 75, 55, 73, 83, 50, 42, 39, 40,  9, 68, 48, 37, 70,\n",
              "       78, 69,  8, 53, 89, 25, 62, 71, 74, 44, 26, 19, 32, 18, 61, 58, 30,\n",
              "       54, 36, 29, 16, 38, 59, 27, 34, 47, 20, 31, 49, 43, 41, 28,  5,  7,\n",
              "        6, 21, 17, 35, 23, 24,  4,  3])"
            ]
          },
          "metadata": {},
          "execution_count": 62
        }
      ]
    },
    {
      "cell_type": "code",
      "source": [
        "df1['GK Diving'].dtype"
      ],
      "metadata": {
        "colab": {
          "base_uri": "https://localhost:8080/"
        },
        "id": "uBa5BVEWHn6_",
        "outputId": "d77951e9-9e98-4778-fed8-c0b2a4fd0e5c"
      },
      "execution_count": 63,
      "outputs": [
        {
          "output_type": "execute_result",
          "data": {
            "text/plain": [
              "dtype('int64')"
            ]
          },
          "metadata": {},
          "execution_count": 63
        }
      ]
    },
    {
      "cell_type": "code",
      "source": [
        "df1['GK Diving'].unique()"
      ],
      "metadata": {
        "colab": {
          "base_uri": "https://localhost:8080/"
        },
        "id": "S6eWSXCrHxb0",
        "outputId": "9d4da42d-f67a-4bdc-c69f-f268dcf18d1d"
      },
      "execution_count": 64,
      "outputs": [
        {
          "output_type": "execute_result",
          "data": {
            "text/plain": [
              "array([ 6,  7, 87, 15,  9, 14, 86, 13, 88, 10, 84, 11,  8,  5, 12, 90,  3,\n",
              "       27, 89, 80, 16, 85,  2, 82, 79, 83,  4, 81, 77, 18, 78, 17, 75, 74,\n",
              "       76, 73, 71, 72, 52, 68, 70, 54, 69, 32, 66, 65, 67, 61, 22, 64, 23,\n",
              "       40, 63, 55, 19, 50, 62, 58, 60, 59, 56, 57, 53, 51, 49, 46, 48, 47,\n",
              "       45])"
            ]
          },
          "metadata": {},
          "execution_count": 64
        }
      ]
    },
    {
      "cell_type": "code",
      "source": [
        "df1['GK Handling'].dtype"
      ],
      "metadata": {
        "colab": {
          "base_uri": "https://localhost:8080/"
        },
        "id": "2ZqzWle3Hzn3",
        "outputId": "9e0f5f05-03d9-4f1e-e495-4adedd3cd805"
      },
      "execution_count": 65,
      "outputs": [
        {
          "output_type": "execute_result",
          "data": {
            "text/plain": [
              "dtype('int64')"
            ]
          },
          "metadata": {},
          "execution_count": 65
        }
      ]
    },
    {
      "cell_type": "code",
      "source": [
        "df1['GK Handling'].unique()"
      ],
      "metadata": {
        "colab": {
          "base_uri": "https://localhost:8080/"
        },
        "id": "iTgErxLUH5Bf",
        "outputId": "4df319ee-f8b5-4232-beb8-783f121bea94"
      },
      "execution_count": 66,
      "outputs": [
        {
          "output_type": "execute_result",
          "data": {
            "text/plain": [
              "array([11, 92, 13,  9,  6, 14, 88,  5, 85, 10, 89, 87,  8, 15, 12,  4, 82,\n",
              "       81,  3,  7, 25, 86, 83,  2, 80, 16, 77, 79, 78, 76, 84, 75, 72, 74,\n",
              "       71, 69, 73, 70, 67, 68, 65, 61, 62, 64, 41, 63, 66, 33, 22, 17, 57,\n",
              "       18, 54, 55, 59, 49, 19, 40, 60, 58, 43, 45, 53, 47, 56, 51, 52, 50,\n",
              "       48, 46])"
            ]
          },
          "metadata": {},
          "execution_count": 66
        }
      ]
    },
    {
      "cell_type": "code",
      "source": [
        "df1['GK Kicking'].dtype"
      ],
      "metadata": {
        "colab": {
          "base_uri": "https://localhost:8080/"
        },
        "id": "ymwDaMHKH7CG",
        "outputId": "7cb31cd8-c48a-4e75-9c94-ab2bfbe724ae"
      },
      "execution_count": 67,
      "outputs": [
        {
          "output_type": "execute_result",
          "data": {
            "text/plain": [
              "dtype('int64')"
            ]
          },
          "metadata": {},
          "execution_count": 67
        }
      ]
    },
    {
      "cell_type": "code",
      "source": [
        "df1['GK Kicking'].unique()"
      ],
      "metadata": {
        "colab": {
          "base_uri": "https://localhost:8080/"
        },
        "id": "f44aJxkLIAG3",
        "outputId": "1363c60e-c3c7-4df3-ffe3-d6412e68701a"
      },
      "execution_count": 68,
      "outputs": [
        {
          "output_type": "execute_result",
          "data": {
            "text/plain": [
              "array([15, 78,  5, 12,  9, 85,  7, 88, 13, 16, 74, 91,  6, 10,  4, 93, 11,\n",
              "       73, 14, 75,  2, 31, 68, 76,  8, 80, 82,  3, 87, 72, 83, 77, 79, 81,\n",
              "       69, 71, 20, 67, 70, 64, 65, 63, 44, 60, 84, 54, 48, 61, 18, 66, 17,\n",
              "       59, 62, 90, 43, 38, 58, 57, 28, 40, 53, 23, 47, 46, 19, 51, 55, 52,\n",
              "       56, 22, 30, 25, 42, 35, 21, 49, 50, 36, 45])"
            ]
          },
          "metadata": {},
          "execution_count": 68
        }
      ]
    },
    {
      "cell_type": "code",
      "source": [
        "df1['GK Positioning'].dtype"
      ],
      "metadata": {
        "colab": {
          "base_uri": "https://localhost:8080/"
        },
        "id": "YoLt8wOaIM-P",
        "outputId": "fa77a7e5-2cde-46f0-9822-8209e9ffc9e0"
      },
      "execution_count": 69,
      "outputs": [
        {
          "output_type": "execute_result",
          "data": {
            "text/plain": [
              "dtype('int64')"
            ]
          },
          "metadata": {},
          "execution_count": 69
        }
      ]
    },
    {
      "cell_type": "code",
      "source": [
        "df1['GK Positioning'].unique()"
      ],
      "metadata": {
        "colab": {
          "base_uri": "https://localhost:8080/"
        },
        "id": "C3TGBThkIVEv",
        "outputId": "a148e789-31f4-408e-9c5b-50913439502b"
      },
      "execution_count": 70,
      "outputs": [
        {
          "output_type": "execute_result",
          "data": {
            "text/plain": [
              "array([14, 90, 10, 15,  8, 11, 91, 88,  7, 12, 85, 86,  5, 89, 13,  6, 82,\n",
              "        4,  9, 87, 33, 84, 16, 83,  2,  3, 79, 81, 80, 76, 78, 19, 77, 17,\n",
              "       75, 74, 73, 71, 18, 72, 70, 69, 66, 68, 40, 64, 20, 32, 67, 62, 65,\n",
              "       63, 24, 23, 50, 55, 58, 51, 59, 56, 61, 57, 60, 46, 54, 53, 52, 47,\n",
              "       49, 48, 43, 45, 42, 38, 44, 41])"
            ]
          },
          "metadata": {},
          "execution_count": 70
        }
      ]
    },
    {
      "cell_type": "code",
      "source": [
        "df1['GK Reflexes'].dtype"
      ],
      "metadata": {
        "colab": {
          "base_uri": "https://localhost:8080/"
        },
        "id": "ZBRFV06nIW2X",
        "outputId": "d56c1633-9f04-4a9a-863d-6dde9e1858ba"
      },
      "execution_count": 71,
      "outputs": [
        {
          "output_type": "execute_result",
          "data": {
            "text/plain": [
              "dtype('int64')"
            ]
          },
          "metadata": {},
          "execution_count": 71
        }
      ]
    },
    {
      "cell_type": "code",
      "source": [
        "df1['GK Reflexes'].unique()"
      ],
      "metadata": {
        "colab": {
          "base_uri": "https://localhost:8080/"
        },
        "id": "ifLGKSySIdGy",
        "outputId": "8b1bb04e-fbc6-45f9-8d27-b3e3a648d21b"
      },
      "execution_count": 72,
      "outputs": [
        {
          "output_type": "execute_result",
          "data": {
            "text/plain": [
              "array([ 8, 11, 90, 13, 10, 14, 89,  6, 12, 88,  7,  9, 15,  5,  3, 37, 85,\n",
              "       86,  4, 16, 82, 83, 84, 87, 78, 80, 20, 18, 79, 81, 19, 77, 17,  2,\n",
              "       74, 71, 76, 73, 75, 72, 69, 46, 66, 51, 70, 34, 67, 23, 68, 45, 65,\n",
              "       21, 59, 54, 47, 61, 64, 63, 62, 60, 58, 56, 57, 55, 53, 50, 52, 49,\n",
              "       48, 44])"
            ]
          },
          "metadata": {},
          "execution_count": 72
        }
      ]
    },
    {
      "cell_type": "code",
      "source": [
        "df1['Goalkeeping'].dtype"
      ],
      "metadata": {
        "colab": {
          "base_uri": "https://localhost:8080/"
        },
        "id": "op3YCCf_IgeH",
        "outputId": "2e4d83fd-89d0-4c4b-ded1-d98bd48d3bf7"
      },
      "execution_count": 73,
      "outputs": [
        {
          "output_type": "execute_result",
          "data": {
            "text/plain": [
              "dtype('int64')"
            ]
          },
          "metadata": {},
          "execution_count": 73
        }
      ]
    },
    {
      "cell_type": "code",
      "source": [
        "df1['Goalkeeping'].unique()"
      ],
      "metadata": {
        "colab": {
          "base_uri": "https://localhost:8080/"
        },
        "id": "loy0FdneImMg",
        "outputId": "bbec705d-b935-4294-93b4-4f2665e1d64c"
      },
      "execution_count": 74,
      "outputs": [
        {
          "output_type": "execute_result",
          "data": {
            "text/plain": [
              "array([ 54,  58, 437,  56,  59,  51,  62, 439,  42,  67, 420, 440,  41,\n",
              "        46,  63,  60,  26, 435, 424,  43,  45,  52,  50,  47,  53,  44,\n",
              "       418,  15,  48, 416, 153, 413,  65,  64,  20, 423,  49,  55,  66,\n",
              "        40,  57, 421,  13,  39,  61, 419,  21, 409,  37, 406, 410,  36,\n",
              "       408,  34,  29, 405, 403, 402, 407,  16,  69, 391, 401, 398, 400,\n",
              "        22,  68, 396,  38,  78,  73, 399, 390, 393, 395, 397,  80,  70,\n",
              "       389, 394, 388,  27,  30,  75,  71, 386,  74, 378, 385, 384, 380,\n",
              "       392, 381,  10, 387, 383, 375, 382,  19, 379,  24, 369, 356, 368,\n",
              "       373, 370, 372,  72, 374, 376, 364,  25, 367,  17, 377, 371, 365,\n",
              "       352, 362, 359, 363, 366,  82,  35, 361, 358,  76, 294,  83, 357,\n",
              "       360, 355, 354,  77, 229, 350, 353, 347, 351,  32, 349, 169, 346,\n",
              "       348, 343, 345, 339, 342,  33, 341,  28, 119, 337, 338, 340, 344,\n",
              "       335,  98, 324, 248, 334, 298, 336, 328, 331, 321, 332,  81,  79,\n",
              "       333, 278, 329, 261, 325,  31, 327, 330, 322, 305, 326, 283, 320,\n",
              "       323, 318,  18, 319, 316, 317, 272, 315,  88, 311, 310, 314, 313,\n",
              "       307, 312, 309, 308, 301, 304, 292, 303, 306, 296, 289, 300, 302,\n",
              "       297, 290, 299, 293, 295, 291, 288,  93, 284, 287, 286, 285, 273,\n",
              "       282, 279, 281, 280, 277, 275, 276, 274, 270, 271, 268, 269, 267,\n",
              "       260, 265, 262, 266, 263, 264, 251, 259, 254, 257, 252, 255, 256,\n",
              "       258, 247, 250, 243, 253, 249, 245, 236, 246, 234, 241, 231])"
            ]
          },
          "metadata": {},
          "execution_count": 74
        }
      ]
    },
    {
      "cell_type": "code",
      "source": [
        "df1['Heading Accuracy'].dtype"
      ],
      "metadata": {
        "colab": {
          "base_uri": "https://localhost:8080/"
        },
        "id": "Z0tm1kg4IpXA",
        "outputId": "81f676e6-52d5-4503-a74d-695a54fd77d0"
      },
      "execution_count": 75,
      "outputs": [
        {
          "output_type": "execute_result",
          "data": {
            "text/plain": [
              "dtype('int64')"
            ]
          },
          "metadata": {},
          "execution_count": 75
        }
      ]
    },
    {
      "cell_type": "code",
      "source": [
        "df1['Heading Accuracy'].unique()"
      ],
      "metadata": {
        "colab": {
          "base_uri": "https://localhost:8080/"
        },
        "id": "8jn1YHNAIxt4",
        "outputId": "f872629e-f421-4074-bea4-b7c234431ba2"
      },
      "execution_count": 76,
      "outputs": [
        {
          "output_type": "execute_result",
          "data": {
            "text/plain": [
              "array([70, 90, 15, 55, 62, 85, 59, 19, 73, 11, 87, 84, 80, 13, 25, 91, 92,\n",
              "       78, 46, 54, 72, 64, 14, 10, 61, 58, 83, 38, 69, 51, 67, 86, 75, 68,\n",
              "       16, 81, 21, 79, 53, 65, 82, 12, 42, 48, 88, 66, 76, 74, 52, 23, 40,\n",
              "       49, 60, 44, 20, 37, 71, 17, 45, 77, 50, 63, 43, 39, 57, 56, 47, 24,\n",
              "       18, 31, 28, 35, 34, 41, 36, 93,  7, 30, 89,  8, 26, 33, 27, 32, 22,\n",
              "       29,  9,  5,  6])"
            ]
          },
          "metadata": {},
          "execution_count": 76
        }
      ]
    },
    {
      "cell_type": "code",
      "source": [
        "df1['Height'].dtype"
      ],
      "metadata": {
        "colab": {
          "base_uri": "https://localhost:8080/"
        },
        "id": "ffD06uECI2sR",
        "outputId": "14da8c54-245e-4882-c8bb-94652c55c27c"
      },
      "execution_count": 77,
      "outputs": [
        {
          "output_type": "execute_result",
          "data": {
            "text/plain": [
              "dtype('O')"
            ]
          },
          "metadata": {},
          "execution_count": 77
        }
      ]
    },
    {
      "cell_type": "code",
      "source": [
        "df1['Height'].unique()"
      ],
      "metadata": {
        "colab": {
          "base_uri": "https://localhost:8080/"
        },
        "id": "phAAYLJLJQdo",
        "outputId": "a13d2dde-7479-460b-a052-9932789e6def"
      },
      "execution_count": 78,
      "outputs": [
        {
          "output_type": "execute_result",
          "data": {
            "text/plain": [
              "array(['170cm', '187cm', '188cm', '181cm', '175cm', '184cm', '191cm',\n",
              "       '178cm', '193cm', '185cm', '199cm', '173cm', '168cm', '176cm',\n",
              "       '177cm', '183cm', '180cm', '189cm', '179cm', '195cm', '172cm',\n",
              "       '182cm', '186cm', '192cm', '165cm', '194cm', '167cm', '196cm',\n",
              "       '163cm', '190cm', '174cm', '169cm', '171cm', '197cm', '200cm',\n",
              "       '166cm', '6\\'2\"', '164cm', '198cm', '6\\'3\"', '6\\'5\"', '5\\'11\"',\n",
              "       '6\\'4\"', '6\\'1\"', '6\\'0\"', '5\\'10\"', '5\\'9\"', '5\\'6\"', '5\\'7\"',\n",
              "       '5\\'4\"', '201cm', '158cm', '162cm', '161cm', '160cm', '203cm',\n",
              "       '157cm', '156cm', '202cm', '159cm', '206cm', '155cm'], dtype=object)"
            ]
          },
          "metadata": {},
          "execution_count": 78
        }
      ]
    },
    {
      "cell_type": "code",
      "source": [
        "def convert_height(height):\n",
        "  if \"cm\" in height:\n",
        "    return int(height.strip(\"cm\"))\n",
        "  else:\n",
        "    feet, inches = height.split(\"'\")\n",
        "    total_inches = int(feet)*12 + int(inches.strip('\"'))\n",
        "    return round(total_inches * 2.54)\n",
        "\n",
        "#Apply function into height column\n",
        "df1['Height'] = df1['Height'].apply(convert_height)\n",
        "df1['Height'].unique()"
      ],
      "metadata": {
        "id": "IenGTLjILZdz",
        "colab": {
          "base_uri": "https://localhost:8080/"
        },
        "outputId": "2ff2e4bb-e171-425a-b24a-a3fd3bf48e2b"
      },
      "execution_count": 79,
      "outputs": [
        {
          "output_type": "execute_result",
          "data": {
            "text/plain": [
              "array([170, 187, 188, 181, 175, 184, 191, 178, 193, 185, 199, 173, 168,\n",
              "       176, 177, 183, 180, 189, 179, 195, 172, 182, 186, 192, 165, 194,\n",
              "       167, 196, 163, 190, 174, 169, 171, 197, 200, 166, 164, 198, 201,\n",
              "       158, 162, 161, 160, 203, 157, 156, 202, 159, 206, 155])"
            ]
          },
          "metadata": {},
          "execution_count": 79
        }
      ]
    },
    {
      "cell_type": "markdown",
      "source": [],
      "metadata": {
        "id": "mB2DH8X4yc4d"
      }
    },
    {
      "cell_type": "code",
      "source": [
        "df1['Hits'].dtype"
      ],
      "metadata": {
        "colab": {
          "base_uri": "https://localhost:8080/"
        },
        "id": "O2O0_KqTjeRx",
        "outputId": "417fa436-0a28-43a5-8ed7-bcb0994f65f3"
      },
      "execution_count": 80,
      "outputs": [
        {
          "output_type": "execute_result",
          "data": {
            "text/plain": [
              "dtype('O')"
            ]
          },
          "metadata": {},
          "execution_count": 80
        }
      ]
    },
    {
      "cell_type": "code",
      "source": [
        "df1['Hits'].unique()"
      ],
      "metadata": {
        "colab": {
          "base_uri": "https://localhost:8080/"
        },
        "id": "2guwyYsdJo2c",
        "outputId": "a633dea2-3583-4cf3-e9aa-7bd2c758b227"
      },
      "execution_count": 81,
      "outputs": [
        {
          "output_type": "execute_result",
          "data": {
            "text/plain": [
              "array(['771', '562', '150', '207', '595', '248', '246', '120', '1.6K',\n",
              "       '130', '321', '189', '175', '96', '118', '216', '212', '154',\n",
              "       '205', '202', '339', '408', '103', '332', '86', '173', '161',\n",
              "       '396', '1.1K', '433', '242', '206', '177', '1.5K', '198', '459',\n",
              "       '117', '119', '209', '84', '187', '165', '203', '65', '336', '126',\n",
              "       '313', '124', '145', '538', '182', '101', '45', '377', '99', '194',\n",
              "       '403', '414', '593', '374', '245', '3.2K', '266', '299', '309',\n",
              "       '215', '265', '211', '112', '337', '70', '159', '688', '116', '63',\n",
              "       '144', '123', '71', '224', '113', '168', '61', '89', '137', '278',\n",
              "       '75', '148', '176', '197', '264', '214', '247', '402', '440',\n",
              "       '1.7K', '2.3K', '171', '320', '657', '87', '259', '200', '255',\n",
              "       '253', '196', '60', '97', '85', '169', '256', '132', '239', '166',\n",
              "       '121', '109', '32', '46', '122', '48', '527', '199', '282', '51',\n",
              "       '1.9K', '642', '155', '323', '288', '497', '509', '79', '49',\n",
              "       '270', '511', '80', '128', '115', '156', '204', '143', '140',\n",
              "       '152', '220', '134', '225', '94', '74', '135', '142', '50', '77',\n",
              "       '40', '107', '193', '179', '34', '64', '453', '57', '81', '28',\n",
              "       '78', '133', '43', '425', '88', '42', '36', '233', '376', '210',\n",
              "       '444', '100', '263', '98', '29', '160', '39', '257', '6', '310',\n",
              "       '138', '62', '293', '285', '362', '66', '69', '58', '21', '20',\n",
              "       '131', '38', '406', '68', '108', '110', '93', '512', '443', '306',\n",
              "       '352', '422', '585', '346', '178', '841', '76', '394', '72', '172',\n",
              "       '44', '407', '230', '367', '295', '157', '243', '56', '111', '326',\n",
              "       '679', '18', '92', '59', '25', '184', '53', '12', '90', '55', '73',\n",
              "       '11', '566', '180', '83', '262', '17', '26', '31', '280', '359',\n",
              "       '213', '297', '387', '480', '381', '677', '486', '8', '244', '129',\n",
              "       '388', '275', '319', '2K', '52', '91', '421', '153', '27', '41',\n",
              "       '222', '35', '102', '23', '30', '33', '146', '13', '19', '14',\n",
              "       '106', '276', '568', '353', '47', '478', '249', '254', '369',\n",
              "       '219', '565', '237', '227', '434', '375', '162', '605', '654', '3',\n",
              "       '7', '9', '104', '114', '186', '446', '756', '22', '139', '500',\n",
              "       '67', '147', '149', '16', '82', '54', '37', '15', '1.3K', '3K',\n",
              "       '952', '5', '749', '541', '330', '393', '517', '770', '409', '170',\n",
              "       '125', '283', '342', '363', '580', '105', '217', '24', '141', '10',\n",
              "       '427', '158', '426', '4', '666', '181', '324', '979', '1.4K',\n",
              "       '302', '751', '298', '411', '944', '2', '947', '292', '349', '621',\n",
              "       '1', '2.8K', '338', '287', '261', '218', '1.8K', '240', '279',\n",
              "       '229', '188', '315', '664', '613', '190', '706', '127', '462',\n",
              "       '386', '695', '491', '167', '281', '250', '307', '95', '231',\n",
              "       '174', '680', '633', '221', '348', '602', '183', '653', '195',\n",
              "       '164', '151', '258', '8.4K', '343', '419', '655', '136', '399',\n",
              "       '531', '357', '228', '385', '312', '340', '238', '487', '355',\n",
              "       '499', '4.3K', '296', '515', '943', '1.2K', '903', '335', '191',\n",
              "       '594', '267', '617', '516', '504', '331', '652', '410', '550',\n",
              "       '473', '442', '344', '208', '1K', '2.5K', '273', '485', '826',\n",
              "       '192', '405', '941', '477', '644', '303', '417', '6K', nan, 11.0,\n",
              "       2.0, 1.0, 31.0, 3.0, 10.0, 9.0, 17.0, 7.0, 4.0, 6.0], dtype=object)"
            ]
          },
          "metadata": {},
          "execution_count": 81
        }
      ]
    },
    {
      "cell_type": "code",
      "source": [
        "\n",
        "def convert_to_numeric(hits):\n",
        "  if \"K\" in str(hits):\n",
        "    return float(hits.strip(\"K\")) * 1000\n",
        "  else:\n",
        "    return hits\n",
        "\n",
        "# apply function to Hits column\n",
        "df1['Hits'] = df1['Hits'].apply(convert_to_numeric)\n",
        "\n",
        "\n"
      ],
      "metadata": {
        "id": "KgwzgMGCJuGz"
      },
      "execution_count": 82,
      "outputs": []
    },
    {
      "cell_type": "code",
      "source": [
        "df1['Hits']= df['Hits'].fillna(0)"
      ],
      "metadata": {
        "id": "-L3ZsorDxC6F"
      },
      "execution_count": 83,
      "outputs": []
    },
    {
      "cell_type": "code",
      "source": [
        "def convert_to_numeric(hits):\n",
        "  if \"K\" in str(hits):\n",
        "    return float(hits.strip(\"K\")) * 1000\n",
        "  else:\n",
        "    return hits\n",
        "\n",
        "# apply function to Hits column\n",
        "df1['Hits'] = df1['Hits'].apply(convert_to_numeric)"
      ],
      "metadata": {
        "id": "4SjTj3MbyiNY"
      },
      "execution_count": 84,
      "outputs": []
    },
    {
      "cell_type": "code",
      "source": [
        "df1['Hits'].unique()"
      ],
      "metadata": {
        "colab": {
          "base_uri": "https://localhost:8080/"
        },
        "id": "NGYUgVCDxCnb",
        "outputId": "5919caf1-6c61-4cdf-a3a6-183181ec03f8"
      },
      "execution_count": 85,
      "outputs": [
        {
          "output_type": "execute_result",
          "data": {
            "text/plain": [
              "array(['771', '562', '150', '207', '595', '248', '246', '120', 1600.0,\n",
              "       '130', '321', '189', '175', '96', '118', '216', '212', '154',\n",
              "       '205', '202', '339', '408', '103', '332', '86', '173', '161',\n",
              "       '396', 1100.0, '433', '242', '206', '177', 1500.0, '198', '459',\n",
              "       '117', '119', '209', '84', '187', '165', '203', '65', '336', '126',\n",
              "       '313', '124', '145', '538', '182', '101', '45', '377', '99', '194',\n",
              "       '403', '414', '593', '374', '245', 3200.0, '266', '299', '309',\n",
              "       '215', '265', '211', '112', '337', '70', '159', '688', '116', '63',\n",
              "       '144', '123', '71', '224', '113', '168', '61', '89', '137', '278',\n",
              "       '75', '148', '176', '197', '264', '214', '247', '402', '440',\n",
              "       1700.0, 2300.0, '171', '320', '657', '87', '259', '200', '255',\n",
              "       '253', '196', '60', '97', '85', '169', '256', '132', '239', '166',\n",
              "       '121', '109', '32', '46', '122', '48', '527', '199', '282', '51',\n",
              "       1900.0, '642', '155', '323', '288', '497', '509', '79', '49',\n",
              "       '270', '511', '80', '128', '115', '156', '204', '143', '140',\n",
              "       '152', '220', '134', '225', '94', '74', '135', '142', '50', '77',\n",
              "       '40', '107', '193', '179', '34', '64', '453', '57', '81', '28',\n",
              "       '78', '133', '43', '425', '88', '42', '36', '233', '376', '210',\n",
              "       '444', '100', '263', '98', '29', '160', '39', '257', '6', '310',\n",
              "       '138', '62', '293', '285', '362', '66', '69', '58', '21', '20',\n",
              "       '131', '38', '406', '68', '108', '110', '93', '512', '443', '306',\n",
              "       '352', '422', '585', '346', '178', '841', '76', '394', '72', '172',\n",
              "       '44', '407', '230', '367', '295', '157', '243', '56', '111', '326',\n",
              "       '679', '18', '92', '59', '25', '184', '53', '12', '90', '55', '73',\n",
              "       '11', '566', '180', '83', '262', '17', '26', '31', '280', '359',\n",
              "       '213', '297', '387', '480', '381', '677', '486', '8', '244', '129',\n",
              "       '388', '275', '319', 2000.0, '52', '91', '421', '153', '27', '41',\n",
              "       '222', '35', '102', '23', '30', '33', '146', '13', '19', '14',\n",
              "       '106', '276', '568', '353', '47', '478', '249', '254', '369',\n",
              "       '219', '565', '237', '227', '434', '375', '162', '605', '654', '3',\n",
              "       '7', '9', '104', '114', '186', '446', '756', '22', '139', '500',\n",
              "       '67', '147', '149', '16', '82', '54', '37', '15', 1300.0, 3000.0,\n",
              "       '952', '5', '749', '541', '330', '393', '517', '770', '409', '170',\n",
              "       '125', '283', '342', '363', '580', '105', '217', '24', '141', '10',\n",
              "       '427', '158', '426', '4', '666', '181', '324', '979', 1400.0,\n",
              "       '302', '751', '298', '411', '944', '2', '947', '292', '349', '621',\n",
              "       '1', 2800.0, '338', '287', '261', '218', 1800.0, '240', '279',\n",
              "       '229', '188', '315', '664', '613', '190', '706', '127', '462',\n",
              "       '386', '695', '491', '167', '281', '250', '307', '95', '231',\n",
              "       '174', '680', '633', '221', '348', '602', '183', '653', '195',\n",
              "       '164', '151', '258', 8400.0, '343', '419', '655', '136', '399',\n",
              "       '531', '357', '228', '385', '312', '340', '238', '487', '355',\n",
              "       '499', 4300.0, '296', '515', '943', 1200.0, '903', '335', '191',\n",
              "       '594', '267', '617', '516', '504', '331', '652', '410', '550',\n",
              "       '473', '442', '344', '208', 1000.0, 2500.0, '273', '485', '826',\n",
              "       '192', '405', '941', '477', '644', '303', '417', 6000.0, 0, 11.0,\n",
              "       2.0, 1.0, 31.0, 3.0, 10.0, 9.0, 17.0, 7.0, 4.0, 6.0], dtype=object)"
            ]
          },
          "metadata": {},
          "execution_count": 85
        }
      ]
    },
    {
      "cell_type": "code",
      "source": [
        "df1['Hits'].dtype"
      ],
      "metadata": {
        "colab": {
          "base_uri": "https://localhost:8080/"
        },
        "id": "6PcD64y9l69p",
        "outputId": "668a40e1-b53e-409a-c3c2-8dc11fa74296"
      },
      "execution_count": 86,
      "outputs": [
        {
          "output_type": "execute_result",
          "data": {
            "text/plain": [
              "dtype('O')"
            ]
          },
          "metadata": {},
          "execution_count": 86
        }
      ]
    },
    {
      "cell_type": "code",
      "source": [
        "df1['Hits'] = df1['Hits'].astype('float')"
      ],
      "metadata": {
        "id": "wmttZWdKl-lx"
      },
      "execution_count": 87,
      "outputs": []
    },
    {
      "cell_type": "code",
      "source": [
        "df1['Hits'].dtype"
      ],
      "metadata": {
        "colab": {
          "base_uri": "https://localhost:8080/"
        },
        "id": "R4ANDrpNmoA4",
        "outputId": "c5105fe1-b980-45d7-9e57-ef7584283625"
      },
      "execution_count": 88,
      "outputs": [
        {
          "output_type": "execute_result",
          "data": {
            "text/plain": [
              "dtype('float64')"
            ]
          },
          "metadata": {},
          "execution_count": 88
        }
      ]
    },
    {
      "cell_type": "code",
      "source": [
        "df1['Hits'] = df1['Hits'].astype('int64')"
      ],
      "metadata": {
        "id": "DFsjDf24mrxP"
      },
      "execution_count": 89,
      "outputs": []
    },
    {
      "cell_type": "code",
      "source": [
        "df1['Hits'].dtype"
      ],
      "metadata": {
        "colab": {
          "base_uri": "https://localhost:8080/"
        },
        "id": "bo263PHNm1Ng",
        "outputId": "38e056c1-97b6-4f9b-e826-605650e99f26"
      },
      "execution_count": 90,
      "outputs": [
        {
          "output_type": "execute_result",
          "data": {
            "text/plain": [
              "dtype('int64')"
            ]
          },
          "metadata": {},
          "execution_count": 90
        }
      ]
    },
    {
      "cell_type": "code",
      "source": [
        "df1['Hits'].unique()"
      ],
      "metadata": {
        "colab": {
          "base_uri": "https://localhost:8080/"
        },
        "id": "Gzzs2V_5m4ug",
        "outputId": "72e2bc76-a5f0-49b9-f248-0ae5d49403ae"
      },
      "execution_count": 91,
      "outputs": [
        {
          "output_type": "execute_result",
          "data": {
            "text/plain": [
              "array([ 771,  562,  150,  207,  595,  248,  246,  120, 1600,  130,  321,\n",
              "        189,  175,   96,  118,  216,  212,  154,  205,  202,  339,  408,\n",
              "        103,  332,   86,  173,  161,  396, 1100,  433,  242,  206,  177,\n",
              "       1500,  198,  459,  117,  119,  209,   84,  187,  165,  203,   65,\n",
              "        336,  126,  313,  124,  145,  538,  182,  101,   45,  377,   99,\n",
              "        194,  403,  414,  593,  374,  245, 3200,  266,  299,  309,  215,\n",
              "        265,  211,  112,  337,   70,  159,  688,  116,   63,  144,  123,\n",
              "         71,  224,  113,  168,   61,   89,  137,  278,   75,  148,  176,\n",
              "        197,  264,  214,  247,  402,  440, 1700, 2300,  171,  320,  657,\n",
              "         87,  259,  200,  255,  253,  196,   60,   97,   85,  169,  256,\n",
              "        132,  239,  166,  121,  109,   32,   46,  122,   48,  527,  199,\n",
              "        282,   51, 1900,  642,  155,  323,  288,  497,  509,   79,   49,\n",
              "        270,  511,   80,  128,  115,  156,  204,  143,  140,  152,  220,\n",
              "        134,  225,   94,   74,  135,  142,   50,   77,   40,  107,  193,\n",
              "        179,   34,   64,  453,   57,   81,   28,   78,  133,   43,  425,\n",
              "         88,   42,   36,  233,  376,  210,  444,  100,  263,   98,   29,\n",
              "        160,   39,  257,    6,  310,  138,   62,  293,  285,  362,   66,\n",
              "         69,   58,   21,   20,  131,   38,  406,   68,  108,  110,   93,\n",
              "        512,  443,  306,  352,  422,  585,  346,  178,  841,   76,  394,\n",
              "         72,  172,   44,  407,  230,  367,  295,  157,  243,   56,  111,\n",
              "        326,  679,   18,   92,   59,   25,  184,   53,   12,   90,   55,\n",
              "         73,   11,  566,  180,   83,  262,   17,   26,   31,  280,  359,\n",
              "        213,  297,  387,  480,  381,  677,  486,    8,  244,  129,  388,\n",
              "        275,  319, 2000,   52,   91,  421,  153,   27,   41,  222,   35,\n",
              "        102,   23,   30,   33,  146,   13,   19,   14,  106,  276,  568,\n",
              "        353,   47,  478,  249,  254,  369,  219,  565,  237,  227,  434,\n",
              "        375,  162,  605,  654,    3,    7,    9,  104,  114,  186,  446,\n",
              "        756,   22,  139,  500,   67,  147,  149,   16,   82,   54,   37,\n",
              "         15, 1300, 3000,  952,    5,  749,  541,  330,  393,  517,  770,\n",
              "        409,  170,  125,  283,  342,  363,  580,  105,  217,   24,  141,\n",
              "         10,  427,  158,  426,    4,  666,  181,  324,  979, 1400,  302,\n",
              "        751,  298,  411,  944,    2,  947,  292,  349,  621,    1, 2800,\n",
              "        338,  287,  261,  218, 1800,  240,  279,  229,  188,  315,  664,\n",
              "        613,  190,  706,  127,  462,  386,  695,  491,  167,  281,  250,\n",
              "        307,   95,  231,  174,  680,  633,  221,  348,  602,  183,  653,\n",
              "        195,  164,  151,  258, 8400,  343,  419,  655,  136,  399,  531,\n",
              "        357,  228,  385,  312,  340,  238,  487,  355,  499, 4300,  296,\n",
              "        515,  943, 1200,  903,  335,  191,  594,  267,  617,  516,  504,\n",
              "        331,  652,  410,  550,  473,  442,  344,  208, 1000, 2500,  273,\n",
              "        485,  826,  192,  405,  941,  477,  644,  303,  417, 6000,    0])"
            ]
          },
          "metadata": {},
          "execution_count": 91
        }
      ]
    },
    {
      "cell_type": "code",
      "source": [
        "df1['A/W'].dtype"
      ],
      "metadata": {
        "colab": {
          "base_uri": "https://localhost:8080/"
        },
        "id": "mK6AusGGm_Hx",
        "outputId": "955ccfdb-b052-44b4-dcf4-9ec58537d62f"
      },
      "execution_count": 92,
      "outputs": [
        {
          "output_type": "execute_result",
          "data": {
            "text/plain": [
              "dtype('O')"
            ]
          },
          "metadata": {},
          "execution_count": 92
        }
      ]
    },
    {
      "cell_type": "code",
      "source": [
        "df1['A/W'].unique()"
      ],
      "metadata": {
        "colab": {
          "base_uri": "https://localhost:8080/"
        },
        "id": "sDUMaOV6nXa3",
        "outputId": "af7d6abe-3127-415f-b9b9-ffb8e24592ab"
      },
      "execution_count": 93,
      "outputs": [
        {
          "output_type": "execute_result",
          "data": {
            "text/plain": [
              "array(['Medium', 'High', 'Low'], dtype=object)"
            ]
          },
          "metadata": {},
          "execution_count": 93
        }
      ]
    },
    {
      "cell_type": "code",
      "source": [
        "df1['IR'].dtype"
      ],
      "metadata": {
        "colab": {
          "base_uri": "https://localhost:8080/"
        },
        "id": "cuudV9NonbCv",
        "outputId": "873e805f-9f30-41f4-b4ca-3dcf5cfb26e5"
      },
      "execution_count": 94,
      "outputs": [
        {
          "output_type": "execute_result",
          "data": {
            "text/plain": [
              "dtype('O')"
            ]
          },
          "metadata": {},
          "execution_count": 94
        }
      ]
    },
    {
      "cell_type": "code",
      "source": [
        "df1['IR'].unique()"
      ],
      "metadata": {
        "colab": {
          "base_uri": "https://localhost:8080/"
        },
        "id": "-KJNBIu4nkRO",
        "outputId": "dd5e67c5-217c-49f6-b555-ca969a03a036"
      },
      "execution_count": 95,
      "outputs": [
        {
          "output_type": "execute_result",
          "data": {
            "text/plain": [
              "array(['5 ★', '3 ★', '4 ★', '2 ★', '1 ★'], dtype=object)"
            ]
          },
          "metadata": {},
          "execution_count": 95
        }
      ]
    },
    {
      "cell_type": "code",
      "source": [
        "df1['IR'] = [int(rating.split()[0]) for rating in df1['IR']]\n",
        "\n",
        "df1['IR'].unique()"
      ],
      "metadata": {
        "colab": {
          "base_uri": "https://localhost:8080/"
        },
        "id": "q4aqIx3pnngw",
        "outputId": "a901fbf9-e628-41f9-fb55-45ac95d59d26"
      },
      "execution_count": 96,
      "outputs": [
        {
          "output_type": "execute_result",
          "data": {
            "text/plain": [
              "array([5, 3, 4, 2, 1])"
            ]
          },
          "metadata": {},
          "execution_count": 96
        }
      ]
    },
    {
      "cell_type": "code",
      "source": [
        "#Rename column from IR to IR_Star\n",
        "df1 = df1.rename(columns={'IR':'IR_star'})\n",
        "#df1.rename(columns={'old_column_name': 'new_column_name'},"
      ],
      "metadata": {
        "id": "ORqTEgQBoCBQ"
      },
      "execution_count": 97,
      "outputs": []
    },
    {
      "cell_type": "code",
      "source": [
        "df1['IR_star'].unique()"
      ],
      "metadata": {
        "colab": {
          "base_uri": "https://localhost:8080/"
        },
        "id": "HzKvoszqrPTt",
        "outputId": "3bf00f15-c4d7-4829-f7c6-65b7d2d42ac8"
      },
      "execution_count": 98,
      "outputs": [
        {
          "output_type": "execute_result",
          "data": {
            "text/plain": [
              "array([5, 3, 4, 2, 1])"
            ]
          },
          "metadata": {},
          "execution_count": 98
        }
      ]
    },
    {
      "cell_type": "code",
      "source": [
        "df1['Interceptions'].dtype"
      ],
      "metadata": {
        "colab": {
          "base_uri": "https://localhost:8080/"
        },
        "id": "10mfvicTse-d",
        "outputId": "3f0638c4-0147-46cb-e158-f24d9c5edc88"
      },
      "execution_count": 99,
      "outputs": [
        {
          "output_type": "execute_result",
          "data": {
            "text/plain": [
              "dtype('int64')"
            ]
          },
          "metadata": {},
          "execution_count": 99
        }
      ]
    },
    {
      "cell_type": "code",
      "source": [
        "df1['Interceptions'].unique()"
      ],
      "metadata": {
        "colab": {
          "base_uri": "https://localhost:8080/"
        },
        "id": "sQHXbitOss5Q",
        "outputId": "38e67f73-002f-4da6-b4e7-be86b29ea9bf"
      },
      "execution_count": 100,
      "outputs": [
        {
          "output_type": "execute_result",
          "data": {
            "text/plain": [
              "array([40, 29, 19, 66, 36, 49, 55, 11, 38, 22, 90, 35, 87, 15, 30, 39, 88,\n",
              "       24, 91, 82, 42, 27, 41, 79, 74, 58, 20, 85, 48, 83, 64, 21, 50, 81,\n",
              "       78, 28, 86, 26, 34, 52, 37, 80, 25, 56, 23, 47, 45, 77, 84, 44, 53,\n",
              "       18, 46, 72, 61, 89, 54, 63, 65, 73, 16, 32, 76, 59, 13, 70, 31, 69,\n",
              "       33, 17, 75, 68, 60, 51, 71, 12, 57, 10, 43, 67, 14,  9, 62,  8,  7,\n",
              "        6,  4,  5,  3])"
            ]
          },
          "metadata": {},
          "execution_count": 100
        }
      ]
    },
    {
      "cell_type": "code",
      "source": [
        "df1['Joined'].dtype"
      ],
      "metadata": {
        "colab": {
          "base_uri": "https://localhost:8080/"
        },
        "id": "fyDWW0Yysxgg",
        "outputId": "f66d076d-7029-4834-fac6-6b969c768926"
      },
      "execution_count": 101,
      "outputs": [
        {
          "output_type": "execute_result",
          "data": {
            "text/plain": [
              "dtype('O')"
            ]
          },
          "metadata": {},
          "execution_count": 101
        }
      ]
    },
    {
      "cell_type": "code",
      "source": [
        "df1['Joined'].unique()"
      ],
      "metadata": {
        "colab": {
          "base_uri": "https://localhost:8080/"
        },
        "id": "B_3CoESjs4Qp",
        "outputId": "9d69ca07-ad5e-4e78-ed95-da143eaa076f"
      },
      "execution_count": 102,
      "outputs": [
        {
          "output_type": "execute_result",
          "data": {
            "text/plain": [
              "array(['1-Jul-04', '10-Jul-18', '16-Jul-14', ..., '22-Sep-18',\n",
              "       '28-Feb-15', '6-Mar-18'], dtype=object)"
            ]
          },
          "metadata": {},
          "execution_count": 102
        }
      ]
    },
    {
      "cell_type": "code",
      "source": [
        "# Convert 'Joined' column to datetime\n",
        "df1['Joined'] = pd.to_datetime(df1['Joined'], format='%d-%b-%y', errors='coerce')"
      ],
      "metadata": {
        "id": "0_-bPwahs8yI"
      },
      "execution_count": 103,
      "outputs": []
    },
    {
      "cell_type": "code",
      "source": [
        "# Convert to string with date only\n",
        "df1['Joined'] = df1['Joined'].dt.strftime('%Y-%m-%d')"
      ],
      "metadata": {
        "id": "EvZnSwqVttW4"
      },
      "execution_count": 104,
      "outputs": []
    },
    {
      "cell_type": "code",
      "source": [
        "df1['Joined'].unique()"
      ],
      "metadata": {
        "colab": {
          "base_uri": "https://localhost:8080/"
        },
        "id": "mTqMipnmt0LY",
        "outputId": "92da4d06-f464-4d4e-89c2-b95e68e8b973"
      },
      "execution_count": 105,
      "outputs": [
        {
          "output_type": "execute_result",
          "data": {
            "text/plain": [
              "array(['2004-07-01', '2018-07-10', '2014-07-16', ..., '2018-09-22',\n",
              "       '2015-02-28', '2018-03-06'], dtype=object)"
            ]
          },
          "metadata": {},
          "execution_count": 105
        }
      ]
    },
    {
      "cell_type": "code",
      "source": [
        "df1['Joined'].dtype"
      ],
      "metadata": {
        "colab": {
          "base_uri": "https://localhost:8080/"
        },
        "id": "y6Wou3i5zJAB",
        "outputId": "8cb9381e-f5e6-4242-ce4e-f083d3fb0059"
      },
      "execution_count": 106,
      "outputs": [
        {
          "output_type": "execute_result",
          "data": {
            "text/plain": [
              "dtype('O')"
            ]
          },
          "metadata": {},
          "execution_count": 106
        }
      ]
    },
    {
      "cell_type": "code",
      "source": [
        "df1['Jumping'].dtype"
      ],
      "metadata": {
        "colab": {
          "base_uri": "https://localhost:8080/"
        },
        "id": "ugDABfFfzR7g",
        "outputId": "7bab6055-96cf-40e4-96ed-b44d76756489"
      },
      "execution_count": 107,
      "outputs": [
        {
          "output_type": "execute_result",
          "data": {
            "text/plain": [
              "dtype('int64')"
            ]
          },
          "metadata": {},
          "execution_count": 107
        }
      ]
    },
    {
      "cell_type": "code",
      "source": [
        "df1['Jumping'].unique()"
      ],
      "metadata": {
        "id": "E_pr5J2uz-87",
        "colab": {
          "base_uri": "https://localhost:8080/"
        },
        "outputId": "569023ae-4ae5-4fc7-8fc8-58133829dec3"
      },
      "execution_count": 108,
      "outputs": [
        {
          "output_type": "execute_result",
          "data": {
            "text/plain": [
              "array([68, 95, 78, 63, 62, 84, 69, 52, 77, 79, 90, 86, 87, 93, 57, 75, 66,\n",
              "       82, 56, 32, 51, 76, 72, 81, 74, 71, 67, 65, 73, 64, 70, 80, 85, 37,\n",
              "       89, 60, 49, 50, 83, 58, 53, 59, 88, 38, 92, 34, 61, 46, 43, 36, 91,\n",
              "       39, 45, 42, 40, 54, 33, 55, 31, 44, 35, 47, 48, 30, 41, 94, 28, 29,\n",
              "       27, 24, 19, 26, 17, 15, 22])"
            ]
          },
          "metadata": {},
          "execution_count": 108
        }
      ]
    },
    {
      "cell_type": "code",
      "source": [
        "df1['Loan Date End'].dtype"
      ],
      "metadata": {
        "id": "s7ULUvx_0COZ",
        "colab": {
          "base_uri": "https://localhost:8080/"
        },
        "outputId": "ba4ded1f-4f88-42bd-8f2e-eb507174f991"
      },
      "execution_count": 109,
      "outputs": [
        {
          "output_type": "execute_result",
          "data": {
            "text/plain": [
              "dtype('O')"
            ]
          },
          "metadata": {},
          "execution_count": 109
        }
      ]
    },
    {
      "cell_type": "code",
      "source": [
        "df1['Loan Date End'].unique()"
      ],
      "metadata": {
        "id": "29aFgdie0I9j",
        "colab": {
          "base_uri": "https://localhost:8080/"
        },
        "outputId": "5c301fa5-19aa-48f1-fa75-3ec47b75c706"
      },
      "execution_count": 110,
      "outputs": [
        {
          "output_type": "execute_result",
          "data": {
            "text/plain": [
              "array([nan, '30-Jun-21', '31-Dec-20', '30-Jan-21', '30-Jun-22',\n",
              "       '31-May-21', '5-Jul-21', '31-Dec-21', '1-Jul-21', '1-Jan-21',\n",
              "       '31-Aug-21', '31-Jan-21', '30-Dec-21', '23-Jun-21', '3-Jan-21',\n",
              "       '27-Nov-21', '17-Jan-21', '30-Jun-23', '31-Jul-21', '22-Nov-20',\n",
              "       '31-May-22', '30-Dec-20', '4-Jan-21', '30-Nov-20', '1-Aug-21'],\n",
              "      dtype=object)"
            ]
          },
          "metadata": {},
          "execution_count": 110
        }
      ]
    },
    {
      "cell_type": "code",
      "source": [
        "# Convert 'Joined' column to datetime\n",
        "df1['Loan Date End'] = pd.to_datetime(df1['Loan Date End'], format='%d-%b-%y', errors='coerce')\n",
        "df1['Loan Date End'] = df1['Loan Date End'].dt.strftime('%Y-%m-%d')"
      ],
      "metadata": {
        "id": "CVT4Lanh29Cb"
      },
      "execution_count": 111,
      "outputs": []
    },
    {
      "cell_type": "code",
      "source": [
        "df1['Loan Date End'].unique()"
      ],
      "metadata": {
        "colab": {
          "base_uri": "https://localhost:8080/"
        },
        "id": "8akLILl63bz8",
        "outputId": "7891d0e2-8618-4ca5-8367-3c8f1a22677c"
      },
      "execution_count": 112,
      "outputs": [
        {
          "output_type": "execute_result",
          "data": {
            "text/plain": [
              "array([nan, '2021-06-30', '2020-12-31', '2021-01-30', '2022-06-30',\n",
              "       '2021-05-31', '2021-07-05', '2021-12-31', '2021-07-01',\n",
              "       '2021-01-01', '2021-08-31', '2021-01-31', '2021-12-30',\n",
              "       '2021-06-23', '2021-01-03', '2021-11-27', '2021-01-17',\n",
              "       '2023-06-30', '2021-07-31', '2020-11-22', '2022-05-31',\n",
              "       '2020-12-30', '2021-01-04', '2020-11-30', '2021-08-01'],\n",
              "      dtype=object)"
            ]
          },
          "metadata": {},
          "execution_count": 112
        }
      ]
    },
    {
      "cell_type": "code",
      "source": [
        "df1['Loan Date End'] = df1['Loan Date End'].fillna('0000-00-00')"
      ],
      "metadata": {
        "id": "oqPGWX2B36Ls"
      },
      "execution_count": 113,
      "outputs": []
    },
    {
      "cell_type": "code",
      "source": [
        "df1['Loan Date End'].unique()"
      ],
      "metadata": {
        "colab": {
          "base_uri": "https://localhost:8080/"
        },
        "id": "y3PRkCtZ5S50",
        "outputId": "636e27fb-1ef4-4004-e5fd-38fe19ed9091"
      },
      "execution_count": 114,
      "outputs": [
        {
          "output_type": "execute_result",
          "data": {
            "text/plain": [
              "array(['0000-00-00', '2021-06-30', '2020-12-31', '2021-01-30',\n",
              "       '2022-06-30', '2021-05-31', '2021-07-05', '2021-12-31',\n",
              "       '2021-07-01', '2021-01-01', '2021-08-31', '2021-01-31',\n",
              "       '2021-12-30', '2021-06-23', '2021-01-03', '2021-11-27',\n",
              "       '2021-01-17', '2023-06-30', '2021-07-31', '2020-11-22',\n",
              "       '2022-05-31', '2020-12-30', '2021-01-04', '2020-11-30',\n",
              "       '2021-08-01'], dtype=object)"
            ]
          },
          "metadata": {},
          "execution_count": 114
        }
      ]
    },
    {
      "cell_type": "code",
      "source": [
        "df1['Long Passing'].dtype"
      ],
      "metadata": {
        "colab": {
          "base_uri": "https://localhost:8080/"
        },
        "id": "uNtkzVFN5YUk",
        "outputId": "7361c6d6-2334-43d1-a609-38f637225d98"
      },
      "execution_count": 115,
      "outputs": [
        {
          "output_type": "execute_result",
          "data": {
            "text/plain": [
              "dtype('int64')"
            ]
          },
          "metadata": {},
          "execution_count": 115
        }
      ]
    },
    {
      "cell_type": "code",
      "source": [
        "df1['Long Passing'].unique()"
      ],
      "metadata": {
        "colab": {
          "base_uri": "https://localhost:8080/"
        },
        "id": "u7lnqOHk5rKt",
        "outputId": "16becabb-448d-4529-ad8d-d4bdf085ed17"
      },
      "execution_count": 116,
      "outputs": [
        {
          "output_type": "execute_result",
          "data": {
            "text/plain": [
              "array([91, 77, 40, 93, 81, 70, 75, 44, 63, 86, 71, 84, 35, 59, 73, 83, 64,\n",
              "       69, 79, 82, 68, 89, 76, 80, 87, 37, 65, 36, 50, 53, 78, 47, 74, 48,\n",
              "       31, 85, 24, 55, 90, 54, 62, 32, 49, 66, 67, 51, 28, 46, 52, 72, 56,\n",
              "       41, 45, 22, 88, 61, 33, 12, 60, 17, 27, 29, 23, 38, 16, 58, 34, 25,\n",
              "       39, 21, 30, 42, 43, 57, 20, 26, 18, 19, 13, 15, 11, 14,  9, 10,  5,\n",
              "        8])"
            ]
          },
          "metadata": {},
          "execution_count": 116
        }
      ]
    },
    {
      "cell_type": "code",
      "source": [
        "df1['A/W'].dtype"
      ],
      "metadata": {
        "colab": {
          "base_uri": "https://localhost:8080/"
        },
        "id": "Re9HOZTM54Jp",
        "outputId": "700ea191-3648-4be9-e6fe-ab9cf9a2ec79"
      },
      "execution_count": 117,
      "outputs": [
        {
          "output_type": "execute_result",
          "data": {
            "text/plain": [
              "dtype('O')"
            ]
          },
          "metadata": {},
          "execution_count": 117
        }
      ]
    },
    {
      "cell_type": "code",
      "source": [
        "df1['A/W'].unique()"
      ],
      "metadata": {
        "colab": {
          "base_uri": "https://localhost:8080/"
        },
        "id": "W5BamQmG54F_",
        "outputId": "297aa66c-6fc7-4ace-8aba-b2cbbfea854f"
      },
      "execution_count": 118,
      "outputs": [
        {
          "output_type": "execute_result",
          "data": {
            "text/plain": [
              "array(['Medium', 'High', 'Low'], dtype=object)"
            ]
          },
          "metadata": {},
          "execution_count": 118
        }
      ]
    },
    {
      "cell_type": "code",
      "source": [
        "df1['Acceleration'].dtype"
      ],
      "metadata": {
        "colab": {
          "base_uri": "https://localhost:8080/"
        },
        "id": "zJysvR-M54Cl",
        "outputId": "3e856f0f-677d-4ad1-c4a1-96d7a0fdda19"
      },
      "execution_count": 119,
      "outputs": [
        {
          "output_type": "execute_result",
          "data": {
            "text/plain": [
              "dtype('int64')"
            ]
          },
          "metadata": {},
          "execution_count": 119
        }
      ]
    },
    {
      "cell_type": "code",
      "source": [
        "df1['Acceleration'].unique()"
      ],
      "metadata": {
        "colab": {
          "base_uri": "https://localhost:8080/"
        },
        "id": "Cux60UEF53-q",
        "outputId": "c4bab848-9988-4ac4-a69a-a44e78207cf6"
      },
      "execution_count": 120,
      "outputs": [
        {
          "output_type": "execute_result",
          "data": {
            "text/plain": [
              "array([91, 87, 43, 77, 94, 56, 96, 38, 72, 95, 60, 42, 54, 79, 89, 64, 66,\n",
              "       51, 73, 57, 80, 86, 85, 78, 40, 82, 76, 65, 68, 90, 48, 46, 88, 70,\n",
              "       83, 84, 93, 52, 74, 92, 55, 58, 59, 67, 81, 62, 44, 71, 69, 50, 53,\n",
              "       45, 49, 75, 41, 61, 63, 35, 47, 34, 36, 37, 39, 30, 97, 31, 33, 32,\n",
              "       27, 28, 26, 29, 25, 17, 19, 24, 15, 23, 21, 20, 22, 16, 18, 13, 14])"
            ]
          },
          "metadata": {},
          "execution_count": 120
        }
      ]
    },
    {
      "cell_type": "code",
      "source": [
        "df1['Long Shots'].dtype"
      ],
      "metadata": {
        "colab": {
          "base_uri": "https://localhost:8080/"
        },
        "id": "Apxa3iZf5362",
        "outputId": "8bd880cc-ff61-4f30-f38f-4f18b3a1afdc"
      },
      "execution_count": 121,
      "outputs": [
        {
          "output_type": "execute_result",
          "data": {
            "text/plain": [
              "dtype('int64')"
            ]
          },
          "metadata": {},
          "execution_count": 121
        }
      ]
    },
    {
      "cell_type": "code",
      "source": [
        "df1['Long Shots'].unique()"
      ],
      "metadata": {
        "colab": {
          "base_uri": "https://localhost:8080/"
        },
        "id": "9KHQPda5532X",
        "outputId": "496e7fe8-b859-407a-e955-20df3d9e393f"
      },
      "execution_count": 122,
      "outputs": [
        {
          "output_type": "execute_result",
          "data": {
            "text/plain": [
              "array([94, 93, 12, 91, 84, 85, 14, 79, 10, 64, 78, 81, 17, 16, 65, 87, 18,\n",
              "       86, 19, 15, 82, 63, 74, 76, 47, 89, 70, 90, 77, 13, 49, 54, 88, 80,\n",
              "       53, 58, 51, 73, 66, 75, 83, 30, 46, 35, 71, 61, 72, 69, 43, 48, 62,\n",
              "       41, 60, 11, 26, 57, 59, 68, 67,  7, 27, 56, 20, 52, 92, 50, 22, 40,\n",
              "       39, 44, 31, 42,  9,  6, 55, 28, 23, 38, 24, 25, 34, 36, 29,  4,  8,\n",
              "       45, 33, 37, 21, 32,  5])"
            ]
          },
          "metadata": {},
          "execution_count": 122
        }
      ]
    },
    {
      "cell_type": "code",
      "source": [
        "df1['LongName'].dtype"
      ],
      "metadata": {
        "colab": {
          "base_uri": "https://localhost:8080/"
        },
        "id": "cv-AjxDz53yx",
        "outputId": "a62836ed-7123-41e6-cb35-d161d17931ba"
      },
      "execution_count": 123,
      "outputs": [
        {
          "output_type": "execute_result",
          "data": {
            "text/plain": [
              "dtype('O')"
            ]
          },
          "metadata": {},
          "execution_count": 123
        }
      ]
    },
    {
      "cell_type": "code",
      "source": [
        "df1['LongName'].unique()"
      ],
      "metadata": {
        "colab": {
          "base_uri": "https://localhost:8080/"
        },
        "id": "xGAtvQ5453vt",
        "outputId": "06b45c6b-fd1e-4562-a03e-537f0677ad46"
      },
      "execution_count": 124,
      "outputs": [
        {
          "output_type": "execute_result",
          "data": {
            "text/plain": [
              "array(['Lionel Messi', 'C. Ronaldo dos Santos Aveiro', 'Jan Oblak', ...,\n",
              "       'Ronan McKinley', \"Zhen'ao Wang\", 'Xiao Zhou'], dtype=object)"
            ]
          },
          "metadata": {},
          "execution_count": 124
        }
      ]
    },
    {
      "cell_type": "code",
      "source": [
        "df1['Marking'].dtype"
      ],
      "metadata": {
        "colab": {
          "base_uri": "https://localhost:8080/"
        },
        "id": "54iu8d1e53sA",
        "outputId": "aaa85be1-d498-4f6c-e4e8-0fcce2d6734f"
      },
      "execution_count": 125,
      "outputs": [
        {
          "output_type": "execute_result",
          "data": {
            "text/plain": [
              "dtype('int64')"
            ]
          },
          "metadata": {},
          "execution_count": 125
        }
      ]
    },
    {
      "cell_type": "code",
      "source": [
        "df1['Marking'].unique()"
      ],
      "metadata": {
        "colab": {
          "base_uri": "https://localhost:8080/"
        },
        "id": "7rZXb_Td53n2",
        "outputId": "fa61b01c-693e-40a3-bfd7-6701fa7f99b6"
      },
      "execution_count": 126,
      "outputs": [
        {
          "output_type": "execute_result",
          "data": {
            "text/plain": [
              "array([32, 28, 27, 68, 35, 38, 15, 34, 25, 93, 42, 84, 20, 17, 47, 85, 30,\n",
              "       89, 82, 29, 56, 91, 72, 59, 79, 49, 83, 86, 50, 60, 94, 41, 57, 78,\n",
              "       63, 88, 90,  9, 58, 74, 39, 92, 45, 36, 44, 87, 70, 76, 53, 80, 67,\n",
              "       77, 12, 48, 55, 75, 81, 11, 64, 69, 14, 24, 52, 65, 19, 31, 13, 10,\n",
              "       66, 71, 54, 46, 22, 40, 18, 51, 37, 43, 61, 26, 73, 21,  7, 33, 62,\n",
              "       16, 23,  8,  6,  5,  4,  3])"
            ]
          },
          "metadata": {},
          "execution_count": 126
        }
      ]
    },
    {
      "cell_type": "code",
      "source": [
        "df1['A/W'].dtype"
      ],
      "metadata": {
        "colab": {
          "base_uri": "https://localhost:8080/"
        },
        "id": "8nI79n5u53km",
        "outputId": "08bdea21-0d99-4f70-9c0d-e2543b6d8530"
      },
      "execution_count": 127,
      "outputs": [
        {
          "output_type": "execute_result",
          "data": {
            "text/plain": [
              "dtype('O')"
            ]
          },
          "metadata": {},
          "execution_count": 127
        }
      ]
    },
    {
      "cell_type": "code",
      "source": [
        "df1['A/W'].unique()"
      ],
      "metadata": {
        "colab": {
          "base_uri": "https://localhost:8080/"
        },
        "id": "G_WDSEhQ53hM",
        "outputId": "ca439f55-6ac6-4652-8e76-a9a4f1940c37"
      },
      "execution_count": 128,
      "outputs": [
        {
          "output_type": "execute_result",
          "data": {
            "text/plain": [
              "array(['Medium', 'High', 'Low'], dtype=object)"
            ]
          },
          "metadata": {},
          "execution_count": 128
        }
      ]
    },
    {
      "cell_type": "code",
      "source": [
        "df1['Mentality'].dtype"
      ],
      "metadata": {
        "colab": {
          "base_uri": "https://localhost:8080/"
        },
        "id": "GzzuVqjv53dG",
        "outputId": "8324b39c-0be4-4b4b-fc12-337cbf772acb"
      },
      "execution_count": 129,
      "outputs": [
        {
          "output_type": "execute_result",
          "data": {
            "text/plain": [
              "dtype('int64')"
            ]
          },
          "metadata": {},
          "execution_count": 129
        }
      ]
    },
    {
      "cell_type": "code",
      "source": [
        "df1['Mentality'].unique()"
      ],
      "metadata": {
        "colab": {
          "base_uri": "https://localhost:8080/"
        },
        "id": "HouaQnGB53aN",
        "outputId": "341a7cc1-6ef6-4e7d-f5ae-0b0df51d81ca"
      },
      "execution_count": 130,
      "outputs": [
        {
          "output_type": "execute_result",
          "data": {
            "text/plain": [
              "array([347, 353, 140, 408, 356, 391, 376, 341, 171, 358, 396, 122, 188,\n",
              "       363, 414, 332, 386, 379, 348, 172, 382, 123, 294, 378, 313, 371,\n",
              "       331, 412, 345, 377, 161, 306, 387, 339, 135, 360, 138, 369, 359,\n",
              "       170, 361, 321, 397, 394, 385, 366, 162, 337, 362, 344, 319, 315,\n",
              "       144, 336, 340, 373, 398, 324, 300, 338, 384, 139, 364, 372, 134,\n",
              "       354, 342, 308, 322, 383, 263, 149, 304, 367, 357, 390, 291, 279,\n",
              "       310, 388, 375, 349, 351, 365, 133, 334, 303, 380, 153, 392, 169,\n",
              "       318, 350, 352, 401, 302, 325, 346, 132, 399, 281, 335, 403, 307,\n",
              "       368, 141, 126, 328, 245, 131, 320, 127, 421, 400, 137, 374, 305,\n",
              "        92, 316, 311, 120, 389, 145, 355, 148, 343, 142, 130, 121, 157,\n",
              "       329, 323, 115, 150, 298, 154, 317, 295, 100, 301, 326, 327, 197,\n",
              "       273, 287, 370, 290, 103, 393, 312, 297,  89, 271, 299, 124, 333,\n",
              "       258, 309, 158, 272, 118, 314, 330, 292, 404, 101, 280, 277, 296,\n",
              "       248, 285, 278, 109,  93, 146, 286, 284, 288, 105, 152, 111, 160,\n",
              "       119, 156,  95,  99, 238, 104, 266, 276, 275, 265, 106, 254, 293,\n",
              "       282, 168, 260, 136, 102, 267, 113, 289,  96, 270, 176, 164, 128,\n",
              "       268, 283, 244, 182, 243, 240, 116, 264, 112, 274, 261, 114, 269,\n",
              "       110, 257, 179, 155, 252, 262, 151, 247, 108, 256, 117, 249, 253,\n",
              "       231, 159, 163,  84, 251,  97,  91,  75, 147, 129, 230, 242, 250,\n",
              "       259, 125, 381,  77, 175,  82,  88,  90, 165,  83, 195,  87, 246,\n",
              "       255,  85,  94, 226, 216, 236, 220, 107, 241, 228, 198, 239, 225,\n",
              "       181, 233, 219, 166, 183,  98, 237, 235,  86, 229, 217, 143, 232,\n",
              "       209, 234, 224, 206, 227, 222,  80,  78, 186, 221, 173, 214, 187,\n",
              "        79,  68, 167,  81, 218, 212, 199, 210,  74, 223, 208, 213, 201,\n",
              "        72, 215, 202, 205, 203, 204, 190,  76, 211, 207, 192,  70, 194,\n",
              "       196, 189,  66, 193, 200,  67, 191, 184,  71,  64,  65,  69, 177,\n",
              "        63,  73,  51,  58, 180, 185, 174,  60,  55, 178,  62,  50,  59])"
            ]
          },
          "metadata": {},
          "execution_count": 130
        }
      ]
    },
    {
      "cell_type": "code",
      "source": [
        "df1['Movement'].dtype"
      ],
      "metadata": {
        "colab": {
          "base_uri": "https://localhost:8080/"
        },
        "id": "j9Pg00ul53Xh",
        "outputId": "346f86df-7f1e-4cdc-c5ae-07e252128249"
      },
      "execution_count": 131,
      "outputs": [
        {
          "output_type": "execute_result",
          "data": {
            "text/plain": [
              "dtype('int64')"
            ]
          },
          "metadata": {},
          "execution_count": 131
        }
      ]
    },
    {
      "cell_type": "code",
      "source": [
        "df1['Movement'].unique()"
      ],
      "metadata": {
        "colab": {
          "base_uri": "https://localhost:8080/"
        },
        "id": "QLsZjEUP53Uc",
        "outputId": "a78f16ad-aa8e-4f82-e03a-07a577f60a27"
      },
      "execution_count": 132,
      "outputs": [
        {
          "output_type": "execute_result",
          "data": {
            "text/plain": [
              "array([451, 431, 307, 398, 453, 407, 460, 268, 458, 254, 354, 343, 284,\n",
              "       286, 388, 378, 424, 464, 420, 399, 437, 322, 367, 272, 328, 448,\n",
              "       332, 425, 435, 391, 434, 400, 331, 349, 429, 416, 312, 326, 418,\n",
              "       419, 417, 386, 321, 409, 374, 304, 403, 351, 401, 365, 414, 292,\n",
              "       323, 299, 433, 350, 348, 413, 320, 281, 427, 353, 364, 410, 428,\n",
              "       316, 381, 442, 375, 288, 395, 385, 251, 319, 444, 383, 298, 411,\n",
              "       412, 415, 393, 397, 443, 423, 387, 422, 327, 390, 362, 352, 406,\n",
              "       277, 361, 421, 396, 384, 450, 338, 363, 359, 287, 297, 430, 382,\n",
              "       377, 380, 438, 449, 257, 371, 339, 341, 404, 345, 394, 295, 246,\n",
              "       265, 258, 366, 294, 314, 266, 405, 218, 337, 267, 220, 376, 309,\n",
              "       283, 426, 347, 244, 240, 291, 340, 250, 305, 290, 317, 334, 355,\n",
              "       333, 389, 330, 318, 441, 402, 344, 335, 219, 264, 408, 274, 373,\n",
              "       379, 256, 229, 392, 372, 360, 262, 346, 278, 248, 368, 279, 269,\n",
              "       336, 342, 236, 370, 243, 315, 249, 227, 329, 239, 369, 223, 282,\n",
              "       358, 271, 313, 270, 356, 263, 184, 311, 436, 432, 221, 301, 190,\n",
              "       259, 308, 235, 260, 217, 275, 285, 210, 234, 276, 310, 447, 180,\n",
              "       446, 300, 303, 209, 247, 252, 231, 357, 226, 238, 280, 440, 237,\n",
              "       245, 296, 325, 273, 306, 196, 242, 199, 178, 222, 445, 324, 293,\n",
              "       302, 289, 214, 192, 206, 225, 197, 241, 230, 188, 202, 208, 203,\n",
              "       216, 213, 224, 439, 212, 232, 253, 228, 189, 204, 205, 207, 198,\n",
              "       168, 255, 215, 194, 191, 185, 145, 261, 156, 201, 193, 181, 233,\n",
              "       195, 183, 152, 211, 160, 173, 170, 176, 147, 143, 159, 187, 169,\n",
              "       200, 165, 163, 177, 179, 167, 139, 162, 175, 155, 166, 172, 174,\n",
              "       154, 164, 182, 150, 186, 146, 138, 157, 137, 135, 171, 158, 161,\n",
              "       149, 124, 144, 151, 148, 141, 134, 153, 126, 142, 125, 132, 127,\n",
              "       140, 133, 130, 131, 136, 122])"
            ]
          },
          "metadata": {},
          "execution_count": 132
        }
      ]
    },
    {
      "cell_type": "code",
      "source": [
        "df['Age'].dtype"
      ],
      "metadata": {
        "colab": {
          "base_uri": "https://localhost:8080/"
        },
        "id": "ruWo6icM53PI",
        "outputId": "91be8263-e5be-47dc-9fe3-5492e0fec982"
      },
      "execution_count": 133,
      "outputs": [
        {
          "output_type": "execute_result",
          "data": {
            "text/plain": [
              "dtype('int64')"
            ]
          },
          "metadata": {},
          "execution_count": 133
        }
      ]
    },
    {
      "cell_type": "code",
      "source": [
        "df1['Age'].unique()"
      ],
      "metadata": {
        "colab": {
          "base_uri": "https://localhost:8080/"
        },
        "id": "4vzWMiCt53Jt",
        "outputId": "eeb8b3c7-a3b6-4ff1-ac5a-fff6f55b0276"
      },
      "execution_count": 134,
      "outputs": [
        {
          "output_type": "execute_result",
          "data": {
            "text/plain": [
              "array([33, 35, 27, 29, 28, 31, 21, 34, 32, 25, 26, 30, 20, 24, 22, 23, 19,\n",
              "       38, 42, 36, 37, 18, 17, 39, 40, 41, 16, 43, 53])"
            ]
          },
          "metadata": {},
          "execution_count": 134
        }
      ]
    },
    {
      "cell_type": "code",
      "source": [
        "df1['Nationality'].dtype"
      ],
      "metadata": {
        "colab": {
          "base_uri": "https://localhost:8080/"
        },
        "id": "BIRBDzP653Gk",
        "outputId": "491c6d9f-563f-4c91-f68e-2e14edc33e3f"
      },
      "execution_count": 135,
      "outputs": [
        {
          "output_type": "execute_result",
          "data": {
            "text/plain": [
              "dtype('O')"
            ]
          },
          "metadata": {},
          "execution_count": 135
        }
      ]
    },
    {
      "cell_type": "code",
      "source": [
        "df1['Nationality'].unique()"
      ],
      "metadata": {
        "colab": {
          "base_uri": "https://localhost:8080/"
        },
        "id": "IRGqMm5x53Dc",
        "outputId": "cbeba0f8-dfca-4ebd-c5ce-74dc44f87cfc"
      },
      "execution_count": 136,
      "outputs": [
        {
          "output_type": "execute_result",
          "data": {
            "text/plain": [
              "array(['Argentina', 'Portugal', 'Slovenia', 'Belgium', 'Brazil', 'Poland',\n",
              "       'Egypt', 'France', 'Germany', 'Netherlands', 'Senegal', 'Spain',\n",
              "       'England', 'Scotland', 'Korea Republic', 'Costa Rica', 'Italy',\n",
              "       'Gabon', 'Croatia', 'Uruguay', 'Switzerland', 'Serbia', 'Slovakia',\n",
              "       'Morocco', 'Algeria', 'Denmark', 'Hungary', 'Bosnia Herzegovina',\n",
              "       'Nigeria', 'Cameroon', 'Norway', 'Ghana', 'Mexico', 'Austria',\n",
              "       'Albania', 'Colombia', 'Chile', 'Ivory Coast', 'Greece', 'Finland',\n",
              "       'Wales', 'Sweden', 'Togo', 'Czech Republic', 'Russia', 'Venezuela',\n",
              "       'Canada', 'United States', 'Guinea', 'Montenegro', 'Israel',\n",
              "       'Republic of Ireland', 'Ukraine', 'Turkey', 'Ecuador', 'Jamaica',\n",
              "       'DR Congo', 'Australia', 'China PR', 'Armenia', 'Northern Ireland',\n",
              "       'North Macedonia', 'Kosovo', 'Mali', 'Peru',\n",
              "       'Central African Republic', 'Iceland', 'Burkina Faso', 'Paraguay',\n",
              "       'Japan', 'Romania', 'New Zealand', 'Iran', 'Angola', 'Tunisia',\n",
              "       'Syria', 'Dominican Republic', 'Cape Verde', 'Equatorial Guinea',\n",
              "       'Kenya', 'Georgia', 'Panama', 'Zambia', 'Tanzania', 'Zimbabwe',\n",
              "       'Congo', 'South Africa', 'Moldova', 'Mozambique', 'Iraq',\n",
              "       'Guinea Bissau', 'Honduras', 'Cuba', 'Cyprus', 'Lithuania',\n",
              "       'Estonia', 'Madagascar', 'Benin', 'Curacao', 'Saudi Arabia',\n",
              "       'Gambia', 'Uzbekistan', 'Chad', 'United Arab Emirates',\n",
              "       'Saint Kitts and Nevis', 'Libya', 'Sierra Leone', 'Philippines',\n",
              "       'Liberia', 'Bulgaria', 'Comoros', 'Namibia', 'Luxembourg',\n",
              "       'Trinidad & Tobago', 'Bermuda', 'Thailand', 'Burundi',\n",
              "       'New Caledonia', 'Puerto Rico', 'Bolivia', 'Kazakhstan',\n",
              "       'Antigua & Barbuda', 'Latvia', 'Malawi', 'Montserrat',\n",
              "       'São Tomé & Príncipe', 'El Salvador', 'Mauritania', 'Jordan',\n",
              "       'Eritrea', 'Aruba', 'Uganda', 'Chinese Taipei', 'Azerbaijan',\n",
              "       'Afghanistan', 'Faroe Islands', 'Haiti', 'Sudan', 'Grenada',\n",
              "       'Lebanon', 'Guam', 'Palestine', 'Belarus', 'Guyana', 'Rwanda',\n",
              "       'Liechtenstein', 'Saint Lucia', 'Papua New Guinea', 'India',\n",
              "       'Ethiopia', 'Belize', 'Andorra', 'Guatemala', 'Malta', 'Niger',\n",
              "       'Korea DPR', 'Barbados', 'Macau', 'South Sudan', 'Singapore',\n",
              "       'Hong Kong', 'Nicaragua', 'Malaysia', 'Indonesia'], dtype=object)"
            ]
          },
          "metadata": {},
          "execution_count": 136
        }
      ]
    },
    {
      "cell_type": "code",
      "source": [
        "df1['PAC'].dtype"
      ],
      "metadata": {
        "colab": {
          "base_uri": "https://localhost:8080/"
        },
        "id": "vbc2pYfk52_w",
        "outputId": "8abf361d-ce8d-4287-c201-b690e978785c"
      },
      "execution_count": 137,
      "outputs": [
        {
          "output_type": "execute_result",
          "data": {
            "text/plain": [
              "dtype('int64')"
            ]
          },
          "metadata": {},
          "execution_count": 137
        }
      ]
    },
    {
      "cell_type": "code",
      "source": [
        "df1['PAC'].unique()"
      ],
      "metadata": {
        "colab": {
          "base_uri": "https://localhost:8080/"
        },
        "id": "JYUxxY-j528t",
        "outputId": "1cc7895e-82e7-45b0-daf3-987826f5ad8a"
      },
      "execution_count": 138,
      "outputs": [
        {
          "output_type": "execute_result",
          "data": {
            "text/plain": [
              "array([85, 89, 87, 76, 91, 78, 93, 86, 96, 88, 94, 65, 84, 74, 71, 77, 68,\n",
              "       75, 54, 79, 83, 80, 81, 82, 63, 67, 90, 66, 42, 73, 70, 64, 57, 58,\n",
              "       69, 72, 50, 59, 92, 60, 62, 55, 52, 56, 61, 53, 45, 37, 95, 43, 44,\n",
              "       46, 48, 49, 47, 34, 39, 40, 51, 41, 36, 32, 33, 30, 31, 38, 35, 28,\n",
              "       29, 25])"
            ]
          },
          "metadata": {},
          "execution_count": 138
        }
      ]
    },
    {
      "cell_type": "code",
      "source": [
        "df1['PAS'].dtype"
      ],
      "metadata": {
        "colab": {
          "base_uri": "https://localhost:8080/"
        },
        "id": "nd-uHd0C525m",
        "outputId": "235cbaf0-6cfa-4581-9876-6381a4928441"
      },
      "execution_count": 139,
      "outputs": [
        {
          "output_type": "execute_result",
          "data": {
            "text/plain": [
              "dtype('int64')"
            ]
          },
          "metadata": {},
          "execution_count": 139
        }
      ]
    },
    {
      "cell_type": "code",
      "source": [
        "df1['PAS'].unique()"
      ],
      "metadata": {
        "colab": {
          "base_uri": "https://localhost:8080/"
        },
        "id": "misyzyw3522Z",
        "outputId": "d96905be-2d3b-42fc-b5a9-cf3262be480c"
      },
      "execution_count": 140,
      "outputs": [
        {
          "output_type": "execute_result",
          "data": {
            "text/plain": [
              "array([91, 81, 78, 93, 86, 85, 88, 71, 80, 76, 74, 77, 79, 84, 73, 55, 83,\n",
              "       87, 72, 75, 58, 89, 82, 68, 67, 64, 66, 59, 69, 90, 65, 53, 63, 62,\n",
              "       70, 56, 42, 54, 61, 57, 60, 48, 52, 47, 46, 44, 45, 50, 51, 49, 43,\n",
              "       36, 38, 40, 41, 35, 39, 34, 33, 37, 30, 32, 29, 31, 26, 28, 25, 27])"
            ]
          },
          "metadata": {},
          "execution_count": 140
        }
      ]
    },
    {
      "cell_type": "code",
      "source": [
        "df1['↓OVA'].dtype"
      ],
      "metadata": {
        "colab": {
          "base_uri": "https://localhost:8080/"
        },
        "id": "BmDAtmE352zI",
        "outputId": "258febda-58dc-41bc-cf3e-5b6f39831d8a"
      },
      "execution_count": 141,
      "outputs": [
        {
          "output_type": "execute_result",
          "data": {
            "text/plain": [
              "dtype('int64')"
            ]
          },
          "metadata": {},
          "execution_count": 141
        }
      ]
    },
    {
      "cell_type": "code",
      "source": [
        "df1['↓OVA'].unique()"
      ],
      "metadata": {
        "colab": {
          "base_uri": "https://localhost:8080/"
        },
        "id": "hIctOazu52vQ",
        "outputId": "23d4ab32-b9e3-4c88-f5f5-6f7420d2b850"
      },
      "execution_count": 142,
      "outputs": [
        {
          "output_type": "execute_result",
          "data": {
            "text/plain": [
              "array([93, 92, 91, 90, 89, 88, 87, 86, 85, 84, 83, 82, 81, 80, 79, 78, 77,\n",
              "       76, 75, 74, 73, 72, 71, 70, 69, 68, 67, 66, 65, 64, 63, 62, 61, 60,\n",
              "       59, 58, 57, 56, 55, 54, 53, 52, 51, 50, 49, 48, 47])"
            ]
          },
          "metadata": {},
          "execution_count": 142
        }
      ]
    },
    {
      "cell_type": "code",
      "source": [
        "df1['PHY'].dtype"
      ],
      "metadata": {
        "colab": {
          "base_uri": "https://localhost:8080/"
        },
        "id": "WdAS9tGF52om",
        "outputId": "63fa97b3-3389-43d0-90c0-9c0ac0e21cef"
      },
      "execution_count": 143,
      "outputs": [
        {
          "output_type": "execute_result",
          "data": {
            "text/plain": [
              "dtype('int64')"
            ]
          },
          "metadata": {},
          "execution_count": 143
        }
      ]
    },
    {
      "cell_type": "code",
      "source": [
        "df1['PHY'].unique()"
      ],
      "metadata": {
        "colab": {
          "base_uri": "https://localhost:8080/"
        },
        "id": "Jl3H49u452iX",
        "outputId": "200c61b0-5999-42a3-d629-12102c765a80"
      },
      "execution_count": 144,
      "outputs": [
        {
          "output_type": "execute_result",
          "data": {
            "text/plain": [
              "array([65, 77, 90, 78, 59, 82, 75, 91, 76, 88, 86, 85, 73, 67, 79, 63, 83,\n",
              "       89, 66, 69, 72, 64, 71, 81, 87, 68, 84, 80, 55, 70, 44, 62, 51, 57,\n",
              "       60, 58, 56, 74, 52, 61, 53, 45, 50, 54, 47, 48, 49, 42, 37, 40, 39,\n",
              "       43, 38, 46, 41, 34, 35, 36, 31, 32, 33, 29, 28])"
            ]
          },
          "metadata": {},
          "execution_count": 144
        }
      ]
    },
    {
      "cell_type": "code",
      "source": [
        "df1['POT'].dtype"
      ],
      "metadata": {
        "colab": {
          "base_uri": "https://localhost:8080/"
        },
        "id": "qSC0AgeD52XB",
        "outputId": "8047b3dc-698f-44f0-ce1f-d26c0aca3b38"
      },
      "execution_count": 145,
      "outputs": [
        {
          "output_type": "execute_result",
          "data": {
            "text/plain": [
              "dtype('int64')"
            ]
          },
          "metadata": {},
          "execution_count": 145
        }
      ]
    },
    {
      "cell_type": "code",
      "source": [
        "df1['POT'].unique()"
      ],
      "metadata": {
        "colab": {
          "base_uri": "https://localhost:8080/"
        },
        "id": "7YlXXfRS6DzZ",
        "outputId": "fa091326-3f53-4ece-ab23-195baf3c555f"
      },
      "execution_count": 146,
      "outputs": [
        {
          "output_type": "execute_result",
          "data": {
            "text/plain": [
              "array([93, 92, 91, 90, 95, 89, 88, 87, 86, 85, 84, 83, 82, 81, 80, 79, 78,\n",
              "       77, 76, 75, 74, 73, 72, 71, 70, 69, 68, 67, 66, 65, 64, 63, 62, 61,\n",
              "       60, 59, 58, 57, 56, 55, 54, 53, 52, 51, 50, 49, 48, 47])"
            ]
          },
          "metadata": {},
          "execution_count": 146
        }
      ]
    },
    {
      "cell_type": "code",
      "source": [
        "df1['Base Stats'].dtype"
      ],
      "metadata": {
        "colab": {
          "base_uri": "https://localhost:8080/"
        },
        "id": "OIdi3mmN5uqs",
        "outputId": "4d334b8f-821a-4cc4-8558-5676096c6a83"
      },
      "execution_count": 147,
      "outputs": [
        {
          "output_type": "execute_result",
          "data": {
            "text/plain": [
              "dtype('int64')"
            ]
          },
          "metadata": {},
          "execution_count": 147
        }
      ]
    },
    {
      "cell_type": "code",
      "source": [
        "df1['Base Stats'].unique()"
      ],
      "metadata": {
        "colab": {
          "base_uri": "https://localhost:8080/"
        },
        "id": "6kKBlYBE-jw2",
        "outputId": "5d4db7c1-fcf5-433b-df22-da465306e9eb"
      },
      "execution_count": 148,
      "outputs": [
        {
          "output_type": "execute_result",
          "data": {
            "text/plain": [
              "array([466, 464, 489, 485, 451, 457, 470, 490, 484, 455, 469, 463, 468,\n",
              "       497, 442, 439, 473, 452, 498, 449, 477, 401, 446, 447, 465, 430,\n",
              "       461, 422, 476, 460, 453, 467, 471, 399, 424, 441, 459, 438, 437,\n",
              "       454, 428, 445, 431, 474, 421, 435, 448, 475, 403, 444, 443, 419,\n",
              "       405, 420, 423, 396, 388, 482, 478, 385, 394, 480, 433, 450, 462,\n",
              "       456, 436, 434, 429, 400, 440, 425, 410, 458, 398, 413, 373, 406,\n",
              "       408, 472, 426, 407, 432, 427, 415, 481, 417, 372, 380, 418, 383,\n",
              "       414, 409, 412, 411, 386, 362, 402, 390, 404, 391, 416, 375, 389,\n",
              "       361, 397, 366, 392, 393, 382, 368, 387, 352, 376, 384, 378, 379,\n",
              "       341, 354, 369, 395, 357, 381, 377, 344, 360, 370, 338, 333, 367,\n",
              "       363, 349, 355, 345, 358, 348, 374, 351, 343, 342, 353, 321, 350,\n",
              "       365, 364, 371, 327, 331, 359, 347, 356, 339, 319, 317, 335, 346,\n",
              "       329, 315, 324, 322, 325, 332, 336, 337, 330, 316, 313, 306, 307,\n",
              "       328, 310, 340, 308, 318, 334, 301, 289, 302, 320, 323, 326, 311,\n",
              "       297, 314, 304, 292, 305, 312, 294, 287, 300, 299, 285, 303, 288,\n",
              "       278, 296, 277, 309, 291, 283, 286, 293, 295, 298, 276, 282, 272,\n",
              "       284, 290, 271, 275, 279, 281, 262, 263, 280, 268, 270, 269, 264,\n",
              "       273, 265, 252, 267, 257, 274, 266, 259, 247, 261, 251, 233, 239,\n",
              "       253, 258, 254, 260, 244, 240, 255, 256, 250, 238, 243, 249, 248,\n",
              "       245, 241, 232])"
            ]
          },
          "metadata": {},
          "execution_count": 148
        }
      ]
    },
    {
      "cell_type": "code",
      "source": [
        "df1['Name'].dtype"
      ],
      "metadata": {
        "colab": {
          "base_uri": "https://localhost:8080/"
        },
        "id": "5GMKpULn_Pb-",
        "outputId": "f6d3ddd0-fc23-4807-d787-6fd59527a132"
      },
      "execution_count": 149,
      "outputs": [
        {
          "output_type": "execute_result",
          "data": {
            "text/plain": [
              "dtype('O')"
            ]
          },
          "metadata": {},
          "execution_count": 149
        }
      ]
    },
    {
      "cell_type": "code",
      "source": [
        "df1['Name'].unique()"
      ],
      "metadata": {
        "colab": {
          "base_uri": "https://localhost:8080/"
        },
        "id": "g3Ryt2dF_Znl",
        "outputId": "79f89089-72c9-41c3-c621-8f9eeafc25d8"
      },
      "execution_count": 150,
      "outputs": [
        {
          "output_type": "execute_result",
          "data": {
            "text/plain": [
              "array(['L. Messi', 'Cristiano Ronaldo', 'J. Oblak', ..., 'R. McKinley',\n",
              "       \"Wang Zhen'ao\", 'Zhou Xiao'], dtype=object)"
            ]
          },
          "metadata": {},
          "execution_count": 150
        }
      ]
    },
    {
      "cell_type": "code",
      "source": [
        "df1['Value'].dtype"
      ],
      "metadata": {
        "colab": {
          "base_uri": "https://localhost:8080/"
        },
        "id": "ZbFt0FSi_dBL",
        "outputId": "ac185ab9-32ca-4b0b-aa20-107fbf83ff84"
      },
      "execution_count": 151,
      "outputs": [
        {
          "output_type": "execute_result",
          "data": {
            "text/plain": [
              "dtype('O')"
            ]
          },
          "metadata": {},
          "execution_count": 151
        }
      ]
    },
    {
      "cell_type": "code",
      "source": [
        "df1['Value'].unique()"
      ],
      "metadata": {
        "colab": {
          "base_uri": "https://localhost:8080/"
        },
        "id": "Kmt48N38_mE6",
        "outputId": "70491829-9960-4a3d-b5ee-bebd9843ac9b"
      },
      "execution_count": 152,
      "outputs": [
        {
          "output_type": "execute_result",
          "data": {
            "text/plain": [
              "array(['€103.5M', '€63M', '€120M', '€129M', '€132M', '€111M', '€120.5M',\n",
              "       '€102M', '€185.5M', '€110M', '€113M', '€90.5M', '€82M', '€17.5M',\n",
              "       '€83.5M', '€33.5M', '€114.5M', '€78M', '€103M', '€109M', '€92M',\n",
              "       '€10M', '€76.5M', '€89.5M', '€87.5M', '€79.5M', '€124M', '€114M',\n",
              "       '€95M', '€92.5M', '€105.5M', '€88.5M', '€85M', '€81.5M', '€26M',\n",
              "       '€21M', '€56M', '€67.5M', '€53M', '€36.5M', '€51M', '€65.5M',\n",
              "       '€46.5M', '€61.5M', '€72.5M', '€77.5M', '€43.5M', '€32.5M', '€36M',\n",
              "       '€32M', '€54M', '€49.5M', '€57M', '€66.5M', '€74.5M', '€71.5M',\n",
              "       '€121M', '€99M', '€67M', '€86.5M', '€93.5M', '€70M', '€62M',\n",
              "       '€66M', '€58M', '€44M', '€81M', '€37M', '€14.5M', '€46M', '€47.5M',\n",
              "       '€52.5M', '€54.5M', '€34.5M', '€57.5M', '€51.5M', '€44.5M', '€55M',\n",
              "       '€48M', '€60.5M', '€63.5M', '€61M', '€29M', '€58.5M', '€55.5M',\n",
              "       '€42M', '€40.5M', '€43M', '€45.5M', '€34M', '€26.5M', '€42.5M',\n",
              "       '€35.5M', '€45M', '€41.5M', '€40M', '€11M', '€13.5M', '€29.5M',\n",
              "       '€27M', '€15.5M', '€38.5M', '€52M', '€33M', '€19M', '€73.5M',\n",
              "       '€38M', '€35M', '€47M', '€24M', '€30.5M', '€18M', '€28M', '€25.5M',\n",
              "       '€25M', '€31M', '€23.5M', '€30M', '€31.5M', '€22.5M', '€28.5M',\n",
              "       '€4M', '€12.5M', '€37.5M', '€27.5M', '€16M', '€15M', '€20.5M',\n",
              "       '€22M', '€3.4M', '€5M', '€56.5M', '€62.5M', '€0', '€39M', '€24.5M',\n",
              "       '€21.5M', '€13M', '€8M', '€20M', '€8.5M', '€2.9M', '€9M', '€4.6M',\n",
              "       '€50M', '€23M', '€18.5M', '€7M', '€19.5M', '€5.5M', '€7.5M',\n",
              "       '€3.8M', '€14M', '€10.5M', '€16.5M', '€3.6M', '€9.5M', '€39.5M',\n",
              "       '€17M', '€12M', '€11.5M', '€4.9M', '€3M', '€1.9M', '€6.5M',\n",
              "       '€1.7M', '€2.4M', '€3.1M', '€6M', '€3.7M', '€4.7M', '€4.3M',\n",
              "       '€2.1M', '€1.2M', '€1.8M', '€4.8M', '€3.2M', '€1.3M', '€825K',\n",
              "       '€2.3M', '€1.5M', '€3.9M', '€2.6M', '€3.5M', '€2.8M', '€2.7M',\n",
              "       '€4.4M', '€4.1M', '€950K', '€1.6M', '€625K', '€1.1M', '€4.5M',\n",
              "       '€4.2M', '€2.2M', '€3.3M', '€1.4M', '€2M', '€475K', '€925K',\n",
              "       '€750K', '€725K', '€2.5M', '€1M', '€350K', '€525K', '€600K',\n",
              "       '€850K', '€800K', '€550K', '€250K', '€400K', '€425K', '€575K',\n",
              "       '€210K', '€325K', '€900K', '€875K', '€650K', '€700K', '€500K',\n",
              "       '€975K', '€375K', '€775K', '€275K', '€180K', '€450K', '€675K',\n",
              "       '€150K', '€240K', '€300K', '€130K', '€220K', '€200K', '€110K',\n",
              "       '€170K', '€230K', '€90K', '€120K', '€80K', '€190K', '€140K',\n",
              "       '€160K', '€100K', '€60K', '€50K', '€70K', '€45K', '€35K', '€40K',\n",
              "       '€25K', '€20K', '€15K', '€30K', '€9K'], dtype=object)"
            ]
          },
          "metadata": {},
          "execution_count": 152
        }
      ]
    },
    {
      "cell_type": "code",
      "source": [
        "#df1['Value'] = df1['Value'].replace({'€': '', 'M': '000000', 'K': '000'}, regex=True).map(pd.eval).astype(float)\n",
        "# Function to convert Euro currency format to numeric values\n",
        "def convert_currency(value):\n",
        "    if 'M' in value:\n",
        "        return float(value.replace('€', '').replace('M', '')) * 1000000\n",
        "    elif 'K' in value:\n",
        "        return float(value.replace('€', '').replace('K', '')) * 1000\n",
        "    else:\n",
        "        return float(value.replace('€', ''))\n",
        "\n",
        "# Apply the conversion function to the 'Value' column\n",
        "df1['Value'] = df1['Value'].apply(convert_currency)"
      ],
      "metadata": {
        "id": "wRQUVBoe_pDa"
      },
      "execution_count": 153,
      "outputs": []
    },
    {
      "cell_type": "code",
      "source": [
        "df1['Value'][0]"
      ],
      "metadata": {
        "colab": {
          "base_uri": "https://localhost:8080/"
        },
        "id": "sAzLTJ0GAbtl",
        "outputId": "b8327622-2b53-4b1b-ef65-9de5a64de7e5"
      },
      "execution_count": 154,
      "outputs": [
        {
          "output_type": "execute_result",
          "data": {
            "text/plain": [
              "103500000.0"
            ]
          },
          "metadata": {},
          "execution_count": 154
        }
      ]
    },
    {
      "cell_type": "code",
      "source": [
        "df1['playerUrl'].dtype"
      ],
      "metadata": {
        "colab": {
          "base_uri": "https://localhost:8080/"
        },
        "id": "XMj3rDKYAkpX",
        "outputId": "1061a138-9a98-4bc3-9dc9-5dfe9ea37893"
      },
      "execution_count": 155,
      "outputs": [
        {
          "output_type": "execute_result",
          "data": {
            "text/plain": [
              "dtype('O')"
            ]
          },
          "metadata": {},
          "execution_count": 155
        }
      ]
    },
    {
      "cell_type": "code",
      "source": [
        "df1['playerUrl'].unique()"
      ],
      "metadata": {
        "colab": {
          "base_uri": "https://localhost:8080/"
        },
        "id": "-MDz5_1uDfrH",
        "outputId": "fd0b26ce-ae8f-40bb-f137-200cc2b49c0a"
      },
      "execution_count": 156,
      "outputs": [
        {
          "output_type": "execute_result",
          "data": {
            "text/plain": [
              "array(['http://sofifa.com/player/158023/lionel-messi/210006/',\n",
              "       'http://sofifa.com/player/20801/c-ronaldo-dos-santos-aveiro/210006/',\n",
              "       'http://sofifa.com/player/200389/jan-oblak/210006/', ...,\n",
              "       'http://sofifa.com/player/252757/ronan-mckinley/210006/',\n",
              "       'http://sofifa.com/player/243790/zhenao-wang/210006/',\n",
              "       'http://sofifa.com/player/252520/xiao-zhou/210006/'], dtype=object)"
            ]
          },
          "metadata": {},
          "execution_count": 156
        }
      ]
    },
    {
      "cell_type": "code",
      "source": [
        "df1.head()"
      ],
      "metadata": {
        "colab": {
          "base_uri": "https://localhost:8080/",
          "height": 434
        },
        "id": "woi8xUE6Dh_p",
        "outputId": "3baccac4-3315-4be3-d7cf-4e69f401c88a"
      },
      "execution_count": 157,
      "outputs": [
        {
          "output_type": "execute_result",
          "data": {
            "text/plain": [
              "       ID               Name                      LongName  \\\n",
              "0  158023           L. Messi                  Lionel Messi   \n",
              "1   20801  Cristiano Ronaldo  C. Ronaldo dos Santos Aveiro   \n",
              "2  200389           J. Oblak                     Jan Oblak   \n",
              "3  192985       K. De Bruyne               Kevin De Bruyne   \n",
              "4  190871          Neymar Jr    Neymar da Silva Santos Jr.   \n",
              "\n",
              "                                           photoUrl  \\\n",
              "0  https://cdn.sofifa.com/players/158/023/21_60.png   \n",
              "1  https://cdn.sofifa.com/players/020/801/21_60.png   \n",
              "2  https://cdn.sofifa.com/players/200/389/21_60.png   \n",
              "3  https://cdn.sofifa.com/players/192/985/21_60.png   \n",
              "4  https://cdn.sofifa.com/players/190/871/21_60.png   \n",
              "\n",
              "                                           playerUrl Nationality  Age  ↓OVA  \\\n",
              "0  http://sofifa.com/player/158023/lionel-messi/2...   Argentina   33    93   \n",
              "1  http://sofifa.com/player/20801/c-ronaldo-dos-s...    Portugal   35    92   \n",
              "2  http://sofifa.com/player/200389/jan-oblak/210006/    Slovenia   27    91   \n",
              "3  http://sofifa.com/player/192985/kevin-de-bruyn...     Belgium   29    91   \n",
              "4  http://sofifa.com/player/190871/neymar-da-silv...      Brazil   28    91   \n",
              "\n",
              "   POT                 Club     Contract   Positions  Height Weight  \\\n",
              "0   93         FC Barcelona  2004 ~ 2021  RW, ST, CF     170   72kg   \n",
              "1   92             Juventus  2018 ~ 2022      ST, LW     187   83kg   \n",
              "2   93      Atlético Madrid  2014 ~ 2023          GK     188   87kg   \n",
              "3   91      Manchester City  2015 ~ 2023     CAM, CM     181   70kg   \n",
              "4   91  Paris Saint-Germain  2017 ~ 2022     LW, CAM     175   68kg   \n",
              "\n",
              "  Preferred Foot  BOV Best Position      Joined Loan Date End        Value  \\\n",
              "0           Left   93            RW  2004-07-01    0000-00-00  103500000.0   \n",
              "1          Right   92            ST  2018-07-10    0000-00-00   63000000.0   \n",
              "2          Right   91            GK  2014-07-16    0000-00-00  120000000.0   \n",
              "3          Right   91           CAM  2015-08-30    0000-00-00  129000000.0   \n",
              "4          Right   91            LW  2017-08-03    0000-00-00  132000000.0   \n",
              "\n",
              "    Wage Release Clause  Attacking  Crossing  Finishing  Heading Accuracy  \\\n",
              "0  €560K        €138.4M        429        85         95                70   \n",
              "1  €220K         €75.9M        437        84         95                90   \n",
              "2  €125K        €159.4M         95        13         11                15   \n",
              "3  €370K          €161M        407        94         82                55   \n",
              "4  €270K        €166.5M        408        85         87                62   \n",
              "\n",
              "   Short Passing  Volleys  Skill  Dribbling  Curve  FK Accuracy  Long Passing  \\\n",
              "0             91       88    470         96     93           94            91   \n",
              "1             82       86    414         88     81           76            77   \n",
              "2             43       13    109         12     13           14            40   \n",
              "3             94       82    441         88     85           83            93   \n",
              "4             87       87    448         95     88           89            81   \n",
              "\n",
              "   Ball Control  Movement  Acceleration  Sprint Speed  Agility  Reactions  \\\n",
              "0            96       451            91            80       91         94   \n",
              "1            92       431            87            91       87         95   \n",
              "2            30       307            43            60       67         88   \n",
              "3            92       398            77            76       78         91   \n",
              "4            95       453            94            89       96         91   \n",
              "\n",
              "   Balance  Power  Shot Power  Jumping  Stamina  Strength  Long Shots  \\\n",
              "0       95    389          86       68       72        69          94   \n",
              "1       71    444          94       95       84        78          93   \n",
              "2       49    268          59       78       41        78          12   \n",
              "3       76    408          91       63       89        74          91   \n",
              "4       83    357          80       62       81        50          84   \n",
              "\n",
              "   Mentality  Aggression  Interceptions  Positioning  Vision  Penalties  \\\n",
              "0        347          44             40           93      95         75   \n",
              "1        353          63             29           95      82         84   \n",
              "2        140          34             19           11      65         11   \n",
              "3        408          76             66           88      94         84   \n",
              "4        356          51             36           87      90         92   \n",
              "\n",
              "   Composure  Defending  Marking  Standing Tackle  Sliding Tackle  \\\n",
              "0         96         91       32               35              24   \n",
              "1         95         84       28               32              24   \n",
              "2         68         57       27               12              18   \n",
              "3         91        186       68               65              53   \n",
              "4         93         94       35               30              29   \n",
              "\n",
              "   Goalkeeping  GK Diving  GK Handling  GK Kicking  GK Positioning  \\\n",
              "0           54          6           11          15              14   \n",
              "1           58          7           11          15              14   \n",
              "2          437         87           92          78              90   \n",
              "3           56         15           13           5              10   \n",
              "4           59          9            9          15              15   \n",
              "\n",
              "   GK Reflexes  Total Stats  Base Stats  W/F  SM     A/W     D/W  IR_star  \\\n",
              "0            8         2231         466  4 ★  4★  Medium     Low        5   \n",
              "1           11         2221         464  4 ★  5★    High     Low        5   \n",
              "2           90         1413         489  3 ★  1★  Medium  Medium        3   \n",
              "3           13         2304         485  5 ★  4★    High    High        4   \n",
              "4           11         2175         451  5 ★  5★    High  Medium        5   \n",
              "\n",
              "   PAC  SHO  PAS  DRI  DEF  PHY  Hits  start_date  end_date  \\\n",
              "0   85   92   91   95   38   65   771        2004      2021   \n",
              "1   89   93   81   89   35   77   562        2018      2022   \n",
              "2   87   92   78   90   52   90   150        2014      2023   \n",
              "3   76   86   93   88   64   78   207        2015      2023   \n",
              "4   91   85   86   94   36   59   595        2017      2022   \n",
              "\n",
              "   contract Lenght(years)  \n",
              "0                      17  \n",
              "1                       4  \n",
              "2                       9  \n",
              "3                       8  \n",
              "4                       5  "
            ],
            "text/html": [
              "\n",
              "  <div id=\"df-b4d966fa-a31f-459c-9bf5-8a5881296f38\" class=\"colab-df-container\">\n",
              "    <div>\n",
              "<style scoped>\n",
              "    .dataframe tbody tr th:only-of-type {\n",
              "        vertical-align: middle;\n",
              "    }\n",
              "\n",
              "    .dataframe tbody tr th {\n",
              "        vertical-align: top;\n",
              "    }\n",
              "\n",
              "    .dataframe thead th {\n",
              "        text-align: right;\n",
              "    }\n",
              "</style>\n",
              "<table border=\"1\" class=\"dataframe\">\n",
              "  <thead>\n",
              "    <tr style=\"text-align: right;\">\n",
              "      <th></th>\n",
              "      <th>ID</th>\n",
              "      <th>Name</th>\n",
              "      <th>LongName</th>\n",
              "      <th>photoUrl</th>\n",
              "      <th>playerUrl</th>\n",
              "      <th>Nationality</th>\n",
              "      <th>Age</th>\n",
              "      <th>↓OVA</th>\n",
              "      <th>POT</th>\n",
              "      <th>Club</th>\n",
              "      <th>Contract</th>\n",
              "      <th>Positions</th>\n",
              "      <th>Height</th>\n",
              "      <th>Weight</th>\n",
              "      <th>Preferred Foot</th>\n",
              "      <th>BOV</th>\n",
              "      <th>Best Position</th>\n",
              "      <th>Joined</th>\n",
              "      <th>Loan Date End</th>\n",
              "      <th>Value</th>\n",
              "      <th>Wage</th>\n",
              "      <th>Release Clause</th>\n",
              "      <th>Attacking</th>\n",
              "      <th>Crossing</th>\n",
              "      <th>Finishing</th>\n",
              "      <th>Heading Accuracy</th>\n",
              "      <th>Short Passing</th>\n",
              "      <th>Volleys</th>\n",
              "      <th>Skill</th>\n",
              "      <th>Dribbling</th>\n",
              "      <th>Curve</th>\n",
              "      <th>FK Accuracy</th>\n",
              "      <th>Long Passing</th>\n",
              "      <th>Ball Control</th>\n",
              "      <th>Movement</th>\n",
              "      <th>Acceleration</th>\n",
              "      <th>Sprint Speed</th>\n",
              "      <th>Agility</th>\n",
              "      <th>Reactions</th>\n",
              "      <th>Balance</th>\n",
              "      <th>Power</th>\n",
              "      <th>Shot Power</th>\n",
              "      <th>Jumping</th>\n",
              "      <th>Stamina</th>\n",
              "      <th>Strength</th>\n",
              "      <th>Long Shots</th>\n",
              "      <th>Mentality</th>\n",
              "      <th>Aggression</th>\n",
              "      <th>Interceptions</th>\n",
              "      <th>Positioning</th>\n",
              "      <th>Vision</th>\n",
              "      <th>Penalties</th>\n",
              "      <th>Composure</th>\n",
              "      <th>Defending</th>\n",
              "      <th>Marking</th>\n",
              "      <th>Standing Tackle</th>\n",
              "      <th>Sliding Tackle</th>\n",
              "      <th>Goalkeeping</th>\n",
              "      <th>GK Diving</th>\n",
              "      <th>GK Handling</th>\n",
              "      <th>GK Kicking</th>\n",
              "      <th>GK Positioning</th>\n",
              "      <th>GK Reflexes</th>\n",
              "      <th>Total Stats</th>\n",
              "      <th>Base Stats</th>\n",
              "      <th>W/F</th>\n",
              "      <th>SM</th>\n",
              "      <th>A/W</th>\n",
              "      <th>D/W</th>\n",
              "      <th>IR_star</th>\n",
              "      <th>PAC</th>\n",
              "      <th>SHO</th>\n",
              "      <th>PAS</th>\n",
              "      <th>DRI</th>\n",
              "      <th>DEF</th>\n",
              "      <th>PHY</th>\n",
              "      <th>Hits</th>\n",
              "      <th>start_date</th>\n",
              "      <th>end_date</th>\n",
              "      <th>contract Lenght(years)</th>\n",
              "    </tr>\n",
              "  </thead>\n",
              "  <tbody>\n",
              "    <tr>\n",
              "      <th>0</th>\n",
              "      <td>158023</td>\n",
              "      <td>L. Messi</td>\n",
              "      <td>Lionel Messi</td>\n",
              "      <td>https://cdn.sofifa.com/players/158/023/21_60.png</td>\n",
              "      <td>http://sofifa.com/player/158023/lionel-messi/2...</td>\n",
              "      <td>Argentina</td>\n",
              "      <td>33</td>\n",
              "      <td>93</td>\n",
              "      <td>93</td>\n",
              "      <td>FC Barcelona</td>\n",
              "      <td>2004 ~ 2021</td>\n",
              "      <td>RW, ST, CF</td>\n",
              "      <td>170</td>\n",
              "      <td>72kg</td>\n",
              "      <td>Left</td>\n",
              "      <td>93</td>\n",
              "      <td>RW</td>\n",
              "      <td>2004-07-01</td>\n",
              "      <td>0000-00-00</td>\n",
              "      <td>103500000.0</td>\n",
              "      <td>€560K</td>\n",
              "      <td>€138.4M</td>\n",
              "      <td>429</td>\n",
              "      <td>85</td>\n",
              "      <td>95</td>\n",
              "      <td>70</td>\n",
              "      <td>91</td>\n",
              "      <td>88</td>\n",
              "      <td>470</td>\n",
              "      <td>96</td>\n",
              "      <td>93</td>\n",
              "      <td>94</td>\n",
              "      <td>91</td>\n",
              "      <td>96</td>\n",
              "      <td>451</td>\n",
              "      <td>91</td>\n",
              "      <td>80</td>\n",
              "      <td>91</td>\n",
              "      <td>94</td>\n",
              "      <td>95</td>\n",
              "      <td>389</td>\n",
              "      <td>86</td>\n",
              "      <td>68</td>\n",
              "      <td>72</td>\n",
              "      <td>69</td>\n",
              "      <td>94</td>\n",
              "      <td>347</td>\n",
              "      <td>44</td>\n",
              "      <td>40</td>\n",
              "      <td>93</td>\n",
              "      <td>95</td>\n",
              "      <td>75</td>\n",
              "      <td>96</td>\n",
              "      <td>91</td>\n",
              "      <td>32</td>\n",
              "      <td>35</td>\n",
              "      <td>24</td>\n",
              "      <td>54</td>\n",
              "      <td>6</td>\n",
              "      <td>11</td>\n",
              "      <td>15</td>\n",
              "      <td>14</td>\n",
              "      <td>8</td>\n",
              "      <td>2231</td>\n",
              "      <td>466</td>\n",
              "      <td>4 ★</td>\n",
              "      <td>4★</td>\n",
              "      <td>Medium</td>\n",
              "      <td>Low</td>\n",
              "      <td>5</td>\n",
              "      <td>85</td>\n",
              "      <td>92</td>\n",
              "      <td>91</td>\n",
              "      <td>95</td>\n",
              "      <td>38</td>\n",
              "      <td>65</td>\n",
              "      <td>771</td>\n",
              "      <td>2004</td>\n",
              "      <td>2021</td>\n",
              "      <td>17</td>\n",
              "    </tr>\n",
              "    <tr>\n",
              "      <th>1</th>\n",
              "      <td>20801</td>\n",
              "      <td>Cristiano Ronaldo</td>\n",
              "      <td>C. Ronaldo dos Santos Aveiro</td>\n",
              "      <td>https://cdn.sofifa.com/players/020/801/21_60.png</td>\n",
              "      <td>http://sofifa.com/player/20801/c-ronaldo-dos-s...</td>\n",
              "      <td>Portugal</td>\n",
              "      <td>35</td>\n",
              "      <td>92</td>\n",
              "      <td>92</td>\n",
              "      <td>Juventus</td>\n",
              "      <td>2018 ~ 2022</td>\n",
              "      <td>ST, LW</td>\n",
              "      <td>187</td>\n",
              "      <td>83kg</td>\n",
              "      <td>Right</td>\n",
              "      <td>92</td>\n",
              "      <td>ST</td>\n",
              "      <td>2018-07-10</td>\n",
              "      <td>0000-00-00</td>\n",
              "      <td>63000000.0</td>\n",
              "      <td>€220K</td>\n",
              "      <td>€75.9M</td>\n",
              "      <td>437</td>\n",
              "      <td>84</td>\n",
              "      <td>95</td>\n",
              "      <td>90</td>\n",
              "      <td>82</td>\n",
              "      <td>86</td>\n",
              "      <td>414</td>\n",
              "      <td>88</td>\n",
              "      <td>81</td>\n",
              "      <td>76</td>\n",
              "      <td>77</td>\n",
              "      <td>92</td>\n",
              "      <td>431</td>\n",
              "      <td>87</td>\n",
              "      <td>91</td>\n",
              "      <td>87</td>\n",
              "      <td>95</td>\n",
              "      <td>71</td>\n",
              "      <td>444</td>\n",
              "      <td>94</td>\n",
              "      <td>95</td>\n",
              "      <td>84</td>\n",
              "      <td>78</td>\n",
              "      <td>93</td>\n",
              "      <td>353</td>\n",
              "      <td>63</td>\n",
              "      <td>29</td>\n",
              "      <td>95</td>\n",
              "      <td>82</td>\n",
              "      <td>84</td>\n",
              "      <td>95</td>\n",
              "      <td>84</td>\n",
              "      <td>28</td>\n",
              "      <td>32</td>\n",
              "      <td>24</td>\n",
              "      <td>58</td>\n",
              "      <td>7</td>\n",
              "      <td>11</td>\n",
              "      <td>15</td>\n",
              "      <td>14</td>\n",
              "      <td>11</td>\n",
              "      <td>2221</td>\n",
              "      <td>464</td>\n",
              "      <td>4 ★</td>\n",
              "      <td>5★</td>\n",
              "      <td>High</td>\n",
              "      <td>Low</td>\n",
              "      <td>5</td>\n",
              "      <td>89</td>\n",
              "      <td>93</td>\n",
              "      <td>81</td>\n",
              "      <td>89</td>\n",
              "      <td>35</td>\n",
              "      <td>77</td>\n",
              "      <td>562</td>\n",
              "      <td>2018</td>\n",
              "      <td>2022</td>\n",
              "      <td>4</td>\n",
              "    </tr>\n",
              "    <tr>\n",
              "      <th>2</th>\n",
              "      <td>200389</td>\n",
              "      <td>J. Oblak</td>\n",
              "      <td>Jan Oblak</td>\n",
              "      <td>https://cdn.sofifa.com/players/200/389/21_60.png</td>\n",
              "      <td>http://sofifa.com/player/200389/jan-oblak/210006/</td>\n",
              "      <td>Slovenia</td>\n",
              "      <td>27</td>\n",
              "      <td>91</td>\n",
              "      <td>93</td>\n",
              "      <td>Atlético Madrid</td>\n",
              "      <td>2014 ~ 2023</td>\n",
              "      <td>GK</td>\n",
              "      <td>188</td>\n",
              "      <td>87kg</td>\n",
              "      <td>Right</td>\n",
              "      <td>91</td>\n",
              "      <td>GK</td>\n",
              "      <td>2014-07-16</td>\n",
              "      <td>0000-00-00</td>\n",
              "      <td>120000000.0</td>\n",
              "      <td>€125K</td>\n",
              "      <td>€159.4M</td>\n",
              "      <td>95</td>\n",
              "      <td>13</td>\n",
              "      <td>11</td>\n",
              "      <td>15</td>\n",
              "      <td>43</td>\n",
              "      <td>13</td>\n",
              "      <td>109</td>\n",
              "      <td>12</td>\n",
              "      <td>13</td>\n",
              "      <td>14</td>\n",
              "      <td>40</td>\n",
              "      <td>30</td>\n",
              "      <td>307</td>\n",
              "      <td>43</td>\n",
              "      <td>60</td>\n",
              "      <td>67</td>\n",
              "      <td>88</td>\n",
              "      <td>49</td>\n",
              "      <td>268</td>\n",
              "      <td>59</td>\n",
              "      <td>78</td>\n",
              "      <td>41</td>\n",
              "      <td>78</td>\n",
              "      <td>12</td>\n",
              "      <td>140</td>\n",
              "      <td>34</td>\n",
              "      <td>19</td>\n",
              "      <td>11</td>\n",
              "      <td>65</td>\n",
              "      <td>11</td>\n",
              "      <td>68</td>\n",
              "      <td>57</td>\n",
              "      <td>27</td>\n",
              "      <td>12</td>\n",
              "      <td>18</td>\n",
              "      <td>437</td>\n",
              "      <td>87</td>\n",
              "      <td>92</td>\n",
              "      <td>78</td>\n",
              "      <td>90</td>\n",
              "      <td>90</td>\n",
              "      <td>1413</td>\n",
              "      <td>489</td>\n",
              "      <td>3 ★</td>\n",
              "      <td>1★</td>\n",
              "      <td>Medium</td>\n",
              "      <td>Medium</td>\n",
              "      <td>3</td>\n",
              "      <td>87</td>\n",
              "      <td>92</td>\n",
              "      <td>78</td>\n",
              "      <td>90</td>\n",
              "      <td>52</td>\n",
              "      <td>90</td>\n",
              "      <td>150</td>\n",
              "      <td>2014</td>\n",
              "      <td>2023</td>\n",
              "      <td>9</td>\n",
              "    </tr>\n",
              "    <tr>\n",
              "      <th>3</th>\n",
              "      <td>192985</td>\n",
              "      <td>K. De Bruyne</td>\n",
              "      <td>Kevin De Bruyne</td>\n",
              "      <td>https://cdn.sofifa.com/players/192/985/21_60.png</td>\n",
              "      <td>http://sofifa.com/player/192985/kevin-de-bruyn...</td>\n",
              "      <td>Belgium</td>\n",
              "      <td>29</td>\n",
              "      <td>91</td>\n",
              "      <td>91</td>\n",
              "      <td>Manchester City</td>\n",
              "      <td>2015 ~ 2023</td>\n",
              "      <td>CAM, CM</td>\n",
              "      <td>181</td>\n",
              "      <td>70kg</td>\n",
              "      <td>Right</td>\n",
              "      <td>91</td>\n",
              "      <td>CAM</td>\n",
              "      <td>2015-08-30</td>\n",
              "      <td>0000-00-00</td>\n",
              "      <td>129000000.0</td>\n",
              "      <td>€370K</td>\n",
              "      <td>€161M</td>\n",
              "      <td>407</td>\n",
              "      <td>94</td>\n",
              "      <td>82</td>\n",
              "      <td>55</td>\n",
              "      <td>94</td>\n",
              "      <td>82</td>\n",
              "      <td>441</td>\n",
              "      <td>88</td>\n",
              "      <td>85</td>\n",
              "      <td>83</td>\n",
              "      <td>93</td>\n",
              "      <td>92</td>\n",
              "      <td>398</td>\n",
              "      <td>77</td>\n",
              "      <td>76</td>\n",
              "      <td>78</td>\n",
              "      <td>91</td>\n",
              "      <td>76</td>\n",
              "      <td>408</td>\n",
              "      <td>91</td>\n",
              "      <td>63</td>\n",
              "      <td>89</td>\n",
              "      <td>74</td>\n",
              "      <td>91</td>\n",
              "      <td>408</td>\n",
              "      <td>76</td>\n",
              "      <td>66</td>\n",
              "      <td>88</td>\n",
              "      <td>94</td>\n",
              "      <td>84</td>\n",
              "      <td>91</td>\n",
              "      <td>186</td>\n",
              "      <td>68</td>\n",
              "      <td>65</td>\n",
              "      <td>53</td>\n",
              "      <td>56</td>\n",
              "      <td>15</td>\n",
              "      <td>13</td>\n",
              "      <td>5</td>\n",
              "      <td>10</td>\n",
              "      <td>13</td>\n",
              "      <td>2304</td>\n",
              "      <td>485</td>\n",
              "      <td>5 ★</td>\n",
              "      <td>4★</td>\n",
              "      <td>High</td>\n",
              "      <td>High</td>\n",
              "      <td>4</td>\n",
              "      <td>76</td>\n",
              "      <td>86</td>\n",
              "      <td>93</td>\n",
              "      <td>88</td>\n",
              "      <td>64</td>\n",
              "      <td>78</td>\n",
              "      <td>207</td>\n",
              "      <td>2015</td>\n",
              "      <td>2023</td>\n",
              "      <td>8</td>\n",
              "    </tr>\n",
              "    <tr>\n",
              "      <th>4</th>\n",
              "      <td>190871</td>\n",
              "      <td>Neymar Jr</td>\n",
              "      <td>Neymar da Silva Santos Jr.</td>\n",
              "      <td>https://cdn.sofifa.com/players/190/871/21_60.png</td>\n",
              "      <td>http://sofifa.com/player/190871/neymar-da-silv...</td>\n",
              "      <td>Brazil</td>\n",
              "      <td>28</td>\n",
              "      <td>91</td>\n",
              "      <td>91</td>\n",
              "      <td>Paris Saint-Germain</td>\n",
              "      <td>2017 ~ 2022</td>\n",
              "      <td>LW, CAM</td>\n",
              "      <td>175</td>\n",
              "      <td>68kg</td>\n",
              "      <td>Right</td>\n",
              "      <td>91</td>\n",
              "      <td>LW</td>\n",
              "      <td>2017-08-03</td>\n",
              "      <td>0000-00-00</td>\n",
              "      <td>132000000.0</td>\n",
              "      <td>€270K</td>\n",
              "      <td>€166.5M</td>\n",
              "      <td>408</td>\n",
              "      <td>85</td>\n",
              "      <td>87</td>\n",
              "      <td>62</td>\n",
              "      <td>87</td>\n",
              "      <td>87</td>\n",
              "      <td>448</td>\n",
              "      <td>95</td>\n",
              "      <td>88</td>\n",
              "      <td>89</td>\n",
              "      <td>81</td>\n",
              "      <td>95</td>\n",
              "      <td>453</td>\n",
              "      <td>94</td>\n",
              "      <td>89</td>\n",
              "      <td>96</td>\n",
              "      <td>91</td>\n",
              "      <td>83</td>\n",
              "      <td>357</td>\n",
              "      <td>80</td>\n",
              "      <td>62</td>\n",
              "      <td>81</td>\n",
              "      <td>50</td>\n",
              "      <td>84</td>\n",
              "      <td>356</td>\n",
              "      <td>51</td>\n",
              "      <td>36</td>\n",
              "      <td>87</td>\n",
              "      <td>90</td>\n",
              "      <td>92</td>\n",
              "      <td>93</td>\n",
              "      <td>94</td>\n",
              "      <td>35</td>\n",
              "      <td>30</td>\n",
              "      <td>29</td>\n",
              "      <td>59</td>\n",
              "      <td>9</td>\n",
              "      <td>9</td>\n",
              "      <td>15</td>\n",
              "      <td>15</td>\n",
              "      <td>11</td>\n",
              "      <td>2175</td>\n",
              "      <td>451</td>\n",
              "      <td>5 ★</td>\n",
              "      <td>5★</td>\n",
              "      <td>High</td>\n",
              "      <td>Medium</td>\n",
              "      <td>5</td>\n",
              "      <td>91</td>\n",
              "      <td>85</td>\n",
              "      <td>86</td>\n",
              "      <td>94</td>\n",
              "      <td>36</td>\n",
              "      <td>59</td>\n",
              "      <td>595</td>\n",
              "      <td>2017</td>\n",
              "      <td>2022</td>\n",
              "      <td>5</td>\n",
              "    </tr>\n",
              "  </tbody>\n",
              "</table>\n",
              "</div>\n",
              "    <div class=\"colab-df-buttons\">\n",
              "\n",
              "  <div class=\"colab-df-container\">\n",
              "    <button class=\"colab-df-convert\" onclick=\"convertToInteractive('df-b4d966fa-a31f-459c-9bf5-8a5881296f38')\"\n",
              "            title=\"Convert this dataframe to an interactive table.\"\n",
              "            style=\"display:none;\">\n",
              "\n",
              "  <svg xmlns=\"http://www.w3.org/2000/svg\" height=\"24px\" viewBox=\"0 -960 960 960\">\n",
              "    <path d=\"M120-120v-720h720v720H120Zm60-500h600v-160H180v160Zm220 220h160v-160H400v160Zm0 220h160v-160H400v160ZM180-400h160v-160H180v160Zm440 0h160v-160H620v160ZM180-180h160v-160H180v160Zm440 0h160v-160H620v160Z\"/>\n",
              "  </svg>\n",
              "    </button>\n",
              "\n",
              "  <style>\n",
              "    .colab-df-container {\n",
              "      display:flex;\n",
              "      gap: 12px;\n",
              "    }\n",
              "\n",
              "    .colab-df-convert {\n",
              "      background-color: #E8F0FE;\n",
              "      border: none;\n",
              "      border-radius: 50%;\n",
              "      cursor: pointer;\n",
              "      display: none;\n",
              "      fill: #1967D2;\n",
              "      height: 32px;\n",
              "      padding: 0 0 0 0;\n",
              "      width: 32px;\n",
              "    }\n",
              "\n",
              "    .colab-df-convert:hover {\n",
              "      background-color: #E2EBFA;\n",
              "      box-shadow: 0px 1px 2px rgba(60, 64, 67, 0.3), 0px 1px 3px 1px rgba(60, 64, 67, 0.15);\n",
              "      fill: #174EA6;\n",
              "    }\n",
              "\n",
              "    .colab-df-buttons div {\n",
              "      margin-bottom: 4px;\n",
              "    }\n",
              "\n",
              "    [theme=dark] .colab-df-convert {\n",
              "      background-color: #3B4455;\n",
              "      fill: #D2E3FC;\n",
              "    }\n",
              "\n",
              "    [theme=dark] .colab-df-convert:hover {\n",
              "      background-color: #434B5C;\n",
              "      box-shadow: 0px 1px 3px 1px rgba(0, 0, 0, 0.15);\n",
              "      filter: drop-shadow(0px 1px 2px rgba(0, 0, 0, 0.3));\n",
              "      fill: #FFFFFF;\n",
              "    }\n",
              "  </style>\n",
              "\n",
              "    <script>\n",
              "      const buttonEl =\n",
              "        document.querySelector('#df-b4d966fa-a31f-459c-9bf5-8a5881296f38 button.colab-df-convert');\n",
              "      buttonEl.style.display =\n",
              "        google.colab.kernel.accessAllowed ? 'block' : 'none';\n",
              "\n",
              "      async function convertToInteractive(key) {\n",
              "        const element = document.querySelector('#df-b4d966fa-a31f-459c-9bf5-8a5881296f38');\n",
              "        const dataTable =\n",
              "          await google.colab.kernel.invokeFunction('convertToInteractive',\n",
              "                                                    [key], {});\n",
              "        if (!dataTable) return;\n",
              "\n",
              "        const docLinkHtml = 'Like what you see? Visit the ' +\n",
              "          '<a target=\"_blank\" href=https://colab.research.google.com/notebooks/data_table.ipynb>data table notebook</a>'\n",
              "          + ' to learn more about interactive tables.';\n",
              "        element.innerHTML = '';\n",
              "        dataTable['output_type'] = 'display_data';\n",
              "        await google.colab.output.renderOutput(dataTable, element);\n",
              "        const docLink = document.createElement('div');\n",
              "        docLink.innerHTML = docLinkHtml;\n",
              "        element.appendChild(docLink);\n",
              "      }\n",
              "    </script>\n",
              "  </div>\n",
              "\n",
              "\n",
              "<div id=\"df-60ceb082-e38d-44a5-bd7e-26931d5ca8b2\">\n",
              "  <button class=\"colab-df-quickchart\" onclick=\"quickchart('df-60ceb082-e38d-44a5-bd7e-26931d5ca8b2')\"\n",
              "            title=\"Suggest charts\"\n",
              "            style=\"display:none;\">\n",
              "\n",
              "<svg xmlns=\"http://www.w3.org/2000/svg\" height=\"24px\"viewBox=\"0 0 24 24\"\n",
              "     width=\"24px\">\n",
              "    <g>\n",
              "        <path d=\"M19 3H5c-1.1 0-2 .9-2 2v14c0 1.1.9 2 2 2h14c1.1 0 2-.9 2-2V5c0-1.1-.9-2-2-2zM9 17H7v-7h2v7zm4 0h-2V7h2v10zm4 0h-2v-4h2v4z\"/>\n",
              "    </g>\n",
              "</svg>\n",
              "  </button>\n",
              "\n",
              "<style>\n",
              "  .colab-df-quickchart {\n",
              "      --bg-color: #E8F0FE;\n",
              "      --fill-color: #1967D2;\n",
              "      --hover-bg-color: #E2EBFA;\n",
              "      --hover-fill-color: #174EA6;\n",
              "      --disabled-fill-color: #AAA;\n",
              "      --disabled-bg-color: #DDD;\n",
              "  }\n",
              "\n",
              "  [theme=dark] .colab-df-quickchart {\n",
              "      --bg-color: #3B4455;\n",
              "      --fill-color: #D2E3FC;\n",
              "      --hover-bg-color: #434B5C;\n",
              "      --hover-fill-color: #FFFFFF;\n",
              "      --disabled-bg-color: #3B4455;\n",
              "      --disabled-fill-color: #666;\n",
              "  }\n",
              "\n",
              "  .colab-df-quickchart {\n",
              "    background-color: var(--bg-color);\n",
              "    border: none;\n",
              "    border-radius: 50%;\n",
              "    cursor: pointer;\n",
              "    display: none;\n",
              "    fill: var(--fill-color);\n",
              "    height: 32px;\n",
              "    padding: 0;\n",
              "    width: 32px;\n",
              "  }\n",
              "\n",
              "  .colab-df-quickchart:hover {\n",
              "    background-color: var(--hover-bg-color);\n",
              "    box-shadow: 0 1px 2px rgba(60, 64, 67, 0.3), 0 1px 3px 1px rgba(60, 64, 67, 0.15);\n",
              "    fill: var(--button-hover-fill-color);\n",
              "  }\n",
              "\n",
              "  .colab-df-quickchart-complete:disabled,\n",
              "  .colab-df-quickchart-complete:disabled:hover {\n",
              "    background-color: var(--disabled-bg-color);\n",
              "    fill: var(--disabled-fill-color);\n",
              "    box-shadow: none;\n",
              "  }\n",
              "\n",
              "  .colab-df-spinner {\n",
              "    border: 2px solid var(--fill-color);\n",
              "    border-color: transparent;\n",
              "    border-bottom-color: var(--fill-color);\n",
              "    animation:\n",
              "      spin 1s steps(1) infinite;\n",
              "  }\n",
              "\n",
              "  @keyframes spin {\n",
              "    0% {\n",
              "      border-color: transparent;\n",
              "      border-bottom-color: var(--fill-color);\n",
              "      border-left-color: var(--fill-color);\n",
              "    }\n",
              "    20% {\n",
              "      border-color: transparent;\n",
              "      border-left-color: var(--fill-color);\n",
              "      border-top-color: var(--fill-color);\n",
              "    }\n",
              "    30% {\n",
              "      border-color: transparent;\n",
              "      border-left-color: var(--fill-color);\n",
              "      border-top-color: var(--fill-color);\n",
              "      border-right-color: var(--fill-color);\n",
              "    }\n",
              "    40% {\n",
              "      border-color: transparent;\n",
              "      border-right-color: var(--fill-color);\n",
              "      border-top-color: var(--fill-color);\n",
              "    }\n",
              "    60% {\n",
              "      border-color: transparent;\n",
              "      border-right-color: var(--fill-color);\n",
              "    }\n",
              "    80% {\n",
              "      border-color: transparent;\n",
              "      border-right-color: var(--fill-color);\n",
              "      border-bottom-color: var(--fill-color);\n",
              "    }\n",
              "    90% {\n",
              "      border-color: transparent;\n",
              "      border-bottom-color: var(--fill-color);\n",
              "    }\n",
              "  }\n",
              "</style>\n",
              "\n",
              "  <script>\n",
              "    async function quickchart(key) {\n",
              "      const quickchartButtonEl =\n",
              "        document.querySelector('#' + key + ' button');\n",
              "      quickchartButtonEl.disabled = true;  // To prevent multiple clicks.\n",
              "      quickchartButtonEl.classList.add('colab-df-spinner');\n",
              "      try {\n",
              "        const charts = await google.colab.kernel.invokeFunction(\n",
              "            'suggestCharts', [key], {});\n",
              "      } catch (error) {\n",
              "        console.error('Error during call to suggestCharts:', error);\n",
              "      }\n",
              "      quickchartButtonEl.classList.remove('colab-df-spinner');\n",
              "      quickchartButtonEl.classList.add('colab-df-quickchart-complete');\n",
              "    }\n",
              "    (() => {\n",
              "      let quickchartButtonEl =\n",
              "        document.querySelector('#df-60ceb082-e38d-44a5-bd7e-26931d5ca8b2 button');\n",
              "      quickchartButtonEl.style.display =\n",
              "        google.colab.kernel.accessAllowed ? 'block' : 'none';\n",
              "    })();\n",
              "  </script>\n",
              "</div>\n",
              "\n",
              "    </div>\n",
              "  </div>\n"
            ]
          },
          "metadata": {},
          "execution_count": 157
        }
      ]
    },
    {
      "cell_type": "code",
      "source": [
        "df1['W/F'].dtype"
      ],
      "metadata": {
        "colab": {
          "base_uri": "https://localhost:8080/"
        },
        "id": "eT_EZdGVFDkw",
        "outputId": "6c6466e1-3dc3-4391-da10-21c27e1cf330"
      },
      "execution_count": 158,
      "outputs": [
        {
          "output_type": "execute_result",
          "data": {
            "text/plain": [
              "dtype('O')"
            ]
          },
          "metadata": {},
          "execution_count": 158
        }
      ]
    },
    {
      "cell_type": "code",
      "source": [
        "df1['W/F'].unique()"
      ],
      "metadata": {
        "colab": {
          "base_uri": "https://localhost:8080/"
        },
        "id": "ix8EtFQyGhap",
        "outputId": "7635b3b3-3895-40ef-cd75-0306974bec32"
      },
      "execution_count": 159,
      "outputs": [
        {
          "output_type": "execute_result",
          "data": {
            "text/plain": [
              "array(['4 ★', '3 ★', '5 ★', '2 ★', '1 ★'], dtype=object)"
            ]
          },
          "metadata": {},
          "execution_count": 159
        }
      ]
    },
    {
      "cell_type": "code",
      "source": [
        "df1['W/F'] = df1['W/F'].str.split(' ').str[0]"
      ],
      "metadata": {
        "id": "c6wWLcRQGoEp"
      },
      "execution_count": 160,
      "outputs": []
    },
    {
      "cell_type": "code",
      "source": [
        "df1['W/F'].unique()"
      ],
      "metadata": {
        "colab": {
          "base_uri": "https://localhost:8080/"
        },
        "id": "vTnqYxgjG9dH",
        "outputId": "6a8a5f21-735d-492f-b267-d0158d0eb9b1"
      },
      "execution_count": 161,
      "outputs": [
        {
          "output_type": "execute_result",
          "data": {
            "text/plain": [
              "array(['4', '3', '5', '2', '1'], dtype=object)"
            ]
          },
          "metadata": {},
          "execution_count": 161
        }
      ]
    },
    {
      "cell_type": "code",
      "source": [
        "df1['SM'].dtype"
      ],
      "metadata": {
        "colab": {
          "base_uri": "https://localhost:8080/"
        },
        "id": "FkcpGEuSHInQ",
        "outputId": "fc9b301a-a89d-49b4-93bd-db850a2ae77a"
      },
      "execution_count": 162,
      "outputs": [
        {
          "output_type": "execute_result",
          "data": {
            "text/plain": [
              "dtype('O')"
            ]
          },
          "metadata": {},
          "execution_count": 162
        }
      ]
    },
    {
      "cell_type": "code",
      "source": [
        "df1['SM'].unique()"
      ],
      "metadata": {
        "colab": {
          "base_uri": "https://localhost:8080/"
        },
        "id": "RQaxL08yISCu",
        "outputId": "0b6557a8-442d-4606-985f-c6ee210d7b05"
      },
      "execution_count": 163,
      "outputs": [
        {
          "output_type": "execute_result",
          "data": {
            "text/plain": [
              "array(['4★', '5★', '1★', '2★', '3★'], dtype=object)"
            ]
          },
          "metadata": {},
          "execution_count": 163
        }
      ]
    },
    {
      "cell_type": "code",
      "source": [],
      "metadata": {
        "id": "YM7oVgc9IUVm"
      },
      "execution_count": 163,
      "outputs": []
    },
    {
      "cell_type": "code",
      "source": [
        "df1['SM'].unique()"
      ],
      "metadata": {
        "colab": {
          "base_uri": "https://localhost:8080/"
        },
        "id": "D1XLrukFI8ef",
        "outputId": "5ade5f3f-42c7-4ba3-9692-e78bf478d8c7"
      },
      "execution_count": 164,
      "outputs": [
        {
          "output_type": "execute_result",
          "data": {
            "text/plain": [
              "array(['4★', '5★', '1★', '2★', '3★'], dtype=object)"
            ]
          },
          "metadata": {},
          "execution_count": 164
        }
      ]
    },
    {
      "cell_type": "code",
      "source": [
        "\n",
        "# The str.extract method with the regex pattern (\\d) extracts the numeric part from each value in the 'SM' column.\n",
        "df1['SM'] = df1['SM'].str.extract(r'(\\d)').astype(int)\n",
        "\n"
      ],
      "metadata": {
        "id": "8xFrwbDyJVMy"
      },
      "execution_count": 165,
      "outputs": []
    },
    {
      "cell_type": "code",
      "source": [
        "df1['SM'].unique()"
      ],
      "metadata": {
        "colab": {
          "base_uri": "https://localhost:8080/"
        },
        "id": "kTVt_nTKLaD5",
        "outputId": "39d7a9ee-f21f-4fb4-d2d6-a312a5ccd4b2"
      },
      "execution_count": 166,
      "outputs": [
        {
          "output_type": "execute_result",
          "data": {
            "text/plain": [
              "array([4, 5, 1, 2, 3])"
            ]
          },
          "metadata": {},
          "execution_count": 166
        }
      ]
    },
    {
      "cell_type": "code",
      "source": [
        "df1['Weight'].dtype"
      ],
      "metadata": {
        "colab": {
          "base_uri": "https://localhost:8080/"
        },
        "id": "6pNrvTKBLcAo",
        "outputId": "64cfecda-ed20-4a70-8c8f-451f6a283d22"
      },
      "execution_count": 167,
      "outputs": [
        {
          "output_type": "execute_result",
          "data": {
            "text/plain": [
              "dtype('O')"
            ]
          },
          "metadata": {},
          "execution_count": 167
        }
      ]
    },
    {
      "cell_type": "code",
      "source": [
        "df1['Weight'].unique()"
      ],
      "metadata": {
        "colab": {
          "base_uri": "https://localhost:8080/"
        },
        "id": "rSd2DAFVLkoS",
        "outputId": "003fbab6-d436-4070-95c7-8acfe94094a0"
      },
      "execution_count": 168,
      "outputs": [
        {
          "output_type": "execute_result",
          "data": {
            "text/plain": [
              "array(['72kg', '83kg', '87kg', '70kg', '68kg', '80kg', '71kg', '91kg',\n",
              "       '73kg', '85kg', '92kg', '69kg', '84kg', '96kg', '81kg', '82kg',\n",
              "       '75kg', '86kg', '89kg', '74kg', '76kg', '64kg', '78kg', '90kg',\n",
              "       '66kg', '60kg', '94kg', '79kg', '67kg', '65kg', '59kg', '61kg',\n",
              "       '93kg', '88kg', '97kg', '77kg', '62kg', '63kg', '95kg', '100kg',\n",
              "       '58kg', '183lbs', '179lbs', '172lbs', '196lbs', '176lbs', '185lbs',\n",
              "       '170lbs', '203lbs', '168lbs', '161lbs', '146lbs', '130lbs',\n",
              "       '190lbs', '174lbs', '148lbs', '165lbs', '159lbs', '192lbs',\n",
              "       '181lbs', '139lbs', '154lbs', '157lbs', '163lbs', '98kg', '103kg',\n",
              "       '99kg', '102kg', '56kg', '101kg', '57kg', '55kg', '104kg', '107kg',\n",
              "       '110kg', '53kg', '50kg', '54kg', '52kg'], dtype=object)"
            ]
          },
          "metadata": {},
          "execution_count": 168
        }
      ]
    },
    {
      "cell_type": "code",
      "source": [
        "\"\"\"\n",
        "def convert_weight(weight):\n",
        "    if 'kg' in weight:\n",
        "        return float(weight.replace('kg', ''))\n",
        "    elif 'lbs' in weight:\n",
        "        return float(weight.replace('lbs', '')) * 0.453592\n",
        "    else:\n",
        "        return None\n",
        "\"\"\"\n",
        "def convert_weight(weight):\n",
        "    if 'kg' in weight:\n",
        "        return float(weight.replace('kg',''))\n",
        "    elif 'lbs' in weight:\n",
        "        return float(weight.replace('lbs',''))* 0.453\n",
        "    else:\n",
        "        return None\n",
        "df1['Weight'] = df1['Weight'].apply(convert_weight)\n",
        "\n"
      ],
      "metadata": {
        "id": "IvpnmQdTLtmG"
      },
      "execution_count": 169,
      "outputs": []
    },
    {
      "cell_type": "code",
      "source": [
        "df1['Weight'] = round(df1['Weight'],2)"
      ],
      "metadata": {
        "id": "zc7Di_BcUz4q"
      },
      "execution_count": 170,
      "outputs": []
    },
    {
      "cell_type": "code",
      "source": [
        "df1['Weight'].unique()"
      ],
      "metadata": {
        "colab": {
          "base_uri": "https://localhost:8080/"
        },
        "id": "FCKutGqdTxnb",
        "outputId": "6b0b6cc2-e15b-4e71-b849-e574c0685b2e"
      },
      "execution_count": 171,
      "outputs": [
        {
          "output_type": "execute_result",
          "data": {
            "text/plain": [
              "array([ 72.  ,  83.  ,  87.  ,  70.  ,  68.  ,  80.  ,  71.  ,  91.  ,\n",
              "        73.  ,  85.  ,  92.  ,  69.  ,  84.  ,  96.  ,  81.  ,  82.  ,\n",
              "        75.  ,  86.  ,  89.  ,  74.  ,  76.  ,  64.  ,  78.  ,  90.  ,\n",
              "        66.  ,  60.  ,  94.  ,  79.  ,  67.  ,  65.  ,  59.  ,  61.  ,\n",
              "        93.  ,  88.  ,  97.  ,  77.  ,  62.  ,  63.  ,  95.  , 100.  ,\n",
              "        58.  ,  82.9 ,  81.09,  77.92,  88.79,  79.73,  83.8 ,  77.01,\n",
              "        91.96,  76.1 ,  72.93,  66.14,  58.89,  86.07,  78.82,  67.04,\n",
              "        74.74,  72.03,  86.98,  81.99,  62.97,  69.76,  71.12,  73.84,\n",
              "        98.  , 103.  ,  99.  , 102.  ,  56.  , 101.  ,  57.  ,  55.  ,\n",
              "       104.  , 107.  , 110.  ,  53.  ,  50.  ,  54.  ,  52.  ])"
            ]
          },
          "metadata": {},
          "execution_count": 171
        }
      ]
    },
    {
      "cell_type": "code",
      "source": [],
      "metadata": {
        "id": "1N44rnubT1Rb"
      },
      "execution_count": 171,
      "outputs": []
    }
  ]
}